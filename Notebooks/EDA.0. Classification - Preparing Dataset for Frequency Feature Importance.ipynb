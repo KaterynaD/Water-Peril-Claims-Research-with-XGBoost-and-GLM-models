{
 "cells": [
  {
   "cell_type": "code",
   "execution_count": 5,
   "metadata": {
    "collapsed": true
   },
   "outputs": [],
   "source": [
    "import pandas as pd\n",
    "import numpy as np"
   ]
  },
  {
   "cell_type": "code",
   "execution_count": 6,
   "metadata": {
    "collapsed": true
   },
   "outputs": [],
   "source": [
    "data_folder = '/home/kate/Research/Property/Data/'"
   ]
  },
  {
   "cell_type": "code",
   "execution_count": 7,
   "metadata": {
    "collapsed": true
   },
   "outputs": [],
   "source": [
    "dataset = pd.read_csv(data_folder+'property_water_claims_non_cat_fs_v5.csv', error_bad_lines=False, index_col=False)"
   ]
  },
  {
   "cell_type": "code",
   "execution_count": 8,
   "metadata": {
    "collapsed": true
   },
   "outputs": [],
   "source": [
    "featureset  = [\n",
    " 'stories', \n",
    " 'units', \n",
    " 'multipolicyind', \n",
    " 'functionalreplacementcost', \n",
    " 'landlordind', \n",
    " 'burglaryalarmtype', \n",
    " 'propertymanager', \n",
    " 'gatedcommunityind', \n",
    " 'replacementcostdwellingind', \n",
    " 'equipmentbreakdown', \n",
    " 'cova_deductible', \n",
    " 'water_risk_sev_3_blk', \n",
    " 'fixture_leak_3_blk', \n",
    " 'rep_cost_3_blk', \n",
    " 'sqft', \n",
    " 'waterded', \n",
    " 'constructioncd_encd', \n",
    " 'multipolicyindumbrella', \n",
    " 'usagetype_encd', \n",
    " 'homegardcreditind', \n",
    " 'rentersinsurance', \n",
    " 'waterdetectiondevice', \n",
    " 'safeguardplusind', \n",
    " 'deadboltind', \n",
    " 'replacementvalueind', \n",
    " 'numberoffamilies', \n",
    " 'water_risk_fre_3_blk', \n",
    " 'pipe_froze_3_blk', \n",
    " 'ustructure_fail_3_blk', \n",
    " 'customer_cnt_active_policies_binned', \n",
    " 'ecy', \n",
    " 'yearbuilt', \n",
    " 'roofcd_encd', \n",
    " 'occupancy_encd', \n",
    " 'protectionclass', \n",
    " 'fire_risk_model_score', \n",
    " 'earthquakeumbrellaind', \n",
    " 'ordinanceorlawpct', \n",
    " 'sprinklersystem', \n",
    " 'firealarmtype', \n",
    " 'neighborhoodcrimewatchind', \n",
    " 'kitchenfireextinguisherind', \n",
    " 'poolind', \n",
    " 'serviceline', \n",
    " 'cova_limit', \n",
    " 'water_risk_3_blk', \n",
    " 'appl_fail_3_blk', \n",
    " 'plumb_leak_3_blk', \n",
    " 'waterh_fail_3_blk'\n",
    "]"
   ]
  },
  {
   "cell_type": "code",
   "execution_count": 9,
   "metadata": {
    "collapsed": true
   },
   "outputs": [],
   "source": [
    "target_column= 'hasclaim' "
   ]
  },
  {
   "cell_type": "code",
   "execution_count": 10,
   "metadata": {},
   "outputs": [
    {
     "name": "stdout",
     "output_type": "stream",
     "text": [
      "Original Size = 2306865\n"
     ]
    }
   ],
   "source": [
    "print('Original Size = %s'%len(dataset))"
   ]
  },
  {
   "cell_type": "code",
   "execution_count": 11,
   "metadata": {
    "collapsed": true
   },
   "outputs": [],
   "source": [
    "EDA_FI_dataset = dataset.drop_duplicates(featureset + [target_column])[featureset + [target_column]]"
   ]
  },
  {
   "cell_type": "code",
   "execution_count": 12,
   "metadata": {},
   "outputs": [
    {
     "data": {
      "text/html": [
       "<div>\n",
       "<style>\n",
       "    .dataframe thead tr:only-child th {\n",
       "        text-align: right;\n",
       "    }\n",
       "\n",
       "    .dataframe thead th {\n",
       "        text-align: left;\n",
       "    }\n",
       "\n",
       "    .dataframe tbody tr th {\n",
       "        vertical-align: top;\n",
       "    }\n",
       "</style>\n",
       "<table border=\"1\" class=\"dataframe\">\n",
       "  <thead>\n",
       "    <tr style=\"text-align: right;\">\n",
       "      <th></th>\n",
       "      <th>stories</th>\n",
       "      <th>units</th>\n",
       "      <th>multipolicyind</th>\n",
       "      <th>functionalreplacementcost</th>\n",
       "      <th>landlordind</th>\n",
       "      <th>burglaryalarmtype</th>\n",
       "      <th>propertymanager</th>\n",
       "      <th>gatedcommunityind</th>\n",
       "      <th>replacementcostdwellingind</th>\n",
       "      <th>equipmentbreakdown</th>\n",
       "      <th>...</th>\n",
       "      <th>neighborhoodcrimewatchind</th>\n",
       "      <th>kitchenfireextinguisherind</th>\n",
       "      <th>poolind</th>\n",
       "      <th>serviceline</th>\n",
       "      <th>cova_limit</th>\n",
       "      <th>water_risk_3_blk</th>\n",
       "      <th>appl_fail_3_blk</th>\n",
       "      <th>plumb_leak_3_blk</th>\n",
       "      <th>waterh_fail_3_blk</th>\n",
       "      <th>hasclaim</th>\n",
       "    </tr>\n",
       "  </thead>\n",
       "  <tbody>\n",
       "    <tr>\n",
       "      <th>0</th>\n",
       "      <td>1</td>\n",
       "      <td>1</td>\n",
       "      <td>0</td>\n",
       "      <td>0</td>\n",
       "      <td>0</td>\n",
       "      <td>0</td>\n",
       "      <td>0</td>\n",
       "      <td>0</td>\n",
       "      <td>1</td>\n",
       "      <td>0</td>\n",
       "      <td>...</td>\n",
       "      <td>0</td>\n",
       "      <td>0</td>\n",
       "      <td>0</td>\n",
       "      <td>0</td>\n",
       "      <td>200000</td>\n",
       "      <td>168</td>\n",
       "      <td>5</td>\n",
       "      <td>4</td>\n",
       "      <td>2</td>\n",
       "      <td>0</td>\n",
       "    </tr>\n",
       "    <tr>\n",
       "      <th>1</th>\n",
       "      <td>1</td>\n",
       "      <td>1</td>\n",
       "      <td>0</td>\n",
       "      <td>0</td>\n",
       "      <td>0</td>\n",
       "      <td>0</td>\n",
       "      <td>0</td>\n",
       "      <td>0</td>\n",
       "      <td>0</td>\n",
       "      <td>0</td>\n",
       "      <td>...</td>\n",
       "      <td>0</td>\n",
       "      <td>0</td>\n",
       "      <td>0</td>\n",
       "      <td>0</td>\n",
       "      <td>200000</td>\n",
       "      <td>201</td>\n",
       "      <td>5</td>\n",
       "      <td>5</td>\n",
       "      <td>3</td>\n",
       "      <td>0</td>\n",
       "    </tr>\n",
       "    <tr>\n",
       "      <th>2</th>\n",
       "      <td>1</td>\n",
       "      <td>1</td>\n",
       "      <td>0</td>\n",
       "      <td>0</td>\n",
       "      <td>0</td>\n",
       "      <td>0</td>\n",
       "      <td>0</td>\n",
       "      <td>0</td>\n",
       "      <td>1</td>\n",
       "      <td>0</td>\n",
       "      <td>...</td>\n",
       "      <td>0</td>\n",
       "      <td>0</td>\n",
       "      <td>0</td>\n",
       "      <td>0</td>\n",
       "      <td>200000</td>\n",
       "      <td>222</td>\n",
       "      <td>5</td>\n",
       "      <td>1</td>\n",
       "      <td>3</td>\n",
       "      <td>0</td>\n",
       "    </tr>\n",
       "    <tr>\n",
       "      <th>3</th>\n",
       "      <td>1</td>\n",
       "      <td>1</td>\n",
       "      <td>0</td>\n",
       "      <td>0</td>\n",
       "      <td>0</td>\n",
       "      <td>0</td>\n",
       "      <td>0</td>\n",
       "      <td>0</td>\n",
       "      <td>1</td>\n",
       "      <td>0</td>\n",
       "      <td>...</td>\n",
       "      <td>0</td>\n",
       "      <td>0</td>\n",
       "      <td>0</td>\n",
       "      <td>0</td>\n",
       "      <td>200000</td>\n",
       "      <td>233</td>\n",
       "      <td>5</td>\n",
       "      <td>4</td>\n",
       "      <td>3</td>\n",
       "      <td>0</td>\n",
       "    </tr>\n",
       "    <tr>\n",
       "      <th>4</th>\n",
       "      <td>1</td>\n",
       "      <td>1</td>\n",
       "      <td>0</td>\n",
       "      <td>0</td>\n",
       "      <td>0</td>\n",
       "      <td>0</td>\n",
       "      <td>0</td>\n",
       "      <td>0</td>\n",
       "      <td>1</td>\n",
       "      <td>0</td>\n",
       "      <td>...</td>\n",
       "      <td>0</td>\n",
       "      <td>1</td>\n",
       "      <td>0</td>\n",
       "      <td>0</td>\n",
       "      <td>200000</td>\n",
       "      <td>266</td>\n",
       "      <td>5</td>\n",
       "      <td>4</td>\n",
       "      <td>3</td>\n",
       "      <td>0</td>\n",
       "    </tr>\n",
       "  </tbody>\n",
       "</table>\n",
       "<p>5 rows × 50 columns</p>\n",
       "</div>"
      ],
      "text/plain": [
       "   stories  units  multipolicyind  functionalreplacementcost  landlordind  \\\n",
       "0        1      1               0                          0            0   \n",
       "1        1      1               0                          0            0   \n",
       "2        1      1               0                          0            0   \n",
       "3        1      1               0                          0            0   \n",
       "4        1      1               0                          0            0   \n",
       "\n",
       "   burglaryalarmtype  propertymanager  gatedcommunityind  \\\n",
       "0                  0                0                  0   \n",
       "1                  0                0                  0   \n",
       "2                  0                0                  0   \n",
       "3                  0                0                  0   \n",
       "4                  0                0                  0   \n",
       "\n",
       "   replacementcostdwellingind  equipmentbreakdown    ...     \\\n",
       "0                           1                   0    ...      \n",
       "1                           0                   0    ...      \n",
       "2                           1                   0    ...      \n",
       "3                           1                   0    ...      \n",
       "4                           1                   0    ...      \n",
       "\n",
       "   neighborhoodcrimewatchind  kitchenfireextinguisherind  poolind  \\\n",
       "0                          0                           0        0   \n",
       "1                          0                           0        0   \n",
       "2                          0                           0        0   \n",
       "3                          0                           0        0   \n",
       "4                          0                           1        0   \n",
       "\n",
       "   serviceline  cova_limit  water_risk_3_blk  appl_fail_3_blk  \\\n",
       "0            0      200000               168                5   \n",
       "1            0      200000               201                5   \n",
       "2            0      200000               222                5   \n",
       "3            0      200000               233                5   \n",
       "4            0      200000               266                5   \n",
       "\n",
       "   plumb_leak_3_blk  waterh_fail_3_blk  hasclaim  \n",
       "0                 4                  2         0  \n",
       "1                 5                  3         0  \n",
       "2                 1                  3         0  \n",
       "3                 4                  3         0  \n",
       "4                 4                  3         0  \n",
       "\n",
       "[5 rows x 50 columns]"
      ]
     },
     "execution_count": 12,
     "metadata": {},
     "output_type": "execute_result"
    }
   ],
   "source": [
    "EDA_FI_dataset.head()"
   ]
  },
  {
   "cell_type": "code",
   "execution_count": 13,
   "metadata": {},
   "outputs": [
    {
     "name": "stdout",
     "output_type": "stream",
     "text": [
      "Size of unique values for EDA of Feature Importance = 1191707\n"
     ]
    }
   ],
   "source": [
    "print('Size of unique values for EDA of Feature Importance = %s'%len(EDA_FI_dataset))"
   ]
  },
  {
   "cell_type": "code",
   "execution_count": 14,
   "metadata": {
    "collapsed": true
   },
   "outputs": [],
   "source": [
    "EDA_FI_dataset.to_csv('%sEDA_FI_dataset.csv'%(data_folder),header=True,index=False)"
   ]
  }
 ],
 "metadata": {
  "kernelspec": {
   "display_name": "Python 3",
   "language": "python",
   "name": "python3"
  },
  "language_info": {
   "codemirror_mode": {
    "name": "ipython",
    "version": 3
   },
   "file_extension": ".py",
   "mimetype": "text/x-python",
   "name": "python",
   "nbconvert_exporter": "python",
   "pygments_lexer": "ipython3",
   "version": "3.6.10"
  }
 },
 "nbformat": 4,
 "nbformat_minor": 2
}
