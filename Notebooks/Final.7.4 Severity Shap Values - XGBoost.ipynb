{
 "cells": [
  {
   "cell_type": "code",
   "execution_count": 1,
   "metadata": {
    "collapsed": true
   },
   "outputs": [],
   "source": [
    "import pandas as pd\n",
    "import numpy as np\n",
    "import pickle\n",
    "import xgboost as xgb\n",
    "import os\n",
    "import shap"
   ]
  },
  {
   "cell_type": "code",
   "execution_count": 2,
   "metadata": {
    "collapsed": true
   },
   "outputs": [],
   "source": [
    "ModelsDir = '/home/kate/Research/Property/Models/'\n",
    "DataDir = '/home/kate/Research/Property/Data/'"
   ]
  },
  {
   "cell_type": "code",
   "execution_count": 3,
   "metadata": {
    "collapsed": true
   },
   "outputs": [],
   "source": [
    "Models = ['wc_Linear_Reg_XGB_mae',\n",
    "'wc_LogRegObj_Reg_XGB_mae',\n",
    "'wc_Gamma_Reg_XGB_mae']"
   ]
  },
  {
   "cell_type": "code",
   "execution_count": 4,
   "metadata": {
    "collapsed": true
   },
   "outputs": [],
   "source": [
    "prediction_dataset = pd.read_csv('%sproperty_water_claims_non_cat_fs.csv'%DataDir, error_bad_lines=False, index_col=False)"
   ]
  },
  {
   "cell_type": "code",
   "execution_count": 5,
   "metadata": {
    "collapsed": true
   },
   "outputs": [],
   "source": [
    "featureset_shap  = [\n",
    "'cova_deductible_shap_value',\n",
    "'roofcd_encd_shap_value',\n",
    "'water_risk_sev_3_blk_shap_value',\n",
    "'sqft_shap_value',\n",
    "'rep_cost_3_blk_shap_value',\n",
    "'yearbuilt_shap_value',\n",
    "'ecy_shap_value',\n",
    "'usagetype_encd_shap_value'   \n",
    "]"
   ]
  },
  {
   "cell_type": "code",
   "execution_count": 6,
   "metadata": {
    "collapsed": true
   },
   "outputs": [],
   "source": [
    "featureset  = [\n",
    "'cova_deductible',\n",
    "'roofcd_encd',\n",
    "'water_risk_sev_3_blk',\n",
    "'sqft',\n",
    "'rep_cost_3_blk',\n",
    "'yearbuilt',\n",
    "'ecy',\n",
    "'usagetype_encd'\n",
    "]"
   ]
  },
  {
   "cell_type": "code",
   "execution_count": 7,
   "metadata": {
    "collapsed": true
   },
   "outputs": [],
   "source": [
    "kfold = 1"
   ]
  },
  {
   "cell_type": "code",
   "execution_count": 9,
   "metadata": {},
   "outputs": [],
   "source": [
    "#\n",
    "X_pred=prediction_dataset[featureset]\n",
    "Dpred = xgb.DMatrix(X_pred.values)"
   ]
  },
  {
   "cell_type": "markdown",
   "metadata": {},
   "source": [
    "## Creating shap values for testing, prediction and training datasets"
   ]
  },
  {
   "cell_type": "code",
   "execution_count": 10,
   "metadata": {
    "collapsed": true
   },
   "outputs": [],
   "source": [
    "dataset_shap_values = pd.DataFrame()"
   ]
  },
  {
   "cell_type": "code",
   "execution_count": 11,
   "metadata": {},
   "outputs": [
    {
     "name": "stdout",
     "output_type": "stream",
     "text": [
      "Processing model wc_Linear_Reg_XGB_mae, fold 0...\n"
     ]
    },
    {
     "name": "stderr",
     "output_type": "stream",
     "text": [
      "Setting feature_perturbation = \"tree_path_dependent\" because no background data was given.\n"
     ]
    },
    {
     "name": "stdout",
     "output_type": "stream",
     "text": [
      "Processing model wc_LogRegObj_Reg_XGB_mae, fold 0...\n",
      "Processing model wc_Gamma_Reg_XGB_mae, fold 0...\n"
     ]
    }
   ],
   "source": [
    "for Model in Models:\n",
    "    for i in range(0,kfold):\n",
    "        ModelName=Model+\"_%s\"%i\n",
    "        xgb_model_file='%s%s.model'%(ModelsDir,ModelName)\n",
    "        print('Processing model %s, fold %s...'%(Model,i))\n",
    "        xgb_model = pickle.load(open(xgb_model_file, 'rb'))\n",
    "        explainer = shap.TreeExplainer(xgb_model)\n",
    "        #Prediction dataset explaining\n",
    "        shap_values = explainer.shap_values(Dpred)\n",
    "        df_shap_values = pd.DataFrame(data=shap_values,   columns=featureset_shap)\n",
    "        df_shap_values['original_output_value'] = df_shap_values.sum(axis=1)\n",
    "        df_shap_values['expected_value'] = explainer.expected_value\n",
    "        df_shap_values['output_value'] = df_shap_values['expected_value'] + df_shap_values['original_output_value']\n",
    "        df_shap_values['modeldata_id'] = prediction_dataset['modeldata_id']\n",
    "        df_shap_values['cal_year'] = prediction_dataset['cal_year']\n",
    "        df_shap_values['ModelName'] = Model\n",
    "        df_shap_values['fold'] = i\n",
    "        df_shap_values = df_shap_values[['ModelName','fold','modeldata_id','cal_year']+featureset_shap+['original_output_value','expected_value','output_value']]\n",
    "        dataset_shap_values = dataset_shap_values.append(df_shap_values)          \n",
    "#Saving \n",
    "dataset_shap_values.to_csv('%sseverity_shap_values.csv'%DataDir,header=True,index=False)"
   ]
  }
 ],
 "metadata": {
  "kernelspec": {
   "display_name": "Python 3",
   "language": "python",
   "name": "python3"
  },
  "language_info": {
   "codemirror_mode": {
    "name": "ipython",
    "version": 3
   },
   "file_extension": ".py",
   "mimetype": "text/x-python",
   "name": "python",
   "nbconvert_exporter": "python",
   "pygments_lexer": "ipython3",
   "version": "3.6.10"
  }
 },
 "nbformat": 4,
 "nbformat_minor": 2
}
