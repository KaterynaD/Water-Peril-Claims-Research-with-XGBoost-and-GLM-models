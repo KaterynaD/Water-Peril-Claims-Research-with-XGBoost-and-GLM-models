{
 "cells": [
  {
   "cell_type": "code",
   "execution_count": 171,
   "metadata": {
    "collapsed": true
   },
   "outputs": [],
   "source": [
    "ModelsDir = '/home/kate/Research/Property/Models/'\n",
    "ModelName='wc_Gamma_Reg_XGB_mae'\n",
    "UseSavedIfExists = False\n",
    "DataDir = '/home/kate/Research/Property/Data/'"
   ]
  },
  {
   "cell_type": "code",
   "execution_count": 172,
   "metadata": {
    "collapsed": true
   },
   "outputs": [],
   "source": [
    "import sys\n",
    "\n",
    "sys.path.append('/home/kate/code/Utils/')\n",
    "\n",
    "from MyFunctions import NormalizedWeightedGini\n",
    "from MyFunctions import mae\n",
    "from MyFunctions import rmse"
   ]
  },
  {
   "cell_type": "code",
   "execution_count": 173,
   "metadata": {
    "collapsed": true
   },
   "outputs": [],
   "source": [
    "import pandas as pd\n",
    "import numpy as np\n",
    "import pickle\n",
    "import xgboost as xgb\n",
    "import os"
   ]
  },
  {
   "cell_type": "code",
   "execution_count": 174,
   "metadata": {
    "collapsed": true
   },
   "outputs": [],
   "source": [
    "training_dataset = pd.read_csv('%sproperty_wcs_training_for_gamma.csv'%DataDir, error_bad_lines=False, index_col=False)\n",
    "testing_dataset = pd.read_csv('%sproperty_wcf_testing.csv'%DataDir, error_bad_lines=False, index_col=False)\n",
    "prediction_dataset = pd.read_csv('%sproperty_water_claims_non_cat_fs.csv'%DataDir, error_bad_lines=False, index_col=False)"
   ]
  },
  {
   "cell_type": "code",
   "execution_count": 175,
   "metadata": {
    "collapsed": true
   },
   "outputs": [],
   "source": [
    "target_column = 'cova_il_nc_water'\n",
    "prediction_column_cv='gamma_reg_xgb_mae'"
   ]
  },
  {
   "cell_type": "code",
   "execution_count": 176,
   "metadata": {
    "collapsed": true
   },
   "outputs": [],
   "source": [
    "features=[\n",
    "'cova_deductible',\n",
    "'roofcd_encd',\n",
    "'water_risk_sev_3_blk',\n",
    "'sqft',\n",
    "'rep_cost_3_blk',\n",
    "'yearbuilt',\n",
    "'ecy',\n",
    "'usagetype_encd'\n",
    "]"
   ]
  },
  {
   "cell_type": "code",
   "execution_count": 177,
   "metadata": {
    "collapsed": true
   },
   "outputs": [],
   "source": [
    "X=training_dataset[features]\n",
    "y=training_dataset[target_column]\n",
    "Dtrain = xgb.DMatrix(X.values,y)\n",
    "#\n",
    "X_test=testing_dataset[features]\n",
    "y_test=testing_dataset[target_column]\n",
    "Dtest = xgb.DMatrix(X_test.values)\n",
    "#\n",
    "X_pred=prediction_dataset[features]\n",
    "y_pred=prediction_dataset[target_column]\n",
    "Dpred = xgb.DMatrix(X_pred.values)"
   ]
  },
  {
   "cell_type": "code",
   "execution_count": 178,
   "metadata": {
    "collapsed": true
   },
   "outputs": [],
   "source": [
    "nrounds = 600\n",
    "esr=100\n",
    "kfold=5\n",
    "xgb_params = {\n",
    "    'seed': 42,\n",
    "    'eta': 0.02, \n",
    "    'colsample_bytree': 0.9, \n",
    "    'silent': 1,\n",
    "    'subsample': 0.9,\n",
    "    'max_depth': 6,\n",
    "    'gamma': 0.9, \n",
    "    'min_child_weight': 4,\n",
    "    'objective': 'reg:gamma'\n",
    "}"
   ]
  },
  {
   "cell_type": "code",
   "execution_count": 179,
   "metadata": {
    "collapsed": true
   },
   "outputs": [],
   "source": [
    "kfold = 5"
   ]
  },
  {
   "cell_type": "code",
   "execution_count": 180,
   "metadata": {
    "collapsed": true
   },
   "outputs": [],
   "source": [
    "from sklearn.metrics import mean_absolute_error\n",
    "def evalerror(preds, dtrain):\n",
    "    labels = dtrain.get_label()\n",
    "    return 'mae', mean_absolute_error(preds, labels)"
   ]
  },
  {
   "cell_type": "code",
   "execution_count": 181,
   "metadata": {},
   "outputs": [
    {
     "name": "stdout",
     "output_type": "stream",
     "text": [
      " fold: 1  of  5 : \n",
      "/home/kate/Research/Property/Models/wc_Gamma_Reg_XGB_mae_0.model file does not exists. Training model...\n",
      "[0]\ttrain-gamma-nloglik:19752.7\tvalid-gamma-nloglik:19532.7\ttrain-mae:10075.7\tvalid-mae:9963.48\n",
      "Multiple eval metrics have been passed: 'valid-mae' will be used for early stopping.\n",
      "\n",
      "Will train until valid-mae hasn't improved in 100 rounds.\n",
      "[100]\ttrain-gamma-nloglik:2675.51\tvalid-gamma-nloglik:2645.73\ttrain-mae:10072.4\tvalid-mae:9960.22\n",
      "[200]\ttrain-gamma-nloglik:366.092\tvalid-gamma-nloglik:362.052\ttrain-mae:10048.4\tvalid-mae:9936.21\n",
      "[300]\ttrain-gamma-nloglik:55.2584\tvalid-gamma-nloglik:54.7021\ttrain-mae:9875.06\tvalid-mae:9763\n",
      "[400]\ttrain-gamma-nloglik:14.8031\tvalid-gamma-nloglik:14.7266\ttrain-mae:8883.5\tvalid-mae:8782.51\n",
      "[500]\ttrain-gamma-nloglik:10.4447\tvalid-gamma-nloglik:10.4574\ttrain-mae:7035.08\tvalid-mae:6987.2\n",
      "[599]\ttrain-gamma-nloglik:10.1616\tvalid-gamma-nloglik:10.2038\ttrain-mae:6765.47\tvalid-mae:6939.4\n",
      " fold: 2  of  5 : \n",
      "/home/kate/Research/Property/Models/wc_Gamma_Reg_XGB_mae_1.model file does not exists. Training model...\n",
      "[0]\ttrain-gamma-nloglik:19664.7\tvalid-gamma-nloglik:19884.7\ttrain-mae:10030.8\tvalid-mae:10143\n",
      "Multiple eval metrics have been passed: 'valid-mae' will be used for early stopping.\n",
      "\n",
      "Will train until valid-mae hasn't improved in 100 rounds.\n",
      "[100]\ttrain-gamma-nloglik:2663.6\tvalid-gamma-nloglik:2693.39\ttrain-mae:10027.5\tvalid-mae:10139.8\n",
      "[200]\ttrain-gamma-nloglik:364.48\tvalid-gamma-nloglik:368.521\ttrain-mae:10003.5\tvalid-mae:10115.8\n",
      "[300]\ttrain-gamma-nloglik:55.04\tvalid-gamma-nloglik:55.5965\ttrain-mae:9830.3\tvalid-mae:9942.11\n",
      "[400]\ttrain-gamma-nloglik:14.7731\tvalid-gamma-nloglik:14.864\ttrain-mae:8842.87\tvalid-mae:8946.67\n",
      "[500]\ttrain-gamma-nloglik:10.4387\tvalid-gamma-nloglik:10.4853\ttrain-mae:6988.03\tvalid-mae:7176.18\n",
      "[599]\ttrain-gamma-nloglik:10.1578\tvalid-gamma-nloglik:10.2135\ttrain-mae:6721.03\tvalid-mae:7082.55\n",
      " fold: 3  of  5 : \n",
      "/home/kate/Research/Property/Models/wc_Gamma_Reg_XGB_mae_2.model file does not exists. Training model...\n",
      "[0]\ttrain-gamma-nloglik:19790.4\tvalid-gamma-nloglik:19381.8\ttrain-mae:10094.9\tvalid-mae:9886.48\n",
      "Multiple eval metrics have been passed: 'valid-mae' will be used for early stopping.\n",
      "\n",
      "Will train until valid-mae hasn't improved in 100 rounds.\n",
      "[100]\ttrain-gamma-nloglik:2680.62\tvalid-gamma-nloglik:2625.29\ttrain-mae:10091.7\tvalid-mae:9883.22\n",
      "[200]\ttrain-gamma-nloglik:366.783\tvalid-gamma-nloglik:359.278\ttrain-mae:10067.7\tvalid-mae:9859.21\n",
      "[300]\ttrain-gamma-nloglik:55.352\tvalid-gamma-nloglik:54.3186\ttrain-mae:9894.29\tvalid-mae:9686.03\n",
      "[400]\ttrain-gamma-nloglik:14.8162\tvalid-gamma-nloglik:14.6674\ttrain-mae:8903.68\tvalid-mae:8699.09\n",
      "[500]\ttrain-gamma-nloglik:10.4472\tvalid-gamma-nloglik:10.4424\ttrain-mae:7041.83\tvalid-mae:6946.27\n",
      "[599]\ttrain-gamma-nloglik:10.1649\tvalid-gamma-nloglik:10.1972\ttrain-mae:6764.93\tvalid-mae:6976.46\n",
      " fold: 4  of  5 : \n",
      "/home/kate/Research/Property/Models/wc_Gamma_Reg_XGB_mae_3.model file does not exists. Training model...\n",
      "[0]\ttrain-gamma-nloglik:19620.1\tvalid-gamma-nloglik:20063.2\ttrain-mae:10008\tvalid-mae:10234.1\n",
      "Multiple eval metrics have been passed: 'valid-mae' will be used for early stopping.\n",
      "\n",
      "Will train until valid-mae hasn't improved in 100 rounds.\n",
      "[100]\ttrain-gamma-nloglik:2657.56\tvalid-gamma-nloglik:2717.55\ttrain-mae:10004.8\tvalid-mae:10230.8\n",
      "[200]\ttrain-gamma-nloglik:363.662\tvalid-gamma-nloglik:371.8\ttrain-mae:9980.77\tvalid-mae:10206.8\n",
      "[300]\ttrain-gamma-nloglik:54.9293\tvalid-gamma-nloglik:56.05\ttrain-mae:9807.44\tvalid-mae:10033.6\n",
      "[400]\ttrain-gamma-nloglik:14.7569\tvalid-gamma-nloglik:14.9334\ttrain-mae:8819.53\tvalid-mae:9041.3\n",
      "[500]\ttrain-gamma-nloglik:10.4354\tvalid-gamma-nloglik:10.506\ttrain-mae:6979.01\tvalid-mae:7225.61\n",
      "[599]\ttrain-gamma-nloglik:10.1552\tvalid-gamma-nloglik:10.2282\ttrain-mae:6694.93\tvalid-mae:7150.69\n",
      " fold: 5  of  5 : \n",
      "/home/kate/Research/Property/Models/wc_Gamma_Reg_XGB_mae_4.model file does not exists. Training model...\n",
      "[0]\ttrain-gamma-nloglik:19715.6\tvalid-gamma-nloglik:19681.1\ttrain-mae:10056.8\tvalid-mae:10039.2\n",
      "Multiple eval metrics have been passed: 'valid-mae' will be used for early stopping.\n",
      "\n",
      "Will train until valid-mae hasn't improved in 100 rounds.\n",
      "[100]\ttrain-gamma-nloglik:2670.49\tvalid-gamma-nloglik:2665.82\ttrain-mae:10053.5\tvalid-mae:10035.9\n",
      "[200]\ttrain-gamma-nloglik:365.413\tvalid-gamma-nloglik:364.779\ttrain-mae:10029.5\tvalid-mae:10011.9\n",
      "[300]\ttrain-gamma-nloglik:55.1666\tvalid-gamma-nloglik:55.0795\ttrain-mae:9856.18\tvalid-mae:9838.54\n",
      "[400]\ttrain-gamma-nloglik:14.7898\tvalid-gamma-nloglik:14.7884\ttrain-mae:8866.72\tvalid-mae:8851.51\n",
      "[500]\ttrain-gamma-nloglik:10.4407\tvalid-gamma-nloglik:10.4734\ttrain-mae:7010.52\tvalid-mae:7068.29\n",
      "[599]\ttrain-gamma-nloglik:10.1592\tvalid-gamma-nloglik:10.2115\ttrain-mae:6722.99\tvalid-mae:7049.9\n"
     ]
    }
   ],
   "source": [
    "training_dataset[prediction_column_cv] = 0\n",
    "testing_dataset[prediction_column_cv] = 0\n",
    "prediction_dataset[prediction_column_cv] = 0\n",
    "#\n",
    "trn_gini_l = list()\n",
    "trn_mae_l = list()\n",
    "trn_rmse_l = list()\n",
    "test_gini_l = list()\n",
    "test_mae_l = list()\n",
    "test_rmse_l = list()\n",
    "#\n",
    "for i in range(0,kfold):\n",
    "    print(' fold: {}  of  {} : '.format(i+1, kfold))\n",
    "    training_dataset_fold = training_dataset[training_dataset['fold_%s'%i]>0]\n",
    "    validation_dataset = training_dataset[training_dataset['fold_%s'%i]==0]\n",
    "        \n",
    "    X_train =  training_dataset_fold[features].copy()\n",
    "    X_valid =  validation_dataset[features].copy()        \n",
    "    y_train =  training_dataset_fold[target_column].copy()\n",
    "    y_valid =  validation_dataset[target_column].copy()       \n",
    "                \n",
    "  \n",
    "    #preparing for XGB run\n",
    "    X_train = X_train.values\n",
    "    X_valid = X_valid.values\n",
    "    #\n",
    "    y_pred_train=pd.DataFrame(index=y_train.index)\n",
    "    y_pred_train[prediction_column_cv]=0\n",
    "    #\n",
    "    y_train = y_train.values\n",
    "    y_valid = y_valid.values\n",
    "    #\n",
    "    #\n",
    "    d_train = xgb.DMatrix(X_train, y_train)\n",
    "    #\n",
    "    d_valid = xgb.DMatrix(X_valid, y_valid)\n",
    "    #\n",
    "    watchlist = [(d_train, 'train'), (d_valid, 'valid')]\n",
    "\n",
    "    #applying XGB\n",
    "    xgb_model_file='%s%s_%s.model'%(ModelsDir,ModelName,i)\n",
    "    if (os.path.exists(xgb_model_file) & UseSavedIfExists):\n",
    "        print('%s file exists. Reading model from the file'%xgb_model_file)\n",
    "        xgb_model = pickle.load(open(xgb_model_file, 'rb'))\n",
    "    else:\n",
    "        print('%s file does not exists. Training model...'%xgb_model_file)\n",
    "        xgb_model = xgb.train(xgb_params, d_train, nrounds, watchlist, feval=evalerror,   verbose_eval=100, early_stopping_rounds=esr)\n",
    "        pickle.dump(xgb_model, open(xgb_model_file, 'wb'))\n",
    "    \n",
    "        \n",
    "    training_dataset[prediction_column_cv]+=  xgb_model.predict(Dtrain, ntree_limit=xgb_model.best_ntree_limit+50) / (kfold)       \n",
    "    testing_dataset[prediction_column_cv] +=  xgb_model.predict(Dtest, ntree_limit=xgb_model.best_ntree_limit+50) / (kfold)\n",
    "    prediction_dataset[prediction_column_cv] +=  xgb_model.predict(Dpred, ntree_limit=xgb_model.best_ntree_limit+50) / (kfold)"
   ]
  },
  {
   "cell_type": "code",
   "execution_count": 182,
   "metadata": {
    "collapsed": true
   },
   "outputs": [],
   "source": [
    "training_dataset[prediction_column_cv] = training_dataset[prediction_column_cv]\n",
    "testing_dataset[prediction_column_cv] = testing_dataset[prediction_column_cv]\n",
    "prediction_dataset[prediction_column_cv] = prediction_dataset[prediction_column_cv]"
   ]
  },
  {
   "cell_type": "code",
   "execution_count": 183,
   "metadata": {
    "collapsed": true
   },
   "outputs": [],
   "source": [
    "trn_gini_l.append(NormalizedWeightedGini(training_dataset[target_column],training_dataset[prediction_column_cv],training_dataset['ecy']))\n",
    "trn_mae_l.append(mae(training_dataset[target_column],training_dataset[prediction_column_cv]))\n",
    "trn_rmse_l.append(rmse(training_dataset[target_column],training_dataset[prediction_column_cv]))\n",
    "    #\n",
    "test_gini_l.append(NormalizedWeightedGini(testing_dataset[testing_dataset.cova_ic_nc_water>0][target_column],testing_dataset[testing_dataset.cova_ic_nc_water>0][prediction_column_cv],testing_dataset[testing_dataset.cova_ic_nc_water>0]['ecy']))\n",
    "test_mae_l.append(mae(testing_dataset[testing_dataset.cova_ic_nc_water>0][target_column],testing_dataset[testing_dataset.cova_ic_nc_water>0][prediction_column_cv]))\n",
    "test_rmse_l.append(rmse(testing_dataset[testing_dataset.cova_ic_nc_water>0][target_column],testing_dataset[testing_dataset.cova_ic_nc_water>0][prediction_column_cv]))"
   ]
  },
  {
   "cell_type": "code",
   "execution_count": 184,
   "metadata": {},
   "outputs": [
    {
     "data": {
      "text/html": [
       "<div>\n",
       "<style>\n",
       "    .dataframe thead tr:only-child th {\n",
       "        text-align: right;\n",
       "    }\n",
       "\n",
       "    .dataframe thead th {\n",
       "        text-align: left;\n",
       "    }\n",
       "\n",
       "    .dataframe tbody tr th {\n",
       "        vertical-align: top;\n",
       "    }\n",
       "</style>\n",
       "<table border=\"1\" class=\"dataframe\">\n",
       "  <thead>\n",
       "    <tr style=\"text-align: right;\">\n",
       "      <th></th>\n",
       "      <th>trn_gini</th>\n",
       "      <th>trn_mae</th>\n",
       "      <th>trn_rmse</th>\n",
       "      <th>test_gini</th>\n",
       "      <th>test_mae</th>\n",
       "      <th>test_rmse</th>\n",
       "    </tr>\n",
       "  </thead>\n",
       "  <tbody>\n",
       "    <tr>\n",
       "      <th>0</th>\n",
       "      <td>0.407958</td>\n",
       "      <td>6784.743397</td>\n",
       "      <td>9514.662891</td>\n",
       "      <td>0.240904</td>\n",
       "      <td>11294.061518</td>\n",
       "      <td>21936.495222</td>\n",
       "    </tr>\n",
       "  </tbody>\n",
       "</table>\n",
       "</div>"
      ],
      "text/plain": [
       "   trn_gini      trn_mae     trn_rmse  test_gini      test_mae     test_rmse\n",
       "0  0.407958  6784.743397  9514.662891   0.240904  11294.061518  21936.495222"
      ]
     },
     "execution_count": 184,
     "metadata": {},
     "output_type": "execute_result"
    }
   ],
   "source": [
    "ScoresFinal = pd.DataFrame(list(zip(trn_gini_l, trn_mae_l, trn_rmse_l, test_gini_l, test_mae_l, test_rmse_l )), \n",
    "               columns =['trn_gini','trn_mae','trn_rmse','test_gini','test_mae','test_rmse'])\n",
    "ScoresFinal"
   ]
  },
  {
   "cell_type": "code",
   "execution_count": 186,
   "metadata": {
    "collapsed": true
   },
   "outputs": [],
   "source": [
    "#-----------------------------------------------------------------------------------------------------------\n",
    "training_dataset.to_csv('%sproperty_wcs_training_for_gamma.csv'%DataDir,header=True,index=False)\n",
    "testing_dataset.to_csv('%sproperty_wcf_testing.csv'%DataDir,header=True,index=False)\n",
    "prediction_dataset.to_csv('%sproperty_water_claims_non_cat_fs.csv'%DataDir,header=True,index=False)"
   ]
  }
 ],
 "metadata": {
  "kernelspec": {
   "display_name": "Python 3",
   "language": "python",
   "name": "python3"
  },
  "language_info": {
   "codemirror_mode": {
    "name": "ipython",
    "version": 3
   },
   "file_extension": ".py",
   "mimetype": "text/x-python",
   "name": "python",
   "nbconvert_exporter": "python",
   "pygments_lexer": "ipython3",
   "version": "3.6.10"
  }
 },
 "nbformat": 4,
 "nbformat_minor": 2
}
