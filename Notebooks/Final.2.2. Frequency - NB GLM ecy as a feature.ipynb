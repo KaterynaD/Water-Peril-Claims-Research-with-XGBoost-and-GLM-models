{
 "cells": [
  {
   "cell_type": "code",
   "execution_count": 1,
   "metadata": {
    "collapsed": true
   },
   "outputs": [],
   "source": [
    "ModelsDir <- '/home/kate/Research/Property/Models/'\n",
    "DataDir <- '/home/kate/Research/Property/Data/'\n",
    "ModelName <- \"wc_nbglm_f_ecy\"\n",
    "UseSavedIfExists <- TRUE"
   ]
  },
  {
   "cell_type": "code",
   "execution_count": 2,
   "metadata": {
    "collapsed": true
   },
   "outputs": [],
   "source": [
    "library(MASS)"
   ]
  },
  {
   "cell_type": "code",
   "execution_count": 3,
   "metadata": {
    "collapsed": true
   },
   "outputs": [],
   "source": [
    "source('/home/kate/code/Utils/MyFunctions.R')"
   ]
  },
  {
   "cell_type": "code",
   "execution_count": 4,
   "metadata": {
    "collapsed": true
   },
   "outputs": [],
   "source": [
    "training_dataset <- read.csv(paste(DataDir,\"property_wcf_training.csv\", sep = \"\"), header=TRUE)\n",
    "testing_dataset <- read.csv(paste(DataDir,\"property_wcf_testing.csv\", sep = \"\"), header=TRUE)\n",
    "prediction_dataset <- read.csv(paste(DataDir,\"property_water_claims_non_cat_fs.csv\", sep = \"\"), header=TRUE)"
   ]
  },
  {
   "cell_type": "code",
   "execution_count": 5,
   "metadata": {
    "collapsed": true
   },
   "outputs": [],
   "source": [
    "formula <- cova_ic_nc_water ~ landlordind +  log_ecy + log_sqft +      log_yearbuilt + roofcd + usagetype + cova_deductible + log_water_risk_3_blk"
   ]
  },
  {
   "cell_type": "code",
   "execution_count": 6,
   "metadata": {
    "collapsed": true
   },
   "outputs": [],
   "source": [
    "kfold <- 5"
   ]
  },
  {
   "cell_type": "code",
   "execution_count": 7,
   "metadata": {},
   "outputs": [
    {
     "name": "stdout",
     "output_type": "stream",
     "text": [
      "[1] \"Fold 0 of 5 currently processing...\"\n",
      "[1] \"Fold 1 of 5 currently processing...\"\n",
      "[1] \"Fold 2 of 5 currently processing...\"\n",
      "[1] \"Fold 3 of 5 currently processing...\"\n",
      "[1] \"Fold 4 of 5 currently processing...\"\n"
     ]
    }
   ],
   "source": [
    "models_attr <- data.frame()\n",
    "models_coef <- data.frame()\n",
    "training_dataset$nbglm_f_ecy_cv <- 0\n",
    "testing_dataset$nbglm_f_ecy_cv <- 0\n",
    "prediction_dataset$nbglm_f_ecy_cv <- 0\n",
    "for (fold in 1:kfold-1){\n",
    "  training_dataset[paste(\"nbglm_f_ecy_\",fold,sep=\"\")] <- 0 \n",
    "  testing_dataset[paste(\"nbglm_f_ecy_\",fold,sep=\"\")] <- 0  \n",
    "  prediction_dataset[paste(\"nbglm_f_ecy_\",fold,sep=\"\")] <- 0    \n",
    "    }\n",
    "# \n",
    "#CV-Folds\n",
    "AIC_l <- list();\n",
    "BIC_l <- list();\n",
    "logLik_l <- list();\n",
    "coef_l <- list();\n",
    "folds_l <- list() \n",
    "i <- 1\n",
    "for (fold in 1:kfold-1){\n",
    "    print(paste(\"Fold \",fold,\" of \",kfold,\" currently processing...\",sep=\"\"))\n",
    "    training_dataset_fold <- training_dataset[training_dataset[paste(\"fold\",fold,sep=\"_\")] > 0,]\n",
    "    validation_dataset <- training_dataset[training_dataset[paste(\"fold\",fold,sep=\"_\")] == 0,]\n",
    "    #Modeling\n",
    "    ModelFile <- paste(ModelsDir,ModelName,\"_\",fold,\".rds\",sep=\"\")\n",
    "    if(file.exists(ModelFile) && UseSavedIfExists){\n",
    "        nbglm <- readRDS(ModelFile)\n",
    "    } else {\n",
    "        nbglm <- glm.nb(formula,  data = training_dataset_fold,  control = glm.control(maxit=10000))\n",
    "        saveRDS(nbglm, ModelFile)             \n",
    "    }#if modeling \n",
    "    #Training Prediction\n",
    "    pred_train <- predict(nbglm,training_dataset, type=\"response\")\n",
    "    training_dataset[paste(\"nbglm_f_ecy_\",fold,sep=\"\")] <- pred_train\n",
    "    training_dataset$nbglm_f_ecy_cv <- training_dataset$nbglm_f_ecy_cv + pred_train/kfold\n",
    "    #Testing Prediction\n",
    "    pred_test <- predict(nbglm,testing_dataset, type=\"response\")\n",
    "    testing_dataset$nbglm_f_ecy_cv <- testing_dataset$nbglm_f_ecy_cv + pred_test/kfold \n",
    "    testing_dataset[paste(\"nbglm_f_ecy_\",fold,sep=\"\")] <- pred_test\n",
    "    #Prediction\n",
    "    pred <- predict(nbglm,prediction_dataset, type=\"response\")\n",
    "    prediction_dataset$nbglm_f_ecy_cv <- prediction_dataset$nbglm_f_ecy_cv + pred/kfold \n",
    "    prediction_dataset[paste(\"nbglm_f_ecy_\",fold,sep=\"\")] <- pred\n",
    "    #Model attributes\n",
    "    folds_l[[i]] <- i\n",
    "    AIC_l[[i]] <- AIC(nbglm)\n",
    "    BIC_l[[i]] <- BIC(nbglm)  \n",
    "    logLik_l[[i]] <- logLik(nbglm) \n",
    "    #Model coeficients\n",
    "    model_coef_fold <- data.frame(\n",
    "        fold = fold+1,\n",
    "        pred_name = summary(nbglm)$coefficients[,0],\n",
    "        estimate =  summary(nbglm)$coefficients[,1],\n",
    "        StdError =  summary(nbglm)$coefficients[,2],  \n",
    "        zValue =   summary(nbglm)$coefficients[,3],     \n",
    "        valuePr =   summary(nbglm)$coefficients[,4]    \n",
    "    )  \n",
    "    #pred_name is an index, row name, convert it into column\n",
    "    model_coef_fold <- cbind(name = rownames(model_coef_fold), model_coef_fold)\n",
    "    rownames(model_coef_fold) <- 1:nrow(model_coef_fold) \n",
    "    #main table\n",
    "    models_coef <- rbind(models_coef,model_coef_fold)         \n",
    "    i <- i + 1\n",
    "    }#folds loop   \n",
    "    #Model attributes data frame\n",
    "    models_fold_attr <- data.frame( \n",
    "        fold = unlist(folds_l),\n",
    "        AIC = unlist(AIC_l),\n",
    "        BIC = unlist(BIC_l),   \n",
    "        logLik = unlist(logLik_l)\n",
    "    )\n",
    "    models_attr <- rbind(models_attr,models_fold_attr)                 "
   ]
  },
  {
   "cell_type": "code",
   "execution_count": 8,
   "metadata": {},
   "outputs": [
    {
     "data": {
      "text/html": [
       "<table>\n",
       "<thead><tr><th scope=col>fold</th><th scope=col>AIC</th><th scope=col>BIC</th><th scope=col>logLik</th></tr></thead>\n",
       "<tbody>\n",
       "\t<tr><td>1        </td><td>91117.07 </td><td>91357.26 </td><td>-45538.54</td></tr>\n",
       "\t<tr><td>2        </td><td>91009.65 </td><td>91249.84 </td><td>-45484.83</td></tr>\n",
       "\t<tr><td>3        </td><td>90984.81 </td><td>91225.00 </td><td>-45472.41</td></tr>\n",
       "\t<tr><td>4        </td><td>90907.05 </td><td>91147.24 </td><td>-45433.53</td></tr>\n",
       "\t<tr><td>5        </td><td>90973.92 </td><td>91214.10 </td><td>-45466.96</td></tr>\n",
       "</tbody>\n",
       "</table>\n"
      ],
      "text/latex": [
       "\\begin{tabular}{r|llll}\n",
       " fold & AIC & BIC & logLik\\\\\n",
       "\\hline\n",
       "\t 1         & 91117.07  & 91357.26  & -45538.54\\\\\n",
       "\t 2         & 91009.65  & 91249.84  & -45484.83\\\\\n",
       "\t 3         & 90984.81  & 91225.00  & -45472.41\\\\\n",
       "\t 4         & 90907.05  & 91147.24  & -45433.53\\\\\n",
       "\t 5         & 90973.92  & 91214.10  & -45466.96\\\\\n",
       "\\end{tabular}\n"
      ],
      "text/markdown": [
       "\n",
       "| fold | AIC | BIC | logLik |\n",
       "|---|---|---|---|\n",
       "| 1         | 91117.07  | 91357.26  | -45538.54 |\n",
       "| 2         | 91009.65  | 91249.84  | -45484.83 |\n",
       "| 3         | 90984.81  | 91225.00  | -45472.41 |\n",
       "| 4         | 90907.05  | 91147.24  | -45433.53 |\n",
       "| 5         | 90973.92  | 91214.10  | -45466.96 |\n",
       "\n"
      ],
      "text/plain": [
       "  fold AIC      BIC      logLik   \n",
       "1 1    91117.07 91357.26 -45538.54\n",
       "2 2    91009.65 91249.84 -45484.83\n",
       "3 3    90984.81 91225.00 -45472.41\n",
       "4 4    90907.05 91147.24 -45433.53\n",
       "5 5    90973.92 91214.10 -45466.96"
      ]
     },
     "metadata": {},
     "output_type": "display_data"
    }
   ],
   "source": [
    "head(models_attr)"
   ]
  },
  {
   "cell_type": "code",
   "execution_count": 9,
   "metadata": {
    "collapsed": true
   },
   "outputs": [],
   "source": [
    "write.table(models_attr,paste(ModelsDir,ModelName,\"_attr.csv\", sep = \"\"), sep=\",\",  col.names=TRUE, row.names = FALSE)"
   ]
  },
  {
   "cell_type": "code",
   "execution_count": 10,
   "metadata": {},
   "outputs": [
    {
     "data": {
      "text/html": [
       "<table>\n",
       "<thead><tr><th scope=col>name</th><th scope=col>fold</th><th scope=col>estimate</th><th scope=col>StdError</th><th scope=col>zValue</th><th scope=col>valuePr</th></tr></thead>\n",
       "<tbody>\n",
       "\t<tr><td>(Intercept)   </td><td>1             </td><td>-120.69282207 </td><td>9.67126305    </td><td>-12.4795305   </td><td>9.655432e-36  </td></tr>\n",
       "\t<tr><td>landlordind   </td><td>1             </td><td>  -0.24261254 </td><td>0.07386546    </td><td> -3.2845195   </td><td>1.021564e-03  </td></tr>\n",
       "\t<tr><td>log_ecy       </td><td>1             </td><td>   0.93671226 </td><td>0.02158504    </td><td> 43.3963696   </td><td>0.000000e+00  </td></tr>\n",
       "\t<tr><td>log_sqft      </td><td>1             </td><td>   0.57920248 </td><td>0.03313726    </td><td> 17.4788886   </td><td>2.075040e-68  </td></tr>\n",
       "\t<tr><td>log_yearbuilt </td><td>1             </td><td>  14.11760336 </td><td>1.27832881    </td><td> 11.0437966   </td><td>2.348938e-28  </td></tr>\n",
       "\t<tr><td>roofcdMEMBRANE</td><td>1             </td><td>   0.04730591 </td><td>0.10436426    </td><td>  0.4532769   </td><td>6.503494e-01  </td></tr>\n",
       "</tbody>\n",
       "</table>\n"
      ],
      "text/latex": [
       "\\begin{tabular}{r|llllll}\n",
       " name & fold & estimate & StdError & zValue & valuePr\\\\\n",
       "\\hline\n",
       "\t (Intercept)    & 1              & -120.69282207  & 9.67126305     & -12.4795305    & 9.655432e-36  \\\\\n",
       "\t landlordind    & 1              &   -0.24261254  & 0.07386546     &  -3.2845195    & 1.021564e-03  \\\\\n",
       "\t log\\_ecy        & 1                &    0.93671226    & 0.02158504       &  43.3963696      & 0.000000e+00    \\\\\n",
       "\t log\\_sqft       & 1                &    0.57920248    & 0.03313726       &  17.4788886      & 2.075040e-68    \\\\\n",
       "\t log\\_yearbuilt  & 1                &   14.11760336    & 1.27832881       &  11.0437966      & 2.348938e-28    \\\\\n",
       "\t roofcdMEMBRANE & 1              &    0.04730591  & 0.10436426     &   0.4532769    & 6.503494e-01  \\\\\n",
       "\\end{tabular}\n"
      ],
      "text/markdown": [
       "\n",
       "| name | fold | estimate | StdError | zValue | valuePr |\n",
       "|---|---|---|---|---|---|\n",
       "| (Intercept)    | 1              | -120.69282207  | 9.67126305     | -12.4795305    | 9.655432e-36   |\n",
       "| landlordind    | 1              |   -0.24261254  | 0.07386546     |  -3.2845195    | 1.021564e-03   |\n",
       "| log_ecy        | 1              |    0.93671226  | 0.02158504     |  43.3963696    | 0.000000e+00   |\n",
       "| log_sqft       | 1              |    0.57920248  | 0.03313726     |  17.4788886    | 2.075040e-68   |\n",
       "| log_yearbuilt  | 1              |   14.11760336  | 1.27832881     |  11.0437966    | 2.348938e-28   |\n",
       "| roofcdMEMBRANE | 1              |    0.04730591  | 0.10436426     |   0.4532769    | 6.503494e-01   |\n",
       "\n"
      ],
      "text/plain": [
       "  name           fold estimate      StdError   zValue      valuePr     \n",
       "1 (Intercept)    1    -120.69282207 9.67126305 -12.4795305 9.655432e-36\n",
       "2 landlordind    1      -0.24261254 0.07386546  -3.2845195 1.021564e-03\n",
       "3 log_ecy        1       0.93671226 0.02158504  43.3963696 0.000000e+00\n",
       "4 log_sqft       1       0.57920248 0.03313726  17.4788886 2.075040e-68\n",
       "5 log_yearbuilt  1      14.11760336 1.27832881  11.0437966 2.348938e-28\n",
       "6 roofcdMEMBRANE 1       0.04730591 0.10436426   0.4532769 6.503494e-01"
      ]
     },
     "metadata": {},
     "output_type": "display_data"
    }
   ],
   "source": [
    "head(models_coef)"
   ]
  },
  {
   "cell_type": "code",
   "execution_count": 11,
   "metadata": {
    "collapsed": true
   },
   "outputs": [],
   "source": [
    "write.table(models_coef,paste(ModelsDir,ModelName,\"_coef.csv\", sep = \"\"), sep=\",\",  col.names=TRUE, row.names = FALSE)"
   ]
  },
  {
   "cell_type": "markdown",
   "metadata": {},
   "source": [
    "Normalized Weighted gini Training"
   ]
  },
  {
   "cell_type": "code",
   "execution_count": 12,
   "metadata": {},
   "outputs": [
    {
     "data": {
      "text/html": [
       "0.380273824728369"
      ],
      "text/latex": [
       "0.380273824728369"
      ],
      "text/markdown": [
       "0.380273824728369"
      ],
      "text/plain": [
       "[1] 0.3802738"
      ]
     },
     "metadata": {},
     "output_type": "display_data"
    }
   ],
   "source": [
    "NormalizedWeightedGini(training_dataset$cova_ic_nc_water,training_dataset$nbglm_f_ecy_cv,training_dataset$ecy)"
   ]
  },
  {
   "cell_type": "markdown",
   "metadata": {},
   "source": [
    "Normalized Weighted gini Testing"
   ]
  },
  {
   "cell_type": "code",
   "execution_count": 13,
   "metadata": {},
   "outputs": [
    {
     "data": {
      "text/html": [
       "0.404103045728712"
      ],
      "text/latex": [
       "0.404103045728712"
      ],
      "text/markdown": [
       "0.404103045728712"
      ],
      "text/plain": [
       "[1] 0.404103"
      ]
     },
     "metadata": {},
     "output_type": "display_data"
    }
   ],
   "source": [
    "NormalizedWeightedGini(testing_dataset$cova_ic_nc_water,testing_dataset$nbglm_f_ecy_cv,testing_dataset$ecy)"
   ]
  },
  {
   "cell_type": "code",
   "execution_count": 14,
   "metadata": {
    "collapsed": true
   },
   "outputs": [],
   "source": [
    "write.table(training_dataset,paste(DataDir,\"property_wcf_training.csv\", sep = \"\"), sep=\",\",  col.names=TRUE, row.names = FALSE)\n",
    "write.table(testing_dataset,paste(DataDir,\"property_wcf_testing.csv\", sep = \"\"), sep=\",\",  col.names=TRUE, row.names = FALSE)\n",
    "write.table(prediction_dataset,paste(DataDir,\"property_water_claims_non_cat_fs.csv\", sep = \"\"), sep=\",\",  col.names=TRUE, row.names = FALSE)"
   ]
  }
 ],
 "metadata": {
  "kernelspec": {
   "display_name": "R",
   "language": "R",
   "name": "ir"
  },
  "language_info": {
   "codemirror_mode": "r",
   "file_extension": ".r",
   "mimetype": "text/x-r-source",
   "name": "R",
   "pygments_lexer": "r",
   "version": "3.6.0"
  }
 },
 "nbformat": 4,
 "nbformat_minor": 2
}
