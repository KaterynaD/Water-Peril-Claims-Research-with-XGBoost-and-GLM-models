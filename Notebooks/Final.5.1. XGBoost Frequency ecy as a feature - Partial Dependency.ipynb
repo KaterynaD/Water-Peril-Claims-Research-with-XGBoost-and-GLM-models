{
 "cells": [
  {
   "cell_type": "code",
   "execution_count": 1,
   "metadata": {
    "collapsed": true
   },
   "outputs": [],
   "source": [
    "ModelsDir = '/home/kate/Research/Property/Models/'\n",
    "DataDir = '/home/kate/Research/Property/Data/'"
   ]
  },
  {
   "cell_type": "code",
   "execution_count": 2,
   "metadata": {
    "collapsed": true
   },
   "outputs": [],
   "source": [
    "# from https://xiaoxiaowang87.github.io/monotonicity_constraint/\n",
    "def partial_dependency(model, X,  feature):\n",
    "\n",
    "    \"\"\"\n",
    "    Calculate the dependency (or partial dependency) of a response variable on a predictor (or multiple predictors)\n",
    "    1. Sample a grid of values of a predictor for numeric continuous or all unique values for categorical or discrete continuous.\n",
    "    2. For each value, replace every row of that predictor with this value, calculate the average prediction.\n",
    "    \"\"\"\n",
    "\n",
    "    X_temp = X.copy()\n",
    "    \n",
    "\n",
    "    if feature in ['water_risk_fre_3_blk','water_risk_3_blk','ecy']:\n",
    "        # continuous\n",
    "        grid = np.linspace(np.percentile(X_temp[feature], 0.1),\n",
    "                       np.percentile(X_temp[feature], 99.5),\n",
    "                           50)\n",
    "    else:\n",
    "        #categorical\n",
    "        grid = X_temp[feature].unique()\n",
    "\n",
    "    y_pred = np.zeros(len(grid))\n",
    "\n",
    "    for i, val in enumerate(grid):\n",
    "        X_temp[feature] = val\n",
    "        d_temp=xgb.DMatrix(X_temp.values)\n",
    "        #d_temp.set_base_margin(offset.values)\n",
    "        y_pred[i] = np.average(model.predict(d_temp,ntree_limit=model.best_ntree_limit+50))\n",
    "\n",
    "\n",
    "    return grid, y_pred"
   ]
  },
  {
   "cell_type": "code",
   "execution_count": 3,
   "metadata": {
    "collapsed": true
   },
   "outputs": [],
   "source": [
    "import pandas as pd\n",
    "import numpy as np\n",
    "import pickle\n",
    "import xgboost as xgb\n",
    "import os"
   ]
  },
  {
   "cell_type": "code",
   "execution_count": 4,
   "metadata": {
    "collapsed": true
   },
   "outputs": [],
   "source": [
    "kfold = 5"
   ]
  },
  {
   "cell_type": "code",
   "execution_count": 5,
   "metadata": {
    "collapsed": true
   },
   "outputs": [],
   "source": [
    "training_dataset = pd.read_csv('%sproperty_wcf_class_training_basemodel0.csv'%DataDir, error_bad_lines=False, index_col=False)"
   ]
  },
  {
   "cell_type": "code",
   "execution_count": 6,
   "metadata": {
    "collapsed": true
   },
   "outputs": [],
   "source": [
    "featureset  = [\n",
    "'roofcd_encd',\n",
    "'sqft',  \n",
    "'usagetype_encd',\n",
    "'yearbuilt',\n",
    "'water_risk_3_blk',\n",
    "'landlordind',\n",
    "'poolind',\n",
    "'multipolicyind'\n",
    "]"
   ]
  },
  {
   "cell_type": "code",
   "execution_count": 7,
   "metadata": {
    "collapsed": true
   },
   "outputs": [],
   "source": [
    "pd_featureset  = [\n",
    "'poolind'\n",
    "]"
   ]
  },
  {
   "cell_type": "code",
   "execution_count": 8,
   "metadata": {
    "collapsed": true
   },
   "outputs": [],
   "source": [
    "X = training_dataset.loc[:,featureset]"
   ]
  },
  {
   "cell_type": "code",
   "execution_count": 9,
   "metadata": {},
   "outputs": [
    {
     "name": "stdout",
     "output_type": "stream",
     "text": [
      "Processing Model: basemodel0_class_XGB_0\n",
      "Processing:poolind\n",
      "Processing Model: basemodel0_class_XGB_1\n"
     ]
    },
    {
     "ename": "FileNotFoundError",
     "evalue": "[Errno 2] No such file or directory: '/home/kate/Research/Property/Models/basemodel0_class_XGB_1.model'",
     "output_type": "error",
     "traceback": [
      "\u001b[0;31m---------------------------------------------------------------------------\u001b[0m",
      "\u001b[0;31mFileNotFoundError\u001b[0m                         Traceback (most recent call last)",
      "\u001b[0;32m<ipython-input-9-1fe1be02e06b>\u001b[0m in \u001b[0;36m<module>\u001b[0;34m()\u001b[0m\n\u001b[1;32m      5\u001b[0m     \u001b[0mprint\u001b[0m\u001b[0;34m(\u001b[0m\u001b[0;34m'Processing Model: %s'\u001b[0m\u001b[0;34m%\u001b[0m\u001b[0mModelName\u001b[0m\u001b[0;34m)\u001b[0m\u001b[0;34m\u001b[0m\u001b[0;34m\u001b[0m\u001b[0m\n\u001b[1;32m      6\u001b[0m     \u001b[0mxgb_model_file\u001b[0m\u001b[0;34m=\u001b[0m\u001b[0;34m'%s%s.model'\u001b[0m\u001b[0;34m%\u001b[0m\u001b[0;34m(\u001b[0m\u001b[0mModelsDir\u001b[0m\u001b[0;34m,\u001b[0m\u001b[0mModelName\u001b[0m\u001b[0;34m)\u001b[0m\u001b[0;34m\u001b[0m\u001b[0;34m\u001b[0m\u001b[0m\n\u001b[0;32m----> 7\u001b[0;31m     \u001b[0mxgb_model\u001b[0m \u001b[0;34m=\u001b[0m \u001b[0mpickle\u001b[0m\u001b[0;34m.\u001b[0m\u001b[0mload\u001b[0m\u001b[0;34m(\u001b[0m\u001b[0mopen\u001b[0m\u001b[0;34m(\u001b[0m\u001b[0mxgb_model_file\u001b[0m\u001b[0;34m,\u001b[0m \u001b[0;34m'rb'\u001b[0m\u001b[0;34m)\u001b[0m\u001b[0;34m)\u001b[0m\u001b[0;34m\u001b[0m\u001b[0;34m\u001b[0m\u001b[0m\n\u001b[0m\u001b[1;32m      8\u001b[0m     \u001b[0;32mfor\u001b[0m \u001b[0mf\u001b[0m \u001b[0;32min\u001b[0m \u001b[0mpd_featureset\u001b[0m\u001b[0;34m:\u001b[0m\u001b[0;34m\u001b[0m\u001b[0;34m\u001b[0m\u001b[0m\n\u001b[1;32m      9\u001b[0m         \u001b[0mprint\u001b[0m\u001b[0;34m(\u001b[0m\u001b[0;34m'Processing:%s'\u001b[0m\u001b[0;34m%\u001b[0m\u001b[0mf\u001b[0m\u001b[0;34m)\u001b[0m\u001b[0;34m\u001b[0m\u001b[0;34m\u001b[0m\u001b[0m\n",
      "\u001b[0;31mFileNotFoundError\u001b[0m: [Errno 2] No such file or directory: '/home/kate/Research/Property/Models/basemodel0_class_XGB_1.model'"
     ]
    }
   ],
   "source": [
    "Model='basemodel0_class_XGB'\n",
    "all_fm_pd = pd.DataFrame()\n",
    "for i in range(0,kfold):\n",
    "    ModelName='%s_%s'%(Model,i)\n",
    "    print('Processing Model: %s'%ModelName)\n",
    "    xgb_model_file='%s%s.model'%(ModelsDir,ModelName)\n",
    "    xgb_model = pickle.load(open(xgb_model_file, 'rb'))\n",
    "    for f in pd_featureset:\n",
    "        print('Processing:%s'%f)\n",
    "        grid, y_pred = partial_dependency(xgb_model,X,f)\n",
    "        fm_pd=pd.concat([pd.Series(grid), pd.Series(y_pred)], axis=1)\n",
    "        fm_pd.columns=['value','pd']\n",
    "        fm_pd['feature']=f\n",
    "        fm_pd['fold']=i\n",
    "        fm_pd['ModelName']=Model\n",
    "        all_fm_pd=all_fm_pd.append(fm_pd)\n",
    "        all_fm_pd.to_csv('%s%sPartialDependency.csv'%(ModelsDir,Model),header=True,index=False);"
   ]
  },
  {
   "cell_type": "code",
   "execution_count": 10,
   "metadata": {},
   "outputs": [
    {
     "data": {
      "text/html": [
       "<div>\n",
       "<style>\n",
       "    .dataframe thead tr:only-child th {\n",
       "        text-align: right;\n",
       "    }\n",
       "\n",
       "    .dataframe thead th {\n",
       "        text-align: left;\n",
       "    }\n",
       "\n",
       "    .dataframe tbody tr th {\n",
       "        vertical-align: top;\n",
       "    }\n",
       "</style>\n",
       "<table border=\"1\" class=\"dataframe\">\n",
       "  <thead>\n",
       "    <tr style=\"text-align: right;\">\n",
       "      <th></th>\n",
       "      <th>value</th>\n",
       "      <th>pd</th>\n",
       "      <th>feature</th>\n",
       "      <th>fold</th>\n",
       "      <th>ModelName</th>\n",
       "    </tr>\n",
       "  </thead>\n",
       "  <tbody>\n",
       "    <tr>\n",
       "      <th>0</th>\n",
       "      <td>0</td>\n",
       "      <td>0.011368</td>\n",
       "      <td>poolind</td>\n",
       "      <td>0</td>\n",
       "      <td>basemodel0_class_XGB</td>\n",
       "    </tr>\n",
       "    <tr>\n",
       "      <th>1</th>\n",
       "      <td>1</td>\n",
       "      <td>0.009884</td>\n",
       "      <td>poolind</td>\n",
       "      <td>0</td>\n",
       "      <td>basemodel0_class_XGB</td>\n",
       "    </tr>\n",
       "  </tbody>\n",
       "</table>\n",
       "</div>"
      ],
      "text/plain": [
       "   value        pd  feature  fold             ModelName\n",
       "0      0  0.011368  poolind     0  basemodel0_class_XGB\n",
       "1      1  0.009884  poolind     0  basemodel0_class_XGB"
      ]
     },
     "execution_count": 10,
     "metadata": {},
     "output_type": "execute_result"
    }
   ],
   "source": [
    "all_fm_pd"
   ]
  },
  {
   "cell_type": "code",
   "execution_count": null,
   "metadata": {
    "collapsed": true
   },
   "outputs": [],
   "source": [
    "training_dataset = pd.read_csv('%sproperty_wcf_training.csv'%DataDir, error_bad_lines=False, index_col=False)"
   ]
  },
  {
   "cell_type": "code",
   "execution_count": null,
   "metadata": {
    "collapsed": true
   },
   "outputs": [],
   "source": [
    "X = training_dataset.loc[:,featureset]"
   ]
  },
  {
   "cell_type": "code",
   "execution_count": null,
   "metadata": {
    "collapsed": true
   },
   "outputs": [],
   "source": [
    "Model='wc_Poisson_f_ecy_XGB'\n",
    "all_fm_pd = pd.DataFrame()\n",
    "for i in range(0,kfold):\n",
    "    ModelName='%s_%s'%(Model,i)\n",
    "    print('Processing Model: %s'%ModelName)\n",
    "    xgb_model_file='%s%s.model'%(ModelsDir,ModelName)\n",
    "    xgb_model = pickle.load(open(xgb_model_file, 'rb'))\n",
    "    for f in pd_featureset:\n",
    "        print('Processing:%s'%f)\n",
    "        grid, y_pred = partial_dependency(xgb_model,X,f)\n",
    "        fm_pd=pd.concat([pd.Series(grid), pd.Series(y_pred)], axis=1)\n",
    "        fm_pd.columns=['value','pd']\n",
    "        fm_pd['feature']=f\n",
    "        fm_pd['fold']=i\n",
    "        fm_pd['ModelName']=Model\n",
    "        all_fm_pd=all_fm_pd.append(fm_pd)\n",
    "        all_fm_pd.to_csv('%s%sPartialDependency.csv'%(ModelsDir,Model),header=True,index=False);"
   ]
  }
 ],
 "metadata": {
  "kernelspec": {
   "display_name": "Python 3",
   "language": "python",
   "name": "python3"
  },
  "language_info": {
   "codemirror_mode": {
    "name": "ipython",
    "version": 3
   },
   "file_extension": ".py",
   "mimetype": "text/x-python",
   "name": "python",
   "nbconvert_exporter": "python",
   "pygments_lexer": "ipython3",
   "version": "3.6.10"
  }
 },
 "nbformat": 4,
 "nbformat_minor": 2
}
