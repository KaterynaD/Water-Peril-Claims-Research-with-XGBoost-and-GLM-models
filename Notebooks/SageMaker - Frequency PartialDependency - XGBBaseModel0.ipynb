{
 "cells": [
  {
   "cell_type": "code",
   "execution_count": 1,
   "metadata": {},
   "outputs": [],
   "source": [
    "#Save \"SageMaker Prediction.py\" as inference.py in the same folder as this notebook. inference.py is a mandatory name and can not be changed"
   ]
  },
  {
   "cell_type": "code",
   "execution_count": 2,
   "metadata": {},
   "outputs": [
    {
     "name": "stdout",
     "output_type": "stream",
     "text": [
      "CPU times: user 1e+03 ns, sys: 0 ns, total: 1e+03 ns\n",
      "Wall time: 3.34 µs\n"
     ]
    }
   ],
   "source": [
    "%time\n",
    "models_data = ['s3://sagemaker-wc-class/model/fold_0/basemodel0-class-XGB-0-2020-10-29-22-41-41/output/model.tar.gz', \n",
    "             's3://sagemaker-wc-class/model/fold_1/basemodel0-class-XGB-1-2020-10-29-22-41-54/output/model.tar.gz', \n",
    "             's3://sagemaker-wc-class/model/fold_2/basemodel0-class-XGB-2-2020-10-29-22-42-07/output/model.tar.gz', \n",
    "             's3://sagemaker-wc-class/model/fold_3/basemodel0-class-XGB-3-2020-10-29-22-42-19/output/model.tar.gz', \n",
    "             's3://sagemaker-wc-class/model/fold_4/basemodel0-class-XGB-4-2020-10-29-22-42-31/output/model.tar.gz']\n",
    "#where to store partial dependency file\n",
    "ModelsDir = '/home/kate/Research/Property/Models/'\n",
    "#where are training data located locally\n",
    "DataDir = '/home/kate/Research/Property/Data/'\n",
    "#Temp local dir to save file before moving to S3\n",
    "TmpDir = '/home/kate/Research/Property/Notebooks/SageMaker/tmp/'\n",
    "#dataset file name with features to predict\n",
    "dataset_name='property_wcf_class_training_basemodel0'\n",
    "#model featureset\n",
    "featureset  = [\n",
    "'roofcd_encd',\n",
    "'sqft',  \n",
    "'usagetype_encd',\n",
    "'yearbuilt',\n",
    "'water_risk_3_blk',\n",
    "'landlordind',\n",
    "'multipolicyind'  \n",
    "]\n",
    "#column names for predicted values\n",
    "continuous_features=['yearbuilt','sqft','water_risk_3_blk']\n",
    "#instance type to be created for transformation jobs. \n",
    "instance_type='ml.c5.xlarge'\n",
    "#Transformation jobs\n",
    "#Model is created for each fold model_name is just a template. fold number will be added \n",
    "transformation_job_entry_point='inference.py'\n",
    "#timeout for waiting Shap Values\n",
    "transformation_job_timeout = 3600\n",
    "transformation_input_folder = 'input'\n",
    "transformation_output_folder = 'output'\n",
    "model_name='property-wcf-class-basemodel0'\n",
    "#S3 bucket and folders to save files\n",
    "bucket = 'sagemaker-wc-class'\n",
    "s3_batch_output = 's3://%s/%s/%s_fold_'%(bucket,transformation_output_folder,model_name)"
   ]
  },
  {
   "cell_type": "code",
   "execution_count": 3,
   "metadata": {},
   "outputs": [
    {
     "name": "stdout",
     "output_type": "stream",
     "text": [
      "CPU times: user 472 ms, sys: 39.5 ms, total: 511 ms\n",
      "Wall time: 510 ms\n"
     ]
    }
   ],
   "source": [
    "%%time\n",
    "#packages used in the notebook\n",
    "import time\n",
    "import sys\n",
    "import boto3\n",
    "import re\n",
    "import sagemaker\n",
    "from sagemaker.session import s3_input\n",
    "from sagemaker.xgboost.model import XGBoostModel\n",
    "import pandas as pd\n",
    "import numpy as np\n",
    "import s3fs"
   ]
  },
  {
   "cell_type": "code",
   "execution_count": 4,
   "metadata": {},
   "outputs": [
    {
     "name": "stdout",
     "output_type": "stream",
     "text": [
      "CPU times: user 68.6 ms, sys: 4.06 ms, total: 72.6 ms\n",
      "Wall time: 71.8 ms\n"
     ]
    }
   ],
   "source": [
    "%%time\n",
    "#should be run as a first step\n",
    "#role arn is used when run from a local machine\n",
    "role = 'arn:aws:iam::'\n",
    "region = boto3.Session().region_name\n",
    "s3 = s3fs.S3FileSystem()\n",
    "smclient = boto3.Session().client('sagemaker')"
   ]
  },
  {
   "cell_type": "code",
   "execution_count": 5,
   "metadata": {},
   "outputs": [
    {
     "name": "stdout",
     "output_type": "stream",
     "text": [
      "CPU times: user 558 ms, sys: 51.4 ms, total: 610 ms\n",
      "Wall time: 609 ms\n"
     ]
    }
   ],
   "source": [
    "%%time\n",
    "#data\n",
    "dataset = pd.read_csv('%s%s.csv'%(DataDir,dataset_name), error_bad_lines=False, index_col=False)"
   ]
  },
  {
   "cell_type": "code",
   "execution_count": 7,
   "metadata": {},
   "outputs": [
    {
     "name": "stdout",
     "output_type": "stream",
     "text": [
      "CPU times: user 1e+03 ns, sys: 0 ns, total: 1e+03 ns\n",
      "Wall time: 3.58 µs\n",
      "Processing roofcd_encd\n",
      "property_wcf_class_training_basemodel0_roofcd_encd.csv does not exist in S3. Loading...\n",
      "Processing sqft\n",
      "property_wcf_class_training_basemodel0_sqft.csv does not exist in S3. Loading...\n",
      "Processing usagetype_encd\n",
      "property_wcf_class_training_basemodel0_usagetype_encd.csv does not exist in S3. Loading...\n",
      "Processing yearbuilt\n",
      "property_wcf_class_training_basemodel0_yearbuilt.csv does not exist in S3. Loading...\n",
      "Processing water_risk_3_blk\n",
      "property_wcf_class_training_basemodel0_water_risk_3_blk.csv does not exist in S3. Loading...\n",
      "Processing landlordind\n",
      "property_wcf_class_training_basemodel0_landlordind.csv does not exist in S3. Loading...\n",
      "Processing multipolicyind\n",
      "property_wcf_class_training_basemodel0_multipolicyind.csv does not exist in S3. Loading...\n"
     ]
    }
   ],
   "source": [
    "%time\n",
    "#takes 37 min to load\n",
    "#creating dataset with all possible combination unique values of one feature and all others\n",
    "#the result is a huge dataset we need to predict\n",
    "features_datasets = list()\n",
    "for f in featureset:\n",
    "    print('Processing %s'%f)\n",
    "    dataset_feature = pd.DataFrame()\n",
    "    dataset_temp = dataset[featureset].copy()\n",
    "    if f in continuous_features:\n",
    "        # continuous\n",
    "        grid = sorted(np.linspace(np.percentile(dataset_temp[f], 0.1),\n",
    "                       np.percentile(dataset_temp[f], 99.5),\n",
    "                          50))\n",
    "    else:\n",
    "        #categorical\n",
    "        grid = sorted(dataset_temp[f].unique())\n",
    "        \n",
    "    for i, val in enumerate(grid):\n",
    "        dataset_temp[f] = val\n",
    "        dataset_feature=dataset_feature.append(dataset_temp)\n",
    "    features_datasets.append(dataset_feature)    \n",
    "    #Load data to S3 bucket\n",
    "    s3_batch_input = 's3://%s/%s/%s_%s.csv'%(bucket,transformation_input_folder,dataset_name,f)\n",
    "    if not(s3.exists(s3_batch_input)):\n",
    "        print('%s_%s.csv does not exist in S3. Loading...'%(dataset_name,f))\n",
    "        dataset_feature.to_csv(s3_batch_input,header=False,index=False)\n",
    "    else:\n",
    "        print('%s_%s.csv exists in S3'%(dataset_name,f))"
   ]
  },
  {
   "cell_type": "code",
   "execution_count": 10,
   "metadata": {},
   "outputs": [],
   "source": [
    "# 42,115,080 with cont spec\n",
    "# 259,709,660 full"
   ]
  },
  {
   "cell_type": "code",
   "execution_count": 11,
   "metadata": {},
   "outputs": [
    {
     "name": "stderr",
     "output_type": "stream",
     "text": [
      "Parameter image will be renamed to image_uri in SageMaker Python SDK v2.\n"
     ]
    },
    {
     "name": "stdout",
     "output_type": "stream",
     "text": [
      "property-wcf-class-basemodel0-0 model was deleted\n",
      "property-wcf-class-basemodel0-0 model was created\n"
     ]
    },
    {
     "name": "stderr",
     "output_type": "stream",
     "text": [
      "Parameter image will be renamed to image_uri in SageMaker Python SDK v2.\n"
     ]
    },
    {
     "name": "stdout",
     "output_type": "stream",
     "text": [
      "property-wcf-class-basemodel0-1 model was deleted\n",
      "property-wcf-class-basemodel0-1 model was created\n"
     ]
    },
    {
     "name": "stderr",
     "output_type": "stream",
     "text": [
      "Parameter image will be renamed to image_uri in SageMaker Python SDK v2.\n"
     ]
    },
    {
     "name": "stdout",
     "output_type": "stream",
     "text": [
      "property-wcf-class-basemodel0-2 model was deleted\n",
      "property-wcf-class-basemodel0-2 model was created\n"
     ]
    },
    {
     "name": "stderr",
     "output_type": "stream",
     "text": [
      "Parameter image will be renamed to image_uri in SageMaker Python SDK v2.\n"
     ]
    },
    {
     "name": "stdout",
     "output_type": "stream",
     "text": [
      "property-wcf-class-basemodel0-3 model was deleted\n",
      "property-wcf-class-basemodel0-3 model was created\n"
     ]
    },
    {
     "name": "stderr",
     "output_type": "stream",
     "text": [
      "Parameter image will be renamed to image_uri in SageMaker Python SDK v2.\n"
     ]
    },
    {
     "name": "stdout",
     "output_type": "stream",
     "text": [
      "property-wcf-class-basemodel0-4 model was deleted\n",
      "property-wcf-class-basemodel0-4 model was created\n",
      "CPU times: user 205 ms, sys: 20.8 ms, total: 226 ms\n",
      "Wall time: 7.1 s\n"
     ]
    }
   ],
   "source": [
    "%%time\n",
    "#Models to be used in prediction\n",
    "#based on model files provided in models_data\n",
    "models = list()\n",
    "i = 0\n",
    "for m in models_data:    \n",
    "    #Try to delete if exists model and create a new model based on a model file\n",
    "    name=model_name+'-%s'%i\n",
    "    try:\n",
    "        response = smclient.delete_model(ModelName=name)\n",
    "        print('%s model was deleted'%name)\n",
    "    except:\n",
    "        print('%s model does not exist'%name)\n",
    "        pass\n",
    "    xgb_inference_model = XGBoostModel(\n",
    "    name=name,\n",
    "    model_data=m,\n",
    "    role=role,\n",
    "    entry_point=transformation_job_entry_point,\n",
    "    framework_version=\"1.0-1\",\n",
    "    )\n",
    "    models.append(xgb_inference_model)\n",
    "    print('%s model was created'%name)\n",
    "    i = i + 1        "
   ]
  },
  {
   "cell_type": "code",
   "execution_count": 12,
   "metadata": {},
   "outputs": [],
   "source": [
    "s3_batch_input = 's3://%s/%s/'%(bucket,transformation_input_folder)"
   ]
  },
  {
   "cell_type": "code",
   "execution_count": 13,
   "metadata": {},
   "outputs": [
    {
     "name": "stdout",
     "output_type": "stream",
     "text": [
      "CPU times: user 3 µs, sys: 1e+03 ns, total: 4 µs\n",
      "Wall time: 6.68 µs\n",
      "Job property-wcf-class-basemodel0-0-2020-11-02-04-52-19-983 started\n",
      "Job property-wcf-class-basemodel0-1-2020-11-02-04-52-21-539 started\n",
      "Job property-wcf-class-basemodel0-2-2020-11-02-04-52-23-657 started\n",
      "Job property-wcf-class-basemodel0-3-2020-11-02-04-52-25-218 started\n",
      "Job property-wcf-class-basemodel0-4-2020-11-02-04-52-27-012 started\n"
     ]
    }
   ],
   "source": [
    "%time\n",
    "tranform_jobs = list()\n",
    "tranformers = list()\n",
    "i = 0\n",
    "for m in models:       \n",
    "#Create transform job\n",
    "    s3_batch_output_fold=s3_batch_output+'%s'%i\n",
    "    transformer =  m.transformer(\n",
    "                                              instance_count=1, \n",
    "                                              instance_type=instance_type,\n",
    "                                              output_path=s3_batch_output_fold,\n",
    "                                              accept='text/csv',\n",
    "                                              strategy='MultiRecord',\n",
    "                                              assemble_with='Line'\n",
    "                                             ,env = {'SAGEMAKER_MODEL_SERVER_TIMEOUT' : str(transformation_job_timeout) }\n",
    "                                             )\n",
    "    tranformers.append(transformer)\n",
    "    transformer.transform(data=s3_batch_input, content_type='text/csv',split_type='Line')\n",
    "    job_name = transformer.latest_transform_job.name\n",
    "    tranform_jobs.append(job_name)\n",
    "    print('Job %s started'%job_name)\n",
    "    i = i + 1"
   ]
  },
  {
   "cell_type": "code",
   "execution_count": 14,
   "metadata": {},
   "outputs": [
    {
     "name": "stdout",
     "output_type": "stream",
     "text": [
      "CPU times: user 3 µs, sys: 1e+03 ns, total: 4 µs\n",
      "Wall time: 6.91 µs\n",
      "Transform job property-wcf-class-basemodel0-0-2020-11-02-04-52-19-983 status: InProgress\n",
      "Transform job property-wcf-class-basemodel0-1-2020-11-02-04-52-21-539 status: InProgress\n",
      "Transform job property-wcf-class-basemodel0-2-2020-11-02-04-52-23-657 status: InProgress\n",
      "Transform job property-wcf-class-basemodel0-3-2020-11-02-04-52-25-218 status: InProgress\n",
      "Transform job property-wcf-class-basemodel0-4-2020-11-02-04-52-27-012 status: InProgress\n",
      "Continue waiting...\n",
      "Transform job property-wcf-class-basemodel0-0-2020-11-02-04-52-19-983 status: InProgress\n",
      "Transform job property-wcf-class-basemodel0-1-2020-11-02-04-52-21-539 status: InProgress\n",
      "Transform job property-wcf-class-basemodel0-2-2020-11-02-04-52-23-657 status: InProgress\n",
      "Transform job property-wcf-class-basemodel0-3-2020-11-02-04-52-25-218 status: InProgress\n",
      "Transform job property-wcf-class-basemodel0-4-2020-11-02-04-52-27-012 status: InProgress\n",
      "Continue waiting...\n",
      "Transform job property-wcf-class-basemodel0-0-2020-11-02-04-52-19-983 status: InProgress\n",
      "Transform job property-wcf-class-basemodel0-1-2020-11-02-04-52-21-539 status: InProgress\n",
      "Transform job property-wcf-class-basemodel0-2-2020-11-02-04-52-23-657 status: InProgress\n",
      "Transform job property-wcf-class-basemodel0-3-2020-11-02-04-52-25-218 status: InProgress\n",
      "Transform job property-wcf-class-basemodel0-4-2020-11-02-04-52-27-012 status: InProgress\n",
      "Continue waiting...\n",
      "All Transform Jobs are Completed\n"
     ]
    }
   ],
   "source": [
    "%time\n",
    "#If there are not complete training jobs in 5-6 minutes, it's better to look into logs. Took 20 min 1 job for ~42M rows\n",
    "check_every_sec=60\n",
    "print_every_n_output=6\n",
    "t = 0\n",
    "n = 0\n",
    "minutes_to_wait=60*60/check_every_sec\n",
    "while True:\n",
    "    statuses = list()\n",
    "    n = n + 1\n",
    "    for e,j in zip(tranformers,tranform_jobs):\n",
    "        status=e.sagemaker_session.describe_transform_job(j)['TransformJobStatus']\n",
    "        if n==print_every_n_output:\n",
    "            print('Transform job %s status: %s'%(j,status))\n",
    "        statuses.append(status)\n",
    "    if 'InProgress' in statuses:\n",
    "        if n==print_every_n_output:\n",
    "            print('Continue waiting...')\n",
    "            n = 0\n",
    "    else:\n",
    "        if set(statuses)=={'Completed'}:\n",
    "            print('All Transform Jobs are Completed')\n",
    "        else:\n",
    "            print('Something went wrong.')\n",
    "        break \n",
    "    t = t+1\n",
    "    if t>minutes_to_wait:\n",
    "        print('Something went wrong. Transform jobs are still running.')\n",
    "        break\n",
    "    time.sleep(check_every_sec)"
   ]
  },
  {
   "cell_type": "code",
   "execution_count": 15,
   "metadata": {},
   "outputs": [
    {
     "name": "stdout",
     "output_type": "stream",
     "text": [
      "CPU times: user 3 µs, sys: 0 ns, total: 3 µs\n",
      "Wall time: 6.2 µs\n",
      "Reading predicted data fold: 1  of  5 : \n",
      "Processing roofcd_encd\n",
      "Processing sqft\n",
      "Processing usagetype_encd\n",
      "Processing yearbuilt\n",
      "Processing water_risk_3_blk\n",
      "Processing landlordind\n",
      "Processing multipolicyind\n",
      "Reading predicted data fold: 2  of  5 : \n",
      "Processing roofcd_encd\n",
      "Processing sqft\n",
      "Processing usagetype_encd\n",
      "Processing yearbuilt\n",
      "Processing water_risk_3_blk\n",
      "Processing landlordind\n",
      "Processing multipolicyind\n",
      "Reading predicted data fold: 3  of  5 : \n",
      "Processing roofcd_encd\n",
      "Processing sqft\n",
      "Processing usagetype_encd\n",
      "Processing yearbuilt\n",
      "Processing water_risk_3_blk\n",
      "Processing landlordind\n",
      "Processing multipolicyind\n",
      "Reading predicted data fold: 4  of  5 : \n",
      "Processing roofcd_encd\n",
      "Processing sqft\n",
      "Processing usagetype_encd\n",
      "Processing yearbuilt\n",
      "Processing water_risk_3_blk\n",
      "Processing landlordind\n",
      "Processing multipolicyind\n",
      "Reading predicted data fold: 5  of  5 : \n",
      "Processing roofcd_encd\n",
      "Processing sqft\n",
      "Processing usagetype_encd\n",
      "Processing yearbuilt\n",
      "Processing water_risk_3_blk\n",
      "Processing landlordind\n",
      "Processing multipolicyind\n"
     ]
    }
   ],
   "source": [
    "%time\n",
    "#reading data from S3 and joining with values\n",
    "i = 0\n",
    "kfold=len(models)\n",
    "for m in models:   \n",
    "    print('Reading predicted data fold: {}  of  {} : '.format(i+1, kfold))\n",
    "    j = 0\n",
    "    for f in featureset:\n",
    "        print('Processing %s'%f)\n",
    "        s3_batch_output_feature_fold = s3_batch_output + '%s/%s_%s.csv.out'%(i,dataset_name,f)\n",
    "        if s3.exists(s3_batch_output_feature_fold):\n",
    "            pdf_dataset = pd.read_csv(s3_batch_output_feature_fold, names=['pd'], error_bad_lines=False, index_col=False) \n",
    "        else:\n",
    "            print(s3_batch_output_feature_fold+' does not exists')       \n",
    "        features_datasets[j]['pd_fold_%s'%i]= pdf_dataset['pd'].values\n",
    "        j = j + 1\n",
    "    i = i + 1"
   ]
  },
  {
   "cell_type": "code",
   "execution_count": 16,
   "metadata": {},
   "outputs": [
    {
     "name": "stdout",
     "output_type": "stream",
     "text": [
      "CPU times: user 3 µs, sys: 0 ns, total: 3 µs\n",
      "Wall time: 8.11 µs\n"
     ]
    }
   ],
   "source": [
    "%time\n",
    "#averaging results\n",
    "all_fm_pd = pd.DataFrame()\n",
    "i = 0\n",
    "for m in models:\n",
    "    j = 0\n",
    "    for f in featureset:\n",
    "        fm_s = features_datasets[j].groupby(f)['pd_fold_%s'%i].mean()\n",
    "        fm_pd=pd.DataFrame({'value':fm_s.index, 'pd':fm_s.values})\n",
    "        fm_pd['feature']=f\n",
    "        fm_pd['fold']=i\n",
    "        fm_pd['ModelName']=model_name\n",
    "        fm_pd = fm_pd[['ModelName','fold','feature','value','pd']]\n",
    "        all_fm_pd=all_fm_pd.append(fm_pd)\n",
    "        j = j + 1\n",
    "    i = i + 1"
   ]
  },
  {
   "cell_type": "code",
   "execution_count": 19,
   "metadata": {},
   "outputs": [],
   "source": [
    "#Save To file\n",
    "all_fm_pd.to_csv('%sSageMaker_%s_PartialDependency.csv'%(ModelsDir,model_name),header=True,index=False)"
   ]
  },
  {
   "cell_type": "code",
   "execution_count": 20,
   "metadata": {},
   "outputs": [],
   "source": [
    "#Visualization\n",
    "%matplotlib inline"
   ]
  },
  {
   "cell_type": "code",
   "execution_count": 21,
   "metadata": {},
   "outputs": [
    {
     "data": {
      "image/png": "[encoded data removed]",
      "text/plain": [
       "<Figure size 432x288 with 1 Axes>"
      ]
     },
     "metadata": {
      "needs_background": "light"
     },
     "output_type": "display_data"
    },
    {
     "data": {
      "image/png": "[encoded data removed]",
      "text/plain": [
       "<Figure size 432x288 with 1 Axes>"
      ]
     },
     "metadata": {
      "needs_background": "light"
     },
     "output_type": "display_data"
    },
    {
     "data": {
      "image/png": "[encoded data removed]",
      "text/plain": [
       "<Figure size 432x288 with 1 Axes>"
      ]
     },
     "metadata": {
      "needs_background": "light"
     },
     "output_type": "display_data"
    },
    {
     "data": {
      "image/png": "[encoded data removed]",
      "text/plain": [
       "<Figure size 432x288 with 1 Axes>"
      ]
     },
     "metadata": {
      "needs_background": "light"
     },
     "output_type": "display_data"
    },
    {
     "data": {
      "image/png": "[encoded data removed]",
      "text/plain": [
       "<Figure size 432x288 with 1 Axes>"
      ]
     },
     "metadata": {
      "needs_background": "light"
     },
     "output_type": "display_data"
    },
    {
     "data": {
      "image/png": "[encoded data removed]",
      "text/plain": [
       "<Figure size 432x288 with 1 Axes>"
      ]
     },
     "metadata": {
      "needs_background": "light"
     },
     "output_type": "display_data"
    },
    {
     "data": {
      "image/png": "[encoded data removed]",
      "text/plain": [
       "<Figure size 432x288 with 1 Axes>"
      ]
     },
     "metadata": {
      "needs_background": "light"
     },
     "output_type": "display_data"
    }
   ],
   "source": [
    "#averaging by fold\n",
    "pd = all_fm_pd.groupby(['ModelName','feature','value'])['pd'].mean().to_frame(name='pd')\n",
    "pd.reset_index(inplace=True)\n",
    "for f in featureset:\n",
    "    pd[pd['feature']==f].plot(kind='scatter',x='value', y='pd', title=f)"
   ]
  }
 ],
 "metadata": {
  "kernelspec": {
   "display_name": "Python 3",
   "language": "python",
   "name": "python3"
  },
  "language_info": {
   "codemirror_mode": {
    "name": "ipython",
    "version": 3
   },
   "file_extension": ".py",
   "mimetype": "text/x-python",
   "name": "python",
   "nbconvert_exporter": "python",
   "pygments_lexer": "ipython3",
   "version": "3.6.12"
  }
 },
 "nbformat": 4,
 "nbformat_minor": 4
}
