{
 "cells": [
  {
   "cell_type": "code",
   "execution_count": 8,
   "metadata": {
    "collapsed": true
   },
   "outputs": [],
   "source": [
    "ModelsDir <- '/home/kate/Research/Property/Models/'\n",
    "DataDir <- '/home/kate/Research/Property/Data/'\n",
    "ModelName <- \"wc_poissonglm_ofst_ecy\"\n",
    "UseSavedIfExists <- TRUE"
   ]
  },
  {
   "cell_type": "code",
   "execution_count": 9,
   "metadata": {
    "collapsed": true
   },
   "outputs": [],
   "source": [
    "source('/home/kate/code/Utils/MyFunctions.R')"
   ]
  },
  {
   "cell_type": "code",
   "execution_count": 10,
   "metadata": {
    "collapsed": true
   },
   "outputs": [],
   "source": [
    "training_dataset <- read.csv(paste(DataDir,\"property_wcf_training.csv\", sep = \"\"), header=TRUE)\n",
    "testing_dataset <- read.csv(paste(DataDir,\"property_wcf_testing.csv\", sep = \"\"), header=TRUE)\n",
    "prediction_dataset <- read.csv(paste(DataDir,\"property_water_claims_non_cat_fs.csv\", sep = \"\"), header=TRUE)"
   ]
  },
  {
   "cell_type": "code",
   "execution_count": 11,
   "metadata": {
    "collapsed": true
   },
   "outputs": [],
   "source": [
    "formula <- cova_ic_nc_water ~ landlordind + log_sqft +      log_yearbuilt + roofcd + usagetype + cova_deductible + log_water_risk_3_blk"
   ]
  },
  {
   "cell_type": "code",
   "execution_count": 12,
   "metadata": {
    "collapsed": true
   },
   "outputs": [],
   "source": [
    "kfold <- 5"
   ]
  },
  {
   "cell_type": "code",
   "execution_count": 13,
   "metadata": {},
   "outputs": [
    {
     "name": "stdout",
     "output_type": "stream",
     "text": [
      "[1] \"Fold 0 of 5 currently processing...\"\n",
      "[1] \"Fold 1 of 5 currently processing...\"\n",
      "[1] \"Fold 2 of 5 currently processing...\"\n",
      "[1] \"Fold 3 of 5 currently processing...\"\n",
      "[1] \"Fold 4 of 5 currently processing...\"\n"
     ]
    }
   ],
   "source": [
    "models_attr <- data.frame()\n",
    "models_coef <- data.frame()\n",
    "training_dataset$poissonglm_ofst_ecy_cv <- 0\n",
    "testing_dataset$poissonglm_ofst_ecy_cv <- 0\n",
    "prediction_dataset$poissonglm_ofst_ecy_cv <- 0\n",
    "for (fold in 1:kfold-1){\n",
    "  training_dataset[paste(\"poissonglm_ofst_ecy_\",fold,sep=\"\")] <- 0 \n",
    "  testing_dataset[paste(\"poissonglm_ofst_ecy_\",fold,sep=\"\")] <- 0  \n",
    "  prediction_dataset[paste(\"poissonglm_ofst_ecy_\",fold,sep=\"\")] <- 0    \n",
    "    }\n",
    "# \n",
    "#CV-Folds\n",
    "AIC_l <- list();\n",
    "BIC_l <- list();\n",
    "logLik_l <- list();\n",
    "coef_l <- list();\n",
    "folds_l <- list() \n",
    "i <- 1\n",
    "for (fold in 1:kfold-1){\n",
    "    print(paste(\"Fold \",fold,\" of \",kfold,\" currently processing...\",sep=\"\"))\n",
    "    training_dataset_fold <- training_dataset[training_dataset[paste(\"fold\",fold,sep=\"_\")] > 0,]\n",
    "    validation_dataset <- training_dataset[training_dataset[paste(\"fold\",fold,sep=\"_\")] == 0,]\n",
    "    #Modeling\n",
    "    ModelFile <- paste(ModelsDir,ModelName,\"_\",fold,\".rds\",sep=\"\")\n",
    "    if(file.exists(ModelFile) && UseSavedIfExists){\n",
    "        poissonglm <- readRDS(ModelFile)\n",
    "    } else {\n",
    "        poissonglm <- glm(formula, family = \"poisson\", data = training_dataset_fold,  offset=log_ecy)\n",
    "        saveRDS(poissonglm, ModelFile)             \n",
    "    }#if modeling \n",
    "    #Training Prediction\n",
    "    pred_train <- predict(poissonglm,training_dataset, type=\"response\")\n",
    "    training_dataset[paste(\"poissonglm_ofst_ecy_\",fold,sep=\"\")] <- pred_train\n",
    "    training_dataset$poissonglm_ofst_ecy_cv <- training_dataset$poissonglm_ofst_ecy_cv + pred_train/kfold\n",
    "    #Testing Prediction\n",
    "    pred_test <- predict(poissonglm,testing_dataset, type=\"response\")\n",
    "    testing_dataset$poissonglm_ofst_ecy_cv <- testing_dataset$poissonglm_ofst_ecy_cv + pred_test/kfold \n",
    "    testing_dataset[paste(\"poissonglm_ofst_ecy_\",fold,sep=\"\")] <- pred_test\n",
    "    #Prediction\n",
    "    pred <- predict(poissonglm,prediction_dataset, type=\"response\")\n",
    "    prediction_dataset$poissonglm_ofst_ecy_cv <- prediction_dataset$poissonglm_ofst_ecy_cv + pred/kfold \n",
    "    prediction_dataset[paste(\"poissonglm_ofst_ecy_\",fold,sep=\"\")] <- pred\n",
    "    #Model attributes\n",
    "    folds_l[[i]] <- i\n",
    "    AIC_l[[i]] <- AIC(poissonglm)\n",
    "    BIC_l[[i]] <- BIC(poissonglm)  \n",
    "    logLik_l[[i]] <- logLik(poissonglm) \n",
    "    #Model coeficients\n",
    "    model_coef_fold <- data.frame(\n",
    "        fold = fold+1,\n",
    "        pred_name = summary(poissonglm)$coefficients[,0],\n",
    "        estimate =  summary(poissonglm)$coefficients[,1],\n",
    "        StdError =  summary(poissonglm)$coefficients[,2],  \n",
    "        zValue =   summary(poissonglm)$coefficients[,3],     \n",
    "        valuePr =   summary(poissonglm)$coefficients[,4]    \n",
    "    )  \n",
    "    #pred_name is an index, row name, convert it into column\n",
    "    model_coef_fold <- cbind(name = rownames(model_coef_fold), model_coef_fold)\n",
    "    rownames(model_coef_fold) <- 1:nrow(model_coef_fold) \n",
    "    #main table\n",
    "    models_coef <- rbind(models_coef,model_coef_fold)         \n",
    "    i <- i + 1\n",
    "    }#folds loop   \n",
    "    #Model attributes data frame\n",
    "    models_fold_attr <- data.frame( \n",
    "        fold = unlist(folds_l),\n",
    "        AIC = unlist(AIC_l),\n",
    "        BIC = unlist(BIC_l),   \n",
    "        logLik = unlist(logLik_l)\n",
    "    )\n",
    "    models_attr <- rbind(models_attr,models_fold_attr)                 "
   ]
  },
  {
   "cell_type": "code",
   "execution_count": 14,
   "metadata": {},
   "outputs": [
    {
     "data": {
      "text/html": [
       "<table>\n",
       "<thead><tr><th scope=col>fold</th><th scope=col>AIC</th><th scope=col>BIC</th><th scope=col>logLik</th></tr></thead>\n",
       "<tbody>\n",
       "\t<tr><td>1        </td><td>91369.66 </td><td>91585.83 </td><td>-45666.83</td></tr>\n",
       "\t<tr><td>2        </td><td>91261.98 </td><td>91478.15 </td><td>-45612.99</td></tr>\n",
       "\t<tr><td>3        </td><td>91229.35 </td><td>91445.52 </td><td>-45596.67</td></tr>\n",
       "\t<tr><td>4        </td><td>91148.50 </td><td>91364.67 </td><td>-45556.25</td></tr>\n",
       "\t<tr><td>5        </td><td>91221.17 </td><td>91437.34 </td><td>-45592.58</td></tr>\n",
       "</tbody>\n",
       "</table>\n"
      ],
      "text/latex": [
       "\\begin{tabular}{r|llll}\n",
       " fold & AIC & BIC & logLik\\\\\n",
       "\\hline\n",
       "\t 1         & 91369.66  & 91585.83  & -45666.83\\\\\n",
       "\t 2         & 91261.98  & 91478.15  & -45612.99\\\\\n",
       "\t 3         & 91229.35  & 91445.52  & -45596.67\\\\\n",
       "\t 4         & 91148.50  & 91364.67  & -45556.25\\\\\n",
       "\t 5         & 91221.17  & 91437.34  & -45592.58\\\\\n",
       "\\end{tabular}\n"
      ],
      "text/markdown": [
       "\n",
       "| fold | AIC | BIC | logLik |\n",
       "|---|---|---|---|\n",
       "| 1         | 91369.66  | 91585.83  | -45666.83 |\n",
       "| 2         | 91261.98  | 91478.15  | -45612.99 |\n",
       "| 3         | 91229.35  | 91445.52  | -45596.67 |\n",
       "| 4         | 91148.50  | 91364.67  | -45556.25 |\n",
       "| 5         | 91221.17  | 91437.34  | -45592.58 |\n",
       "\n"
      ],
      "text/plain": [
       "  fold AIC      BIC      logLik   \n",
       "1 1    91369.66 91585.83 -45666.83\n",
       "2 2    91261.98 91478.15 -45612.99\n",
       "3 3    91229.35 91445.52 -45596.67\n",
       "4 4    91148.50 91364.67 -45556.25\n",
       "5 5    91221.17 91437.34 -45592.58"
      ]
     },
     "metadata": {},
     "output_type": "display_data"
    }
   ],
   "source": [
    "head(models_attr)"
   ]
  },
  {
   "cell_type": "code",
   "execution_count": 15,
   "metadata": {
    "collapsed": true
   },
   "outputs": [],
   "source": [
    "write.table(models_attr,paste(ModelsDir,ModelName,\"_attr.csv\", sep = \"\"), sep=\",\",  col.names=TRUE, row.names = FALSE)"
   ]
  },
  {
   "cell_type": "code",
   "execution_count": 16,
   "metadata": {},
   "outputs": [
    {
     "data": {
      "text/html": [
       "<table>\n",
       "<thead><tr><th scope=col>name</th><th scope=col>fold</th><th scope=col>estimate</th><th scope=col>StdError</th><th scope=col>zValue</th><th scope=col>valuePr</th></tr></thead>\n",
       "<tbody>\n",
       "\t<tr><td>(Intercept)   </td><td>1             </td><td>-119.47221372 </td><td>9.53057215    </td><td>-12.5356812   </td><td>4.762518e-36  </td></tr>\n",
       "\t<tr><td>landlordind   </td><td>1             </td><td>  -0.24306667 </td><td>0.07314884    </td><td> -3.3229053   </td><td>8.908516e-04  </td></tr>\n",
       "\t<tr><td>log_sqft      </td><td>1             </td><td>   0.57707363 </td><td>0.03255060    </td><td> 17.7285091   </td><td>2.526453e-70  </td></tr>\n",
       "\t<tr><td>log_yearbuilt </td><td>1             </td><td>  13.96678579 </td><td>1.25962155    </td><td> 11.0880810   </td><td>1.433295e-28  </td></tr>\n",
       "\t<tr><td>roofcdMEMBRANE</td><td>1             </td><td>   0.04747229 </td><td>0.10265099    </td><td>  0.4624630   </td><td>6.437493e-01  </td></tr>\n",
       "\t<tr><td>roofcdMETAL   </td><td>1             </td><td>   0.11995311 </td><td>0.21947189    </td><td>  0.5465534   </td><td>5.846856e-01  </td></tr>\n",
       "</tbody>\n",
       "</table>\n"
      ],
      "text/latex": [
       "\\begin{tabular}{r|llllll}\n",
       " name & fold & estimate & StdError & zValue & valuePr\\\\\n",
       "\\hline\n",
       "\t (Intercept)    & 1              & -119.47221372  & 9.53057215     & -12.5356812    & 4.762518e-36  \\\\\n",
       "\t landlordind    & 1              &   -0.24306667  & 0.07314884     &  -3.3229053    & 8.908516e-04  \\\\\n",
       "\t log\\_sqft       & 1                &    0.57707363    & 0.03255060       &  17.7285091      & 2.526453e-70    \\\\\n",
       "\t log\\_yearbuilt  & 1                &   13.96678579    & 1.25962155       &  11.0880810      & 1.433295e-28    \\\\\n",
       "\t roofcdMEMBRANE & 1              &    0.04747229  & 0.10265099     &   0.4624630    & 6.437493e-01  \\\\\n",
       "\t roofcdMETAL    & 1              &    0.11995311  & 0.21947189     &   0.5465534    & 5.846856e-01  \\\\\n",
       "\\end{tabular}\n"
      ],
      "text/markdown": [
       "\n",
       "| name | fold | estimate | StdError | zValue | valuePr |\n",
       "|---|---|---|---|---|---|\n",
       "| (Intercept)    | 1              | -119.47221372  | 9.53057215     | -12.5356812    | 4.762518e-36   |\n",
       "| landlordind    | 1              |   -0.24306667  | 0.07314884     |  -3.3229053    | 8.908516e-04   |\n",
       "| log_sqft       | 1              |    0.57707363  | 0.03255060     |  17.7285091    | 2.526453e-70   |\n",
       "| log_yearbuilt  | 1              |   13.96678579  | 1.25962155     |  11.0880810    | 1.433295e-28   |\n",
       "| roofcdMEMBRANE | 1              |    0.04747229  | 0.10265099     |   0.4624630    | 6.437493e-01   |\n",
       "| roofcdMETAL    | 1              |    0.11995311  | 0.21947189     |   0.5465534    | 5.846856e-01   |\n",
       "\n"
      ],
      "text/plain": [
       "  name           fold estimate      StdError   zValue      valuePr     \n",
       "1 (Intercept)    1    -119.47221372 9.53057215 -12.5356812 4.762518e-36\n",
       "2 landlordind    1      -0.24306667 0.07314884  -3.3229053 8.908516e-04\n",
       "3 log_sqft       1       0.57707363 0.03255060  17.7285091 2.526453e-70\n",
       "4 log_yearbuilt  1      13.96678579 1.25962155  11.0880810 1.433295e-28\n",
       "5 roofcdMEMBRANE 1       0.04747229 0.10265099   0.4624630 6.437493e-01\n",
       "6 roofcdMETAL    1       0.11995311 0.21947189   0.5465534 5.846856e-01"
      ]
     },
     "metadata": {},
     "output_type": "display_data"
    }
   ],
   "source": [
    "head(models_coef)"
   ]
  },
  {
   "cell_type": "code",
   "execution_count": 17,
   "metadata": {
    "collapsed": true
   },
   "outputs": [],
   "source": [
    "write.table(models_coef,paste(ModelsDir,ModelName,\"_coef.csv\", sep = \"\"), sep=\",\",  col.names=TRUE, row.names = FALSE)"
   ]
  },
  {
   "cell_type": "markdown",
   "metadata": {},
   "source": [
    "Normalized Weighted gini Training"
   ]
  },
  {
   "cell_type": "code",
   "execution_count": 18,
   "metadata": {},
   "outputs": [
    {
     "data": {
      "text/html": [
       "0.380171095095439"
      ],
      "text/latex": [
       "0.380171095095439"
      ],
      "text/markdown": [
       "0.380171095095439"
      ],
      "text/plain": [
       "[1] 0.3801711"
      ]
     },
     "metadata": {},
     "output_type": "display_data"
    }
   ],
   "source": [
    "NormalizedWeightedGini(training_dataset$cova_ic_nc_water,training_dataset$poissonglm_ofst_ecy_cv,training_dataset$ecy)"
   ]
  },
  {
   "cell_type": "markdown",
   "metadata": {},
   "source": [
    "Normalized Weighted gini Testing"
   ]
  },
  {
   "cell_type": "code",
   "execution_count": 19,
   "metadata": {},
   "outputs": [
    {
     "data": {
      "text/html": [
       "0.403640550133113"
      ],
      "text/latex": [
       "0.403640550133113"
      ],
      "text/markdown": [
       "0.403640550133113"
      ],
      "text/plain": [
       "[1] 0.4036406"
      ]
     },
     "metadata": {},
     "output_type": "display_data"
    }
   ],
   "source": [
    "NormalizedWeightedGini(testing_dataset$cova_ic_nc_water,testing_dataset$poissonglm_ofst_ecy_cv,testing_dataset$ecy)"
   ]
  },
  {
   "cell_type": "code",
   "execution_count": 20,
   "metadata": {
    "collapsed": true
   },
   "outputs": [],
   "source": [
    "write.table(training_dataset,paste(DataDir,\"property_wcf_training.csv\", sep = \"\"), sep=\",\",  col.names=TRUE, row.names = FALSE)\n",
    "write.table(testing_dataset,paste(DataDir,\"property_wcf_testing.csv\", sep = \"\"), sep=\",\",  col.names=TRUE, row.names = FALSE)\n",
    "write.table(prediction_dataset,paste(DataDir,\"property_water_claims_non_cat_fs.csv\", sep = \"\"), sep=\",\",  col.names=TRUE, row.names = FALSE)"
   ]
  }
 ],
 "metadata": {
  "kernelspec": {
   "display_name": "R",
   "language": "R",
   "name": "ir"
  },
  "language_info": {
   "codemirror_mode": "r",
   "file_extension": ".r",
   "mimetype": "text/x-r-source",
   "name": "R",
   "pygments_lexer": "r",
   "version": "3.6.0"
  }
 },
 "nbformat": 4,
 "nbformat_minor": 2
}
