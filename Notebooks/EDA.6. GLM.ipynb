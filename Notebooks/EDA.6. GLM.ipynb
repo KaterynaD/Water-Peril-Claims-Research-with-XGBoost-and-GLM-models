{
 "cells": [
  {
   "cell_type": "code",
   "execution_count": 10,
   "metadata": {
    "collapsed": true
   },
   "outputs": [],
   "source": [
    "ModelsDir <- '/home/kate/Research/Property/Models/'\n",
    "DataDir <- '/home/kate/Research/Property/Data/'\n",
    "UseSavedIfExists <- FALSE"
   ]
  },
  {
   "cell_type": "code",
   "execution_count": 11,
   "metadata": {
    "collapsed": true
   },
   "outputs": [],
   "source": [
    "source('/home/kate/code/Utils/MyFunctions.R')"
   ]
  },
  {
   "cell_type": "code",
   "execution_count": 12,
   "metadata": {
    "collapsed": true
   },
   "outputs": [],
   "source": [
    "training_data <- read.csv(paste(DataDir,\"property_wcf_training\", '.csv', sep = \"\"), header=TRUE)"
   ]
  },
  {
   "cell_type": "code",
   "execution_count": 13,
   "metadata": {
    "collapsed": true
   },
   "outputs": [],
   "source": [
    "testing_data <- read.csv(paste(DataDir,\"property_wcf_testing\", '.csv', sep = \"\"), header=TRUE)"
   ]
  },
  {
   "cell_type": "markdown",
   "metadata": {
    "collapsed": true
   },
   "source": [
    "formulas <- list()\n",
    "formulas[[1]] <- cova_ic_nc_water ~ 1\n",
    "formulas[[2]] <- cova_ic_nc_water ~ ecy\n",
    "formulas[[3]] <- cova_ic_nc_water ~ ecy + usagetype + log_cova_limit\n",
    "formulas[[4]] <- cova_ic_nc_water ~ ecy + usagetype + log_cova_limit + cova_deductible\n",
    "formulas[[5]] <- cova_ic_nc_water ~ ecy + usagetype + log_cova_limit + cova_deductible + log_yearbuilt + log_sqft\n",
    "formulas[[6]] <- cova_ic_nc_water ~ ecy + usagetype + log_cova_limit + cova_deductible + log_yearbuilt + log_sqft + roofcd\n",
    "formulas[[7]] <- cova_ic_nc_water ~ ecy + usagetype + log_cova_limit + cova_deductible + log_yearbuilt + log_sqft + roofcd + log_water_risk_3_blk\n",
    "formulas[[8]] <- cova_ic_nc_water ~ ecy + usagetype + log_cova_limit + cova_deductible + log_yearbuilt + log_sqft + log_water_risk_3_blk\n",
    "formulas[[9]] <- cova_ic_nc_water ~ ecy + usagetype + log_cova_limit + cova_deductible + log_yearbuilt +  log_water_risk_3_blk\n",
    "formulas[[10]] <- cova_ic_nc_water ~ ecy + usagetype + log_cova_limit + cova_deductible +  log_water_risk_3_blk\n",
    "formulas[[11]] <- cova_ic_nc_water ~ log_ecy + usagetype + log_cova_limit + cova_deductible +  log_water_risk_3_blk\n",
    "formulas[[12]] <- cova_ic_nc_water ~ log_cova_limit + cova_deductible +  log_water_risk_3_blk\n",
    "formulas[[13]] <- cova_ic_nc_water ~ cova_limit + cova_deductible +  log_water_risk_3_blk\n",
    "formulas[[14]] <- cova_ic_nc_water ~ cova_limit + cova_deductible +  water_risk_3_blk\n",
    "formulas[[15]] <- cova_ic_nc_water ~ ecy + usagetype + log_cova_limit+  log_water_risk_3_blk\n",
    "formulas[[16]] <- cova_ic_nc_water ~ ecy + usagetype + cova_limit + cova_deductible +  log_water_risk_3_blk\n",
    "formulas[[17]] <- cova_ic_nc_water ~ ecy + usagetype +  cova_deductible + log_yearbuilt + log_sqft + log_water_risk_3_blk\n",
    "formulas[[18]] <- cova_ic_nc_water ~ ecy + usagetype +  log_cova_limit + log_yearbuilt + log_sqft + log_water_risk_3_blk\n",
    "formulas[[19]] <- cova_ic_nc_water ~ ecy + usagetype + log_cova_limit + cova_deductible + log_yearbuilt +  log_water_risk_3_blk\n",
    "\n",
    "formulas[[20]] <- cova_ic_nc_water ~ ecy + usagetype + log_cova_limit + waterded\n",
    "formulas[[21]] <- cova_ic_nc_water ~ ecy + usagetype + log_cova_limit + waterded + log_yearbuilt + log_sqft\n",
    "formulas[[22]] <- cova_ic_nc_water ~ ecy + usagetype + log_cova_limit + waterded + log_yearbuilt + log_sqft + roofcd\n",
    "formulas[[23]] <- cova_ic_nc_water ~ ecy + usagetype + log_cova_limit + waterded + log_yearbuilt + log_sqft + roofcd + log_water_risk_3_blk\n",
    "formulas[[24]] <- cova_ic_nc_water ~ ecy + usagetype + log_cova_limit + waterded + log_yearbuilt + log_sqft + log_water_risk_3_blk\n",
    "formulas[[25]] <- cova_ic_nc_water ~ ecy + usagetype + log_cova_limit + waterded + log_yearbuilt +  log_water_risk_3_blk\n",
    "formulas[[26]] <- cova_ic_nc_water ~ ecy + usagetype + log_cova_limit + waterded +  log_water_risk_3_blk\n",
    "formulas[[27]] <- cova_ic_nc_water ~ log_ecy + usagetype + log_cova_limit + waterded +  log_water_risk_3_blk\n",
    "formulas[[28]] <- cova_ic_nc_water ~ log_cova_limit + waterded +  log_water_risk_3_blk\n",
    "formulas[[29]] <- cova_ic_nc_water ~ cova_limit + waterded +  log_water_risk_3_blk\n",
    "formulas[[30]] <- cova_ic_nc_water ~ cova_limit + waterded +  water_risk_3_blk\n",
    "formulas[[31]] <- cova_ic_nc_water ~ ecy + usagetype + log_cova_limit+  log_water_risk_3_blk\n",
    "formulas[[32]] <- cova_ic_nc_water ~ ecy + usagetype + cova_limit + waterded +  log_water_risk_3_blk\n",
    "formulas[[33]] <- cova_ic_nc_water ~ ecy + usagetype +  waterded + log_yearbuilt + log_sqft + log_water_risk_3_blk\n",
    "formulas[[34]] <- cova_ic_nc_water ~ ecy + usagetype +  log_cova_limit + log_yearbuilt + log_sqft + log_water_risk_3_blk\n",
    "formulas[[35]] <- cova_ic_nc_water ~ ecy + usagetype + log_cova_limit + waterded + log_yearbuilt +  log_water_risk_3_blk\n",
    "\n",
    "\n",
    "formulas[[36]] <- cova_ic_nc_water ~ ecy + usagetype + log_cova_limit + cova_deductible + waterded\n",
    "formulas[[37]] <- cova_ic_nc_water ~ ecy + usagetype + log_cova_limit + cova_deductible + log_yearbuilt + log_sqft + waterded\n",
    "formulas[[38]] <- cova_ic_nc_water ~ ecy + usagetype + log_cova_limit + cova_deductible + log_yearbuilt + log_sqft + roofcd + waterded\n",
    "formulas[[39]] <- cova_ic_nc_water ~ ecy + usagetype + log_cova_limit + cova_deductible + log_yearbuilt + log_sqft + roofcd + log_water_risk_3_blk + waterded\n",
    "formulas[[40]] <- cova_ic_nc_water ~ ecy + usagetype + log_cova_limit + cova_deductible + log_yearbuilt + log_sqft + log_water_risk_3_blk + waterded\n",
    "formulas[[41]] <- cova_ic_nc_water ~ ecy + usagetype + log_cova_limit + cova_deductible + log_yearbuilt +  log_water_risk_3_blk + waterded\n",
    "formulas[[42]] <- cova_ic_nc_water ~ ecy + usagetype + log_cova_limit + cova_deductible +  log_water_risk_3_blk + waterded\n",
    "formulas[[43]] <- cova_ic_nc_water ~ log_ecy + usagetype + log_cova_limit + cova_deductible +  log_water_risk_3_blk + waterded\n",
    "formulas[[44]] <- cova_ic_nc_water ~ log_cova_limit + cova_deductible +  log_water_risk_3_blk + waterded\n",
    "formulas[[45]] <- cova_ic_nc_water ~ cova_limit + cova_deductible +  log_water_risk_3_blk + waterded\n",
    "formulas[[46]] <- cova_ic_nc_water ~ cova_limit + cova_deductible +  water_risk_3_blk + waterded\n",
    "formulas[[47]] <- cova_ic_nc_water ~ ecy + usagetype + log_cova_limit+  log_water_risk_3_blk + waterded\n",
    "formulas[[48]] <- cova_ic_nc_water ~ ecy + usagetype + cova_limit + cova_deductible +  log_water_risk_3_blk + waterded\n",
    "formulas[[49]] <- cova_ic_nc_water ~ ecy + usagetype +  cova_deductible + log_yearbuilt + log_sqft + log_water_risk_3_blk + waterded\n",
    "formulas[[50]] <- cova_ic_nc_water ~ ecy + usagetype +  log_cova_limit + log_yearbuilt + log_sqft + log_water_risk_3_blk + waterded\n",
    "formulas[[51]] <- cova_ic_nc_water ~ ecy + usagetype + log_cova_limit + cova_deductible + log_yearbuilt +  log_water_risk_3_blk + waterded\n",
    "\n",
    "\n",
    "formulas[[52]] <- cova_ic_nc_water ~ ecy + usagetype + log_cova_limit + cova_deductible + waterded + waterdetectiondevice\n",
    "formulas[[53]] <- cova_ic_nc_water ~ ecy + usagetype + log_cova_limit + cova_deductible + log_yearbuilt + log_sqft + waterded + waterdetectiondevice\n",
    "formulas[[54]] <- cova_ic_nc_water ~ ecy + usagetype + log_cova_limit + cova_deductible + log_yearbuilt + log_sqft + roofcd + waterded + waterdetectiondevice\n",
    "formulas[[55]] <- cova_ic_nc_water ~ ecy + usagetype + log_cova_limit + cova_deductible + log_yearbuilt + log_sqft + roofcd + log_water_risk_3_blk + waterded + waterdetectiondevice\n",
    "formulas[[56]] <- cova_ic_nc_water ~ ecy + usagetype + log_cova_limit + cova_deductible + log_yearbuilt + log_sqft + log_water_risk_3_blk + waterded + waterdetectiondevice\n",
    "formulas[[57]] <- cova_ic_nc_water ~ ecy + usagetype + log_cova_limit + cova_deductible + log_yearbuilt +  log_water_risk_3_blk + waterded + waterdetectiondevice\n",
    "formulas[[58]] <- cova_ic_nc_water ~ ecy + usagetype + log_cova_limit + cova_deductible +  log_water_risk_3_blk + waterded + waterdetectiondevice\n",
    "formulas[[59]] <- cova_ic_nc_water ~ log_ecy + usagetype + log_cova_limit + cova_deductible +  log_water_risk_3_blk + waterded + waterdetectiondevice\n",
    "formulas[[60]] <- cova_ic_nc_water ~ log_cova_limit + cova_deductible +  log_water_risk_3_blk + waterded + waterdetectiondevice\n",
    "formulas[[61]] <- cova_ic_nc_water ~ cova_limit + cova_deductible +  log_water_risk_3_blk + waterded + waterdetectiondevice\n",
    "formulas[[62]] <- cova_ic_nc_water ~ cova_limit + cova_deductible +  water_risk_3_blk + waterded + waterdetectiondevice\n",
    "formulas[[63]] <- cova_ic_nc_water ~ ecy + usagetype + log_cova_limit+  log_water_risk_3_blk + waterded + waterdetectiondevice\n",
    "formulas[[64]] <- cova_ic_nc_water ~ ecy + usagetype + cova_limit + cova_deductible +  log_water_risk_3_blk + waterded + waterdetectiondevice\n",
    "formulas[[65]] <- cova_ic_nc_water ~ ecy + usagetype +  cova_deductible + log_yearbuilt + log_sqft + log_water_risk_3_blk + waterded + waterdetectiondevice\n",
    "formulas[[66]] <- cova_ic_nc_water ~ ecy + usagetype +  log_cova_limit + log_yearbuilt + log_sqft + log_water_risk_3_blk + waterded + waterdetectiondevice\n",
    "formulas[[67]] <- cova_ic_nc_water ~ ecy + usagetype + log_cova_limit + cova_deductible + log_yearbuilt +  log_water_risk_3_blk + waterded + waterdetectiondevice\n",
    "\n",
    "\n",
    "formulas[[52]] <- cova_ic_nc_water ~ ecy + usagetype + log_cova_limit + cova_deductible  + waterdetectiondevice\n",
    "formulas[[53]] <- cova_ic_nc_water ~ ecy + usagetype + log_cova_limit + cova_deductible + log_yearbuilt + log_sqft  + waterdetectiondevice\n",
    "formulas[[54]] <- cova_ic_nc_water ~ ecy + usagetype + log_cova_limit + cova_deductible + log_yearbuilt + log_sqft + roofcd  + waterdetectiondevice\n",
    "formulas[[55]] <- cova_ic_nc_water ~ ecy + usagetype + log_cova_limit + cova_deductible + log_yearbuilt + log_sqft + roofcd + log_water_risk_3_blk  + waterdetectiondevice\n",
    "formulas[[56]] <- cova_ic_nc_water ~ ecy + usagetype + log_cova_limit + cova_deductible + log_yearbuilt + log_sqft + log_water_risk_3_blk  + waterdetectiondevice\n",
    "formulas[[57]] <- cova_ic_nc_water ~ ecy + usagetype + log_cova_limit + cova_deductible + log_yearbuilt +  log_water_risk_3_blk  + waterdetectiondevice\n",
    "formulas[[58]] <- cova_ic_nc_water ~ ecy + usagetype + log_cova_limit + cova_deductible +  log_water_risk_3_blk  + waterdetectiondevice\n",
    "formulas[[59]] <- cova_ic_nc_water ~ log_ecy + usagetype + log_cova_limit + cova_deductible +  log_water_risk_3_blk  + waterdetectiondevice\n",
    "formulas[[60]] <- cova_ic_nc_water ~ log_cova_limit + cova_deductible +  log_water_risk_3_blk  + waterdetectiondevice\n",
    "formulas[[61]] <- cova_ic_nc_water ~ cova_limit + cova_deductible +  log_water_risk_3_blk  + waterdetectiondevice\n",
    "formulas[[62]] <- cova_ic_nc_water ~ cova_limit + cova_deductible +  water_risk_3_blk  + waterdetectiondevice\n",
    "formulas[[63]] <- cova_ic_nc_water ~ ecy + usagetype + log_cova_limit+  log_water_risk_3_blk  + waterdetectiondevice\n",
    "formulas[[64]] <- cova_ic_nc_water ~ ecy + usagetype + cova_limit + cova_deductible +  log_water_risk_3_blk  + waterdetectiondevice\n",
    "formulas[[65]] <- cova_ic_nc_water ~ ecy + usagetype +  cova_deductible + log_yearbuilt + log_sqft + log_water_risk_3_blk  + waterdetectiondevice\n",
    "formulas[[66]] <- cova_ic_nc_water ~ ecy + usagetype +  log_cova_limit + log_yearbuilt + log_sqft + log_water_risk_3_blk  + waterdetectiondevice\n",
    "formulas[[67]] <- cova_ic_nc_water ~ ecy + usagetype + log_cova_limit + cova_deductible + log_yearbuilt +  log_water_risk_3_blk  + waterdetectiondevice\n",
    "\n",
    "\n",
    "formulas[[68]] <- cova_ic_nc_water ~ ecy + usagetype + log_cova_limit  + waterded + waterdetectiondevice\n",
    "formulas[[69]] <- cova_ic_nc_water ~ ecy + usagetype + log_cova_limit  + log_yearbuilt + log_sqft + waterded + waterdetectiondevice\n",
    "formulas[[70]] <- cova_ic_nc_water ~ ecy + usagetype + log_cova_limit  + log_yearbuilt + log_sqft + roofcd + waterded + waterdetectiondevice\n",
    "formulas[[71]] <- cova_ic_nc_water ~ ecy + usagetype + log_cova_limit  + log_yearbuilt + log_sqft + roofcd + log_water_risk_3_blk + waterded + waterdetectiondevice\n",
    "formulas[[72]] <- cova_ic_nc_water ~ ecy + usagetype + log_cova_limit  + log_yearbuilt + log_sqft + log_water_risk_3_blk + waterded + waterdetectiondevice\n",
    "formulas[[73]] <- cova_ic_nc_water ~ ecy + usagetype + log_cova_limit  + log_yearbuilt +  log_water_risk_3_blk + waterded + waterdetectiondevice\n",
    "formulas[[74]] <- cova_ic_nc_water ~ ecy + usagetype + log_cova_limit  +  log_water_risk_3_blk + waterded + waterdetectiondevice\n",
    "formulas[[75]] <- cova_ic_nc_water ~ log_ecy + usagetype + log_cova_limit  +  log_water_risk_3_blk + waterded + waterdetectiondevice\n",
    "formulas[[76]] <- cova_ic_nc_water ~ log_cova_limit  +  log_water_risk_3_blk + waterded + waterdetectiondevice\n",
    "formulas[[77]] <- cova_ic_nc_water ~ cova_limit  +  log_water_risk_3_blk + waterded + waterdetectiondevice\n",
    "formulas[[78]] <- cova_ic_nc_water ~ cova_limit  +  water_risk_3_blk + waterded + waterdetectiondevice\n",
    "formulas[[79]] <- cova_ic_nc_water ~ ecy + usagetype + log_cova_limit+  log_water_risk_3_blk + waterded + waterdetectiondevice\n",
    "formulas[[80]] <- cova_ic_nc_water ~ ecy + usagetype + cova_limit  +  log_water_risk_3_blk + waterded + waterdetectiondevice\n",
    "formulas[[81]] <- cova_ic_nc_water ~ ecy + usagetype +  cova_deductible + log_yearbuilt + log_sqft + log_water_risk_3_blk + waterded + waterdetectiondevice\n",
    "formulas[[82]] <- cova_ic_nc_water ~ ecy + usagetype +  log_cova_limit + log_yearbuilt + log_sqft + log_water_risk_3_blk + waterded + waterdetectiondevice\n",
    "formulas[[83]] <- cova_ic_nc_water ~ ecy + usagetype + log_cova_limit  + log_yearbuilt +  log_water_risk_3_blk + waterded + waterdetectiondevice\n",
    "\n",
    "formulas[[84]] <- cova_ic_nc_water ~ ecy + usagetype + log_cova_limit + cova_deductible  + waterdetectiondevice + sprinklersystem\n",
    "formulas[[85]] <- cova_ic_nc_water ~ ecy + usagetype + log_cova_limit + cova_deductible + log_yearbuilt + log_sqft  + waterdetectiondevice + sprinklersystem\n",
    "formulas[[86]] <- cova_ic_nc_water ~ ecy + usagetype + log_cova_limit + cova_deductible + log_yearbuilt + log_sqft + roofcd  + waterdetectiondevice + sprinklersystem\n",
    "formulas[[87]] <- cova_ic_nc_water ~ ecy + usagetype + log_cova_limit + cova_deductible + log_yearbuilt + log_sqft + roofcd + log_water_risk_3_blk  + waterdetectiondevice + sprinklersystem\n",
    "formulas[[88]] <- cova_ic_nc_water ~ ecy + usagetype + log_cova_limit + cova_deductible + log_yearbuilt + log_sqft + log_water_risk_3_blk  + waterdetectiondevice + sprinklersystem\n",
    "formulas[[89]] <- cova_ic_nc_water ~ ecy + usagetype + log_cova_limit + cova_deductible + log_yearbuilt +  log_water_risk_3_blk  + waterdetectiondevice + sprinklersystem\n",
    "formulas[[90]] <- cova_ic_nc_water ~ ecy + usagetype + log_cova_limit + cova_deductible +  log_water_risk_3_blk  + waterdetectiondevice + sprinklersystem\n",
    "formulas[[91]] <- cova_ic_nc_water ~ log_ecy + usagetype + log_cova_limit + cova_deductible +  log_water_risk_3_blk  + waterdetectiondevice + sprinklersystem\n",
    "formulas[[92]] <- cova_ic_nc_water ~ log_cova_limit + cova_deductible +  log_water_risk_3_blk  + waterdetectiondevice + sprinklersystem\n",
    "formulas[[93]] <- cova_ic_nc_water ~ cova_limit + cova_deductible +  log_water_risk_3_blk  + waterdetectiondevice + sprinklersystem\n",
    "formulas[[94]] <- cova_ic_nc_water ~ cova_limit + cova_deductible +  water_risk_3_blk  + waterdetectiondevice + sprinklersystem\n",
    "formulas[[95]] <- cova_ic_nc_water ~ ecy + usagetype + log_cova_limit+  log_water_risk_3_blk  + waterdetectiondevice + sprinklersystem\n",
    "formulas[[96]] <- cova_ic_nc_water ~ ecy + usagetype + cova_limit + cova_deductible +  log_water_risk_3_blk  + waterdetectiondevice + sprinklersystem\n",
    "formulas[[97]] <- cova_ic_nc_water ~ ecy + usagetype +  cova_deductible + log_yearbuilt + log_sqft + log_water_risk_3_blk  + waterdetectiondevice + sprinklersystem\n",
    "formulas[[98]] <- cova_ic_nc_water ~ ecy + usagetype +  log_cova_limit + log_yearbuilt + log_sqft + log_water_risk_3_blk  + waterdetectiondevice + sprinklersystem\n",
    "formulas[[99]] <- cova_ic_nc_water ~ ecy + usagetype + log_cova_limit + cova_deductible + log_yearbuilt +  log_water_risk_3_blk  + waterdetectiondevice + sprinklersystem\n",
    "\n",
    "\n",
    "formulas[[100]] <- cova_ic_nc_water ~ ecy + usagetype + log_cova_limit  + waterded + waterdetectiondevice + sprinklersystem\n",
    "formulas[[101]] <- cova_ic_nc_water ~ ecy + usagetype + log_cova_limit  + log_yearbuilt + log_sqft + waterded + waterdetectiondevice + sprinklersystem\n",
    "formulas[[102]] <- cova_ic_nc_water ~ ecy + usagetype + log_cova_limit  + log_yearbuilt + log_sqft + roofcd + waterded + waterdetectiondevice + sprinklersystem\n",
    "formulas[[103]] <- cova_ic_nc_water ~ ecy + usagetype + log_cova_limit  + log_yearbuilt + log_sqft + roofcd + log_water_risk_3_blk + waterded + waterdetectiondevice + sprinklersystem\n",
    "formulas[[104]] <- cova_ic_nc_water ~ ecy + usagetype + log_cova_limit  + log_yearbuilt + log_sqft + log_water_risk_3_blk + waterded + waterdetectiondevice + sprinklersystem\n",
    "formulas[[105]] <- cova_ic_nc_water ~ ecy + usagetype + log_cova_limit  + log_yearbuilt +  log_water_risk_3_blk + waterded + waterdetectiondevice + sprinklersystem\n",
    "formulas[[106]] <- cova_ic_nc_water ~ ecy + usagetype + log_cova_limit  +  log_water_risk_3_blk + waterded + waterdetectiondevice + sprinklersystem\n",
    "formulas[[107]] <- cova_ic_nc_water ~ log_ecy + usagetype + log_cova_limit  +  log_water_risk_3_blk + waterded + waterdetectiondevice + sprinklersystem\n",
    "formulas[[108]] <- cova_ic_nc_water ~ log_cova_limit  +  log_water_risk_3_blk + waterded + waterdetectiondevice + sprinklersystem\n",
    "formulas[[109]] <- cova_ic_nc_water ~ cova_limit  +  log_water_risk_3_blk + waterded + waterdetectiondevice + sprinklersystem\n",
    "formulas[[110]] <- cova_ic_nc_water ~ cova_limit  +  water_risk_3_blk + waterded + waterdetectiondevice + sprinklersystem\n",
    "formulas[[111]] <- cova_ic_nc_water ~ ecy + usagetype + log_cova_limit+  log_water_risk_3_blk + waterded + waterdetectiondevice + sprinklersystem\n",
    "formulas[[112]] <- cova_ic_nc_water ~ ecy + usagetype + cova_limit  +  log_water_risk_3_blk + waterded + waterdetectiondevice + sprinklersystem\n",
    "formulas[[113]] <- cova_ic_nc_water ~ ecy + usagetype +  cova_deductible + log_yearbuilt + log_sqft + log_water_risk_3_blk + waterded + waterdetectiondevice + sprinklersystem\n",
    "formulas[[114]] <- cova_ic_nc_water ~ ecy + usagetype +  log_cova_limit + log_yearbuilt + log_sqft + log_water_risk_3_blk + waterded + waterdetectiondevice + sprinklersystem\n",
    "formulas[[115]] <- cova_ic_nc_water ~ ecy + usagetype + log_cova_limit  + log_yearbuilt +  log_water_risk_3_blk + waterded + waterdetectiondevice + sprinklersystem\n",
    "\n",
    "formulas[[116]] <- cova_ic_nc_water ~ ecy + usagetype + log_cova_limit + cova_deductible  + waterdetectiondevice + sprinklersystem + landlordind\n",
    "formulas[[117]] <- cova_ic_nc_water ~ ecy + usagetype + log_cova_limit + cova_deductible + log_yearbuilt + log_sqft  + waterdetectiondevice + sprinklersystem + landlordind\n",
    "formulas[[118]] <- cova_ic_nc_water ~ ecy + usagetype + log_cova_limit + cova_deductible + log_yearbuilt + log_sqft + roofcd  + waterdetectiondevice + sprinklersystem + landlordind\n",
    "formulas[[119]] <- cova_ic_nc_water ~ ecy + usagetype + log_cova_limit + cova_deductible + log_yearbuilt + log_sqft + roofcd + log_water_risk_3_blk  + waterdetectiondevice + sprinklersystem + landlordind\n",
    "formulas[[120]] <- cova_ic_nc_water ~ ecy + usagetype + log_cova_limit + cova_deductible + log_yearbuilt + log_sqft + log_water_risk_3_blk  + waterdetectiondevice + sprinklersystem + landlordind\n",
    "formulas[[121]] <- cova_ic_nc_water ~ ecy + usagetype + log_cova_limit + cova_deductible + log_yearbuilt +  log_water_risk_3_blk  + waterdetectiondevice + sprinklersystem + landlordind\n",
    "formulas[[122]] <- cova_ic_nc_water ~ ecy + usagetype + log_cova_limit + cova_deductible +  log_water_risk_3_blk  + waterdetectiondevice + sprinklersystem + landlordind\n",
    "formulas[[123]] <- cova_ic_nc_water ~ log_ecy + usagetype + log_cova_limit + cova_deductible +  log_water_risk_3_blk  + waterdetectiondevice + sprinklersystem + landlordind\n",
    "formulas[[124]] <- cova_ic_nc_water ~ log_cova_limit + cova_deductible +  log_water_risk_3_blk  + waterdetectiondevice + sprinklersystem + landlordind\n",
    "formulas[[125]] <- cova_ic_nc_water ~ cova_limit + cova_deductible +  log_water_risk_3_blk  + waterdetectiondevice + sprinklersystem + landlordind\n",
    "formulas[[126]] <- cova_ic_nc_water ~ cova_limit + cova_deductible +  water_risk_3_blk  + waterdetectiondevice + sprinklersystem + landlordind\n",
    "formulas[[127]] <- cova_ic_nc_water ~ ecy + usagetype + log_cova_limit+  log_water_risk_3_blk  + waterdetectiondevice + sprinklersystem + landlordind\n",
    "formulas[[128]] <- cova_ic_nc_water ~ ecy + usagetype + cova_limit + cova_deductible +  log_water_risk_3_blk  + waterdetectiondevice + sprinklersystem + landlordind\n",
    "formulas[[129]] <- cova_ic_nc_water ~ ecy + usagetype +  cova_deductible + log_yearbuilt + log_sqft + log_water_risk_3_blk  + waterdetectiondevice + sprinklersystem + landlordind\n",
    "formulas[[130]] <- cova_ic_nc_water ~ ecy + usagetype +  log_cova_limit + log_yearbuilt + log_sqft + log_water_risk_3_blk  + waterdetectiondevice + sprinklersystem + landlordind\n",
    "formulas[[131]] <- cova_ic_nc_water ~ ecy + usagetype + log_cova_limit + cova_deductible + log_yearbuilt +  log_water_risk_3_blk  + waterdetectiondevice + sprinklersystem + landlordind\n",
    "\n",
    "\n",
    "formulas[[132]] <- cova_ic_nc_water ~ ecy + usagetype + log_cova_limit  + waterded + waterdetectiondevice + sprinklersystem + landlordind\n",
    "formulas[[133]] <- cova_ic_nc_water ~ ecy + usagetype + log_cova_limit  + log_yearbuilt + log_sqft + waterded + waterdetectiondevice + sprinklersystem + landlordind\n",
    "formulas[[134]] <- cova_ic_nc_water ~ ecy + usagetype + log_cova_limit  + log_yearbuilt + log_sqft + roofcd + waterded + waterdetectiondevice + sprinklersystem + landlordind\n",
    "formulas[[135]] <- cova_ic_nc_water ~ ecy + usagetype + log_cova_limit  + log_yearbuilt + log_sqft + roofcd + log_water_risk_3_blk + waterded + waterdetectiondevice + sprinklersystem + landlordind\n",
    "formulas[[136]] <- cova_ic_nc_water ~ ecy + usagetype + log_cova_limit  + log_yearbuilt + log_sqft + log_water_risk_3_blk + waterded + waterdetectiondevice + sprinklersystem + landlordind\n",
    "formulas[[137]] <- cova_ic_nc_water ~ ecy + usagetype + log_cova_limit  + log_yearbuilt +  log_water_risk_3_blk + waterded + waterdetectiondevice + sprinklersystem + landlordind\n",
    "formulas[[138]] <- cova_ic_nc_water ~ ecy + usagetype + log_cova_limit  +  log_water_risk_3_blk + waterded + waterdetectiondevice + sprinklersystem + landlordind\n",
    "formulas[[139]] <- cova_ic_nc_water ~ log_ecy + usagetype + log_cova_limit  +  log_water_risk_3_blk + waterded + waterdetectiondevice + sprinklersystem + landlordind\n",
    "formulas[[140]] <- cova_ic_nc_water ~ log_cova_limit  +  log_water_risk_3_blk + waterded + waterdetectiondevice + sprinklersystem + landlordind\n",
    "formulas[[141]] <- cova_ic_nc_water ~ cova_limit  +  log_water_risk_3_blk + waterded + waterdetectiondevice + sprinklersystem + landlordind\n",
    "formulas[[142]] <- cova_ic_nc_water ~ cova_limit  +  water_risk_3_blk + waterded + waterdetectiondevice + sprinklersystem + landlordind\n",
    "formulas[[143]] <- cova_ic_nc_water ~ ecy + usagetype + log_cova_limit+  log_water_risk_3_blk + waterded + waterdetectiondevice + sprinklersystem + landlordind\n",
    "formulas[[144]] <- cova_ic_nc_water ~ ecy + usagetype + cova_limit  +  log_water_risk_3_blk + waterded + waterdetectiondevice + sprinklersystem + landlordind\n",
    "formulas[[145]] <- cova_ic_nc_water ~ ecy + usagetype +  cova_deductible + log_yearbuilt + log_sqft + log_water_risk_3_blk + waterded + waterdetectiondevice + sprinklersystem + landlordind\n",
    "formulas[[146]] <- cova_ic_nc_water ~ ecy + usagetype +  log_cova_limit + log_yearbuilt + log_sqft + log_water_risk_3_blk + waterded + waterdetectiondevice + sprinklersystem + landlordind\n",
    "formulas[[147]] <- cova_ic_nc_water ~ ecy + usagetype + log_cova_limit  + log_yearbuilt +  log_water_risk_3_blk + waterded + waterdetectiondevice + sprinklersystem + landlordind\n",
    "formulas[[148]] <- cova_ic_nc_water ~  log_ecy + log_sqft + log_yearbuilt + roofcd + usagetype +  cova_deductible + log_water_risk_3_blk"
   ]
  },
  {
   "cell_type": "code",
   "execution_count": 14,
   "metadata": {
    "collapsed": true
   },
   "outputs": [],
   "source": [
    "formulas <- list()\n",
    "formulas[[1]] <- cova_ic_nc_water ~  log_ecy + log_sqft + log_yearbuilt + roofcd + usagetype +  cova_deductible + log_water_risk_3_blk\n",
    "formulas[[2]] <- cova_ic_nc_water ~  landlordind + log_ecy + log_sqft + log_yearbuilt + roofcd + usagetype +  cova_deductible + log_water_risk_3_blk\n",
    "formulas[[3]] <- cova_ic_nc_water ~  landlordind + poolind + log_ecy + log_sqft + log_yearbuilt + roofcd + usagetype +  cova_deductible + log_water_risk_3_blk\n",
    "formulas[[4]] <- cova_ic_nc_water ~  landlordind + poolind + multipolicyind + log_ecy + log_sqft + log_yearbuilt + roofcd + usagetype +  cova_deductible + log_water_risk_3_blk\n",
    "formulas[[5]] <- cova_ic_nc_water ~  poolind + multipolicyind + log_ecy + log_sqft + log_yearbuilt + roofcd + usagetype +  cova_deductible + log_water_risk_3_blk\n",
    "formulas[[6]] <- cova_ic_nc_water ~  landlordind + multipolicyind + log_ecy + log_sqft + log_yearbuilt + roofcd + usagetype +  cova_deductible + log_water_risk_3_blk\n"
   ]
  },
  {
   "cell_type": "code",
   "execution_count": 15,
   "metadata": {
    "collapsed": true
   },
   "outputs": [],
   "source": [
    "formulas_s <- list()\n",
    "i<-1\n",
    "for (formula in formulas) {\n",
    "    formulas_s[[i]] <- Reduce(paste, deparse(formula))\n",
    "    i <- i+1\n",
    "    }"
   ]
  },
  {
   "cell_type": "code",
   "execution_count": 16,
   "metadata": {},
   "outputs": [
    {
     "name": "stdout",
     "output_type": "stream",
     "text": [
      "cova_ic_nc_water ~ log_ecy + log_sqft + log_yearbuilt + roofcd + \n",
      "    usagetype + cova_deductible + log_water_risk_3_blk\n",
      "cova_ic_nc_water ~ landlordind + log_ecy + log_sqft + log_yearbuilt + \n",
      "    roofcd + usagetype + cova_deductible + log_water_risk_3_blk\n",
      "cova_ic_nc_water ~ landlordind + poolind + log_ecy + log_sqft + \n",
      "    log_yearbuilt + roofcd + usagetype + cova_deductible + log_water_risk_3_blk\n",
      "cova_ic_nc_water ~ landlordind + poolind + multipolicyind + log_ecy + \n",
      "    log_sqft + log_yearbuilt + roofcd + usagetype + cova_deductible + \n",
      "    log_water_risk_3_blk\n",
      "cova_ic_nc_water ~ poolind + multipolicyind + log_ecy + log_sqft + \n",
      "    log_yearbuilt + roofcd + usagetype + cova_deductible + log_water_risk_3_blk\n",
      "cova_ic_nc_water ~ landlordind + multipolicyind + log_ecy + log_sqft + \n",
      "    log_yearbuilt + roofcd + usagetype + cova_deductible + log_water_risk_3_blk\n"
     ]
    }
   ],
   "source": [
    "  AIC_l <- list()\n",
    "  BIC_l <- list()\n",
    "  LogLik_l <- list()\n",
    "  df_l <- list()\n",
    "  trn_gini_l <- list()  \n",
    "  test_gini_l <- list()  \n",
    "  i<-1;\n",
    "for (formula in formulas) {\n",
    "  print(formula)\n",
    "  test_pred_loss <- 0\n",
    "  train_pred_loss <- 0\n",
    "  #Modeling\n",
    "  model <- glm(formula, family = \"poisson\", data = training_data)  \n",
    "  #Prediction\n",
    "  test_pred_loss <- predict.glm(model, testing_data, type = \"response\")\n",
    "  train_pred_loss <- predict.glm(model,training_data, type = \"response\")\n",
    "  #Scores\n",
    "    AIC_l[[i]] <- round(AIC(model), digits = 0)\n",
    "    BIC_l[[i]] <- round(BIC(model), digits = 0)\n",
    "    LogLik_l[[i]] <- logLik(model)\n",
    "    df_l[[i]] <- attr(logLik(model),\"df\")\n",
    "    trn_gini_l[[i]]  <- NormalizedWeightedGini(training_data$cova_ic_nc_water,train_pred_loss,training_data$ecy)\n",
    "    test_gini_l[[i]]  <- NormalizedWeightedGini(testing_data$cova_ic_nc_water,test_pred_loss,testing_data$ecy)\n",
    "    i <- i + 1    \n",
    "}"
   ]
  },
  {
   "cell_type": "code",
   "execution_count": 18,
   "metadata": {
    "collapsed": true
   },
   "outputs": [],
   "source": [
    "Log <- data.frame(\n",
    "  formulas=unlist(formulas_s),  \n",
    "  AIC=unlist(AIC_l),\n",
    "  BIC=unlist(BIC_l), \n",
    "  logLik=unlist(LogLik_l),\n",
    "  df=unlist(df_l) ,\n",
    "  train_gini=unlist(trn_gini_l) ,\n",
    "  test_gini=unlist(test_gini_l )\n",
    ")\n",
    "\n",
    "write.table(Log,paste(ModelsDir,\"frequency_tuning.csv\", sep = \"\"), sep=\",\",  col.names=TRUE, row.names = FALSE)"
   ]
  },
  {
   "cell_type": "code",
   "execution_count": 19,
   "metadata": {},
   "outputs": [
    {
     "data": {
      "text/html": [
       "<table>\n",
       "<thead><tr><th scope=col>formulas</th><th scope=col>AIC</th><th scope=col>BIC</th><th scope=col>logLik</th><th scope=col>df</th><th scope=col>train_gini</th><th scope=col>test_gini</th></tr></thead>\n",
       "<tbody>\n",
       "\t<tr><td>cova_ic_nc_water ~ log_ecy + log_sqft + log_yearbuilt + roofcd +      usagetype + cova_deductible + log_water_risk_3_blk                                              </td><td>114058                                                                                                                                                                </td><td>114278                                                                                                                                                                </td><td>-57011.06                                                                                                                                                             </td><td>18                                                                                                                                                                    </td><td>0.3794492                                                                                                                                                             </td><td>0.3972265                                                                                                                                                             </td></tr>\n",
       "\t<tr><td>cova_ic_nc_water ~ landlordind + log_ecy + log_sqft + log_yearbuilt +      roofcd + usagetype + cova_deductible + log_water_risk_3_blk                                </td><td>114047                                                                                                                                                                </td><td>114279                                                                                                                                                                </td><td>-57004.27                                                                                                                                                             </td><td>19                                                                                                                                                                    </td><td>0.3802589                                                                                                                                                             </td><td>0.4041143                                                                                                                                                             </td></tr>\n",
       "\t<tr><td>cova_ic_nc_water ~ landlordind + poolind + log_ecy + log_sqft +      log_yearbuilt + roofcd + usagetype + cova_deductible + log_water_risk_3_blk                      </td><td>114015                                                                                                                                                                </td><td>114259                                                                                                                                                                </td><td>-56987.37                                                                                                                                                             </td><td>20                                                                                                                                                                    </td><td>0.3821256                                                                                                                                                             </td><td>0.4075710                                                                                                                                                             </td></tr>\n",
       "\t<tr><td>cova_ic_nc_water ~ landlordind + poolind + multipolicyind + log_ecy +      log_sqft + log_yearbuilt + roofcd + usagetype + cova_deductible +      log_water_risk_3_blk</td><td>114013                                                                                                                                                                </td><td>114270                                                                                                                                                                </td><td>-56985.70                                                                                                                                                             </td><td>21                                                                                                                                                                    </td><td>0.3821588                                                                                                                                                             </td><td>0.4076518                                                                                                                                                             </td></tr>\n",
       "\t<tr><td>cova_ic_nc_water ~ poolind + multipolicyind + log_ecy + log_sqft +      log_yearbuilt + roofcd + usagetype + cova_deductible + log_water_risk_3_blk                   </td><td>114025                                                                                                                                                                </td><td>114270                                                                                                                                                                </td><td>-56992.47                                                                                                                                                             </td><td>20                                                                                                                                                                    </td><td>0.3813627                                                                                                                                                             </td><td>0.4011727                                                                                                                                                             </td></tr>\n",
       "\t<tr><td>cova_ic_nc_water ~ landlordind + multipolicyind + log_ecy + log_sqft +      log_yearbuilt + roofcd + usagetype + cova_deductible + log_water_risk_3_blk               </td><td>114046                                                                                                                                                                </td><td>114290                                                                                                                                                                </td><td>-57002.85                                                                                                                                                             </td><td>20                                                                                                                                                                    </td><td>0.3802821                                                                                                                                                             </td><td>0.4042483                                                                                                                                                             </td></tr>\n",
       "</tbody>\n",
       "</table>\n"
      ],
      "text/latex": [
       "\\begin{tabular}{r|lllllll}\n",
       " formulas & AIC & BIC & logLik & df & train\\_gini & test\\_gini\\\\\n",
       "\\hline\n",
       "\t cova\\_ic\\_nc\\_water \\textasciitilde{} log\\_ecy + log\\_sqft + log\\_yearbuilt + roofcd +      usagetype + cova\\_deductible + log\\_water\\_risk\\_3\\_blk                                               & 114058                                                                                                                                                                                                        & 114278                                                                                                                                                                                                        & -57011.06                                                                                                                                                                                                     & 18                                                                                                                                                                                                            & 0.3794492                                                                                                                                                                                                     & 0.3972265                                                                                                                                                                                                    \\\\\n",
       "\t cova\\_ic\\_nc\\_water \\textasciitilde{} landlordind + log\\_ecy + log\\_sqft + log\\_yearbuilt +      roofcd + usagetype + cova\\_deductible + log\\_water\\_risk\\_3\\_blk                                 & 114047                                                                                                                                                                                                        & 114279                                                                                                                                                                                                        & -57004.27                                                                                                                                                                                                     & 19                                                                                                                                                                                                            & 0.3802589                                                                                                                                                                                                     & 0.4041143                                                                                                                                                                                                    \\\\\n",
       "\t cova\\_ic\\_nc\\_water \\textasciitilde{} landlordind + poolind + log\\_ecy + log\\_sqft +      log\\_yearbuilt + roofcd + usagetype + cova\\_deductible + log\\_water\\_risk\\_3\\_blk                       & 114015                                                                                                                                                                                                        & 114259                                                                                                                                                                                                        & -56987.37                                                                                                                                                                                                     & 20                                                                                                                                                                                                            & 0.3821256                                                                                                                                                                                                     & 0.4075710                                                                                                                                                                                                    \\\\\n",
       "\t cova\\_ic\\_nc\\_water \\textasciitilde{} landlordind + poolind + multipolicyind + log\\_ecy +      log\\_sqft + log\\_yearbuilt + roofcd + usagetype + cova\\_deductible +      log\\_water\\_risk\\_3\\_blk & 114013                                                                                                                                                                                                        & 114270                                                                                                                                                                                                        & -56985.70                                                                                                                                                                                                     & 21                                                                                                                                                                                                            & 0.3821588                                                                                                                                                                                                     & 0.4076518                                                                                                                                                                                                    \\\\\n",
       "\t cova\\_ic\\_nc\\_water \\textasciitilde{} poolind + multipolicyind + log\\_ecy + log\\_sqft +      log\\_yearbuilt + roofcd + usagetype + cova\\_deductible + log\\_water\\_risk\\_3\\_blk                    & 114025                                                                                                                                                                                                        & 114270                                                                                                                                                                                                        & -56992.47                                                                                                                                                                                                     & 20                                                                                                                                                                                                            & 0.3813627                                                                                                                                                                                                     & 0.4011727                                                                                                                                                                                                    \\\\\n",
       "\t cova\\_ic\\_nc\\_water \\textasciitilde{} landlordind + multipolicyind + log\\_ecy + log\\_sqft +      log\\_yearbuilt + roofcd + usagetype + cova\\_deductible + log\\_water\\_risk\\_3\\_blk                & 114046                                                                                                                                                                                                        & 114290                                                                                                                                                                                                        & -57002.85                                                                                                                                                                                                     & 20                                                                                                                                                                                                            & 0.3802821                                                                                                                                                                                                     & 0.4042483                                                                                                                                                                                                    \\\\\n",
       "\\end{tabular}\n"
      ],
      "text/markdown": [
       "\n",
       "| formulas | AIC | BIC | logLik | df | train_gini | test_gini |\n",
       "|---|---|---|---|---|---|---|\n",
       "| cova_ic_nc_water ~ log_ecy + log_sqft + log_yearbuilt + roofcd +      usagetype + cova_deductible + log_water_risk_3_blk                                               | 114058                                                                                                                                                                 | 114278                                                                                                                                                                 | -57011.06                                                                                                                                                              | 18                                                                                                                                                                     | 0.3794492                                                                                                                                                              | 0.3972265                                                                                                                                                              |\n",
       "| cova_ic_nc_water ~ landlordind + log_ecy + log_sqft + log_yearbuilt +      roofcd + usagetype + cova_deductible + log_water_risk_3_blk                                 | 114047                                                                                                                                                                 | 114279                                                                                                                                                                 | -57004.27                                                                                                                                                              | 19                                                                                                                                                                     | 0.3802589                                                                                                                                                              | 0.4041143                                                                                                                                                              |\n",
       "| cova_ic_nc_water ~ landlordind + poolind + log_ecy + log_sqft +      log_yearbuilt + roofcd + usagetype + cova_deductible + log_water_risk_3_blk                       | 114015                                                                                                                                                                 | 114259                                                                                                                                                                 | -56987.37                                                                                                                                                              | 20                                                                                                                                                                     | 0.3821256                                                                                                                                                              | 0.4075710                                                                                                                                                              |\n",
       "| cova_ic_nc_water ~ landlordind + poolind + multipolicyind + log_ecy +      log_sqft + log_yearbuilt + roofcd + usagetype + cova_deductible +      log_water_risk_3_blk | 114013                                                                                                                                                                 | 114270                                                                                                                                                                 | -56985.70                                                                                                                                                              | 21                                                                                                                                                                     | 0.3821588                                                                                                                                                              | 0.4076518                                                                                                                                                              |\n",
       "| cova_ic_nc_water ~ poolind + multipolicyind + log_ecy + log_sqft +      log_yearbuilt + roofcd + usagetype + cova_deductible + log_water_risk_3_blk                    | 114025                                                                                                                                                                 | 114270                                                                                                                                                                 | -56992.47                                                                                                                                                              | 20                                                                                                                                                                     | 0.3813627                                                                                                                                                              | 0.4011727                                                                                                                                                              |\n",
       "| cova_ic_nc_water ~ landlordind + multipolicyind + log_ecy + log_sqft +      log_yearbuilt + roofcd + usagetype + cova_deductible + log_water_risk_3_blk                | 114046                                                                                                                                                                 | 114290                                                                                                                                                                 | -57002.85                                                                                                                                                              | 20                                                                                                                                                                     | 0.3802821                                                                                                                                                              | 0.4042483                                                                                                                                                              |\n",
       "\n"
      ],
      "text/plain": [
       "  formulas                                                                                                                                                              \n",
       "1 cova_ic_nc_water ~ log_ecy + log_sqft + log_yearbuilt + roofcd +      usagetype + cova_deductible + log_water_risk_3_blk                                              \n",
       "2 cova_ic_nc_water ~ landlordind + log_ecy + log_sqft + log_yearbuilt +      roofcd + usagetype + cova_deductible + log_water_risk_3_blk                                \n",
       "3 cova_ic_nc_water ~ landlordind + poolind + log_ecy + log_sqft +      log_yearbuilt + roofcd + usagetype + cova_deductible + log_water_risk_3_blk                      \n",
       "4 cova_ic_nc_water ~ landlordind + poolind + multipolicyind + log_ecy +      log_sqft + log_yearbuilt + roofcd + usagetype + cova_deductible +      log_water_risk_3_blk\n",
       "5 cova_ic_nc_water ~ poolind + multipolicyind + log_ecy + log_sqft +      log_yearbuilt + roofcd + usagetype + cova_deductible + log_water_risk_3_blk                   \n",
       "6 cova_ic_nc_water ~ landlordind + multipolicyind + log_ecy + log_sqft +      log_yearbuilt + roofcd + usagetype + cova_deductible + log_water_risk_3_blk               \n",
       "  AIC    BIC    logLik    df train_gini test_gini\n",
       "1 114058 114278 -57011.06 18 0.3794492  0.3972265\n",
       "2 114047 114279 -57004.27 19 0.3802589  0.4041143\n",
       "3 114015 114259 -56987.37 20 0.3821256  0.4075710\n",
       "4 114013 114270 -56985.70 21 0.3821588  0.4076518\n",
       "5 114025 114270 -56992.47 20 0.3813627  0.4011727\n",
       "6 114046 114290 -57002.85 20 0.3802821  0.4042483"
      ]
     },
     "metadata": {},
     "output_type": "display_data"
    }
   ],
   "source": [
    "Log"
   ]
  },
  {
   "cell_type": "code",
   "execution_count": 20,
   "metadata": {},
   "outputs": [
    {
     "data": {
      "text/plain": [
       "\n",
       "Call:\n",
       "glm(formula = cova_ic_nc_water ~ landlordind + poolind + log_ecy + \n",
       "    log_sqft + log_yearbuilt + roofcd + usagetype + cova_deductible + \n",
       "    log_water_risk_3_blk, family = \"poisson\", data = training_data)\n",
       "\n",
       "Deviance Residuals: \n",
       "    Min       1Q   Median       3Q      Max  \n",
       "-0.3675  -0.1351  -0.1002  -0.0683   5.4848  \n",
       "\n",
       "Coefficients:\n",
       "                       Estimate Std. Error z value Pr(>|z|)    \n",
       "(Intercept)          -1.157e+02  8.565e+00 -13.508  < 2e-16 ***\n",
       "landlordind          -2.395e-01  6.510e-02  -3.678 0.000235 ***\n",
       "poolind               2.930e-01  4.849e-02   6.042 1.52e-09 ***\n",
       "log_ecy               9.423e-01  1.917e-02  49.159  < 2e-16 ***\n",
       "log_sqft              5.665e-01  2.928e-02  19.349  < 2e-16 ***\n",
       "log_yearbuilt         1.348e+01  1.133e+00  11.902  < 2e-16 ***\n",
       "roofcdMEMBRANE       -1.250e-02  9.594e-02  -0.130 0.896370    \n",
       "roofcdMETAL           1.922e-01  1.902e-01   1.011 0.312089    \n",
       "roofcdOTHER           9.125e-02  3.237e-02   2.819 0.004812 ** \n",
       "roofcdTAR            -3.050e-03  7.853e-02  -0.039 0.969019    \n",
       "roofcdTILE            9.665e-02  2.783e-02   3.473 0.000514 ***\n",
       "roofcdWOOD            1.466e-01  9.753e-02   1.503 0.132924    \n",
       "usagetypePRIMARY      2.357e+00  5.777e-01   4.080 4.50e-05 ***\n",
       "usagetypeRENTAL       2.038e+00  5.778e-01   3.526 0.000421 ***\n",
       "usagetypeSEASONAL     2.100e+00  6.012e-01   3.492 0.000479 ***\n",
       "usagetypeSECONDARY    1.161e+00  7.304e-01   1.590 0.111908    \n",
       "usagetypeUNOCCUPIED  -6.227e+00  4.507e+01  -0.138 0.890121    \n",
       "usagetypeVACANT      -1.127e+00  1.155e+00  -0.976 0.329060    \n",
       "cova_deductible      -3.243e-04  1.435e-05 -22.602  < 2e-16 ***\n",
       "log_water_risk_3_blk  5.493e-01  2.331e-02  23.564  < 2e-16 ***\n",
       "---\n",
       "Signif. codes:  0 ‘***’ 0.001 ‘**’ 0.01 ‘*’ 0.05 ‘.’ 0.1 ‘ ’ 1\n",
       "\n",
       "(Dispersion parameter for poisson family taken to be 1)\n",
       "\n",
       "    Null deviance: 101039  on 1517325  degrees of freedom\n",
       "Residual deviance:  94301  on 1517306  degrees of freedom\n",
       "AIC: 114015\n",
       "\n",
       "Number of Fisher Scoring iterations: 12\n"
      ]
     },
     "metadata": {},
     "output_type": "display_data"
    }
   ],
   "source": [
    "Model <- glm(cova_ic_nc_water ~ landlordind + poolind + log_ecy + log_sqft +      log_yearbuilt + roofcd + usagetype + cova_deductible + log_water_risk_3_blk, family = \"poisson\", data = training_data)  \n",
    "summary(Model)"
   ]
  },
  {
   "cell_type": "code",
   "execution_count": 21,
   "metadata": {},
   "outputs": [
    {
     "data": {
      "text/plain": [
       "\n",
       "Call:\n",
       "glm(formula = cova_ic_nc_water ~ landlordind + poolind + multipolicyind + \n",
       "    log_ecy + log_sqft + log_yearbuilt + roofcd + usagetype + \n",
       "    cova_deductible + log_water_risk_3_blk, family = \"poisson\", \n",
       "    data = training_data)\n",
       "\n",
       "Deviance Residuals: \n",
       "    Min       1Q   Median       3Q      Max  \n",
       "-0.3609  -0.1351  -0.1001  -0.0683   5.4851  \n",
       "\n",
       "Coefficients:\n",
       "                       Estimate Std. Error z value Pr(>|z|)    \n",
       "(Intercept)          -1.163e+02  8.569e+00 -13.569  < 2e-16 ***\n",
       "landlordind          -2.321e-01  6.523e-02  -3.558 0.000373 ***\n",
       "poolind               2.953e-01  4.850e-02   6.088 1.15e-09 ***\n",
       "multipolicyind       -4.933e-02  2.712e-02  -1.819 0.068932 .  \n",
       "log_ecy               9.422e-01  1.917e-02  49.159  < 2e-16 ***\n",
       "log_sqft              5.656e-01  2.928e-02  19.320  < 2e-16 ***\n",
       "log_yearbuilt         1.356e+01  1.133e+00  11.965  < 2e-16 ***\n",
       "roofcdMEMBRANE       -1.316e-02  9.594e-02  -0.137 0.890895    \n",
       "roofcdMETAL           1.977e-01  1.902e-01   1.039 0.298619    \n",
       "roofcdOTHER           9.105e-02  3.237e-02   2.813 0.004907 ** \n",
       "roofcdTAR            -2.419e-03  7.853e-02  -0.031 0.975431    \n",
       "roofcdTILE            9.656e-02  2.783e-02   3.470 0.000521 ***\n",
       "roofcdWOOD            1.480e-01  9.753e-02   1.517 0.129145    \n",
       "usagetypePRIMARY      2.368e+00  5.777e-01   4.099 4.15e-05 ***\n",
       "usagetypeRENTAL       2.038e+00  5.778e-01   3.526 0.000421 ***\n",
       "usagetypeSEASONAL     2.106e+00  6.012e-01   3.503 0.000460 ***\n",
       "usagetypeSECONDARY    1.177e+00  7.305e-01   1.611 0.107263    \n",
       "usagetypeUNOCCUPIED  -6.227e+00  4.507e+01  -0.138 0.890116    \n",
       "usagetypeVACANT      -1.127e+00  1.155e+00  -0.976 0.328986    \n",
       "cova_deductible      -3.253e-04  1.436e-05 -22.646  < 2e-16 ***\n",
       "log_water_risk_3_blk  5.480e-01  2.333e-02  23.491  < 2e-16 ***\n",
       "---\n",
       "Signif. codes:  0 ‘***’ 0.001 ‘**’ 0.01 ‘*’ 0.05 ‘.’ 0.1 ‘ ’ 1\n",
       "\n",
       "(Dispersion parameter for poisson family taken to be 1)\n",
       "\n",
       "    Null deviance: 101039  on 1517325  degrees of freedom\n",
       "Residual deviance:  94298  on 1517305  degrees of freedom\n",
       "AIC: 114013\n",
       "\n",
       "Number of Fisher Scoring iterations: 12\n"
      ]
     },
     "metadata": {},
     "output_type": "display_data"
    }
   ],
   "source": [
    "Model <- glm(cova_ic_nc_water ~ landlordind + poolind + multipolicyind + log_ecy +      log_sqft + log_yearbuilt + roofcd + usagetype + cova_deductible +      log_water_risk_3_blk, family = \"poisson\", data = training_data)  \n",
    "summary(Model)"
   ]
  }
 ],
 "metadata": {
  "kernelspec": {
   "display_name": "R",
   "language": "R",
   "name": "ir"
  },
  "language_info": {
   "codemirror_mode": "r",
   "file_extension": ".r",
   "mimetype": "text/x-r-source",
   "name": "R",
   "pygments_lexer": "r",
   "version": "3.6.0"
  }
 },
 "nbformat": 4,
 "nbformat_minor": 2
}
