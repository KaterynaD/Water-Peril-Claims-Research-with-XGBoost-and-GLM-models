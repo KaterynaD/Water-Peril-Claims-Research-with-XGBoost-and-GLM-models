{
 "cells": [
  {
   "cell_type": "code",
   "execution_count": 1,
   "metadata": {
    "collapsed": true
   },
   "outputs": [],
   "source": [
    "ModelsDir = '/home/kate/Research/Property/Models/'\n",
    "DataDir = '/home/kate/Research/Property/Data/'"
   ]
  },
  {
   "cell_type": "code",
   "execution_count": 3,
   "metadata": {
    "collapsed": true
   },
   "outputs": [],
   "source": [
    "# from https://xiaoxiaowang87.github.io/monotonicity_constraint/\n",
    "def partial_dependency(model, X,  offset, feature):\n",
    "\n",
    "    \"\"\"\n",
    "    Calculate the dependency (or partial dependency) of a response variable on a predictor (or multiple predictors)\n",
    "    1. Sample a grid of values of a predictor for numeric continuous or all unique values for categorical or discrete continuous.\n",
    "    2. For each value, replace every row of that predictor with this value, calculate the average prediction.\n",
    "    \"\"\"\n",
    "\n",
    "    X_temp = X.copy()\n",
    "    \n",
    "\n",
    "    if feature in ['water_risk_fre_3_blk','water_risk_3_blk','ecy']:\n",
    "        # continuous\n",
    "        grid = np.linspace(np.percentile(X_temp[feature], 0.1),\n",
    "                       np.percentile(X_temp[feature], 99.5),\n",
    "                           50)\n",
    "    else:\n",
    "        #categorical\n",
    "        grid = X_temp[feature].unique()\n",
    "\n",
    "    y_pred = np.zeros(len(grid))\n",
    "\n",
    "    for i, val in enumerate(grid):\n",
    "        X_temp[feature] = val\n",
    "        d_temp=xgb.DMatrix(X_temp.values)\n",
    "        d_temp.set_base_margin(offset.values)\n",
    "        y_pred[i] = np.average(model.predict(d_temp,ntree_limit=model.best_ntree_limit+50))\n",
    "\n",
    "\n",
    "    return grid, y_pred"
   ]
  },
  {
   "cell_type": "code",
   "execution_count": 4,
   "metadata": {
    "collapsed": true
   },
   "outputs": [],
   "source": [
    "import pandas as pd\n",
    "import numpy as np\n",
    "import pickle\n",
    "import xgboost as xgb\n",
    "import os"
   ]
  },
  {
   "cell_type": "code",
   "execution_count": null,
   "metadata": {
    "collapsed": true
   },
   "outputs": [],
   "source": [
    "kfold = 5"
   ]
  },
  {
   "cell_type": "code",
   "execution_count": 5,
   "metadata": {
    "collapsed": true
   },
   "outputs": [],
   "source": [
    "training_dataset = pd.read_csv('%sproperty_wcf_class_training.csv'%DataDir, error_bad_lines=False, index_col=False)"
   ]
  },
  {
   "cell_type": "code",
   "execution_count": 7,
   "metadata": {
    "collapsed": true
   },
   "outputs": [],
   "source": [
    "featureset  = [\n",
    " 'cova_deductible',\n",
    " 'roofcd_encd',\n",
    " 'sqft',\n",
    " 'usagetype_encd',\n",
    " 'yearbuilt',\n",
    " 'cova_limit',\n",
    " 'water_risk_fre_3_blk',\n",
    " 'water_risk_3_blk'\n",
    "]"
   ]
  },
  {
   "cell_type": "code",
   "execution_count": 8,
   "metadata": {
    "collapsed": true
   },
   "outputs": [],
   "source": [
    "pd_featureset  = [\n",
    " 'cova_deductible',\n",
    " 'roofcd_encd',\n",
    " 'sqft',\n",
    " 'usagetype_encd',\n",
    " 'yearbuilt',\n",
    " 'cova_limit',\n",
    " 'water_risk_fre_3_blk',\n",
    " 'water_risk_3_blk'\n",
    "]"
   ]
  },
  {
   "cell_type": "code",
   "execution_count": 9,
   "metadata": {
    "collapsed": true
   },
   "outputs": [],
   "source": [
    "X = training_dataset.loc[:,featureset]\n",
    "offset = training_dataset['log_ecy']"
   ]
  },
  {
   "cell_type": "code",
   "execution_count": 11,
   "metadata": {},
   "outputs": [
    {
     "name": "stdout",
     "output_type": "stream",
     "text": [
      "Processing:cova_deductible\n",
      "Processing:roofcd_encd\n",
      "Processing:sqft\n",
      "Processing:usagetype_encd\n",
      "Processing:yearbuilt\n",
      "Processing:cova_limit\n",
      "Processing:water_risk_fre_3_blk\n",
      "Processing:water_risk_3_blk\n",
      "Processing:poissonglm_0\n"
     ]
    }
   ],
   "source": [
    "Model='wc_class_bm_ecy_XGB'\n",
    "all_fm_pd = pd.DataFrame()\n",
    "for i in range(0,kfold):\n",
    "    ModelName='%s_%s'%(Model,i)\n",
    "    print('Processing Model: %s'%ModelName)\n",
    "    xgb_model_file='%s%s.model'%(ModelsDir,ModelName)\n",
    "    xgb_model = pickle.load(open(xgb_model_file, 'rb'))\n",
    "    for f in pd_featureset:\n",
    "        print('Processing:%s'%f)\n",
    "        grid, y_pred = partial_dependency(xgb_model,X,offset,f)\n",
    "        fm_pd=pd.concat([pd.Series(grid), pd.Series(y_pred)], axis=1)\n",
    "        fm_pd.columns=['value','pd']\n",
    "        fm_pd['feature']=f\n",
    "        fm_pd['fold']=i\n",
    "        fm_pd['ModelName']=Model\n",
    "        all_fm_pd=all_fm_pd.append(fm_pd)\n",
    "        all_fm_pd.to_csv('%s%sPartialDependency.csv'%(ModelsDir,Model),header=True,index=False);"
   ]
  },
  {
   "cell_type": "code",
   "execution_count": null,
   "metadata": {
    "collapsed": true
   },
   "outputs": [],
   "source": [
    "training_dataset = pd.read_csv('%sproperty_wcf_training.csv'%DataDir, error_bad_lines=False, index_col=False)"
   ]
  },
  {
   "cell_type": "code",
   "execution_count": null,
   "metadata": {
    "collapsed": true
   },
   "outputs": [],
   "source": [
    "X = training_dataset.loc[:,featureset]\n",
    "offset = training_dataset['log_ecy']"
   ]
  },
  {
   "cell_type": "code",
   "execution_count": null,
   "metadata": {
    "collapsed": true
   },
   "outputs": [],
   "source": [
    "Model='wc_Poisson_bm_ecy_XGB'\n",
    "all_fm_pd = pd.DataFrame()\n",
    "for i in range(0,kfold):\n",
    "    ModelName='%s_%s'%(Model,i)\n",
    "    print('Processing Model: %s'%ModelName)\n",
    "    xgb_model_file='%s%s.model'%(ModelsDir,ModelName)\n",
    "    xgb_model = pickle.load(open(xgb_model_file, 'rb'))\n",
    "    for f in pd_featureset:\n",
    "        print('Processing:%s'%f)\n",
    "        grid, y_pred = partial_dependency(xgb_model,X,offset,f)\n",
    "        fm_pd=pd.concat([pd.Series(grid), pd.Series(y_pred)], axis=1)\n",
    "        fm_pd.columns=['value','pd']\n",
    "        fm_pd['feature']=f\n",
    "        fm_pd['fold']=i\n",
    "        fm_pd['ModelName']=Model\n",
    "        all_fm_pd=all_fm_pd.append(fm_pd)\n",
    "        all_fm_pd.to_csv('%s%sPartialDependency.csv'%(ModelsDir,Model),header=True,index=False);"
   ]
  }
 ],
 "metadata": {
  "kernelspec": {
   "display_name": "Python 3",
   "language": "python",
   "name": "python3"
  },
  "language_info": {
   "codemirror_mode": {
    "name": "ipython",
    "version": 3
   },
   "file_extension": ".py",
   "mimetype": "text/x-python",
   "name": "python",
   "nbconvert_exporter": "python",
   "pygments_lexer": "ipython3",
   "version": "3.6.10"
  }
 },
 "nbformat": 4,
 "nbformat_minor": 2
}
