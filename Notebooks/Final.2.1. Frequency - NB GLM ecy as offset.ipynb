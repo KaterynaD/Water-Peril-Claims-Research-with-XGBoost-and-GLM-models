{
 "cells": [
  {
   "cell_type": "code",
   "execution_count": 1,
   "metadata": {
    "collapsed": true
   },
   "outputs": [],
   "source": [
    "ModelsDir <- '/home/kate/Research/Property/Models/'\n",
    "DataDir <- '/home/kate/Research/Property/Data/'\n",
    "ModelName <- \"wc_nbglm_ofst_ecy\"\n",
    "UseSavedIfExists <- TRUE"
   ]
  },
  {
   "cell_type": "code",
   "execution_count": 2,
   "metadata": {
    "collapsed": true
   },
   "outputs": [],
   "source": [
    "library(MASS)"
   ]
  },
  {
   "cell_type": "code",
   "execution_count": 3,
   "metadata": {
    "collapsed": true
   },
   "outputs": [],
   "source": [
    "source('/home/kate/code/Utils/MyFunctions.R')"
   ]
  },
  {
   "cell_type": "code",
   "execution_count": 4,
   "metadata": {
    "collapsed": true
   },
   "outputs": [],
   "source": [
    "training_dataset <- read.csv(paste(DataDir,\"property_wcf_training.csv\", sep = \"\"), header=TRUE)\n",
    "testing_dataset <- read.csv(paste(DataDir,\"property_wcf_testing.csv\", sep = \"\"), header=TRUE)\n",
    "prediction_dataset <- read.csv(paste(DataDir,\"property_water_claims_non_cat_fs.csv\", sep = \"\"), header=TRUE)"
   ]
  },
  {
   "cell_type": "code",
   "execution_count": 5,
   "metadata": {
    "collapsed": true
   },
   "outputs": [],
   "source": [
    "formula <- cova_ic_nc_water ~ landlordind + log_sqft +  log_yearbuilt + roofcd + usagetype + cova_deductible + log_water_risk_3_blk"
   ]
  },
  {
   "cell_type": "code",
   "execution_count": 6,
   "metadata": {
    "collapsed": true
   },
   "outputs": [],
   "source": [
    "kfold <- 5"
   ]
  },
  {
   "cell_type": "code",
   "execution_count": 7,
   "metadata": {},
   "outputs": [
    {
     "name": "stdout",
     "output_type": "stream",
     "text": [
      "[1] \"Fold 0 of 5 currently processing...\"\n",
      "[1] \"Fold 1 of 5 currently processing...\"\n",
      "[1] \"Fold 2 of 5 currently processing...\"\n",
      "[1] \"Fold 3 of 5 currently processing...\"\n",
      "[1] \"Fold 4 of 5 currently processing...\"\n"
     ]
    }
   ],
   "source": [
    "models_attr <- data.frame()\n",
    "models_coef <- data.frame()\n",
    "training_dataset$nbglm_ofst_ecy_cv <- 0\n",
    "testing_dataset$nbglm_ofst_ecy_cv <- 0\n",
    "prediction_dataset$nbglm_ofst_ecy_cv <- 0\n",
    "for (fold in 1:kfold-1){\n",
    "  training_dataset[paste(\"nbglm_ofst_ecy_\",fold,sep=\"\")] <- 0 \n",
    "  testing_dataset[paste(\"nbglm_ofst_ecy_\",fold,sep=\"\")] <- 0  \n",
    "  prediction_dataset[paste(\"nbglm_ofst_ecy_\",fold,sep=\"\")] <- 0    \n",
    "    }\n",
    "# \n",
    "#CV-Folds\n",
    "AIC_l <- list();\n",
    "BIC_l <- list();\n",
    "logLik_l <- list();\n",
    "coef_l <- list();\n",
    "folds_l <- list() \n",
    "i <- 1\n",
    "for (fold in 1:kfold-1){\n",
    "    print(paste(\"Fold \",fold,\" of \",kfold,\" currently processing...\",sep=\"\"))\n",
    "    training_dataset_fold <- training_dataset[training_dataset[paste(\"fold\",fold,sep=\"_\")] > 0,]\n",
    "    validation_dataset <- training_dataset[training_dataset[paste(\"fold\",fold,sep=\"_\")] == 0,]\n",
    "    #Modeling\n",
    "    ModelFile <- paste(ModelsDir,ModelName,\"_\",fold,\".rds\",sep=\"\")\n",
    "    if(file.exists(ModelFile) && UseSavedIfExists){\n",
    "        nbglm <- readRDS(ModelFile)\n",
    "    } else {\n",
    "        nbglm <- glm.nb(formula,  data = training_dataset_fold,  offset=log_ecy,control = glm.control(maxit=10000))\n",
    "        saveRDS(nbglm, ModelFile)             \n",
    "    }#if modeling \n",
    "    #Training Prediction\n",
    "    pred_train <- predict(nbglm,training_dataset, type=\"response\")\n",
    "    training_dataset[paste(\"nbglm_ofst_ecy_\",fold,sep=\"\")] <- pred_train\n",
    "    training_dataset$nbglm_ofst_ecy_cv <- training_dataset$nbglm_ofst_ecy_cv + pred_train/kfold\n",
    "    #Testing Prediction\n",
    "    pred_test <- predict(nbglm,testing_dataset, type=\"response\")\n",
    "    testing_dataset$nbglm_ofst_ecy_cv <- testing_dataset$nbglm_ofst_ecy_cv + pred_test/kfold \n",
    "    testing_dataset[paste(\"nbglm_ofst_ecy_\",fold,sep=\"\")] <- pred_test\n",
    "    #Prediction\n",
    "    pred <- predict(nbglm,prediction_dataset, type=\"response\")\n",
    "    prediction_dataset$nbglm_ofst_ecy_cv <- prediction_dataset$nbglm_ofst_ecy_cv + pred/kfold \n",
    "    prediction_dataset[paste(\"nbglm_ofst_ecy_\",fold,sep=\"\")] <- pred\n",
    "    #Model attributes\n",
    "    folds_l[[i]] <- i\n",
    "    AIC_l[[i]] <- AIC(nbglm)\n",
    "    BIC_l[[i]] <- BIC(nbglm)  \n",
    "    logLik_l[[i]] <- logLik(nbglm) \n",
    "    #Model coeficients\n",
    "    model_coef_fold <- data.frame(\n",
    "        fold = fold+1,\n",
    "        pred_name = summary(nbglm)$coefficients[,0],\n",
    "        estimate =  summary(nbglm)$coefficients[,1],\n",
    "        StdError =  summary(nbglm)$coefficients[,2],  \n",
    "        zValue =   summary(nbglm)$coefficients[,3],     \n",
    "        valuePr =   summary(nbglm)$coefficients[,4]    \n",
    "    )  \n",
    "    #pred_name is an index, row name, convert it into column\n",
    "    model_coef_fold <- cbind(name = rownames(model_coef_fold), model_coef_fold)\n",
    "    rownames(model_coef_fold) <- 1:nrow(model_coef_fold) \n",
    "    #main table\n",
    "    models_coef <- rbind(models_coef,model_coef_fold)         \n",
    "    i <- i + 1\n",
    "    }#folds loop   \n",
    "    #Model attributes data frame\n",
    "    models_fold_attr <- data.frame( \n",
    "        fold = unlist(folds_l),\n",
    "        AIC = unlist(AIC_l),\n",
    "        BIC = unlist(BIC_l),   \n",
    "        logLik = unlist(logLik_l)\n",
    "    )\n",
    "    models_attr <- rbind(models_attr,models_fold_attr)                 "
   ]
  },
  {
   "cell_type": "code",
   "execution_count": 8,
   "metadata": {},
   "outputs": [
    {
     "data": {
      "text/html": [
       "<table>\n",
       "<thead><tr><th scope=col>fold</th><th scope=col>AIC</th><th scope=col>BIC</th><th scope=col>logLik</th></tr></thead>\n",
       "<tbody>\n",
       "\t<tr><td>1        </td><td>91123.50 </td><td>91351.67 </td><td>-45542.75</td></tr>\n",
       "\t<tr><td>2        </td><td>91017.96 </td><td>91246.14 </td><td>-45489.98</td></tr>\n",
       "\t<tr><td>3        </td><td>90989.26 </td><td>91217.43 </td><td>-45475.63</td></tr>\n",
       "\t<tr><td>4        </td><td>90911.30 </td><td>91139.48 </td><td>-45436.65</td></tr>\n",
       "\t<tr><td>5        </td><td>90977.03 </td><td>91205.21 </td><td>-45469.52</td></tr>\n",
       "</tbody>\n",
       "</table>\n"
      ],
      "text/latex": [
       "\\begin{tabular}{r|llll}\n",
       " fold & AIC & BIC & logLik\\\\\n",
       "\\hline\n",
       "\t 1         & 91123.50  & 91351.67  & -45542.75\\\\\n",
       "\t 2         & 91017.96  & 91246.14  & -45489.98\\\\\n",
       "\t 3         & 90989.26  & 91217.43  & -45475.63\\\\\n",
       "\t 4         & 90911.30  & 91139.48  & -45436.65\\\\\n",
       "\t 5         & 90977.03  & 91205.21  & -45469.52\\\\\n",
       "\\end{tabular}\n"
      ],
      "text/markdown": [
       "\n",
       "| fold | AIC | BIC | logLik |\n",
       "|---|---|---|---|\n",
       "| 1         | 91123.50  | 91351.67  | -45542.75 |\n",
       "| 2         | 91017.96  | 91246.14  | -45489.98 |\n",
       "| 3         | 90989.26  | 91217.43  | -45475.63 |\n",
       "| 4         | 90911.30  | 91139.48  | -45436.65 |\n",
       "| 5         | 90977.03  | 91205.21  | -45469.52 |\n",
       "\n"
      ],
      "text/plain": [
       "  fold AIC      BIC      logLik   \n",
       "1 1    91123.50 91351.67 -45542.75\n",
       "2 2    91017.96 91246.14 -45489.98\n",
       "3 3    90989.26 91217.43 -45475.63\n",
       "4 4    90911.30 91139.48 -45436.65\n",
       "5 5    90977.03 91205.21 -45469.52"
      ]
     },
     "metadata": {},
     "output_type": "display_data"
    }
   ],
   "source": [
    "head(models_attr)"
   ]
  },
  {
   "cell_type": "code",
   "execution_count": 9,
   "metadata": {
    "collapsed": true
   },
   "outputs": [],
   "source": [
    "write.table(models_attr,paste(ModelsDir,ModelName,\"_attr.csv\", sep = \"\"), sep=\",\",  col.names=TRUE, row.names = FALSE)"
   ]
  },
  {
   "cell_type": "code",
   "execution_count": 10,
   "metadata": {},
   "outputs": [
    {
     "data": {
      "text/html": [
       "<table>\n",
       "<thead><tr><th scope=col>name</th><th scope=col>fold</th><th scope=col>estimate</th><th scope=col>StdError</th><th scope=col>zValue</th><th scope=col>valuePr</th></tr></thead>\n",
       "<tbody>\n",
       "\t<tr><td>(Intercept)   </td><td>1             </td><td>-120.71375039 </td><td>9.67229248    </td><td>-12.4803660   </td><td>9.554642e-36  </td></tr>\n",
       "\t<tr><td>landlordind   </td><td>1             </td><td>  -0.24210247 </td><td>0.07387382    </td><td> -3.2772433   </td><td>1.048260e-03  </td></tr>\n",
       "\t<tr><td>log_sqft      </td><td>1             </td><td>   0.57981663 </td><td>0.03314515    </td><td> 17.4932595   </td><td>1.612643e-68  </td></tr>\n",
       "\t<tr><td>log_yearbuilt </td><td>1             </td><td>  14.12805429 </td><td>1.27845780    </td><td> 11.0508570   </td><td>2.171322e-28  </td></tr>\n",
       "\t<tr><td>roofcdMEMBRANE</td><td>1             </td><td>   0.04831151 </td><td>0.10437744    </td><td>  0.4628540   </td><td>6.434690e-01  </td></tr>\n",
       "\t<tr><td>roofcdMETAL   </td><td>1             </td><td>   0.11819722 </td><td>0.22327666    </td><td>  0.5293756   </td><td>5.965449e-01  </td></tr>\n",
       "</tbody>\n",
       "</table>\n"
      ],
      "text/latex": [
       "\\begin{tabular}{r|llllll}\n",
       " name & fold & estimate & StdError & zValue & valuePr\\\\\n",
       "\\hline\n",
       "\t (Intercept)    & 1              & -120.71375039  & 9.67229248     & -12.4803660    & 9.554642e-36  \\\\\n",
       "\t landlordind    & 1              &   -0.24210247  & 0.07387382     &  -3.2772433    & 1.048260e-03  \\\\\n",
       "\t log\\_sqft       & 1                &    0.57981663    & 0.03314515       &  17.4932595      & 1.612643e-68    \\\\\n",
       "\t log\\_yearbuilt  & 1                &   14.12805429    & 1.27845780       &  11.0508570      & 2.171322e-28    \\\\\n",
       "\t roofcdMEMBRANE & 1              &    0.04831151  & 0.10437744     &   0.4628540    & 6.434690e-01  \\\\\n",
       "\t roofcdMETAL    & 1              &    0.11819722  & 0.22327666     &   0.5293756    & 5.965449e-01  \\\\\n",
       "\\end{tabular}\n"
      ],
      "text/markdown": [
       "\n",
       "| name | fold | estimate | StdError | zValue | valuePr |\n",
       "|---|---|---|---|---|---|\n",
       "| (Intercept)    | 1              | -120.71375039  | 9.67229248     | -12.4803660    | 9.554642e-36   |\n",
       "| landlordind    | 1              |   -0.24210247  | 0.07387382     |  -3.2772433    | 1.048260e-03   |\n",
       "| log_sqft       | 1              |    0.57981663  | 0.03314515     |  17.4932595    | 1.612643e-68   |\n",
       "| log_yearbuilt  | 1              |   14.12805429  | 1.27845780     |  11.0508570    | 2.171322e-28   |\n",
       "| roofcdMEMBRANE | 1              |    0.04831151  | 0.10437744     |   0.4628540    | 6.434690e-01   |\n",
       "| roofcdMETAL    | 1              |    0.11819722  | 0.22327666     |   0.5293756    | 5.965449e-01   |\n",
       "\n"
      ],
      "text/plain": [
       "  name           fold estimate      StdError   zValue      valuePr     \n",
       "1 (Intercept)    1    -120.71375039 9.67229248 -12.4803660 9.554642e-36\n",
       "2 landlordind    1      -0.24210247 0.07387382  -3.2772433 1.048260e-03\n",
       "3 log_sqft       1       0.57981663 0.03314515  17.4932595 1.612643e-68\n",
       "4 log_yearbuilt  1      14.12805429 1.27845780  11.0508570 2.171322e-28\n",
       "5 roofcdMEMBRANE 1       0.04831151 0.10437744   0.4628540 6.434690e-01\n",
       "6 roofcdMETAL    1       0.11819722 0.22327666   0.5293756 5.965449e-01"
      ]
     },
     "metadata": {},
     "output_type": "display_data"
    }
   ],
   "source": [
    "head(models_coef)"
   ]
  },
  {
   "cell_type": "code",
   "execution_count": 11,
   "metadata": {
    "collapsed": true
   },
   "outputs": [],
   "source": [
    "write.table(models_coef,paste(ModelsDir,ModelName,\"_coef.csv\", sep = \"\"), sep=\",\",  col.names=TRUE, row.names = FALSE)"
   ]
  },
  {
   "cell_type": "markdown",
   "metadata": {},
   "source": [
    "Normalized Weighted gini Training"
   ]
  },
  {
   "cell_type": "code",
   "execution_count": 12,
   "metadata": {},
   "outputs": [
    {
     "data": {
      "text/html": [
       "0.380189970497414"
      ],
      "text/latex": [
       "0.380189970497414"
      ],
      "text/markdown": [
       "0.380189970497414"
      ],
      "text/plain": [
       "[1] 0.38019"
      ]
     },
     "metadata": {},
     "output_type": "display_data"
    }
   ],
   "source": [
    "NormalizedWeightedGini(training_dataset$cova_ic_nc_water,training_dataset$nbglm_ofst_ecy_cv,training_dataset$ecy)"
   ]
  },
  {
   "cell_type": "markdown",
   "metadata": {},
   "source": [
    "Normalized Weighted gini Testing"
   ]
  },
  {
   "cell_type": "code",
   "execution_count": 13,
   "metadata": {},
   "outputs": [
    {
     "data": {
      "text/html": [
       "0.403627005205378"
      ],
      "text/latex": [
       "0.403627005205378"
      ],
      "text/markdown": [
       "0.403627005205378"
      ],
      "text/plain": [
       "[1] 0.403627"
      ]
     },
     "metadata": {},
     "output_type": "display_data"
    }
   ],
   "source": [
    "NormalizedWeightedGini(testing_dataset$cova_ic_nc_water,testing_dataset$nbglm_ofst_ecy_cv,testing_dataset$ecy)"
   ]
  },
  {
   "cell_type": "code",
   "execution_count": 14,
   "metadata": {
    "collapsed": true
   },
   "outputs": [],
   "source": [
    "write.table(training_dataset,paste(DataDir,\"property_wcf_training.csv\", sep = \"\"), sep=\",\",  col.names=TRUE, row.names = FALSE)\n",
    "write.table(testing_dataset,paste(DataDir,\"property_wcf_testing.csv\", sep = \"\"), sep=\",\",  col.names=TRUE, row.names = FALSE)\n",
    "write.table(prediction_dataset,paste(DataDir,\"property_water_claims_non_cat_fs.csv\", sep = \"\"), sep=\",\",  col.names=TRUE, row.names = FALSE)"
   ]
  }
 ],
 "metadata": {
  "kernelspec": {
   "display_name": "R",
   "language": "R",
   "name": "ir"
  },
  "language_info": {
   "codemirror_mode": "r",
   "file_extension": ".r",
   "mimetype": "text/x-r-source",
   "name": "R",
   "pygments_lexer": "r",
   "version": "3.6.0"
  }
 },
 "nbformat": 4,
 "nbformat_minor": 2
}
