{
 "cells": [
  {
   "cell_type": "code",
   "execution_count": 12,
   "metadata": {
    "collapsed": true
   },
   "outputs": [],
   "source": [
    "ModelsDir = '/home/kate/Research/Property/Models/'"
   ]
  },
  {
   "cell_type": "code",
   "execution_count": 13,
   "metadata": {
    "collapsed": true
   },
   "outputs": [],
   "source": [
    "import pandas as pd\n",
    "import numpy as np\n",
    "import pickle\n",
    "import xgboost as xgb\n",
    "import os\n",
    "import xgbfir"
   ]
  },
  {
   "cell_type": "code",
   "execution_count": 14,
   "metadata": {
    "collapsed": true
   },
   "outputs": [],
   "source": [
    "Models = ['basemodel0_class_XGB',\n",
    "          'basemodel1_class_XGB',\n",
    "          'wc_Poisson_bm_ecy_XGB',\n",
    "          'wc_Poisson_f_ecy_XGB',\n",
    "          'wc_class_f_ecy_XGB',\n",
    "          'wc_class_bm_ecy_XGB',\n",
    "          'wc_Linear_Reg_XGB_mae',\n",
    "          'wc_LogRegObj_Reg_XGB_mae',\n",
    "          'wc_Gamma_Reg_XGB_mae']"
   ]
  },
  {
   "cell_type": "code",
   "execution_count": 15,
   "metadata": {
    "collapsed": true
   },
   "outputs": [],
   "source": [
    "featureset_basemodel0  = [\n",
    "'roofcd_encd',\n",
    "'sqft',  \n",
    "'usagetype_encd',\n",
    "'yearbuilt',\n",
    "'water_risk_3_blk',\n",
    "'landlordind',\n",
    "'multipolicyind'  \n",
    "]"
   ]
  },
  {
   "cell_type": "code",
   "execution_count": 16,
   "metadata": {
    "collapsed": true
   },
   "outputs": [],
   "source": [
    "featureset_basemodel1  = [\n",
    "'roofcd_encd',\n",
    "'sqft',  \n",
    "'usagetype_encd',\n",
    "'yearbuilt',\n",
    "'water_risk_3_blk',\n",
    "'landlordind',\n",
    "'multipolicyind',\n",
    "'cova_deductible',\n",
    "'cova_limit'\n",
    "]"
   ]
  },
  {
   "cell_type": "code",
   "execution_count": 17,
   "metadata": {
    "collapsed": true
   },
   "outputs": [],
   "source": [
    "featureset_bm  = [\n",
    " 'cova_deductible',\n",
    " 'roofcd_encd',\n",
    " 'sqft',\n",
    " 'usagetype_encd',\n",
    " 'yearbuilt',\n",
    " 'cova_limit',\n",
    " 'water_risk_fre_3_blk',\n",
    " 'water_risk_3_blk'\n",
    "]"
   ]
  },
  {
   "cell_type": "code",
   "execution_count": 18,
   "metadata": {
    "collapsed": true
   },
   "outputs": [],
   "source": [
    "featureset_f  = [\n",
    " 'cova_deductible',\n",
    " 'roofcd_encd',\n",
    " 'sqft',\n",
    " 'usagetype_encd',\n",
    " 'yearbuilt',\n",
    " 'cova_limit',\n",
    " 'water_risk_fre_3_blk',\n",
    " 'water_risk_3_blk',\n",
    " 'ecy'\n",
    "]"
   ]
  },
  {
   "cell_type": "code",
   "execution_count": 19,
   "metadata": {
    "collapsed": true
   },
   "outputs": [],
   "source": [
    "featureset_s=[\n",
    " 'cova_deductible',\n",
    " 'roofcd_encd',\n",
    " 'sqft',\n",
    " 'usagetype_encd',\n",
    " 'yearbuilt',\n",
    " 'cova_limit',\n",
    " 'water_risk_sev_3_blk',\n",
    " 'ecy'\n",
    "]"
   ]
  },
  {
   "cell_type": "code",
   "execution_count": 20,
   "metadata": {
    "collapsed": true
   },
   "outputs": [],
   "source": [
    "kfold = 5"
   ]
  },
  {
   "cell_type": "code",
   "execution_count": 21,
   "metadata": {
    "collapsed": true
   },
   "outputs": [],
   "source": [
    "def create_fmap(ModelName,featureset):\n",
    "    fmap_filename='%s%s.fmap'%(ModelsDir,ModelName)\n",
    "    outfile = open(fmap_filename, 'w')\n",
    "    for i, feat in enumerate(featureset):\n",
    "        outfile.write('{0}\\t{1}\\tq\\n'.format(i, feat))\n",
    "    outfile.close()\n",
    "    return fmap_filename"
   ]
  },
  {
   "cell_type": "code",
   "execution_count": 22,
   "metadata": {},
   "outputs": [
    {
     "name": "stdout",
     "output_type": "stream",
     "text": [
      "Processing model basemodel0_class_XGB, fold 0...\n",
      "Processing model basemodel0_class_XGB, fold 1...\n",
      "Processing model basemodel0_class_XGB, fold 2...\n",
      "Processing model basemodel0_class_XGB, fold 3...\n",
      "Processing model basemodel0_class_XGB, fold 4...\n",
      "Processing model basemodel1_class_XGB, fold 0...\n",
      "Processing model basemodel1_class_XGB, fold 1...\n",
      "Processing model basemodel1_class_XGB, fold 2...\n",
      "Processing model basemodel1_class_XGB, fold 3...\n",
      "Processing model basemodel1_class_XGB, fold 4...\n",
      "Processing model wc_Poisson_bm_ecy_XGB, fold 0...\n",
      "Processing model wc_Poisson_bm_ecy_XGB, fold 1...\n",
      "Processing model wc_Poisson_bm_ecy_XGB, fold 2...\n",
      "Processing model wc_Poisson_bm_ecy_XGB, fold 3...\n",
      "Processing model wc_Poisson_bm_ecy_XGB, fold 4...\n",
      "Processing model wc_Poisson_f_ecy_XGB, fold 0...\n",
      "Processing model wc_Poisson_f_ecy_XGB, fold 1...\n",
      "Processing model wc_Poisson_f_ecy_XGB, fold 2...\n",
      "Processing model wc_Poisson_f_ecy_XGB, fold 3...\n",
      "Processing model wc_Poisson_f_ecy_XGB, fold 4...\n",
      "Processing model wc_class_f_ecy_XGB, fold 0...\n",
      "Processing model wc_class_f_ecy_XGB, fold 1...\n",
      "Processing model wc_class_f_ecy_XGB, fold 2...\n",
      "Processing model wc_class_f_ecy_XGB, fold 3...\n",
      "Processing model wc_class_f_ecy_XGB, fold 4...\n",
      "Processing model wc_class_bm_ecy_XGB, fold 0...\n",
      "Processing model wc_class_bm_ecy_XGB, fold 1...\n",
      "Processing model wc_class_bm_ecy_XGB, fold 2...\n",
      "Processing model wc_class_bm_ecy_XGB, fold 3...\n",
      "Processing model wc_class_bm_ecy_XGB, fold 4...\n",
      "Processing model wc_Linear_Reg_XGB_mae, fold 0...\n",
      "Processing model wc_Linear_Reg_XGB_mae, fold 1...\n",
      "Processing model wc_Linear_Reg_XGB_mae, fold 2...\n",
      "Processing model wc_Linear_Reg_XGB_mae, fold 3...\n",
      "Processing model wc_Linear_Reg_XGB_mae, fold 4...\n",
      "Processing model wc_LogRegObj_Reg_XGB_mae, fold 0...\n",
      "Processing model wc_LogRegObj_Reg_XGB_mae, fold 1...\n",
      "Processing model wc_LogRegObj_Reg_XGB_mae, fold 2...\n",
      "Processing model wc_LogRegObj_Reg_XGB_mae, fold 3...\n",
      "Processing model wc_LogRegObj_Reg_XGB_mae, fold 4...\n",
      "Processing model wc_Gamma_Reg_XGB_mae, fold 0...\n",
      "Processing model wc_Gamma_Reg_XGB_mae, fold 1...\n",
      "Processing model wc_Gamma_Reg_XGB_mae, fold 2...\n",
      "Processing model wc_Gamma_Reg_XGB_mae, fold 3...\n",
      "Processing model wc_Gamma_Reg_XGB_mae, fold 4...\n"
     ]
    }
   ],
   "source": [
    "feat_imp_all = pd.DataFrame()\n",
    "for Model in Models:\n",
    "    for i in range(0,kfold):\n",
    "        ModelName=Model+\"_%s\"%i\n",
    "        xgb_model_file='%s%s.model'%(ModelsDir,ModelName)\n",
    "        print('Processing model %s, fold %s...'%(Model,i))\n",
    "        xgb_model = pickle.load(open(xgb_model_file, 'rb'))\n",
    "        #feature importance\n",
    "        if '_bm_'  in Model:\n",
    "            featureset=featureset_bm\n",
    "        elif 'basemodel0'  in Model:\n",
    "            featureset=featureset_basemodel0\n",
    "        elif 'basemodel1'  in Model: \n",
    "            featureset=featureset_basemodel1            \n",
    "        elif '_Reg_'  in Model:\n",
    "            featureset=featureset_s            \n",
    "        else:\n",
    "            featureset=featureset_f\n",
    "        fmap_filename=create_fmap(ModelName,featureset)\n",
    "        feat_imp = pd.Series(xgb_model.get_score(fmap=fmap_filename,importance_type='weight')).to_frame()\n",
    "        feat_imp.columns=['Weight']\n",
    "        feat_imp = feat_imp.join(pd.Series(xgb_model.get_score(fmap=fmap_filename,importance_type='gain')).to_frame())\n",
    "        feat_imp.columns=['Weight','Gain']\n",
    "        feat_imp = feat_imp.join(pd.Series(xgb_model.get_score(fmap=fmap_filename,importance_type='cover')).to_frame())\n",
    "        feat_imp.columns=['Weight','Gain','Cover']\n",
    "        feat_imp['fold']=i\n",
    "        feat_imp['FeatureName'] = feat_imp.index\n",
    "        feat_imp['ModelName'] = Model\n",
    "        feat_imp_all = feat_imp_all.append(feat_imp, ignore_index=True)\n",
    "        #iterations\n",
    "        xgbfir.saveXgbFI(xgb_model, feature_names=featureset,  TopK = 500,  MaxTrees = 500, MaxInteractionDepth = 2, OutputXlsxFile = '%s%s_%s.xlsx'%(ModelsDir,Model,i))\n",
    "feat_imp_all = feat_imp_all[['ModelName','fold','FeatureName','Weight','Gain','Cover']]\n",
    "feat_imp_all.to_csv('%swc_feature_importance.csv'%ModelsDir,header=True,index=False)"
   ]
  }
 ],
 "metadata": {
  "kernelspec": {
   "display_name": "Python 3",
   "language": "python",
   "name": "python3"
  },
  "language_info": {
   "codemirror_mode": {
    "name": "ipython",
    "version": 3
   },
   "file_extension": ".py",
   "mimetype": "text/x-python",
   "name": "python",
   "nbconvert_exporter": "python",
   "pygments_lexer": "ipython3",
   "version": "3.6.10"
  }
 },
 "nbformat": 4,
 "nbformat_minor": 2
}
