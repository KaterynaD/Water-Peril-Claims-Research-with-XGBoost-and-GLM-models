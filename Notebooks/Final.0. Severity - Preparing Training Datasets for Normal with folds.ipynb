{
 "cells": [
  {
   "cell_type": "code",
   "execution_count": 10,
   "metadata": {
    "collapsed": true
   },
   "outputs": [],
   "source": [
    "import pandas as pd\n",
    "import numpy as np"
   ]
  },
  {
   "cell_type": "code",
   "execution_count": 11,
   "metadata": {
    "collapsed": true
   },
   "outputs": [],
   "source": [
    "data_folder = '/home/kate/Research/Property/Data/'"
   ]
  },
  {
   "cell_type": "code",
   "execution_count": 12,
   "metadata": {
    "collapsed": true
   },
   "outputs": [],
   "source": [
    "data = pd.read_csv(data_folder+'property_water_claims_non_cat_fs_v5.csv', error_bad_lines=False, index_col=False)"
   ]
  },
  {
   "cell_type": "markdown",
   "metadata": {},
   "source": [
    "For better fit Normal distribution remove only small losses"
   ]
  },
  {
   "cell_type": "code",
   "execution_count": 13,
   "metadata": {
    "collapsed": true
   },
   "outputs": [],
   "source": [
    "dataset = data[data.cova_il_nc_water >=100].copy()"
   ]
  },
  {
   "cell_type": "code",
   "execution_count": 14,
   "metadata": {
    "collapsed": true
   },
   "outputs": [],
   "source": [
    "featureset_predictors  = [\n",
    "'cova_deductible',\n",
    "'roofcd_encd',\n",
    "'water_risk_sev_3_blk',\n",
    "'sqft',\n",
    "'rep_cost_3_blk',\n",
    "'yearbuilt',\n",
    "'ecy',\n",
    "'usagetype_encd',    \n",
    "'log_yearbuilt',\n",
    "'log_sqft',\n",
    "'log_water_risk_sev_3_blk',\n",
    "'log_ecy'\n",
    "]"
   ]
  },
  {
   "cell_type": "code",
   "execution_count": 15,
   "metadata": {
    "collapsed": true
   },
   "outputs": [],
   "source": [
    "target_column = 'log_cova_il_nc_water' "
   ]
  },
  {
   "cell_type": "code",
   "execution_count": 16,
   "metadata": {
    "collapsed": true
   },
   "outputs": [],
   "source": [
    "from sklearn.model_selection import KFold\n",
    "kfold =5 \n",
    "kf = KFold(n_splits=kfold, random_state=42, shuffle=True)"
   ]
  },
  {
   "cell_type": "code",
   "execution_count": 17,
   "metadata": {
    "collapsed": true
   },
   "outputs": [],
   "source": [
    "folds = list()\n",
    "for i in range(0,kfold):\n",
    "    dataset['fold_%s'%i]=0\n",
    "    folds.append('fold_%s'%i)"
   ]
  },
  {
   "cell_type": "code",
   "execution_count": 18,
   "metadata": {},
   "outputs": [
    {
     "name": "stdout",
     "output_type": "stream",
     "text": [
      "Creating training dataset for 2019\n",
      "Size = 12001\n",
      "Size of unique values = 12001\n",
      "Creating folds\n",
      " fold: 1  of  5 : \n",
      "Size = 9600\n",
      " fold: 2  of  5 : \n",
      "Size = 9601\n",
      " fold: 3  of  5 : \n",
      "Size = 9601\n",
      " fold: 4  of  5 : \n",
      "Size = 9601\n",
      " fold: 5  of  5 : \n",
      "Size = 9601\n",
      "Saving training dataset for 2019\n"
     ]
    }
   ],
   "source": [
    "#for year in dataset.cal_year.unique():\n",
    "for year in [2019]:\n",
    "    print('Creating training dataset for %s'%year)\n",
    "    training_dataset=dataset[(dataset.cal_year != year) & (dataset.cal_year != 2020) ][featureset_predictors + folds+ [target_column]] \n",
    "    print('Size = %s'%len(training_dataset))\n",
    "    #aggregation does not impact because the loss is very unique and is not repeated at all\n",
    "    #but it can be impartant for other type of losses\n",
    "    #training_dataset = pd.DataFrame({'cova_ic_nc_water' : training_dataset.groupby(featureset_predictors + [target_column])[aggregated_column].sum()}).reset_index()\n",
    "    print('Size of unique values = %s'%len(training_dataset))\n",
    "    print('Creating folds')\n",
    "    for i, (train_index, test_index) in enumerate(kf.split(training_dataset[featureset_predictors], training_dataset[target_column])):\n",
    "        print(' fold: {}  of  {} : '.format(i+1, kfold))\n",
    "        training_dataset['fold_%s'%i]=0\n",
    "        training_dataset.iloc[train_index,training_dataset.columns.get_loc('fold_%s'%i)]=1\n",
    "        print('Size = %s'%sum(training_dataset['fold_%s'%i]))\n",
    "    print('Saving training dataset for %s'%year)\n",
    "    training_dataset.to_csv('%sproperty_wcs_training_for_normal.csv'%(data_folder),header=True,index=False)\n",
    "        "
   ]
  }
 ],
 "metadata": {
  "kernelspec": {
   "display_name": "Python 3",
   "language": "python",
   "name": "python3"
  },
  "language_info": {
   "codemirror_mode": {
    "name": "ipython",
    "version": 3
   },
   "file_extension": ".py",
   "mimetype": "text/x-python",
   "name": "python",
   "nbconvert_exporter": "python",
   "pygments_lexer": "ipython3",
   "version": "3.6.10"
  }
 },
 "nbformat": 4,
 "nbformat_minor": 2
}
