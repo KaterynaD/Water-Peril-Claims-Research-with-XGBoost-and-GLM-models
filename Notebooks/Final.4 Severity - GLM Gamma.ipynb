{
 "cells": [
  {
   "cell_type": "code",
   "execution_count": 1,
   "metadata": {
    "collapsed": true
   },
   "outputs": [],
   "source": [
    "ModelsDir <- '/home/kate/Research/Property/Models/'\n",
    "DataDir <- '/home/kate/Research/Property/Data/'\n",
    "ModelName <- \"wc_gamma_glm\"\n",
    "UseSavedIfExists <- FALSE"
   ]
  },
  {
   "cell_type": "code",
   "execution_count": 2,
   "metadata": {},
   "outputs": [
    {
     "name": "stderr",
     "output_type": "stream",
     "text": [
      "Warning message:\n",
      "“package ‘Metrics’ was built under R version 3.6.3”\n"
     ]
    }
   ],
   "source": [
    "library(Metrics)"
   ]
  },
  {
   "cell_type": "code",
   "execution_count": 3,
   "metadata": {
    "collapsed": true
   },
   "outputs": [],
   "source": [
    "source('/home/kate/code/Utils/MyFunctions.R')"
   ]
  },
  {
   "cell_type": "code",
   "execution_count": 4,
   "metadata": {
    "collapsed": true
   },
   "outputs": [],
   "source": [
    "training_dataset <- read.csv(paste(DataDir,\"property_wcs_training_for_gamma.csv\", sep = \"\"), header=TRUE)\n",
    "testing_dataset <- read.csv(paste(DataDir,\"property_wcf_testing.csv\", sep = \"\"), header=TRUE)\n",
    "prediction_dataset <- read.csv(paste(DataDir,\"property_water_claims_non_cat_fs.csv\", sep = \"\"), header=TRUE)"
   ]
  },
  {
   "cell_type": "code",
   "execution_count": 103,
   "metadata": {
    "collapsed": true
   },
   "outputs": [],
   "source": [
    "formula <- cova_il_nc_water ~ ecy + cova_deductible + log_yearbuilt + log_sqft + log_water_risk_sev_3_blk + rep_cost_3_blk + usagetype_encd"
   ]
  },
  {
   "cell_type": "code",
   "execution_count": 104,
   "metadata": {},
   "outputs": [
    {
     "data": {
      "text/plain": [
       "\n",
       "Call:\n",
       "glm(formula = formula, family = Gamma(link = \"log\"), data = training_dataset)\n",
       "\n",
       "Deviance Residuals: \n",
       "    Min       1Q   Median       3Q      Max  \n",
       "-2.7706  -1.0235  -0.3837   0.3505   2.6138  \n",
       "\n",
       "Coefficients:\n",
       "                           Estimate Std. Error t value Pr(>|t|)    \n",
       "(Intercept)               1.414e+01  7.675e+00   1.842 0.065524 .  \n",
       "ecy                       1.514e-02  3.798e-02   0.399 0.690079    \n",
       "cova_deductible           1.174e-04  1.315e-05   8.923  < 2e-16 ***\n",
       "log_yearbuilt            -9.440e-01  1.016e+00  -0.929 0.352931    \n",
       "log_sqft                  9.682e-02  2.857e-02   3.389 0.000704 ***\n",
       "log_water_risk_sev_3_blk  2.449e-01  4.427e-02   5.531 3.25e-08 ***\n",
       "rep_cost_3_blk            3.614e-02  1.358e-02   2.660 0.007820 ** \n",
       "usagetype_encd            1.036e-03  1.851e-02   0.056 0.955377    \n",
       "---\n",
       "Signif. codes:  0 ‘***’ 0.001 ‘**’ 0.01 ‘*’ 0.05 ‘.’ 0.1 ‘ ’ 1\n",
       "\n",
       "(Dispersion parameter for Gamma family taken to be 0.9426904)\n",
       "\n",
       "    Null deviance: 12323  on 11413  degrees of freedom\n",
       "Residual deviance: 12120  on 11406  degrees of freedom\n",
       "AIC: 233106\n",
       "\n",
       "Number of Fisher Scoring iterations: 6\n"
      ]
     },
     "metadata": {},
     "output_type": "display_data"
    }
   ],
   "source": [
    "Model <- glm(formula,family = Gamma(link = \"log\"),data = training_dataset)\n",
    "summary(Model)"
   ]
  },
  {
   "cell_type": "code",
   "execution_count": 105,
   "metadata": {
    "collapsed": true
   },
   "outputs": [],
   "source": [
    "training_dataset$gamma_glm <-  predict.glm(Model, training_dataset, type = \"response\", se.fit = T)$fit \n",
    "testing_dataset$gamma_glm <-  predict.glm(Model, testing_dataset, type = \"response\", se.fit = T)$fit \n",
    "prediction_dataset$gamma_glm <-  predict.glm(Model, prediction_dataset, type = \"response\", se.fit = T)$fit "
   ]
  },
  {
   "cell_type": "markdown",
   "metadata": {},
   "source": [
    "Train Dataset Scores"
   ]
  },
  {
   "cell_type": "code",
   "execution_count": 106,
   "metadata": {},
   "outputs": [
    {
     "data": {
      "text/html": [
       "0.156121766672429"
      ],
      "text/latex": [
       "0.156121766672429"
      ],
      "text/markdown": [
       "0.156121766672429"
      ],
      "text/plain": [
       "[1] 0.1561218"
      ]
     },
     "metadata": {},
     "output_type": "display_data"
    }
   ],
   "source": [
    "NormalizedWeightedGini(training_dataset$cova_il_nc_water,training_dataset$gamma_glm,training_dataset$ecy)"
   ]
  },
  {
   "cell_type": "code",
   "execution_count": 107,
   "metadata": {},
   "outputs": [
    {
     "data": {
      "text/html": [
       "7471.69373527092"
      ],
      "text/latex": [
       "7471.69373527092"
      ],
      "text/markdown": [
       "7471.69373527092"
      ],
      "text/plain": [
       "[1] 7471.694"
      ]
     },
     "metadata": {},
     "output_type": "display_data"
    }
   ],
   "source": [
    "mae(training_dataset$cova_il_nc_water,training_dataset$gamma_glm)"
   ]
  },
  {
   "cell_type": "code",
   "execution_count": 108,
   "metadata": {},
   "outputs": [
    {
     "data": {
      "text/html": [
       "9716.65206063733"
      ],
      "text/latex": [
       "9716.65206063733"
      ],
      "text/markdown": [
       "9716.65206063733"
      ],
      "text/plain": [
       "[1] 9716.652"
      ]
     },
     "metadata": {},
     "output_type": "display_data"
    }
   ],
   "source": [
    "rmse(training_dataset$cova_il_nc_water,training_dataset$gamma_glm)"
   ]
  },
  {
   "cell_type": "markdown",
   "metadata": {},
   "source": [
    "Test Dataset Scores"
   ]
  },
  {
   "cell_type": "code",
   "execution_count": 109,
   "metadata": {},
   "outputs": [
    {
     "data": {
      "text/html": [
       "0.247633972906366"
      ],
      "text/latex": [
       "0.247633972906366"
      ],
      "text/markdown": [
       "0.247633972906366"
      ],
      "text/plain": [
       "[1] 0.247634"
      ]
     },
     "metadata": {},
     "output_type": "display_data"
    }
   ],
   "source": [
    "NormalizedWeightedGini(testing_dataset[testing_dataset$cova_ic_nc_water>0,]$cova_il_nc_water,testing_dataset[testing_dataset$cova_ic_nc_water>0,]$gamma_glm,testing_dataset[testing_dataset$cova_ic_nc_water>0,]$ecy)"
   ]
  },
  {
   "cell_type": "code",
   "execution_count": 110,
   "metadata": {},
   "outputs": [
    {
     "data": {
      "text/html": [
       "11551.6952148738"
      ],
      "text/latex": [
       "11551.6952148738"
      ],
      "text/markdown": [
       "11551.6952148738"
      ],
      "text/plain": [
       "[1] 11551.7"
      ]
     },
     "metadata": {},
     "output_type": "display_data"
    }
   ],
   "source": [
    "mae(testing_dataset[testing_dataset$cova_ic_nc_water>0,]$cova_il_nc_water, testing_dataset[testing_dataset$cova_ic_nc_water>0,]$gamma_glm)"
   ]
  },
  {
   "cell_type": "code",
   "execution_count": 111,
   "metadata": {},
   "outputs": [
    {
     "data": {
      "text/html": [
       "21480.4463578529"
      ],
      "text/latex": [
       "21480.4463578529"
      ],
      "text/markdown": [
       "21480.4463578529"
      ],
      "text/plain": [
       "[1] 21480.45"
      ]
     },
     "metadata": {},
     "output_type": "display_data"
    }
   ],
   "source": [
    "rmse(testing_dataset[testing_dataset$cova_ic_nc_water>0,]$cova_il_nc_water, testing_dataset[testing_dataset$cova_ic_nc_water>0,]$gamma_glm)"
   ]
  },
  {
   "cell_type": "code",
   "execution_count": 112,
   "metadata": {
    "collapsed": true
   },
   "outputs": [],
   "source": [
    "write.table(training_dataset,paste(DataDir,\"property_wcs_training_for_gamma.csv\", sep = \"\"), sep=\",\",  col.names=TRUE, row.names = FALSE)\n",
    "write.table(testing_dataset,paste(DataDir,\"property_wcf_testing.csv\", sep = \"\"), sep=\",\",  col.names=TRUE, row.names = FALSE)\n",
    "write.table(prediction_dataset,paste(DataDir,\"property_water_claims_non_cat_fs.csv\", sep = \"\"), sep=\",\",  col.names=TRUE, row.names = FALSE)"
   ]
  }
 ],
 "metadata": {
  "kernelspec": {
   "display_name": "R",
   "language": "R",
   "name": "ir"
  },
  "language_info": {
   "codemirror_mode": "r",
   "file_extension": ".r",
   "mimetype": "text/x-r-source",
   "name": "R",
   "pygments_lexer": "r",
   "version": "3.6.0"
  }
 },
 "nbformat": 4,
 "nbformat_minor": 2
}
