{
 "cells": [
  {
   "cell_type": "code",
   "execution_count": 1,
   "metadata": {
    "tags": []
   },
   "outputs": [],
   "source": [
    "import pandas as pd\n",
    "import numpy as np"
   ]
  },
  {
   "cell_type": "code",
   "execution_count": 2,
   "metadata": {
    "tags": []
   },
   "outputs": [],
   "source": [
    "data_folder = '/home/kate/Research/Property/Data/'"
   ]
  },
  {
   "cell_type": "code",
   "execution_count": 3,
   "metadata": {},
   "outputs": [],
   "source": [
    "dataset = pd.read_csv(data_folder+'property_water_claims_non_cat_fs_v5.csv', error_bad_lines=False, index_col=False)"
   ]
  },
  {
   "cell_type": "code",
   "execution_count": 4,
   "metadata": {},
   "outputs": [
    {
     "name": "stderr",
     "output_type": "stream",
     "text": [
      "/home/kate/anaconda3/lib/python3.8/site-packages/pandas/core/series.py:726: RuntimeWarning: divide by zero encountered in log\n",
      "  result = getattr(ufunc, method)(*inputs, **kwargs)\n"
     ]
    }
   ],
   "source": [
    "dataset['log_property_age']=np.where(dataset['cal_year']==dataset['yearbuilt'], 0, np.log(np.abs(dataset['cal_year'] - dataset['yearbuilt']))) "
   ]
  },
  {
   "cell_type": "code",
   "execution_count": 5,
   "metadata": {},
   "outputs": [
    {
     "data": {
      "text/html": [
       "<div>\n",
       "<style scoped>\n",
       "    .dataframe tbody tr th:only-of-type {\n",
       "        vertical-align: middle;\n",
       "    }\n",
       "\n",
       "    .dataframe tbody tr th {\n",
       "        vertical-align: top;\n",
       "    }\n",
       "\n",
       "    .dataframe thead th {\n",
       "        text-align: right;\n",
       "    }\n",
       "</style>\n",
       "<table border=\"1\" class=\"dataframe\">\n",
       "  <thead>\n",
       "    <tr style=\"text-align: right;\">\n",
       "      <th></th>\n",
       "      <th>log_property_age</th>\n",
       "      <th>cal_year</th>\n",
       "      <th>yearbuilt</th>\n",
       "    </tr>\n",
       "  </thead>\n",
       "  <tbody>\n",
       "    <tr>\n",
       "      <th>519525</th>\n",
       "      <td>0.000000</td>\n",
       "      <td>2016</td>\n",
       "      <td>2015</td>\n",
       "    </tr>\n",
       "    <tr>\n",
       "      <th>1037946</th>\n",
       "      <td>0.000000</td>\n",
       "      <td>2018</td>\n",
       "      <td>2019</td>\n",
       "    </tr>\n",
       "    <tr>\n",
       "      <th>229993</th>\n",
       "      <td>0.000000</td>\n",
       "      <td>2009</td>\n",
       "      <td>2009</td>\n",
       "    </tr>\n",
       "    <tr>\n",
       "      <th>1429856</th>\n",
       "      <td>0.000000</td>\n",
       "      <td>2019</td>\n",
       "      <td>2019</td>\n",
       "    </tr>\n",
       "    <tr>\n",
       "      <th>500410</th>\n",
       "      <td>0.000000</td>\n",
       "      <td>2016</td>\n",
       "      <td>2015</td>\n",
       "    </tr>\n",
       "    <tr>\n",
       "      <th>...</th>\n",
       "      <td>...</td>\n",
       "      <td>...</td>\n",
       "      <td>...</td>\n",
       "    </tr>\n",
       "    <tr>\n",
       "      <th>177762</th>\n",
       "      <td>4.795791</td>\n",
       "      <td>2021</td>\n",
       "      <td>1900</td>\n",
       "    </tr>\n",
       "    <tr>\n",
       "      <th>1232214</th>\n",
       "      <td>4.795791</td>\n",
       "      <td>2021</td>\n",
       "      <td>1900</td>\n",
       "    </tr>\n",
       "    <tr>\n",
       "      <th>126043</th>\n",
       "      <td>4.795791</td>\n",
       "      <td>2021</td>\n",
       "      <td>1900</td>\n",
       "    </tr>\n",
       "    <tr>\n",
       "      <th>1728973</th>\n",
       "      <td>4.795791</td>\n",
       "      <td>2021</td>\n",
       "      <td>1900</td>\n",
       "    </tr>\n",
       "    <tr>\n",
       "      <th>447178</th>\n",
       "      <td>4.795791</td>\n",
       "      <td>2021</td>\n",
       "      <td>1900</td>\n",
       "    </tr>\n",
       "  </tbody>\n",
       "</table>\n",
       "<p>1995765 rows × 3 columns</p>\n",
       "</div>"
      ],
      "text/plain": [
       "         log_property_age  cal_year  yearbuilt\n",
       "519525           0.000000      2016       2015\n",
       "1037946          0.000000      2018       2019\n",
       "229993           0.000000      2009       2009\n",
       "1429856          0.000000      2019       2019\n",
       "500410           0.000000      2016       2015\n",
       "...                   ...       ...        ...\n",
       "177762           4.795791      2021       1900\n",
       "1232214          4.795791      2021       1900\n",
       "126043           4.795791      2021       1900\n",
       "1728973          4.795791      2021       1900\n",
       "447178           4.795791      2021       1900\n",
       "\n",
       "[1995765 rows x 3 columns]"
      ]
     },
     "execution_count": 5,
     "metadata": {},
     "output_type": "execute_result"
    }
   ],
   "source": [
    "dataset[['log_property_age','cal_year','yearbuilt']].sort_values(by=['log_property_age'])"
   ]
  },
  {
   "cell_type": "code",
   "execution_count": 6,
   "metadata": {
    "tags": []
   },
   "outputs": [],
   "source": [
    "featureset  = [\n",
    "'log_sqft',\n",
    "'usagetype',    \n",
    "'log_property_age',\n",
    "'log_water_risk_3_blk',     \n",
    "'cova_deductible',\n",
    "'customer_cnt_active_policies',\n",
    "'log_ecy',\n",
    "'ecy'\n",
    "]"
   ]
  },
  {
   "cell_type": "code",
   "execution_count": 7,
   "metadata": {
    "tags": []
   },
   "outputs": [],
   "source": [
    "target_column= 'cova_ic_nc_water' "
   ]
  },
  {
   "cell_type": "code",
   "execution_count": 8,
   "metadata": {
    "tags": []
   },
   "outputs": [],
   "source": [
    "#StratifiedKFold\n",
    "from sklearn.model_selection import StratifiedKFold\n",
    "kfold = 5\n",
    "skf = StratifiedKFold(n_splits=kfold, random_state=42, shuffle=True)"
   ]
  },
  {
   "cell_type": "code",
   "execution_count": 9,
   "metadata": {},
   "outputs": [
    {
     "name": "stdout",
     "output_type": "stream",
     "text": [
      "Creating training dataset excluding 2019 and 2020\n",
      "Training Size Original = 1615387\n",
      "Creating folds\n",
      " fold: 1  of  5 : \n",
      " fold: 2  of  5 : \n",
      " fold: 3  of  5 : \n",
      " fold: 4  of  5 : \n",
      " fold: 5  of  5 : \n",
      "Saving training dataset \n"
     ]
    }
   ],
   "source": [
    "print('Creating training dataset excluding 2019 and 2020')\n",
    "training_dataset=dataset[(dataset.cal_year != 2019) & (dataset.cal_year != 2020) ][featureset + [target_column]]\n",
    "print('Training Size Original = %s'%len(training_dataset))\n",
    "print('Creating folds')\n",
    "for i, (train_index, test_index) in enumerate(skf.split(training_dataset[featureset], training_dataset[target_column])):\n",
    "    print(' fold: {}  of  {} : '.format(i+1, kfold))\n",
    "    training_dataset['fold_%s'%i]=0\n",
    "    training_dataset.iloc[train_index,training_dataset.columns.get_loc('fold_%s'%i)]=1\n",
    "print('Saving training dataset ')\n",
    "training_dataset.to_csv('%sproperty_wcf_training.csv'%(data_folder),header=True,index=False)   "
   ]
  },
  {
   "cell_type": "markdown",
   "metadata": {},
   "source": [
    "Training dataset for classification"
   ]
  },
  {
   "cell_type": "code",
   "execution_count": 10,
   "metadata": {},
   "outputs": [
    {
     "name": "stdout",
     "output_type": "stream",
     "text": [
      "Testing Size = 221557\n"
     ]
    }
   ],
   "source": [
    "testing_dataset=dataset[dataset.cal_year == 2019]\n",
    "print('Testing Size = %s'%len(testing_dataset))\n",
    "testing_dataset.to_csv('%sproperty_wcf_testing.csv'%(data_folder),header=True,index=False)   "
   ]
  },
  {
   "cell_type": "code",
   "execution_count": null,
   "metadata": {},
   "outputs": [],
   "source": [
    "prediction_dataset=dataset[dataset.cal_year == 2020]\n",
    "print('Prediction Size = %s'%len(prediction_dataset))\n",
    "prediction_dataset.to_csv('%sproperty_wcf_prediction.csv'%(data_folder),header=True,index=False)"
   ]
  }
 ],
 "metadata": {
  "kernelspec": {
   "display_name": "Python 3",
   "language": "python",
   "name": "python3"
  },
  "language_info": {
   "codemirror_mode": {
    "name": "ipython",
    "version": 3
   },
   "file_extension": ".py",
   "mimetype": "text/x-python",
   "name": "python",
   "nbconvert_exporter": "python",
   "pygments_lexer": "ipython3",
   "version": "3.8.5"
  }
 },
 "nbformat": 4,
 "nbformat_minor": 4
}
