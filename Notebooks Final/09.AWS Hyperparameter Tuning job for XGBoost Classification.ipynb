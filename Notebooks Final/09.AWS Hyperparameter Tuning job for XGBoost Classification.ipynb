{
 "cells": [
  {
   "cell_type": "markdown",
   "metadata": {},
   "source": [
    "## 09.AWS Hyperparameter Tuning job for XGBoost Classification\n",
    "\n",
    "Purpose: Based on the configured list of hyperparameters ranges and input taining data perform Bayesian or Random  tuning job for XGBoost Classification.\n",
    "\n",
    "Single model training or CV with standard or custom evaluation metrics can be used.\n",
    "\n",
    "OpenSource XGBoost is used in the script and it can be replaced with SageMaker built-in XGBoost only for single model training with standard evaluation metric. \n",
    "\n",
    "The notebook uses the same scripts for models training as 01.AWS...Training Model....py and 02.AWS...CV....py \n",
    "\n",
    "#### Custom training script output\n",
    "\n",
    "Only in OpenSource XGBoost custom evaluation metrics can be defined and used for model training directly in the script used for training. However, AWS SageMaker hyperparameter tuning job do not see them. Custom evaluation metrics should be configured in metric_defintions.\n",
    "\n",
    "OpenSource SageMaker XGBoost (as in March 2021 version 1.2-1) is incorrectly recognizing XGBoost as a built-in algorithm and using metric definition raise the error:\n",
    "An error occurred (ValidationException) when calling the CreateTrainingJob operation: You can't override the metric definitions for Amazon SageMaker algorithms. Please retry the request without specifying metric definitions.\n",
    "\n",
    "CV output looks different from training output even if we use  standard XGBoost metrics (ROC-AUC). There is \"test\" instead of \"validation\": \n",
    "\n",
    "[1060]#011train-auc:0.72230+0.00097#011test-auc:0.69244+0.01114\n",
    "\n",
    "AWS SageMaker hyperparameter tuning job does not recognize the output.\n",
    "\n",
    "There are 2 approached to make AWS SageMaker fully functional.\n",
    "\n",
    "**The first one is just to name the custom function as a standard one.**\n",
    "\n",
    "The trick is:\n",
    "1. Create a function to calculate custom metric (gini). If it's named gini it will be used in training but NOT visible for experiments or hyperparameters tuning.\n",
    "2. Name it as a standard score (auc_xgb instead of gini_xgb) \n",
    "3. Disable using a standard score in the parameters: 'disable_default_eval_metric': '1', and do not add eval_metric at all.\n",
    "\n",
    "For CV:\n",
    "\n",
    "Adjust callback functions ooutput in CV  to make it identical to the train output. This is relatively simple option. We may even use a custom evaluation function, just name it like a standard function: accuracy, auc, etc \n",
    "\n",
    "That's easily can be accomplished just in the script used for training.\n",
    "\n",
    "This option is not used in the notebook, but can be implemented easily with adjusting if statement based on entry_point.\n",
    "\n",
    "**The second approach is more complex and require more efforts**\n",
    "\n",
    "You need to register custom metrics with metric_defintions (https://docs.aws.amazon.com/sagemaker/latest/dg/training-metrics.html#define-train-metrics-sdk).\n",
    " \n",
    "As on Mar/2021 open source, script mode, AWS SageMaker XGBoost is still recognized like a standard, built-in algorithm and prevent us using custom metric definitions.\n",
    "See https://github.com/aws/sagemaker-xgboost-container/issues/121\n",
    "\n",
    "The workaround is to create your own container from the official AWS Sagemaker Open Source XGBoost GitHub repository, host it in your own ECR repository, and use this image from Python SDK. \n",
    "\n",
    "**Steps to create your own ECR repository:**\n",
    "\n",
    "1. Install and configure aws-cli (https://docs.aws.amazon.com/cli/latest/userguide/cli-chap-install.html and https://docs.aws.amazon.com/cli/latest/userguide/cli-chap-configure.html)\n",
    "\n",
    "2. Install docker (https://docs.docker.com/engine/install/ubuntu/) or just add your user to the docker group (Some steps below do not work when docker used via sudo)\n",
    "- sudo usermod -aG docker kate\n",
    "Activate the changes to groups\n",
    "- newgrp docker\n",
    "Verify that you can run docker commands without sudo\n",
    "- docker run hello-world\n",
    "3. Build container\n",
    "- git clone https://github.com/aws/sagemaker-xgboost-container\n",
    "- docker build -t xgboost-container-base:1.2-1-cpu-py3 -f docker/1.0-1/base/Dockerfile.cpu .\n",
    "- python setup.py bdist_wheel --universal\n",
    "- docker build -t preprod-xgboost-container:1.2-1-cpu-py3 -f docker/1.2-1/final/Dockerfile.cpu .\n",
    "4. Create ECR repository and push the above image.\n",
    "- eval $(aws ecr get-login --region  us-west-2 --no-include-email | sed 's|https://||')\n",
    "- aws ecr create-repository --repository-name sagemaker-xgboost --region us-west-2\n",
    "- docker tag preprod-xgboost-container:1.2-1-cpu-py3 XYZ.dkr.ecr.us-west-2.amazonaws.com/sagemaker-xgboost:1.2-1-cpu-py3\n",
    "- docker push XYZ.dkr.ecr.us-west-2.amazonaws.com/sagemaker-xgboost:1.2-1-cpu-py3\n",
    "5. Use image_uri=XYZ.dkr.ecr.us-west-2.amazonaws.com/sagemaker-xgboost:1.2-1-cpu-py3 in XGBoost()\n",
    "\n",
    "\n",
    "#### Notebook Main steps:\n",
    "\n",
    "1. Experiment configuration. Instead of hardcoding datafile name, target variable, hyperparameters ranges directly in the code I use an Excel file. Each tab with a predefined name contains hyperparameters ranges or an input filename. At the end, the code records the results back into the same excel file. Excel is used as an UI to easily configure experiment and simplify re-use of this notebook\n",
    "\n",
    "AWS SageMaker Experiment is not used directly in hyperparameter tuning job. There is a code in the notebook to record all tuning training jobs in an experiment but I do not see a lot of gain from this.\n",
    "\n",
    "2. Running tuning job.\n",
    "\n",
    "\n",
    "3. Extracting results, visualization and saving to an experiment log file.  \n",
    "\n",
    "\n",
    "#### Known issues:\n",
    "1. Warnings after upgrading SageMaker to version 2:\n",
    "INFO:sagemaker.image_uris:Defaulting to the only supported framework/algorithm version: latest.\n",
    "INFO:sagemaker.image_uris:Ignoring unnecessary instance type: None.\n",
    "Looks like warnings from XGBoost open-source estimator. No clear information about the parameters\n",
    "2. All models artifacts (debugging info) are saved into output_path provided as a parameter to the estimator (expected only model.tar.gz) except source/sourcedir.tar.gz which is saved into root of a bucket from output_path. Previously everything except model.tar.gz was saved into default bucket. This is entry_point (training) script and the path is defined in SM_MODULE_DIR environment variable but there is no clue how to change it. \n",
    "3. As on Mar/2021 open source, script mode, AWS SageMaker XGBoost is still recognized like a standard, built-in algorithm and prevent us using custom metric definitions.\n",
    "See https://github.com/aws/sagemaker-xgboost-container/issues/121"
   ]
  },
  {
   "cell_type": "code",
   "execution_count": 1,
   "metadata": {},
   "outputs": [],
   "source": [
    "temp_folder='/home/kate/Research/Property/Notebooks/Experiments/tmp/'\n",
    "Experiments_file='/home/kate/Research/Property/Notebooks/Experiments/Logs/Set2-Classification.xlsx'\n",
    "AllExperiments_tab='Experiments'\n",
    "#Experiment name will be used as Hyperparameter job name\n",
    "Experiment_name='OWeightHyper'\n",
    "#1. Experiment configuration: the same dataset is used in all trial omponents\n",
    "Experiment_InputData='%s InputData'%Experiment_name\n",
    "#2. HyperParam configuration: min, max value and type: ContinuousParameterRanges, IntegerParameterRanges\n",
    "#If MinValue=MaxValue it's a static parameter and will not be added into tuning job but into models directly\n",
    "Experiment_models='%s Ranges'%Experiment_name\n",
    "\n",
    "Trial_name='%s-TrainingModels'%Experiment_name \n",
    "\n",
    "\n",
    "\n",
    "#model in\n",
    "bucket='kdproperty'\n",
    "\n",
    "#instance type to be created for training jobs. \n",
    "instance_type='ml.c5.xlarge'\n",
    "\n",
    "strategy='Bayesian' #Random\n",
    "#how many total training jobs to run in the tuning process\n",
    "max_jobs=100\n",
    "\n",
    "#how many jobs to run in parallel\n",
    "max_parallel_jobs=2\n",
    "\n",
    "#data in training and testing file type\n",
    "content_type='text/csv'\n",
    "\n",
    "path_to_models='Models/Experiments/%s'%Experiment_name\n",
    "\n",
    "\n",
    "#entry_point defines a script to be run for model training\n",
    "#the scripts have different ouput and metric defnitions as well as the objective metric should be adjusted accordingly\n",
    "entry_point='ModelCV_Gini_EvalMetric-OverfittingAdj.py'  #'ModelTraining.py' #uses a standard XGBoost metric (auc), no need for custom image_uri in XGBoost and metric definition, objective is validation:auc\n",
    "# ModelTraining_Gini_EvalMetric.py uses XGBoost training with custom evaluation metric - gini. Use custom image_uri and metric defnitions. Objective should be adjusted to validation:gini\n",
    "# ModelCV.py uses XGBoost CV to return the final, standard, evaluation metric - auc. Use custom image_uri and metric defnitions. Objective should be adjusted to test:auc\n",
    "# ModelCV_Gini_EvalMetric.py uses XGBoost CV with custom evaluation metric - gini. Use custom image_uri and metric defnitions. Objective should be adjusted to  test:gini\n",
    "\n",
    "#just a placeholder. the parameter can be commented in XGBoostbor just leave it as empty string. It's used when standard metrics are used.\n",
    "stnadard_image_uri=''\n",
    "#it's needed as a workaround to be able to work with custom metrics and scripts output in AWS Sagemaker montitor systems, charts and experiment\n",
    "custom_image_uri='757107622481.dkr.ecr.us-west-2.amazonaws.com/sagemaker-xgboost:1.2-1-cpu-py3'\n",
    "\n",
    "\n",
    "#number of folds for CV\n",
    "#it maybe skipped if CV is not used\n",
    "num_folds='10'"
   ]
  },
  {
   "cell_type": "code",
   "execution_count": 2,
   "metadata": {},
   "outputs": [],
   "source": [
    "#packages used in the notebook\n",
    "import time\n",
    "import sys\n",
    "import boto3\n",
    "import sagemaker\n",
    "from sagemaker.session import s3_input\n",
    "from sagemaker.xgboost.estimator import XGBoost\n",
    "from sagemaker.xgboost.model import XGBoostModel\n",
    "import pandas as pd\n",
    "import numpy as np\n",
    "from smexperiments.experiment import Experiment\n",
    "from smexperiments.trial import Trial\n",
    "from sagemaker.analytics import ExperimentAnalytics\n",
    "from sagemaker import HyperparameterTuningJobAnalytics, Session\n",
    "from datetime import datetime, timezone\n",
    "from smexperiments.search_expression import Filter, Operator, SearchExpression\n",
    "from smexperiments.trial_component import TrialComponent\n",
    "from sagemaker.tuner import IntegerParameter\n",
    "from sagemaker.tuner import ContinuousParameter\n",
    "from sagemaker.tuner import HyperparameterTuner"
   ]
  },
  {
   "cell_type": "code",
   "execution_count": 3,
   "metadata": {},
   "outputs": [
    {
     "name": "stderr",
     "output_type": "stream",
     "text": [
      "INFO:botocore.credentials:Found credentials in shared credentials file: ~/.aws/credentials\n",
      "INFO:botocore.credentials:Found credentials in shared credentials file: ~/.aws/credentials\n"
     ]
    }
   ],
   "source": [
    "#should be run as a first step\n",
    "#role arn is used when run from a local machine\n",
    "role = 'arn:aws:iam::757107622481:role/service-role/AmazonSageMaker-ExecutionRole-20200819T131882'\n",
    "region = 'us-west-2'\n",
    "sagemaker_session = sagemaker.session.Session(default_bucket=bucket)\n",
    "sm = boto3.Session().client('sagemaker')"
   ]
  },
  {
   "cell_type": "markdown",
   "metadata": {},
   "source": [
    "## Experiment\n",
    "Experiment is configured in an experiment log file (Excel file, in my case,  in different tabs)"
   ]
  },
  {
   "cell_type": "code",
   "execution_count": 4,
   "metadata": {},
   "outputs": [],
   "source": [
    "#sys.path.append('/home/kate/Research/YearBuilt/Notebooks/Property')\n",
    "import ExperimentsUtils as eu"
   ]
  },
  {
   "cell_type": "markdown",
   "metadata": {},
   "source": [
    "1. Reading an experiment configuration (Experiment_name) from an experiment log file (Experiments_file). Target and Dataset columns in AllExperiments_tab contain data file name used and target column"
   ]
  },
  {
   "cell_type": "code",
   "execution_count": 5,
   "metadata": {},
   "outputs": [],
   "source": [
    "experiments = pd.read_excel(open(Experiments_file, 'rb'), sheet_name=AllExperiments_tab)"
   ]
  },
  {
   "cell_type": "markdown",
   "metadata": {},
   "source": [
    "2.Creating experiments and trials in SageMaker"
   ]
  },
  {
   "cell_type": "code",
   "execution_count": 6,
   "metadata": {},
   "outputs": [
    {
     "name": "stderr",
     "output_type": "stream",
     "text": [
      "INFO:botocore.credentials:Found credentials in shared credentials file: ~/.aws/credentials\n",
      "INFO:botocore.credentials:Found credentials in shared credentials file: ~/.aws/credentials\n"
     ]
    }
   ],
   "source": [
    "#delete experiment and trials but not output files associated with jobs in experiments\n",
    "eu.cleanup_experiment(Experiment_name)\n",
    "#eu.cleanup_trial(Experiment_name, Trial_name)"
   ]
  },
  {
   "cell_type": "code",
   "execution_count": 7,
   "metadata": {},
   "outputs": [
    {
     "name": "stderr",
     "output_type": "stream",
     "text": [
      "INFO:botocore.credentials:Found credentials in shared credentials file: ~/.aws/credentials\n",
      "INFO:botocore.credentials:Found credentials in shared credentials file: ~/.aws/credentials\n",
      "INFO:botocore.credentials:Found credentials in shared credentials file: ~/.aws/credentials\n",
      "INFO:botocore.credentials:Found credentials in shared credentials file: ~/.aws/credentials\n"
     ]
    }
   ],
   "source": [
    "eu.create_experiment(Experiment_name)\n",
    "eu.create_trial(Experiment_name,Trial_name)"
   ]
  },
  {
   "cell_type": "markdown",
   "metadata": {},
   "source": [
    "3.Assuming at the moment when we need to run fine tuning of hyperparameters we already have training dataset from previous experiments. That's why instead of configuring features and building training dataset I just expect a file name in S3 configured in the experiment log (excel file)"
   ]
  },
  {
   "cell_type": "code",
   "execution_count": 8,
   "metadata": {},
   "outputs": [
    {
     "data": {
      "text/html": [
       "<div>\n",
       "<style scoped>\n",
       "    .dataframe tbody tr th:only-of-type {\n",
       "        vertical-align: middle;\n",
       "    }\n",
       "\n",
       "    .dataframe tbody tr th {\n",
       "        vertical-align: top;\n",
       "    }\n",
       "\n",
       "    .dataframe thead th {\n",
       "        text-align: right;\n",
       "    }\n",
       "</style>\n",
       "<table border=\"1\" class=\"dataframe\">\n",
       "  <thead>\n",
       "    <tr style=\"text-align: right;\">\n",
       "      <th></th>\n",
       "      <th>Model</th>\n",
       "      <th>Training_data</th>\n",
       "      <th>Testing_data</th>\n",
       "    </tr>\n",
       "  </thead>\n",
       "  <tbody>\n",
       "    <tr>\n",
       "      <th>0</th>\n",
       "      <td>BaseModel</td>\n",
       "      <td>s3://kdproperty/Data/Experiments/Exp1/training...</td>\n",
       "      <td>s3://kdproperty/Data/Experiments/Exp1/testing/...</td>\n",
       "    </tr>\n",
       "  </tbody>\n",
       "</table>\n",
       "</div>"
      ],
      "text/plain": [
       "       Model                                      Training_data  \\\n",
       "0  BaseModel  s3://kdproperty/Data/Experiments/Exp1/training...   \n",
       "\n",
       "                                        Testing_data  \n",
       "0  s3://kdproperty/Data/Experiments/Exp1/testing/...  "
      ]
     },
     "execution_count": 8,
     "metadata": {},
     "output_type": "execute_result"
    }
   ],
   "source": [
    "#The same input data for all models, created in an other experiment\n",
    "InputData = pd.read_excel(open(Experiments_file, 'rb'), sheet_name=Experiment_InputData)\n",
    "InputData"
   ]
  },
  {
   "cell_type": "code",
   "execution_count": 9,
   "metadata": {},
   "outputs": [
    {
     "name": "stdout",
     "output_type": "stream",
     "text": [
      "Train dataset: <sagemaker.inputs.TrainingInput object at 0x7f9328e4a730>\n",
      "Validation dataset: <sagemaker.inputs.TrainingInput object at 0x7f9328e4a550>\n"
     ]
    }
   ],
   "source": [
    "from sagemaker.session import TrainingInput\n",
    "train_input = TrainingInput(InputData['Training_data'][0], content_type=content_type)\n",
    "print('Train dataset: %s'%train_input)\n",
    "validation_input = TrainingInput(InputData['Testing_data'][0], content_type=content_type)\n",
    "print('Validation dataset: %s'%validation_input)"
   ]
  },
  {
   "cell_type": "markdown",
   "metadata": {},
   "source": [
    "4. Hyperparameters ranges"
   ]
  },
  {
   "cell_type": "code",
   "execution_count": 10,
   "metadata": {},
   "outputs": [
    {
     "data": {
      "text/html": [
       "<div>\n",
       "<style scoped>\n",
       "    .dataframe tbody tr th:only-of-type {\n",
       "        vertical-align: middle;\n",
       "    }\n",
       "\n",
       "    .dataframe tbody tr th {\n",
       "        vertical-align: top;\n",
       "    }\n",
       "\n",
       "    .dataframe thead th {\n",
       "        text-align: right;\n",
       "    }\n",
       "</style>\n",
       "<table border=\"1\" class=\"dataframe\">\n",
       "  <thead>\n",
       "    <tr style=\"text-align: right;\">\n",
       "      <th></th>\n",
       "      <th>Name</th>\n",
       "      <th>RangeType</th>\n",
       "      <th>MinValue</th>\n",
       "      <th>MaxValue</th>\n",
       "      <th>scaling_type</th>\n",
       "    </tr>\n",
       "  </thead>\n",
       "  <tbody>\n",
       "    <tr>\n",
       "      <th>0</th>\n",
       "      <td>eta</td>\n",
       "      <td>ContinuousParameter</td>\n",
       "      <td>0.04</td>\n",
       "      <td>0.07</td>\n",
       "      <td>Auto</td>\n",
       "    </tr>\n",
       "    <tr>\n",
       "      <th>1</th>\n",
       "      <td>colsample_bylevel</td>\n",
       "      <td>ContinuousParameter</td>\n",
       "      <td>0.80</td>\n",
       "      <td>0.80</td>\n",
       "      <td>Auto</td>\n",
       "    </tr>\n",
       "    <tr>\n",
       "      <th>2</th>\n",
       "      <td>colsample_bytree</td>\n",
       "      <td>ContinuousParameter</td>\n",
       "      <td>0.80</td>\n",
       "      <td>0.80</td>\n",
       "      <td>Auto</td>\n",
       "    </tr>\n",
       "    <tr>\n",
       "      <th>3</th>\n",
       "      <td>scale_pos_weight</td>\n",
       "      <td>ContinuousParameter</td>\n",
       "      <td>0.30</td>\n",
       "      <td>0.30</td>\n",
       "      <td>Auto</td>\n",
       "    </tr>\n",
       "    <tr>\n",
       "      <th>4</th>\n",
       "      <td>max_depth</td>\n",
       "      <td>IntegerParameter</td>\n",
       "      <td>3.00</td>\n",
       "      <td>6.00</td>\n",
       "      <td>Auto</td>\n",
       "    </tr>\n",
       "    <tr>\n",
       "      <th>5</th>\n",
       "      <td>subsample</td>\n",
       "      <td>ContinuousParameter</td>\n",
       "      <td>0.30</td>\n",
       "      <td>1.00</td>\n",
       "      <td>Auto</td>\n",
       "    </tr>\n",
       "    <tr>\n",
       "      <th>6</th>\n",
       "      <td>num_round</td>\n",
       "      <td>IntegerParameter</td>\n",
       "      <td>5000.00</td>\n",
       "      <td>5000.00</td>\n",
       "      <td>Auto</td>\n",
       "    </tr>\n",
       "    <tr>\n",
       "      <th>7</th>\n",
       "      <td>reg_alpha</td>\n",
       "      <td>ContinuousParameter</td>\n",
       "      <td>0.00</td>\n",
       "      <td>0.90</td>\n",
       "      <td>Auto</td>\n",
       "    </tr>\n",
       "  </tbody>\n",
       "</table>\n",
       "</div>"
      ],
      "text/plain": [
       "                Name            RangeType  MinValue  MaxValue scaling_type\n",
       "0                eta  ContinuousParameter      0.04      0.07         Auto\n",
       "1  colsample_bylevel  ContinuousParameter      0.80      0.80         Auto\n",
       "2   colsample_bytree  ContinuousParameter      0.80      0.80         Auto\n",
       "3   scale_pos_weight  ContinuousParameter      0.30      0.30         Auto\n",
       "4          max_depth     IntegerParameter      3.00      6.00         Auto\n",
       "5          subsample  ContinuousParameter      0.30      1.00         Auto\n",
       "6          num_round     IntegerParameter   5000.00   5000.00         Auto\n",
       "7          reg_alpha  ContinuousParameter      0.00      0.90         Auto"
      ]
     },
     "execution_count": 10,
     "metadata": {},
     "output_type": "execute_result"
    }
   ],
   "source": [
    "tuning_job_ranges = pd.read_excel(open(Experiments_file, 'rb'), sheet_name=Experiment_models)\n",
    "tuning_job_ranges"
   ]
  },
  {
   "cell_type": "markdown",
   "metadata": {},
   "source": [
    "If MinValue is not the same as MaxValue, the parameter is snt to the tuning job. Othervise, it's static and just added into the usual model hyperparameters set"
   ]
  },
  {
   "cell_type": "code",
   "execution_count": 11,
   "metadata": {},
   "outputs": [
    {
     "name": "stderr",
     "output_type": "stream",
     "text": [
      "INFO:numexpr.utils:NumExpr defaulting to 8 threads.\n"
     ]
    },
    {
     "data": {
      "text/plain": [
       "{'eta': <sagemaker.parameter.ContinuousParameter at 0x7f932a3a05e0>,\n",
       " 'max_depth': <sagemaker.parameter.IntegerParameter at 0x7f9328e9e460>,\n",
       " 'subsample': <sagemaker.parameter.ContinuousParameter at 0x7f932a2202e0>,\n",
       " 'reg_alpha': <sagemaker.parameter.ContinuousParameter at 0x7f932a392e50>}"
      ]
     },
     "execution_count": 11,
     "metadata": {},
     "output_type": "execute_result"
    }
   ],
   "source": [
    "#only non static params into tuning job config\n",
    "tuning_job_config = dict()\n",
    "for index, row in tuning_job_ranges[tuning_job_ranges['MinValue']!=tuning_job_ranges['MaxValue']].iterrows():\n",
    "    if row['RangeType']=='ContinuousParameter':\n",
    "        tuning_job_config[row['Name']]=ContinuousParameter(row['MinValue'], row['MaxValue'],scaling_type=row['scaling_type'])\n",
    "    elif row['RangeType']=='IntegerParameter':\n",
    "        tuning_job_config[row['Name']]=IntegerParameter(int(row['MinValue']), int(row['MaxValue']),scaling_type=row['scaling_type'])\n",
    "tuning_job_config"
   ]
  },
  {
   "cell_type": "code",
   "execution_count": 12,
   "metadata": {},
   "outputs": [],
   "source": [
    "#always static base XGB parameters and other parameters sending to CV\n",
    "base_params = {'objective': 'binary:logistic', \n",
    "               'silent': True,\n",
    "               'booster': 'gbtree',\n",
    "               'seed':42,\n",
    "               'early_stopping_rounds':100\n",
    "              }"
   ]
  },
  {
   "cell_type": "code",
   "execution_count": 13,
   "metadata": {},
   "outputs": [
    {
     "data": {
      "text/plain": [
       "{'objective': 'binary:logistic',\n",
       " 'silent': True,\n",
       " 'booster': 'gbtree',\n",
       " 'seed': 42,\n",
       " 'early_stopping_rounds': 100,\n",
       " 'colsample_bylevel': '0.8',\n",
       " 'colsample_bytree': '0.8',\n",
       " 'scale_pos_weight': '0.3',\n",
       " 'num_round': '5000'}"
      ]
     },
     "execution_count": 13,
     "metadata": {},
     "output_type": "execute_result"
    }
   ],
   "source": [
    "#only non static params into model XGB parameters\n",
    "parameterset = dict()\n",
    "parameterset = {\n",
    " \n",
    "    }    \n",
    "for index, row in tuning_job_ranges[tuning_job_ranges['MinValue']==tuning_job_ranges['MaxValue']].iterrows():\n",
    "    if row['RangeType']=='IntegerParameter':\n",
    "        parameterset[row['Name']]=str(int(row['MaxValue']))\n",
    "    else:\n",
    "        parameterset[row['Name']]=str(row['MaxValue'])       \n",
    "   \n",
    "\n",
    "xgb_params = {**base_params, **parameterset}\n",
    "xgb_params"
   ]
  },
  {
   "cell_type": "markdown",
   "metadata": {},
   "source": [
    "## Preparing and running tuning job"
   ]
  },
  {
   "cell_type": "markdown",
   "metadata": {},
   "source": [
    "Depending on the configured entry_point (script to run) aditional configuration must be done"
   ]
  },
  {
   "cell_type": "code",
   "execution_count": 14,
   "metadata": {},
   "outputs": [],
   "source": [
    "if entry_point=='ModelTraining_Gini_EvalMetric.py':\n",
    "    #[0]#011train-gini:0.00612#011validation-gini:0.01274\n",
    "    metric_definitions = [\n",
    "    {\n",
    "        'Name': 'train-gini',\n",
    "        'Regex': '.*\\\\[[0-9]+\\\\].*#011train-gini:([-+]?[0-9]*\\\\.?[0-9]+(?:[eE][-+]?[0-9]+)?).*'\n",
    "    },    \n",
    "    {\n",
    "        'Name': 'validation-gini',\n",
    "        'Regex': '.*\\\\[[0-9]+\\\\].*#011validation-gini:([-+]?[0-9]*\\\\.?[0-9]+(?:[eE][-+]?[0-9]+)?).*'\n",
    "    }\n",
    "]\n",
    "    objective_metric_name = 'validation-gini' \n",
    "    image_uri=custom_image_uri\n",
    "elif entry_point=='ModelCV.py':\n",
    "    #[1060]#011train-auc:0.72230+0.00097#011test-auc:0.69244+0.01114\n",
    "    metric_definitions = [\n",
    "    {\n",
    "        'Name': 'train-auc',\n",
    "        'Regex': '.*\\\\[[0-9]+\\\\].*#011train-auc:([-+]?[0-9]*\\\\.?[0-9]+(?:[eE][-+]?[0-9]+)?).*'\n",
    "    },    \n",
    "    {\n",
    "        'Name': 'test-auc',\n",
    "        'Regex': '.*\\\\[[0-9]+\\\\].*#011test-auc:([-+]?[0-9]*\\\\.?[0-9]+(?:[eE][-+]?[0-9]+)?).*'\n",
    "    }\n",
    "]\n",
    "    objective_metric_name = 'test-auc'  \n",
    "    xgb_params['nfold']=str(num_folds) \n",
    "    image_uri=''\n",
    "elif entry_point=='ModelCV_Gini_EvalMetric.py':    \n",
    "    #[99]#011train-gini:0.10383+0.08569#011test-gini:0.10243+0.08417\n",
    "    metric_definitions = [\n",
    "    {\n",
    "        'Name': 'train-gini',\n",
    "        'Regex': '.*\\\\[[0-9]+\\\\].*#011train-gini:([-+]?[0-9]*\\\\.?[0-9]+(?:[eE][-+]?[0-9]+)?).*'\n",
    "    },    \n",
    "    {\n",
    "        'Name': 'test-gini',\n",
    "        'Regex': '.*\\\\[[0-9]+\\\\].*#011test-gini:([-+]?[0-9]*\\\\.?[0-9]+(?:[eE][-+]?[0-9]+)?).*'\n",
    "    }\n",
    "]\n",
    "    objective_metric_name = 'test-gini'\n",
    "    xgb_params['nfold']=str(num_folds) \n",
    "    image_uri=custom_image_uri\n",
    "elif entry_point=='ModelCV_Gini_EvalMetric-OverfittingAdj.py':\n",
    "    #[10]#011train-gini:0.03487+0.00158#011valid-gini:0.03488+0.01420#011objective:0.03488\n",
    "    metric_definitions = [\n",
    "    {\n",
    "        'Name': 'train-gini',\n",
    "        'Regex': '.*\\\\[[0-9]+\\\\].*#011train-gini:([-+]?[0-9]*\\\\.?[0-9]+(?:[eE][-+]?[0-9]+)?).*'\n",
    "    },    \n",
    "    {\n",
    "        'Name': 'test-gini',\n",
    "        'Regex': '.*\\\\[[0-9]+\\\\].*#011test-gini:([-+]?[0-9]*\\\\.?[0-9]+(?:[eE][-+]?[0-9]+)?).*'\n",
    "    },    \n",
    "    {\n",
    "        'Name': 'objective',\n",
    "        'Regex': '.*\\\\[[0-9]+\\\\].*#011objective:([-+]?[0-9]*\\\\.?[0-9]+(?:[eE][-+]?[0-9]+)?).*'\n",
    "    }\n",
    "]\n",
    "    objective_metric_name = 'objective'\n",
    "    xgb_params['nfold']=str(num_folds) \n",
    "    image_uri=custom_image_uri\n",
    "else:\n",
    "    xgb_params['eval_metric']='auc' \n",
    "    metric_definitions = []\n",
    "    objective_metric_name = 'validation:auc'\n",
    "    image_uri=standard_image_uri"
   ]
  },
  {
   "cell_type": "code",
   "execution_count": 15,
   "metadata": {},
   "outputs": [
    {
     "name": "stderr",
     "output_type": "stream",
     "text": [
      "INFO:botocore.credentials:Found credentials in shared credentials file: ~/.aws/credentials\n"
     ]
    }
   ],
   "source": [
    "#XGBoost estimator\n",
    "xgb_script_mode_estimator = XGBoost(\n",
    "        entry_point=entry_point,\n",
    "        image_uri=image_uri,\n",
    "        hyperparameters=xgb_params,\n",
    "        role=role, \n",
    "        instance_count=1,\n",
    "        instance_type=instance_type,\n",
    "        framework_version='1.2-1',\n",
    "        output_path='s3://%s/%s/'%(bucket,path_to_models),\n",
    "        metric_definitions=metric_definitions\n",
    "        )"
   ]
  },
  {
   "cell_type": "code",
   "execution_count": 16,
   "metadata": {},
   "outputs": [],
   "source": [
    "#Hyperparameters Tuner\n",
    "tuner = HyperparameterTuner(\n",
    "    estimator=xgb_script_mode_estimator,\n",
    "    objective_metric_name=objective_metric_name,\n",
    "    hyperparameter_ranges =tuning_job_config,\n",
    "    max_jobs=max_jobs,\n",
    "    max_parallel_jobs=max_parallel_jobs,\n",
    "    strategy=strategy,\n",
    "    base_tuning_job_name=Experiment_name,\n",
    "    metric_definitions=metric_definitions\n",
    ")"
   ]
  },
  {
   "cell_type": "code",
   "execution_count": 17,
   "metadata": {},
   "outputs": [
    {
     "name": "stderr",
     "output_type": "stream",
     "text": [
      "INFO:sagemaker.image_uris:Defaulting to the only supported framework/algorithm version: latest.\n",
      "INFO:sagemaker.image_uris:Ignoring unnecessary instance type: None.\n",
      "INFO:sagemaker:Creating hyperparameter tuning job with name: OWeightHyper-210617-0930\n"
     ]
    }
   ],
   "source": [
    "#Start the tuner\n",
    "tuner.fit({'train': train_input, 'validation': validation_input,'test':validation_input}, include_cls_metadata=False,wait=False)"
   ]
  },
  {
   "cell_type": "markdown",
   "metadata": {},
   "source": [
    "## Associating training jobs created from the tuning job with an experiment\n",
    "This is optional step. Did not see a lot of gain in the process"
   ]
  },
  {
   "cell_type": "code",
   "execution_count": 18,
   "metadata": {},
   "outputs": [],
   "source": [
    "# the training job names contain the tuning job name (and the training job name is in the source arn)\n",
    "source_arn_filter = Filter(name=\"Source.SourceArn\", operator=Operator.CONTAINS, value=Experiment_name.lower())\n",
    "source_type_filter = Filter(name=\"Source.SourceType\", operator=Operator.EQUALS, value=\"SageMakerTrainingJob\")\n",
    "\n",
    "search_expression = SearchExpression(filters=[source_arn_filter, source_type_filter])"
   ]
  },
  {
   "cell_type": "code",
   "execution_count": 19,
   "metadata": {},
   "outputs": [
    {
     "data": {
      "text/plain": [
       "'InProgress'"
      ]
     },
     "execution_count": 19,
     "metadata": {},
     "output_type": "execute_result"
    }
   ],
   "source": [
    "HyperParameterTuningJobName=tuner.latest_tuning_job.job_name\n",
    "job_desc = sm.describe_hyper_parameter_tuning_job(HyperParameterTuningJobName=HyperParameterTuningJobName)\n",
    "job_desc['HyperParameterTuningJobStatus']"
   ]
  },
  {
   "cell_type": "code",
   "execution_count": 20,
   "metadata": {},
   "outputs": [
    {
     "name": "stderr",
     "output_type": "stream",
     "text": [
      "INFO:botocore.credentials:Found credentials in shared credentials file: ~/.aws/credentials\n"
     ]
    }
   ],
   "source": [
    "#Hyperparameter tuning job is not associated with an experiment directly\n",
    "#if needed we can do it via training jobs\n",
    "#we need trial object, created above to join jobs to it\n",
    "try:\n",
    "    trial = Trial.load(trial_name=Trial_name)\n",
    "except Exception as ex:\n",
    "    if \"ResourceNotFound\" in str(ex):\n",
    "        trial = Trial.create(experiment_name=Experiment_name, trial_name=Trial_name)"
   ]
  },
  {
   "cell_type": "code",
   "execution_count": null,
   "metadata": {},
   "outputs": [],
   "source": [
    "#while tuning job is still in progress\n",
    "job_desc = sm.describe_hyper_parameter_tuning_job(HyperParameterTuningJobName=HyperParameterTuningJobName)\n",
    "#wait time in  sec\n",
    "wait_time=1500\n",
    "while job_desc['HyperParameterTuningJobStatus']=='InProgress':\n",
    "    trial_component_search_results = list(TrialComponent.search(search_expression=search_expression, sagemaker_boto_client=sm))\n",
    "    # associate the trial components with the trial\n",
    "    for tc in trial_component_search_results:\n",
    "        trial.add_trial_component(tc.trial_component_name)\n",
    "        #print('Added %s'%tc.trial_component_name)\n",
    "        # sleep to avoid throttling\n",
    "        time.sleep(5)\n",
    "    time.sleep(wait_time)   \n",
    "    job_desc = sm.describe_hyper_parameter_tuning_job(HyperParameterTuningJobName=HyperParameterTuningJobName)"
   ]
  },
  {
   "cell_type": "markdown",
   "metadata": {},
   "source": [
    "## Tuning results\n",
    "\n",
    "Reading results from AWS SageMaker experiment and AWS Hyperparameter job, saving to an experiment log file and visualization. "
   ]
  },
  {
   "cell_type": "markdown",
   "metadata": {},
   "source": [
    "### Results in Experiment"
   ]
  },
  {
   "cell_type": "code",
   "execution_count": 34,
   "metadata": {},
   "outputs": [
    {
     "name": "stderr",
     "output_type": "stream",
     "text": [
      "INFO:botocore.credentials:Found credentials in shared credentials file: ~/.aws/credentials\n"
     ]
    }
   ],
   "source": [
    "trial_component_analytics = ExperimentAnalytics(experiment_name=Experiment_name)\n",
    "trial_comp_ds = trial_component_analytics.dataframe()\n",
    "trial_ds=trial_comp_ds.copy()"
   ]
  },
  {
   "cell_type": "code",
   "execution_count": 35,
   "metadata": {},
   "outputs": [
    {
     "data": {
      "text/plain": [
       "Index(['TrialComponentName', 'DisplayName', 'SourceArn', 'SageMaker.ImageUri',\n",
       "       'SageMaker.InstanceCount', 'SageMaker.InstanceType',\n",
       "       'SageMaker.VolumeSizeInGB', '_tuning_objective_metric', 'booster',\n",
       "       'colsample_bylevel', 'colsample_bytree', 'early_stopping_rounds', 'eta',\n",
       "       'max_depth', 'nfold', 'num_round', 'objective', 'reg_alpha',\n",
       "       'sagemaker_container_log_level', 'sagemaker_estimator_class_name',\n",
       "       'sagemaker_estimator_module', 'sagemaker_job_name', 'sagemaker_program',\n",
       "       'sagemaker_region', 'sagemaker_submit_directory', 'scale_pos_weight',\n",
       "       'seed', 'silent', 'subsample', 'ObjectiveMetric - Min',\n",
       "       'ObjectiveMetric - Max', 'ObjectiveMetric - Avg',\n",
       "       'ObjectiveMetric - StdDev', 'ObjectiveMetric - Last',\n",
       "       'ObjectiveMetric - Count', 'train-gini - Min', 'train-gini - Max',\n",
       "       'train-gini - Avg', 'train-gini - StdDev', 'train-gini - Last',\n",
       "       'train-gini - Count', 'objective - Min', 'objective - Max',\n",
       "       'objective - Avg', 'objective - StdDev', 'objective - Last',\n",
       "       'objective - Count', 'test - MediaType', 'test - Value',\n",
       "       'train - MediaType', 'train - Value', 'validation - MediaType',\n",
       "       'validation - Value', 'SageMaker.ModelArtifact - MediaType',\n",
       "       'SageMaker.ModelArtifact - Value', 'Trials', 'Experiments'],\n",
       "      dtype='object')"
      ]
     },
     "execution_count": 35,
     "metadata": {},
     "output_type": "execute_result"
    }
   ],
   "source": [
    "trial_ds.columns"
   ]
  },
  {
   "cell_type": "code",
   "execution_count": null,
   "metadata": {},
   "outputs": [],
   "source": [
    "#Saving into the Experiment log file models hyperparameters used\n",
    "#eu.SaveToExperimentLog(Experiments_file, '%s ModelParams'%Experiment_name, ModelsParams)"
   ]
  },
  {
   "cell_type": "code",
   "execution_count": 159,
   "metadata": {},
   "outputs": [
    {
     "data": {
      "text/html": [
       "<div>\n",
       "<style scoped>\n",
       "    .dataframe tbody tr th:only-of-type {\n",
       "        vertical-align: middle;\n",
       "    }\n",
       "\n",
       "    .dataframe tbody tr th {\n",
       "        vertical-align: top;\n",
       "    }\n",
       "\n",
       "    .dataframe thead th {\n",
       "        text-align: right;\n",
       "    }\n",
       "</style>\n",
       "<table border=\"1\" class=\"dataframe\">\n",
       "  <thead>\n",
       "    <tr style=\"text-align: right;\">\n",
       "      <th></th>\n",
       "      <th>Trial Component</th>\n",
       "      <th>eta</th>\n",
       "      <th>max_depth</th>\n",
       "      <th>subsample</th>\n",
       "      <th>reg_alpha</th>\n",
       "      <th>train:gini</th>\n",
       "      <th>Objective</th>\n",
       "    </tr>\n",
       "  </thead>\n",
       "  <tbody>\n",
       "    <tr>\n",
       "      <th>0</th>\n",
       "      <td>OWeightHyper-210617-0930-077-5f71173e-aws-trai...</td>\n",
       "      <td>0.069991</td>\n",
       "      <td>3.0</td>\n",
       "      <td>0.300000</td>\n",
       "      <td>0.002629</td>\n",
       "      <td>0.35637</td>\n",
       "      <td>0.34602</td>\n",
       "    </tr>\n",
       "    <tr>\n",
       "      <th>1</th>\n",
       "      <td>OWeightHyper-210617-0930-078-fbf856d9-aws-trai...</td>\n",
       "      <td>0.067727</td>\n",
       "      <td>4.0</td>\n",
       "      <td>0.300000</td>\n",
       "      <td>0.774425</td>\n",
       "      <td>0.35951</td>\n",
       "      <td>0.34352</td>\n",
       "    </tr>\n",
       "    <tr>\n",
       "      <th>2</th>\n",
       "      <td>OWeightHyper-210617-0930-076-21dc2ab4-aws-trai...</td>\n",
       "      <td>0.069460</td>\n",
       "      <td>4.0</td>\n",
       "      <td>0.300709</td>\n",
       "      <td>0.514599</td>\n",
       "      <td>0.36269</td>\n",
       "      <td>0.34451</td>\n",
       "    </tr>\n",
       "    <tr>\n",
       "      <th>3</th>\n",
       "      <td>OWeightHyper-210617-0930-075-e48ca542-aws-trai...</td>\n",
       "      <td>0.069989</td>\n",
       "      <td>3.0</td>\n",
       "      <td>0.300000</td>\n",
       "      <td>0.001911</td>\n",
       "      <td>0.35637</td>\n",
       "      <td>0.34599</td>\n",
       "    </tr>\n",
       "    <tr>\n",
       "      <th>4</th>\n",
       "      <td>OWeightHyper-210617-0930-074-c6590b5f-aws-trai...</td>\n",
       "      <td>0.061183</td>\n",
       "      <td>4.0</td>\n",
       "      <td>0.390704</td>\n",
       "      <td>0.893390</td>\n",
       "      <td>0.35366</td>\n",
       "      <td>0.33576</td>\n",
       "    </tr>\n",
       "    <tr>\n",
       "      <th>...</th>\n",
       "      <td>...</td>\n",
       "      <td>...</td>\n",
       "      <td>...</td>\n",
       "      <td>...</td>\n",
       "      <td>...</td>\n",
       "      <td>...</td>\n",
       "      <td>...</td>\n",
       "    </tr>\n",
       "    <tr>\n",
       "      <th>73</th>\n",
       "      <td>OWeightHyper-210617-0930-006-76d24f2e-aws-trai...</td>\n",
       "      <td>0.062181</td>\n",
       "      <td>3.0</td>\n",
       "      <td>0.543863</td>\n",
       "      <td>0.082863</td>\n",
       "      <td>0.34985</td>\n",
       "      <td>0.33706</td>\n",
       "    </tr>\n",
       "    <tr>\n",
       "      <th>74</th>\n",
       "      <td>OWeightHyper-210617-0930-004-23cdb156-aws-trai...</td>\n",
       "      <td>0.068306</td>\n",
       "      <td>6.0</td>\n",
       "      <td>0.325426</td>\n",
       "      <td>0.671126</td>\n",
       "      <td>0.37087</td>\n",
       "      <td>0.29119</td>\n",
       "    </tr>\n",
       "    <tr>\n",
       "      <th>75</th>\n",
       "      <td>OWeightHyper-210617-0930-003-0301c862-aws-trai...</td>\n",
       "      <td>0.060859</td>\n",
       "      <td>4.0</td>\n",
       "      <td>0.963995</td>\n",
       "      <td>0.464556</td>\n",
       "      <td>0.36018</td>\n",
       "      <td>0.31814</td>\n",
       "    </tr>\n",
       "    <tr>\n",
       "      <th>76</th>\n",
       "      <td>OWeightHyper-210617-0930-001-001979ac-aws-trai...</td>\n",
       "      <td>0.065482</td>\n",
       "      <td>4.0</td>\n",
       "      <td>0.623530</td>\n",
       "      <td>0.226528</td>\n",
       "      <td>0.36329</td>\n",
       "      <td>0.32624</td>\n",
       "    </tr>\n",
       "    <tr>\n",
       "      <th>77</th>\n",
       "      <td>OWeightHyper-210617-0930-002-a564eeed-aws-trai...</td>\n",
       "      <td>0.040488</td>\n",
       "      <td>3.0</td>\n",
       "      <td>0.935591</td>\n",
       "      <td>0.600084</td>\n",
       "      <td>0.32573</td>\n",
       "      <td>0.31469</td>\n",
       "    </tr>\n",
       "  </tbody>\n",
       "</table>\n",
       "<p>78 rows × 7 columns</p>\n",
       "</div>"
      ],
      "text/plain": [
       "                                      Trial Component       eta  max_depth  \\\n",
       "0   OWeightHyper-210617-0930-077-5f71173e-aws-trai...  0.069991        3.0   \n",
       "1   OWeightHyper-210617-0930-078-fbf856d9-aws-trai...  0.067727        4.0   \n",
       "2   OWeightHyper-210617-0930-076-21dc2ab4-aws-trai...  0.069460        4.0   \n",
       "3   OWeightHyper-210617-0930-075-e48ca542-aws-trai...  0.069989        3.0   \n",
       "4   OWeightHyper-210617-0930-074-c6590b5f-aws-trai...  0.061183        4.0   \n",
       "..                                                ...       ...        ...   \n",
       "73  OWeightHyper-210617-0930-006-76d24f2e-aws-trai...  0.062181        3.0   \n",
       "74  OWeightHyper-210617-0930-004-23cdb156-aws-trai...  0.068306        6.0   \n",
       "75  OWeightHyper-210617-0930-003-0301c862-aws-trai...  0.060859        4.0   \n",
       "76  OWeightHyper-210617-0930-001-001979ac-aws-trai...  0.065482        4.0   \n",
       "77  OWeightHyper-210617-0930-002-a564eeed-aws-trai...  0.040488        3.0   \n",
       "\n",
       "    subsample  reg_alpha  train:gini  Objective  \n",
       "0    0.300000   0.002629     0.35637    0.34602  \n",
       "1    0.300000   0.774425     0.35951    0.34352  \n",
       "2    0.300709   0.514599     0.36269    0.34451  \n",
       "3    0.300000   0.001911     0.35637    0.34599  \n",
       "4    0.390704   0.893390     0.35366    0.33576  \n",
       "..        ...        ...         ...        ...  \n",
       "73   0.543863   0.082863     0.34985    0.33706  \n",
       "74   0.325426   0.671126     0.37087    0.29119  \n",
       "75   0.963995   0.464556     0.36018    0.31814  \n",
       "76   0.623530   0.226528     0.36329    0.32624  \n",
       "77   0.935591   0.600084     0.32573    0.31469  \n",
       "\n",
       "[78 rows x 7 columns]"
      ]
     },
     "execution_count": 159,
     "metadata": {},
     "output_type": "execute_result"
    }
   ],
   "source": [
    "ModelsResults = trial_ds[['DisplayName','eta','max_depth','subsample','reg_alpha','train-gini - Last','objective - Last']] #.sort_values('train-gini - Last', ascending=False) #.sort_values('objective - Last', ascending=False)\n",
    "ModelsResults.columns=['Trial Component','eta','max_depth','subsample','reg_alpha','train:gini','Objective']\n",
    "#ModelsResults['Diff']=100*(ModelsResults['train:gini']-ModelsResults['validation:gini'])/ModelsResults['train:gini']\n",
    "#ModelsResults.dropna(inplace=True)\n",
    "ModelsResults"
   ]
  },
  {
   "cell_type": "code",
   "execution_count": 80,
   "metadata": {},
   "outputs": [],
   "source": [
    "#Saving into the Experiment log file models results\n",
    "eu.SaveToExperimentLog(Experiments_file, '%s ModelResults'%Experiment_name, ModelsResults)"
   ]
  },
  {
   "cell_type": "code",
   "execution_count": null,
   "metadata": {},
   "outputs": [],
   "source": [
    "#ModelsResults = trial_ds[['DisplayName','ObjectiveMetric - Min', 'ObjectiveMetric - Max',\n",
    "#       'ObjectiveMetric - Avg', 'ObjectiveMetric - StdDev',\n",
    "#       'ObjectiveMetric - Last', 'ObjectiveMetric - Count']].sort_values('ObjectiveMetric - Last', ascending=False)\n",
    "#ModelsResults.dropna(inplace=True)\n",
    "#ModelsResults"
   ]
  },
  {
   "cell_type": "code",
   "execution_count": 39,
   "metadata": {},
   "outputs": [],
   "source": [
    "#Saving into the Experiment log file models results\n",
    "#eu.SaveToExperimentLog(Experiments_file, '%s ObjectiveMetric'%Experiment_name, ModelsResults)"
   ]
  },
  {
   "cell_type": "markdown",
   "metadata": {},
   "source": [
    "### Results in Hyperparameter Tuning Job"
   ]
  },
  {
   "cell_type": "code",
   "execution_count": null,
   "metadata": {},
   "outputs": [],
   "source": [
    "#analytics = HyperparameterTuningJobAnalytics(HyperParameterTuningJobName)\n",
    "#HyperparameterTuning_ds = analytics.dataframe() #.sort_values(['FinalObjectiveValue'], ascending=False)\n",
    "#HyperparameterTuning_ds"
   ]
  },
  {
   "cell_type": "code",
   "execution_count": null,
   "metadata": {},
   "outputs": [],
   "source": [
    "#HyperparameterTuning_ds.columns"
   ]
  },
  {
   "cell_type": "code",
   "execution_count": 43,
   "metadata": {},
   "outputs": [],
   "source": [
    "#Saving into the Experiment log file models results\n",
    "#eu.SaveToExperimentLog(Experiments_file, '%s FinalObjective'%Experiment_name, HyperparameterTuning_ds[['TrainingJobName','TrainingJobStatus','eta','max_depth', 'reg_alpha','subsample','FinalObjectiveValue','TrainingElapsedTimeSeconds']])"
   ]
  },
  {
   "cell_type": "markdown",
   "metadata": {},
   "source": [
    "### Some visualizations \n",
    "\n",
    "To make plotly work in JupyterLab labextension must be installed: https://stackoverflow.com/questions/62604893/what-is-right-extension-for-plotly-in-jupyterlab\n",
    "Nodejs installation for Ubuntu: https://www.digitalocean.com/community/tutorials/how-to-install-node-js-on-ubuntu-18-04\n",
    "ToDo: Save chart to a file from teh code did not work for me https://stackoverflow.com/questions/59815797/how-to-save-plotly-express-plot-into-a-html-or-static-image-file"
   ]
  },
  {
   "cell_type": "code",
   "execution_count": 45,
   "metadata": {},
   "outputs": [],
   "source": [
    "import plotly.express as px"
   ]
  },
  {
   "cell_type": "code",
   "execution_count": 272,
   "metadata": {},
   "outputs": [
    {
     "data": {
      "text/html": [
       "<div>\n",
       "<style scoped>\n",
       "    .dataframe tbody tr th:only-of-type {\n",
       "        vertical-align: middle;\n",
       "    }\n",
       "\n",
       "    .dataframe tbody tr th {\n",
       "        vertical-align: top;\n",
       "    }\n",
       "\n",
       "    .dataframe thead th {\n",
       "        text-align: right;\n",
       "    }\n",
       "</style>\n",
       "<table border=\"1\" class=\"dataframe\">\n",
       "  <thead>\n",
       "    <tr style=\"text-align: right;\">\n",
       "      <th></th>\n",
       "      <th>eta</th>\n",
       "      <th>max_depth</th>\n",
       "      <th>subsample</th>\n",
       "      <th>reg_alpha</th>\n",
       "      <th>train:gini</th>\n",
       "      <th>Objective</th>\n",
       "    </tr>\n",
       "  </thead>\n",
       "  <tbody>\n",
       "    <tr>\n",
       "      <th>0</th>\n",
       "      <td>0.069991</td>\n",
       "      <td>3.0</td>\n",
       "      <td>0.300000</td>\n",
       "      <td>0.002629</td>\n",
       "      <td>0.35637</td>\n",
       "      <td>0.34602</td>\n",
       "    </tr>\n",
       "    <tr>\n",
       "      <th>1</th>\n",
       "      <td>0.067727</td>\n",
       "      <td>4.0</td>\n",
       "      <td>0.300000</td>\n",
       "      <td>0.774425</td>\n",
       "      <td>0.35951</td>\n",
       "      <td>0.34352</td>\n",
       "    </tr>\n",
       "    <tr>\n",
       "      <th>2</th>\n",
       "      <td>0.069460</td>\n",
       "      <td>4.0</td>\n",
       "      <td>0.300709</td>\n",
       "      <td>0.514599</td>\n",
       "      <td>0.36269</td>\n",
       "      <td>0.34451</td>\n",
       "    </tr>\n",
       "    <tr>\n",
       "      <th>3</th>\n",
       "      <td>0.069989</td>\n",
       "      <td>3.0</td>\n",
       "      <td>0.300000</td>\n",
       "      <td>0.001911</td>\n",
       "      <td>0.35637</td>\n",
       "      <td>0.34599</td>\n",
       "    </tr>\n",
       "    <tr>\n",
       "      <th>4</th>\n",
       "      <td>0.061183</td>\n",
       "      <td>4.0</td>\n",
       "      <td>0.390704</td>\n",
       "      <td>0.893390</td>\n",
       "      <td>0.35366</td>\n",
       "      <td>0.33576</td>\n",
       "    </tr>\n",
       "  </tbody>\n",
       "</table>\n",
       "</div>"
      ],
      "text/plain": [
       "        eta  max_depth  subsample  reg_alpha  train:gini  Objective\n",
       "0  0.069991        3.0   0.300000   0.002629     0.35637    0.34602\n",
       "1  0.067727        4.0   0.300000   0.774425     0.35951    0.34352\n",
       "2  0.069460        4.0   0.300709   0.514599     0.36269    0.34451\n",
       "3  0.069989        3.0   0.300000   0.001911     0.35637    0.34599\n",
       "4  0.061183        4.0   0.390704   0.893390     0.35366    0.33576"
      ]
     },
     "execution_count": 272,
     "metadata": {},
     "output_type": "execute_result"
    }
   ],
   "source": [
    "df = ModelsResults[['eta','max_depth','subsample','reg_alpha','train:gini','Objective']][(ModelsResults['Objective']>0.3)]\n",
    "df.head()"
   ]
  },
  {
   "cell_type": "code",
   "execution_count": 274,
   "metadata": {},
   "outputs": [
    {
     "data": {
      "application/vnd.plotly.v1+json": {
       "config": {
        "plotlyServerURL": "https://plot.ly"
       },
       "data": [
        {
         "dimensions": [
          {
           "label": "eta",
           "values": [
            0.06999050647990727,
            0.0677268330736505,
            0.06945960279679751,
            0.06998919508299113,
            0.06118323560929751,
            0.069992336994508,
            0.0500394367811725,
            0.0475125813124225,
            0.06643744703507876,
            0.06999568703701062,
            0.0698514649113273,
            0.0699712925676168,
            0.0699785921937979,
            0.06997237084807754,
            0.06901040846086001,
            0.06335061842179751,
            0.06106575514054751,
            0.06136575514054751,
            0.047112495863203756,
            0.04984900739367251,
            0.0630979328749225,
            0.04,
            0.06976297193742251,
            0.06988290601945375,
            0.0694370442030475,
            0.0642606520230344,
            0.0639627766249225,
            0.06175635572648501,
            0.0698618488905475,
            0.057909309828047505,
            0.07,
            0.06950204664445375,
            0.06886026197648501,
            0.06870828443742251,
            0.06911294752336,
            0.068017976820235,
            0.06572915846086,
            0.06312631422257875,
            0.07,
            0.06181527906632875,
            0.06751747633195376,
            0.06781747633195376,
            0.06972177320695377,
            0.041034309828047504,
            0.06967932935929752,
            0.0693564777967975,
            0.06988325609210111,
            0.07,
            0.07,
            0.0693564777967975,
            0.07,
            0.07,
            0.07,
            0.0693564777967975,
            0.07,
            0.07,
            0.06872567945695376,
            0.06826425367570377,
            0.07,
            0.0693564777967975,
            0.07,
            0.06878335767961,
            0.0693564777967975,
            0.0693564777967975,
            0.06826425367570377,
            0.06981790357804751,
            0.07,
            0.06826425367570377,
            0.0639658527967975,
            0.0639658527967975,
            0.04971900221086,
            0.06208535963273501,
            0.06218149000382875,
            0.06085855299211,
            0.06548225904679751,
            0.04048802214129093
           ]
          },
          {
           "label": "max_depth",
           "values": [
            3,
            4,
            4,
            3,
            4,
            3,
            3,
            4,
            3,
            3,
            3,
            3,
            3,
            3,
            4,
            4,
            3,
            3,
            4,
            4,
            4,
            5,
            4,
            4,
            3,
            3,
            4,
            4,
            3,
            3,
            4,
            4,
            4,
            4,
            3,
            3,
            4,
            3,
            5,
            3,
            4,
            4,
            3,
            3,
            3,
            3,
            3,
            3,
            3,
            3,
            3,
            3,
            3,
            3,
            3,
            3,
            3,
            3,
            3,
            3,
            3,
            3,
            3,
            3,
            3,
            3,
            3,
            3,
            3,
            3,
            3,
            3,
            3,
            4,
            4,
            3
           ]
          },
          {
           "label": "subsample",
           "values": [
            0.3,
            0.3,
            0.30070937720919005,
            0.3,
            0.3907037234448874,
            0.3,
            0.7063556954784296,
            0.82494033424044,
            0.6626372336545026,
            0.3,
            0.3,
            0.3,
            0.3,
            0.3,
            0.30348647681856505,
            0.30002578345919007,
            0.9996771506466899,
            1,
            0.41083205787325255,
            0.30728896705294007,
            0.32625869361544,
            0.37197402564669,
            0.3,
            0.30743850318575255,
            0.8552611350216899,
            0.41157973853731505,
            0.31395400611544005,
            0.3,
            0.33505996314669007,
            0.3155775412716901,
            0.45842727271700257,
            0.45913586115755256,
            0.34116958228731503,
            0.31839736549044007,
            0.927593898693565,
            0.772332668224815,
            0.336298976818565,
            0.6267485617795026,
            0.33219741431856503,
            0.8405561789670024,
            0.8384131125607526,
            0.8314131125607525,
            0.46465139381075254,
            0.35932754127169003,
            0.30220142456630084,
            0.37180312720919007,
            0.3000000426921348,
            0.3,
            0.3,
            0.3858031272091901,
            0.3,
            0.3,
            0.3,
            0.37180312720919007,
            0.30958242408419007,
            0.3,
            0.32076858131075253,
            0.3564863547482525,
            0.3,
            0.37180312720919007,
            0.3,
            0.467036281506065,
            0.37180312720919007,
            0.3791740571860158,
            0.37048635474825253,
            0.68335097877169,
            0.6264204367795025,
            0.3564863547482525,
            0.55227187720919,
            0.56627187720919,
            0.5728224143185651,
            0.845135402599815,
            0.5438628195920026,
            0.9639952658810649,
            0.62352968970919,
            0.9355913193716929
           ]
          },
          {
           "label": "reg_alpha",
           "values": [
            0.0026291433041113373,
            0.7744252755442047,
            0.51459858862723,
            0.0019112283738391912,
            0.8933896042522299,
            0.0027103116043631576,
            0.67904634253348,
            0.8774594284709799,
            0.2913838669475424,
            0.0019080920299016188,
            0,
            2.2940255548709744e-05,
            0.004642492508659965,
            0.003554061267891429,
            0.3140431687053549,
            0.3291493717394647,
            0.67411128393973,
            0.68311128393973,
            0.16996736304129242,
            0.3828725144084799,
            0.08030903784597991,
            0.9,
            0.61115083472098,
            0.6913784913537925,
            0.06613667456472991,
            0.4450924317469667,
            0.7500567097450332,
            0.7619557702833888,
            0.5161190874401389,
            0.030101518314729906,
            0.6897481247600424,
            0.7674214646037925,
            0.834447953861605,
            0.8818539597209799,
            0.3140255905803549,
            0.4919118210491049,
            0.5992306687053549,
            0.5695576950725424,
            0.6748166062053549,
            0.8123379685100425,
            0.8884820114787925,
            0.8974820114787925,
            0.8825406052287924,
            0.6668515183147299,
            0.006804363159425739,
            0.015478211368203359,
            0.003530333136729124,
            0.0031623208009983125,
            0.0010231498641401417,
            0.019317338627229903,
            0,
            0.0127255417522299,
            0.0028088929729733906,
            0.005872243103433311,
            0.0004794372497140489,
            0.0029493267777900164,
            0.04054841772879241,
            0.0368130661662924,
            4.094322647428183e-05,
            0.010649341786205161,
            0.006823651792281794,
            0,
            0.001317338627229901,
            0.001317338627229901,
            0.0188130661662924,
            0.024828080814729897,
            0.0879170700725424,
            0.0188130661662924,
            0.07866108862722991,
            0.07866108862722991,
            0.0099416062053549,
            0.0194997116741049,
            0.0828633591350424,
            0.4645558640178549,
            0.2265282761272299,
            0.6000840778273226
           ]
          },
          {
           "label": "train:gini",
           "values": [
            0.35637,
            0.35951,
            0.36269,
            0.35637,
            0.35366,
            0.35637,
            0.33604,
            0.34143,
            0.35307,
            0.35643,
            0.35639,
            0.35637,
            0.35636,
            0.35637,
            0.36366,
            0.35855,
            0.34852,
            0.34793,
            0.34419,
            0.34327,
            0.36059,
            0.32481,
            0.36227,
            0.3621,
            0.35662,
            0.35005998611450195,
            0.35658,
            0.35379,
            0.3545,
            0.34664,
            0.3638,
            0.36312,
            0.36067,
            0.36017,
            0.35627,
            0.35467,
            0.35948,
            0.34961,
            0.36775,
            0.34823,
            0.36358,
            0.36399,
            0.35417,
            0.32144,
            0.3561,
            0.35601,
            0.35642,
            0.35637,
            0.35638,
            0.35548,
            0.35639,
            0.35624,
            0.35637,
            0.35596,
            0.35662,
            0.35637,
            0.35529,
            0.35514,
            0.35639,
            0.35594,
            0.35645,
            0.35542,
            0.356,
            0.35564,
            0.35545,
            0.35664,
            0.35644,
            0.3551,
            0.35169,
            0.35182,
            0.33986,
            0.35039,
            0.34985,
            0.36018,
            0.36329,
            0.32573
           ]
          },
          {
           "label": "Objective",
           "values": [
            0.34602,
            0.34352,
            0.34451,
            0.34599,
            0.33576,
            0.34598,
            0.32378,
            0.32522,
            0.33938,
            0.34628,
            0.34572,
            0.34601,
            0.34598,
            0.34598,
            0.34317,
            0.34324,
            0.32965,
            0.32943,
            0.33064,
            0.33176,
            0.3413,
            0.3159,
            0.34411,
            0.3429,
            0.33949,
            0.33629998564720154,
            0.34213,
            0.34067,
            0.34202,
            0.33634,
            0.33055,
            0.33163,
            0.34455,
            0.34235,
            0.33662,
            0.33724,
            0.3429,
            0.33595,
            0.33114,
            0.33445,
            0.32222,
            0.32225,
            0.33803,
            0.31466,
            0.34548,
            0.34379,
            0.34613,
            0.34598,
            0.34578,
            0.34467,
            0.34577,
            0.3458,
            0.34597,
            0.34355,
            0.34495,
            0.34596,
            0.34196,
            0.34384,
            0.34577,
            0.34417,
            0.34607,
            0.33927,
            0.34349,
            0.34424,
            0.34385,
            0.34196,
            0.34007,
            0.34402,
            0.33854,
            0.33905,
            0.32865,
            0.33474,
            0.33706,
            0.31814,
            0.32624,
            0.31469
           ]
          }
         ],
         "domain": {
          "x": [
           0,
           1
          ],
          "y": [
           0,
           1
          ]
         },
         "line": {
          "color": [
           0.34602,
           0.34352,
           0.34451,
           0.34599,
           0.33576,
           0.34598,
           0.32378,
           0.32522,
           0.33938,
           0.34628,
           0.34572,
           0.34601,
           0.34598,
           0.34598,
           0.34317,
           0.34324,
           0.32965,
           0.32943,
           0.33064,
           0.33176,
           0.3413,
           0.3159,
           0.34411,
           0.3429,
           0.33949,
           0.33629998564720154,
           0.34213,
           0.34067,
           0.34202,
           0.33634,
           0.33055,
           0.33163,
           0.34455,
           0.34235,
           0.33662,
           0.33724,
           0.3429,
           0.33595,
           0.33114,
           0.33445,
           0.32222,
           0.32225,
           0.33803,
           0.31466,
           0.34548,
           0.34379,
           0.34613,
           0.34598,
           0.34578,
           0.34467,
           0.34577,
           0.3458,
           0.34597,
           0.34355,
           0.34495,
           0.34596,
           0.34196,
           0.34384,
           0.34577,
           0.34417,
           0.34607,
           0.33927,
           0.34349,
           0.34424,
           0.34385,
           0.34196,
           0.34007,
           0.34402,
           0.33854,
           0.33905,
           0.32865,
           0.33474,
           0.33706,
           0.31814,
           0.32624,
           0.31469
          ],
          "coloraxis": "coloraxis"
         },
         "name": "",
         "type": "parcoords"
        }
       ],
       "layout": {
        "autosize": true,
        "coloraxis": {
         "cmid": 0.33,
         "colorbar": {
          "title": {
           "text": "Objective"
          }
         },
         "colorscale": [
          [
           0,
           "rgb(0, 147, 146)"
          ],
          [
           0.16666666666666666,
           "rgb(114, 170, 161)"
          ],
          [
           0.3333333333333333,
           "rgb(177, 199, 179)"
          ],
          [
           0.5,
           "rgb(241, 234, 200)"
          ],
          [
           0.6666666666666666,
           "rgb(229, 185, 173)"
          ],
          [
           0.8333333333333334,
           "rgb(217, 137, 148)"
          ],
          [
           1,
           "rgb(208, 88, 126)"
          ]
         ]
        },
        "legend": {
         "tracegroupgap": 0
        },
        "margin": {
         "t": 60
        },
        "template": {
         "data": {
          "bar": [
           {
            "error_x": {
             "color": "#2a3f5f"
            },
            "error_y": {
             "color": "#2a3f5f"
            },
            "marker": {
             "line": {
              "color": "#E5ECF6",
              "width": 0.5
             }
            },
            "type": "bar"
           }
          ],
          "barpolar": [
           {
            "marker": {
             "line": {
              "color": "#E5ECF6",
              "width": 0.5
             }
            },
            "type": "barpolar"
           }
          ],
          "carpet": [
           {
            "aaxis": {
             "endlinecolor": "#2a3f5f",
             "gridcolor": "white",
             "linecolor": "white",
             "minorgridcolor": "white",
             "startlinecolor": "#2a3f5f"
            },
            "baxis": {
             "endlinecolor": "#2a3f5f",
             "gridcolor": "white",
             "linecolor": "white",
             "minorgridcolor": "white",
             "startlinecolor": "#2a3f5f"
            },
            "type": "carpet"
           }
          ],
          "choropleth": [
           {
            "colorbar": {
             "outlinewidth": 0,
             "ticks": ""
            },
            "type": "choropleth"
           }
          ],
          "contour": [
           {
            "colorbar": {
             "outlinewidth": 0,
             "ticks": ""
            },
            "colorscale": [
             [
              0,
              "#0d0887"
             ],
             [
              0.1111111111111111,
              "#46039f"
             ],
             [
              0.2222222222222222,
              "#7201a8"
             ],
             [
              0.3333333333333333,
              "#9c179e"
             ],
             [
              0.4444444444444444,
              "#bd3786"
             ],
             [
              0.5555555555555556,
              "#d8576b"
             ],
             [
              0.6666666666666666,
              "#ed7953"
             ],
             [
              0.7777777777777778,
              "#fb9f3a"
             ],
             [
              0.8888888888888888,
              "#fdca26"
             ],
             [
              1,
              "#f0f921"
             ]
            ],
            "type": "contour"
           }
          ],
          "contourcarpet": [
           {
            "colorbar": {
             "outlinewidth": 0,
             "ticks": ""
            },
            "type": "contourcarpet"
           }
          ],
          "heatmap": [
           {
            "colorbar": {
             "outlinewidth": 0,
             "ticks": ""
            },
            "colorscale": [
             [
              0,
              "#0d0887"
             ],
             [
              0.1111111111111111,
              "#46039f"
             ],
             [
              0.2222222222222222,
              "#7201a8"
             ],
             [
              0.3333333333333333,
              "#9c179e"
             ],
             [
              0.4444444444444444,
              "#bd3786"
             ],
             [
              0.5555555555555556,
              "#d8576b"
             ],
             [
              0.6666666666666666,
              "#ed7953"
             ],
             [
              0.7777777777777778,
              "#fb9f3a"
             ],
             [
              0.8888888888888888,
              "#fdca26"
             ],
             [
              1,
              "#f0f921"
             ]
            ],
            "type": "heatmap"
           }
          ],
          "heatmapgl": [
           {
            "colorbar": {
             "outlinewidth": 0,
             "ticks": ""
            },
            "colorscale": [
             [
              0,
              "#0d0887"
             ],
             [
              0.1111111111111111,
              "#46039f"
             ],
             [
              0.2222222222222222,
              "#7201a8"
             ],
             [
              0.3333333333333333,
              "#9c179e"
             ],
             [
              0.4444444444444444,
              "#bd3786"
             ],
             [
              0.5555555555555556,
              "#d8576b"
             ],
             [
              0.6666666666666666,
              "#ed7953"
             ],
             [
              0.7777777777777778,
              "#fb9f3a"
             ],
             [
              0.8888888888888888,
              "#fdca26"
             ],
             [
              1,
              "#f0f921"
             ]
            ],
            "type": "heatmapgl"
           }
          ],
          "histogram": [
           {
            "marker": {
             "colorbar": {
              "outlinewidth": 0,
              "ticks": ""
             }
            },
            "type": "histogram"
           }
          ],
          "histogram2d": [
           {
            "colorbar": {
             "outlinewidth": 0,
             "ticks": ""
            },
            "colorscale": [
             [
              0,
              "#0d0887"
             ],
             [
              0.1111111111111111,
              "#46039f"
             ],
             [
              0.2222222222222222,
              "#7201a8"
             ],
             [
              0.3333333333333333,
              "#9c179e"
             ],
             [
              0.4444444444444444,
              "#bd3786"
             ],
             [
              0.5555555555555556,
              "#d8576b"
             ],
             [
              0.6666666666666666,
              "#ed7953"
             ],
             [
              0.7777777777777778,
              "#fb9f3a"
             ],
             [
              0.8888888888888888,
              "#fdca26"
             ],
             [
              1,
              "#f0f921"
             ]
            ],
            "type": "histogram2d"
           }
          ],
          "histogram2dcontour": [
           {
            "colorbar": {
             "outlinewidth": 0,
             "ticks": ""
            },
            "colorscale": [
             [
              0,
              "#0d0887"
             ],
             [
              0.1111111111111111,
              "#46039f"
             ],
             [
              0.2222222222222222,
              "#7201a8"
             ],
             [
              0.3333333333333333,
              "#9c179e"
             ],
             [
              0.4444444444444444,
              "#bd3786"
             ],
             [
              0.5555555555555556,
              "#d8576b"
             ],
             [
              0.6666666666666666,
              "#ed7953"
             ],
             [
              0.7777777777777778,
              "#fb9f3a"
             ],
             [
              0.8888888888888888,
              "#fdca26"
             ],
             [
              1,
              "#f0f921"
             ]
            ],
            "type": "histogram2dcontour"
           }
          ],
          "mesh3d": [
           {
            "colorbar": {
             "outlinewidth": 0,
             "ticks": ""
            },
            "type": "mesh3d"
           }
          ],
          "parcoords": [
           {
            "line": {
             "colorbar": {
              "outlinewidth": 0,
              "ticks": ""
             }
            },
            "type": "parcoords"
           }
          ],
          "pie": [
           {
            "automargin": true,
            "type": "pie"
           }
          ],
          "scatter": [
           {
            "marker": {
             "colorbar": {
              "outlinewidth": 0,
              "ticks": ""
             }
            },
            "type": "scatter"
           }
          ],
          "scatter3d": [
           {
            "line": {
             "colorbar": {
              "outlinewidth": 0,
              "ticks": ""
             }
            },
            "marker": {
             "colorbar": {
              "outlinewidth": 0,
              "ticks": ""
             }
            },
            "type": "scatter3d"
           }
          ],
          "scattercarpet": [
           {
            "marker": {
             "colorbar": {
              "outlinewidth": 0,
              "ticks": ""
             }
            },
            "type": "scattercarpet"
           }
          ],
          "scattergeo": [
           {
            "marker": {
             "colorbar": {
              "outlinewidth": 0,
              "ticks": ""
             }
            },
            "type": "scattergeo"
           }
          ],
          "scattergl": [
           {
            "marker": {
             "colorbar": {
              "outlinewidth": 0,
              "ticks": ""
             }
            },
            "type": "scattergl"
           }
          ],
          "scattermapbox": [
           {
            "marker": {
             "colorbar": {
              "outlinewidth": 0,
              "ticks": ""
             }
            },
            "type": "scattermapbox"
           }
          ],
          "scatterpolar": [
           {
            "marker": {
             "colorbar": {
              "outlinewidth": 0,
              "ticks": ""
             }
            },
            "type": "scatterpolar"
           }
          ],
          "scatterpolargl": [
           {
            "marker": {
             "colorbar": {
              "outlinewidth": 0,
              "ticks": ""
             }
            },
            "type": "scatterpolargl"
           }
          ],
          "scatterternary": [
           {
            "marker": {
             "colorbar": {
              "outlinewidth": 0,
              "ticks": ""
             }
            },
            "type": "scatterternary"
           }
          ],
          "surface": [
           {
            "colorbar": {
             "outlinewidth": 0,
             "ticks": ""
            },
            "colorscale": [
             [
              0,
              "#0d0887"
             ],
             [
              0.1111111111111111,
              "#46039f"
             ],
             [
              0.2222222222222222,
              "#7201a8"
             ],
             [
              0.3333333333333333,
              "#9c179e"
             ],
             [
              0.4444444444444444,
              "#bd3786"
             ],
             [
              0.5555555555555556,
              "#d8576b"
             ],
             [
              0.6666666666666666,
              "#ed7953"
             ],
             [
              0.7777777777777778,
              "#fb9f3a"
             ],
             [
              0.8888888888888888,
              "#fdca26"
             ],
             [
              1,
              "#f0f921"
             ]
            ],
            "type": "surface"
           }
          ],
          "table": [
           {
            "cells": {
             "fill": {
              "color": "#EBF0F8"
             },
             "line": {
              "color": "white"
             }
            },
            "header": {
             "fill": {
              "color": "#C8D4E3"
             },
             "line": {
              "color": "white"
             }
            },
            "type": "table"
           }
          ]
         },
         "layout": {
          "annotationdefaults": {
           "arrowcolor": "#2a3f5f",
           "arrowhead": 0,
           "arrowwidth": 1
          },
          "autotypenumbers": "strict",
          "coloraxis": {
           "colorbar": {
            "outlinewidth": 0,
            "ticks": ""
           }
          },
          "colorscale": {
           "diverging": [
            [
             0,
             "#8e0152"
            ],
            [
             0.1,
             "#c51b7d"
            ],
            [
             0.2,
             "#de77ae"
            ],
            [
             0.3,
             "#f1b6da"
            ],
            [
             0.4,
             "#fde0ef"
            ],
            [
             0.5,
             "#f7f7f7"
            ],
            [
             0.6,
             "#e6f5d0"
            ],
            [
             0.7,
             "#b8e186"
            ],
            [
             0.8,
             "#7fbc41"
            ],
            [
             0.9,
             "#4d9221"
            ],
            [
             1,
             "#276419"
            ]
           ],
           "sequential": [
            [
             0,
             "#0d0887"
            ],
            [
             0.1111111111111111,
             "#46039f"
            ],
            [
             0.2222222222222222,
             "#7201a8"
            ],
            [
             0.3333333333333333,
             "#9c179e"
            ],
            [
             0.4444444444444444,
             "#bd3786"
            ],
            [
             0.5555555555555556,
             "#d8576b"
            ],
            [
             0.6666666666666666,
             "#ed7953"
            ],
            [
             0.7777777777777778,
             "#fb9f3a"
            ],
            [
             0.8888888888888888,
             "#fdca26"
            ],
            [
             1,
             "#f0f921"
            ]
           ],
           "sequentialminus": [
            [
             0,
             "#0d0887"
            ],
            [
             0.1111111111111111,
             "#46039f"
            ],
            [
             0.2222222222222222,
             "#7201a8"
            ],
            [
             0.3333333333333333,
             "#9c179e"
            ],
            [
             0.4444444444444444,
             "#bd3786"
            ],
            [
             0.5555555555555556,
             "#d8576b"
            ],
            [
             0.6666666666666666,
             "#ed7953"
            ],
            [
             0.7777777777777778,
             "#fb9f3a"
            ],
            [
             0.8888888888888888,
             "#fdca26"
            ],
            [
             1,
             "#f0f921"
            ]
           ]
          },
          "colorway": [
           "#636efa",
           "#EF553B",
           "#00cc96",
           "#ab63fa",
           "#FFA15A",
           "#19d3f3",
           "#FF6692",
           "#B6E880",
           "#FF97FF",
           "#FECB52"
          ],
          "font": {
           "color": "#2a3f5f"
          },
          "geo": {
           "bgcolor": "white",
           "lakecolor": "white",
           "landcolor": "#E5ECF6",
           "showlakes": true,
           "showland": true,
           "subunitcolor": "white"
          },
          "hoverlabel": {
           "align": "left"
          },
          "hovermode": "closest",
          "mapbox": {
           "style": "light"
          },
          "paper_bgcolor": "white",
          "plot_bgcolor": "#E5ECF6",
          "polar": {
           "angularaxis": {
            "gridcolor": "white",
            "linecolor": "white",
            "ticks": ""
           },
           "bgcolor": "#E5ECF6",
           "radialaxis": {
            "gridcolor": "white",
            "linecolor": "white",
            "ticks": ""
           }
          },
          "scene": {
           "xaxis": {
            "backgroundcolor": "#E5ECF6",
            "gridcolor": "white",
            "gridwidth": 2,
            "linecolor": "white",
            "showbackground": true,
            "ticks": "",
            "zerolinecolor": "white"
           },
           "yaxis": {
            "backgroundcolor": "#E5ECF6",
            "gridcolor": "white",
            "gridwidth": 2,
            "linecolor": "white",
            "showbackground": true,
            "ticks": "",
            "zerolinecolor": "white"
           },
           "zaxis": {
            "backgroundcolor": "#E5ECF6",
            "gridcolor": "white",
            "gridwidth": 2,
            "linecolor": "white",
            "showbackground": true,
            "ticks": "",
            "zerolinecolor": "white"
           }
          },
          "shapedefaults": {
           "line": {
            "color": "#2a3f5f"
           }
          },
          "ternary": {
           "aaxis": {
            "gridcolor": "white",
            "linecolor": "white",
            "ticks": ""
           },
           "baxis": {
            "gridcolor": "white",
            "linecolor": "white",
            "ticks": ""
           },
           "bgcolor": "#E5ECF6",
           "caxis": {
            "gridcolor": "white",
            "linecolor": "white",
            "ticks": ""
           }
          },
          "title": {
           "x": 0.05
          },
          "xaxis": {
           "automargin": true,
           "gridcolor": "white",
           "linecolor": "white",
           "ticks": "",
           "title": {
            "standoff": 15
           },
           "zerolinecolor": "white",
           "zerolinewidth": 2
          },
          "yaxis": {
           "automargin": true,
           "gridcolor": "white",
           "linecolor": "white",
           "ticks": "",
           "title": {
            "standoff": 15
           },
           "zerolinecolor": "white",
           "zerolinewidth": 2
          }
         }
        }
       }
      },
      "image/png": "[encoded data removed]",
      "text/html": [
       "<div>                            <div id=\"59b3509f-ade5-46c3-8912-e56695972c84\" class=\"plotly-graph-div\" style=\"height:525px; width:100%;\"></div>            <script type=\"text/javascript\">                require([\"plotly\"], function(Plotly) {                    window.PLOTLYENV=window.PLOTLYENV || {};                                    if (document.getElementById(\"59b3509f-ade5-46c3-8912-e56695972c84\")) {                    Plotly.newPlot(                        \"59b3509f-ade5-46c3-8912-e56695972c84\",                        [{\"dimensions\": [{\"label\": \"eta\", \"values\": [0.06999050647990727, 0.0677268330736505, 0.06945960279679751, 0.06998919508299113, 0.06118323560929751, 0.069992336994508, 0.0500394367811725, 0.0475125813124225, 0.06643744703507876, 0.06999568703701062, 0.0698514649113273, 0.0699712925676168, 0.0699785921937979, 0.06997237084807754, 0.06901040846086001, 0.06335061842179751, 0.06106575514054751, 0.06136575514054751, 0.047112495863203756, 0.04984900739367251, 0.0630979328749225, 0.04, 0.06976297193742251, 0.06988290601945375, 0.0694370442030475, 0.0642606520230344, 0.0639627766249225, 0.06175635572648501, 0.0698618488905475, 0.057909309828047505, 0.07, 0.06950204664445375, 0.06886026197648501, 0.06870828443742251, 0.06911294752336, 0.068017976820235, 0.06572915846086, 0.06312631422257875, 0.07, 0.06181527906632875, 0.06751747633195376, 0.06781747633195376, 0.06972177320695377, 0.041034309828047504, 0.06967932935929752, 0.0693564777967975, 0.06988325609210111, 0.07, 0.07, 0.0693564777967975, 0.07, 0.07, 0.07, 0.0693564777967975, 0.07, 0.07, 0.06872567945695376, 0.06826425367570377, 0.07, 0.0693564777967975, 0.07, 0.06878335767961, 0.0693564777967975, 0.0693564777967975, 0.06826425367570377, 0.06981790357804751, 0.07, 0.06826425367570377, 0.0639658527967975, 0.0639658527967975, 0.04971900221086, 0.06208535963273501, 0.06218149000382875, 0.06085855299211, 0.06548225904679751, 0.04048802214129093]}, {\"label\": \"max_depth\", \"values\": [3.0, 4.0, 4.0, 3.0, 4.0, 3.0, 3.0, 4.0, 3.0, 3.0, 3.0, 3.0, 3.0, 3.0, 4.0, 4.0, 3.0, 3.0, 4.0, 4.0, 4.0, 5.0, 4.0, 4.0, 3.0, 3.0, 4.0, 4.0, 3.0, 3.0, 4.0, 4.0, 4.0, 4.0, 3.0, 3.0, 4.0, 3.0, 5.0, 3.0, 4.0, 4.0, 3.0, 3.0, 3.0, 3.0, 3.0, 3.0, 3.0, 3.0, 3.0, 3.0, 3.0, 3.0, 3.0, 3.0, 3.0, 3.0, 3.0, 3.0, 3.0, 3.0, 3.0, 3.0, 3.0, 3.0, 3.0, 3.0, 3.0, 3.0, 3.0, 3.0, 3.0, 4.0, 4.0, 3.0]}, {\"label\": \"subsample\", \"values\": [0.3, 0.3, 0.30070937720919005, 0.3, 0.3907037234448874, 0.3, 0.7063556954784296, 0.82494033424044, 0.6626372336545026, 0.3, 0.3, 0.3, 0.3, 0.3, 0.30348647681856505, 0.30002578345919007, 0.9996771506466899, 1.0, 0.41083205787325255, 0.30728896705294007, 0.32625869361544, 0.37197402564669, 0.3, 0.30743850318575255, 0.8552611350216899, 0.41157973853731505, 0.31395400611544005, 0.3, 0.33505996314669007, 0.3155775412716901, 0.45842727271700257, 0.45913586115755256, 0.34116958228731503, 0.31839736549044007, 0.927593898693565, 0.772332668224815, 0.336298976818565, 0.6267485617795026, 0.33219741431856503, 0.8405561789670024, 0.8384131125607526, 0.8314131125607525, 0.46465139381075254, 0.35932754127169003, 0.30220142456630084, 0.37180312720919007, 0.3000000426921348, 0.3, 0.3, 0.3858031272091901, 0.3, 0.3, 0.3, 0.37180312720919007, 0.30958242408419007, 0.3, 0.32076858131075253, 0.3564863547482525, 0.3, 0.37180312720919007, 0.3, 0.467036281506065, 0.37180312720919007, 0.3791740571860158, 0.37048635474825253, 0.68335097877169, 0.6264204367795025, 0.3564863547482525, 0.55227187720919, 0.56627187720919, 0.5728224143185651, 0.845135402599815, 0.5438628195920026, 0.9639952658810649, 0.62352968970919, 0.9355913193716929]}, {\"label\": \"reg_alpha\", \"values\": [0.0026291433041113373, 0.7744252755442047, 0.51459858862723, 0.0019112283738391912, 0.8933896042522299, 0.0027103116043631576, 0.67904634253348, 0.8774594284709799, 0.2913838669475424, 0.0019080920299016188, 0.0, 2.2940255548709744e-05, 0.004642492508659965, 0.003554061267891429, 0.3140431687053549, 0.3291493717394647, 0.67411128393973, 0.68311128393973, 0.16996736304129242, 0.3828725144084799, 0.08030903784597991, 0.9, 0.61115083472098, 0.6913784913537925, 0.06613667456472991, 0.4450924317469667, 0.7500567097450332, 0.7619557702833888, 0.5161190874401389, 0.030101518314729906, 0.6897481247600424, 0.7674214646037925, 0.834447953861605, 0.8818539597209799, 0.3140255905803549, 0.4919118210491049, 0.5992306687053549, 0.5695576950725424, 0.6748166062053549, 0.8123379685100425, 0.8884820114787925, 0.8974820114787925, 0.8825406052287924, 0.6668515183147299, 0.006804363159425739, 0.015478211368203359, 0.003530333136729124, 0.0031623208009983125, 0.0010231498641401417, 0.019317338627229903, 0.0, 0.0127255417522299, 0.0028088929729733906, 0.005872243103433311, 0.0004794372497140489, 0.0029493267777900164, 0.04054841772879241, 0.0368130661662924, 4.094322647428183e-05, 0.010649341786205161, 0.006823651792281794, 0.0, 0.001317338627229901, 0.001317338627229901, 0.0188130661662924, 0.024828080814729897, 0.0879170700725424, 0.0188130661662924, 0.07866108862722991, 0.07866108862722991, 0.0099416062053549, 0.0194997116741049, 0.0828633591350424, 0.4645558640178549, 0.2265282761272299, 0.6000840778273226]}, {\"label\": \"train:gini\", \"values\": [0.35637, 0.35951, 0.36269, 0.35637, 0.35366, 0.35637, 0.33604, 0.34143, 0.35307, 0.35643, 0.35639, 0.35637, 0.35636, 0.35637, 0.36366, 0.35855, 0.34852, 0.34793, 0.34419, 0.34327, 0.36059, 0.32481, 0.36227, 0.3621, 0.35662, 0.35005998611450195, 0.35658, 0.35379, 0.3545, 0.34664, 0.3638, 0.36312, 0.36067, 0.36017, 0.35627, 0.35467, 0.35948, 0.34961, 0.36775, 0.34823, 0.36358, 0.36399, 0.35417, 0.32144, 0.3561, 0.35601, 0.35642, 0.35637, 0.35638, 0.35548, 0.35639, 0.35624, 0.35637, 0.35596, 0.35662, 0.35637, 0.35529, 0.35514, 0.35639, 0.35594, 0.35645, 0.35542, 0.356, 0.35564, 0.35545, 0.35664, 0.35644, 0.3551, 0.35169, 0.35182, 0.33986, 0.35039, 0.34985, 0.36018, 0.36329, 0.32573]}, {\"label\": \"Objective\", \"values\": [0.34602, 0.34352, 0.34451, 0.34599, 0.33576, 0.34598, 0.32378, 0.32522, 0.33938, 0.34628, 0.34572, 0.34601, 0.34598, 0.34598, 0.34317, 0.34324, 0.32965, 0.32943, 0.33064, 0.33176, 0.3413, 0.3159, 0.34411, 0.3429, 0.33949, 0.33629998564720154, 0.34213, 0.34067, 0.34202, 0.33634, 0.33055, 0.33163, 0.34455, 0.34235, 0.33662, 0.33724, 0.3429, 0.33595, 0.33114, 0.33445, 0.32222, 0.32225, 0.33803, 0.31466, 0.34548, 0.34379, 0.34613, 0.34598, 0.34578, 0.34467, 0.34577, 0.3458, 0.34597, 0.34355, 0.34495, 0.34596, 0.34196, 0.34384, 0.34577, 0.34417, 0.34607, 0.33927, 0.34349, 0.34424, 0.34385, 0.34196, 0.34007, 0.34402, 0.33854, 0.33905, 0.32865, 0.33474, 0.33706, 0.31814, 0.32624, 0.31469]}], \"domain\": {\"x\": [0.0, 1.0], \"y\": [0.0, 1.0]}, \"line\": {\"color\": [0.34602, 0.34352, 0.34451, 0.34599, 0.33576, 0.34598, 0.32378, 0.32522, 0.33938, 0.34628, 0.34572, 0.34601, 0.34598, 0.34598, 0.34317, 0.34324, 0.32965, 0.32943, 0.33064, 0.33176, 0.3413, 0.3159, 0.34411, 0.3429, 0.33949, 0.33629998564720154, 0.34213, 0.34067, 0.34202, 0.33634, 0.33055, 0.33163, 0.34455, 0.34235, 0.33662, 0.33724, 0.3429, 0.33595, 0.33114, 0.33445, 0.32222, 0.32225, 0.33803, 0.31466, 0.34548, 0.34379, 0.34613, 0.34598, 0.34578, 0.34467, 0.34577, 0.3458, 0.34597, 0.34355, 0.34495, 0.34596, 0.34196, 0.34384, 0.34577, 0.34417, 0.34607, 0.33927, 0.34349, 0.34424, 0.34385, 0.34196, 0.34007, 0.34402, 0.33854, 0.33905, 0.32865, 0.33474, 0.33706, 0.31814, 0.32624, 0.31469], \"coloraxis\": \"coloraxis\"}, \"name\": \"\", \"type\": \"parcoords\"}],                        {\"coloraxis\": {\"cmid\": 0.33, \"colorbar\": {\"title\": {\"text\": \"Objective\"}}, \"colorscale\": [[0.0, \"rgb(0, 147, 146)\"], [0.16666666666666666, \"rgb(114, 170, 161)\"], [0.3333333333333333, \"rgb(177, 199, 179)\"], [0.5, \"rgb(241, 234, 200)\"], [0.6666666666666666, \"rgb(229, 185, 173)\"], [0.8333333333333334, \"rgb(217, 137, 148)\"], [1.0, \"rgb(208, 88, 126)\"]]}, \"legend\": {\"tracegroupgap\": 0}, \"margin\": {\"t\": 60}, \"template\": {\"data\": {\"bar\": [{\"error_x\": {\"color\": \"#2a3f5f\"}, \"error_y\": {\"color\": \"#2a3f5f\"}, \"marker\": {\"line\": {\"color\": \"#E5ECF6\", \"width\": 0.5}}, \"type\": \"bar\"}], \"barpolar\": [{\"marker\": {\"line\": {\"color\": \"#E5ECF6\", \"width\": 0.5}}, \"type\": \"barpolar\"}], \"carpet\": [{\"aaxis\": {\"endlinecolor\": \"#2a3f5f\", \"gridcolor\": \"white\", \"linecolor\": \"white\", \"minorgridcolor\": \"white\", \"startlinecolor\": \"#2a3f5f\"}, \"baxis\": {\"endlinecolor\": \"#2a3f5f\", \"gridcolor\": \"white\", \"linecolor\": \"white\", \"minorgridcolor\": \"white\", \"startlinecolor\": \"#2a3f5f\"}, \"type\": \"carpet\"}], \"choropleth\": [{\"colorbar\": {\"outlinewidth\": 0, \"ticks\": \"\"}, \"type\": \"choropleth\"}], \"contour\": [{\"colorbar\": {\"outlinewidth\": 0, \"ticks\": \"\"}, \"colorscale\": [[0.0, \"#0d0887\"], [0.1111111111111111, \"#46039f\"], [0.2222222222222222, \"#7201a8\"], [0.3333333333333333, \"#9c179e\"], [0.4444444444444444, \"#bd3786\"], [0.5555555555555556, \"#d8576b\"], [0.6666666666666666, \"#ed7953\"], [0.7777777777777778, \"#fb9f3a\"], [0.8888888888888888, \"#fdca26\"], [1.0, \"#f0f921\"]], \"type\": \"contour\"}], \"contourcarpet\": [{\"colorbar\": {\"outlinewidth\": 0, \"ticks\": \"\"}, \"type\": \"contourcarpet\"}], \"heatmap\": [{\"colorbar\": {\"outlinewidth\": 0, \"ticks\": \"\"}, \"colorscale\": [[0.0, \"#0d0887\"], [0.1111111111111111, \"#46039f\"], [0.2222222222222222, \"#7201a8\"], [0.3333333333333333, \"#9c179e\"], [0.4444444444444444, \"#bd3786\"], [0.5555555555555556, \"#d8576b\"], [0.6666666666666666, \"#ed7953\"], [0.7777777777777778, \"#fb9f3a\"], [0.8888888888888888, \"#fdca26\"], [1.0, \"#f0f921\"]], \"type\": \"heatmap\"}], \"heatmapgl\": [{\"colorbar\": {\"outlinewidth\": 0, \"ticks\": \"\"}, \"colorscale\": [[0.0, \"#0d0887\"], [0.1111111111111111, \"#46039f\"], [0.2222222222222222, \"#7201a8\"], [0.3333333333333333, \"#9c179e\"], [0.4444444444444444, \"#bd3786\"], [0.5555555555555556, \"#d8576b\"], [0.6666666666666666, \"#ed7953\"], [0.7777777777777778, \"#fb9f3a\"], [0.8888888888888888, \"#fdca26\"], [1.0, \"#f0f921\"]], \"type\": \"heatmapgl\"}], \"histogram\": [{\"marker\": {\"colorbar\": {\"outlinewidth\": 0, \"ticks\": \"\"}}, \"type\": \"histogram\"}], \"histogram2d\": [{\"colorbar\": {\"outlinewidth\": 0, \"ticks\": \"\"}, \"colorscale\": [[0.0, \"#0d0887\"], [0.1111111111111111, \"#46039f\"], [0.2222222222222222, \"#7201a8\"], [0.3333333333333333, \"#9c179e\"], [0.4444444444444444, \"#bd3786\"], [0.5555555555555556, \"#d8576b\"], [0.6666666666666666, \"#ed7953\"], [0.7777777777777778, \"#fb9f3a\"], [0.8888888888888888, \"#fdca26\"], [1.0, \"#f0f921\"]], \"type\": \"histogram2d\"}], \"histogram2dcontour\": [{\"colorbar\": {\"outlinewidth\": 0, \"ticks\": \"\"}, \"colorscale\": [[0.0, \"#0d0887\"], [0.1111111111111111, \"#46039f\"], [0.2222222222222222, \"#7201a8\"], [0.3333333333333333, \"#9c179e\"], [0.4444444444444444, \"#bd3786\"], [0.5555555555555556, \"#d8576b\"], [0.6666666666666666, \"#ed7953\"], [0.7777777777777778, \"#fb9f3a\"], [0.8888888888888888, \"#fdca26\"], [1.0, \"#f0f921\"]], \"type\": \"histogram2dcontour\"}], \"mesh3d\": [{\"colorbar\": {\"outlinewidth\": 0, \"ticks\": \"\"}, \"type\": \"mesh3d\"}], \"parcoords\": [{\"line\": {\"colorbar\": {\"outlinewidth\": 0, \"ticks\": \"\"}}, \"type\": \"parcoords\"}], \"pie\": [{\"automargin\": true, \"type\": \"pie\"}], \"scatter\": [{\"marker\": {\"colorbar\": {\"outlinewidth\": 0, \"ticks\": \"\"}}, \"type\": \"scatter\"}], \"scatter3d\": [{\"line\": {\"colorbar\": {\"outlinewidth\": 0, \"ticks\": \"\"}}, \"marker\": {\"colorbar\": {\"outlinewidth\": 0, \"ticks\": \"\"}}, \"type\": \"scatter3d\"}], \"scattercarpet\": [{\"marker\": {\"colorbar\": {\"outlinewidth\": 0, \"ticks\": \"\"}}, \"type\": \"scattercarpet\"}], \"scattergeo\": [{\"marker\": {\"colorbar\": {\"outlinewidth\": 0, \"ticks\": \"\"}}, \"type\": \"scattergeo\"}], \"scattergl\": [{\"marker\": {\"colorbar\": {\"outlinewidth\": 0, \"ticks\": \"\"}}, \"type\": \"scattergl\"}], \"scattermapbox\": [{\"marker\": {\"colorbar\": {\"outlinewidth\": 0, \"ticks\": \"\"}}, \"type\": \"scattermapbox\"}], \"scatterpolar\": [{\"marker\": {\"colorbar\": {\"outlinewidth\": 0, \"ticks\": \"\"}}, \"type\": \"scatterpolar\"}], \"scatterpolargl\": [{\"marker\": {\"colorbar\": {\"outlinewidth\": 0, \"ticks\": \"\"}}, \"type\": \"scatterpolargl\"}], \"scatterternary\": [{\"marker\": {\"colorbar\": {\"outlinewidth\": 0, \"ticks\": \"\"}}, \"type\": \"scatterternary\"}], \"surface\": [{\"colorbar\": {\"outlinewidth\": 0, \"ticks\": \"\"}, \"colorscale\": [[0.0, \"#0d0887\"], [0.1111111111111111, \"#46039f\"], [0.2222222222222222, \"#7201a8\"], [0.3333333333333333, \"#9c179e\"], [0.4444444444444444, \"#bd3786\"], [0.5555555555555556, \"#d8576b\"], [0.6666666666666666, \"#ed7953\"], [0.7777777777777778, \"#fb9f3a\"], [0.8888888888888888, \"#fdca26\"], [1.0, \"#f0f921\"]], \"type\": \"surface\"}], \"table\": [{\"cells\": {\"fill\": {\"color\": \"#EBF0F8\"}, \"line\": {\"color\": \"white\"}}, \"header\": {\"fill\": {\"color\": \"#C8D4E3\"}, \"line\": {\"color\": \"white\"}}, \"type\": \"table\"}]}, \"layout\": {\"annotationdefaults\": {\"arrowcolor\": \"#2a3f5f\", \"arrowhead\": 0, \"arrowwidth\": 1}, \"autotypenumbers\": \"strict\", \"coloraxis\": {\"colorbar\": {\"outlinewidth\": 0, \"ticks\": \"\"}}, \"colorscale\": {\"diverging\": [[0, \"#8e0152\"], [0.1, \"#c51b7d\"], [0.2, \"#de77ae\"], [0.3, \"#f1b6da\"], [0.4, \"#fde0ef\"], [0.5, \"#f7f7f7\"], [0.6, \"#e6f5d0\"], [0.7, \"#b8e186\"], [0.8, \"#7fbc41\"], [0.9, \"#4d9221\"], [1, \"#276419\"]], \"sequential\": [[0.0, \"#0d0887\"], [0.1111111111111111, \"#46039f\"], [0.2222222222222222, \"#7201a8\"], [0.3333333333333333, \"#9c179e\"], [0.4444444444444444, \"#bd3786\"], [0.5555555555555556, \"#d8576b\"], [0.6666666666666666, \"#ed7953\"], [0.7777777777777778, \"#fb9f3a\"], [0.8888888888888888, \"#fdca26\"], [1.0, \"#f0f921\"]], \"sequentialminus\": [[0.0, \"#0d0887\"], [0.1111111111111111, \"#46039f\"], [0.2222222222222222, \"#7201a8\"], [0.3333333333333333, \"#9c179e\"], [0.4444444444444444, \"#bd3786\"], [0.5555555555555556, \"#d8576b\"], [0.6666666666666666, \"#ed7953\"], [0.7777777777777778, \"#fb9f3a\"], [0.8888888888888888, \"#fdca26\"], [1.0, \"#f0f921\"]]}, \"colorway\": [\"#636efa\", \"#EF553B\", \"#00cc96\", \"#ab63fa\", \"#FFA15A\", \"#19d3f3\", \"#FF6692\", \"#B6E880\", \"#FF97FF\", \"#FECB52\"], \"font\": {\"color\": \"#2a3f5f\"}, \"geo\": {\"bgcolor\": \"white\", \"lakecolor\": \"white\", \"landcolor\": \"#E5ECF6\", \"showlakes\": true, \"showland\": true, \"subunitcolor\": \"white\"}, \"hoverlabel\": {\"align\": \"left\"}, \"hovermode\": \"closest\", \"mapbox\": {\"style\": \"light\"}, \"paper_bgcolor\": \"white\", \"plot_bgcolor\": \"#E5ECF6\", \"polar\": {\"angularaxis\": {\"gridcolor\": \"white\", \"linecolor\": \"white\", \"ticks\": \"\"}, \"bgcolor\": \"#E5ECF6\", \"radialaxis\": {\"gridcolor\": \"white\", \"linecolor\": \"white\", \"ticks\": \"\"}}, \"scene\": {\"xaxis\": {\"backgroundcolor\": \"#E5ECF6\", \"gridcolor\": \"white\", \"gridwidth\": 2, \"linecolor\": \"white\", \"showbackground\": true, \"ticks\": \"\", \"zerolinecolor\": \"white\"}, \"yaxis\": {\"backgroundcolor\": \"#E5ECF6\", \"gridcolor\": \"white\", \"gridwidth\": 2, \"linecolor\": \"white\", \"showbackground\": true, \"ticks\": \"\", \"zerolinecolor\": \"white\"}, \"zaxis\": {\"backgroundcolor\": \"#E5ECF6\", \"gridcolor\": \"white\", \"gridwidth\": 2, \"linecolor\": \"white\", \"showbackground\": true, \"ticks\": \"\", \"zerolinecolor\": \"white\"}}, \"shapedefaults\": {\"line\": {\"color\": \"#2a3f5f\"}}, \"ternary\": {\"aaxis\": {\"gridcolor\": \"white\", \"linecolor\": \"white\", \"ticks\": \"\"}, \"baxis\": {\"gridcolor\": \"white\", \"linecolor\": \"white\", \"ticks\": \"\"}, \"bgcolor\": \"#E5ECF6\", \"caxis\": {\"gridcolor\": \"white\", \"linecolor\": \"white\", \"ticks\": \"\"}}, \"title\": {\"x\": 0.05}, \"xaxis\": {\"automargin\": true, \"gridcolor\": \"white\", \"linecolor\": \"white\", \"ticks\": \"\", \"title\": {\"standoff\": 15}, \"zerolinecolor\": \"white\", \"zerolinewidth\": 2}, \"yaxis\": {\"automargin\": true, \"gridcolor\": \"white\", \"linecolor\": \"white\", \"ticks\": \"\", \"title\": {\"standoff\": 15}, \"zerolinecolor\": \"white\", \"zerolinewidth\": 2}}}},                        {\"responsive\": true}                    ).then(function(){\n",
       "                            \n",
       "var gd = document.getElementById('59b3509f-ade5-46c3-8912-e56695972c84');\n",
       "var x = new MutationObserver(function (mutations, observer) {{\n",
       "        var display = window.getComputedStyle(gd).display;\n",
       "        if (!display || display === 'none') {{\n",
       "            console.log([gd, 'removed!']);\n",
       "            Plotly.purge(gd);\n",
       "            observer.disconnect();\n",
       "        }}\n",
       "}});\n",
       "\n",
       "// Listen for the removal of the full notebook cells\n",
       "var notebookContainer = gd.closest('#notebook-container');\n",
       "if (notebookContainer) {{\n",
       "    x.observe(notebookContainer, {childList: true});\n",
       "}}\n",
       "\n",
       "// Listen for the clearing of the current output cell\n",
       "var outputEl = gd.closest('.output');\n",
       "if (outputEl) {{\n",
       "    x.observe(outputEl, {childList: true});\n",
       "}}\n",
       "\n",
       "                        })                };                });            </script>        </div>"
      ]
     },
     "metadata": {},
     "output_type": "display_data"
    }
   ],
   "source": [
    "fig = px.parallel_coordinates(df,['eta','max_depth','subsample','reg_alpha','train:gini','Objective'],color='Objective',\n",
    "                             color_continuous_scale=px.colors.diverging.Tealrose,\n",
    "                             color_continuous_midpoint=0.33)\n",
    "fig.show()"
   ]
  }
 ],
 "metadata": {
  "kernelspec": {
   "display_name": "Python 3",
   "language": "python",
   "name": "python3"
  },
  "language_info": {
   "codemirror_mode": {
    "name": "ipython",
    "version": 3
   },
   "file_extension": ".py",
   "mimetype": "text/x-python",
   "name": "python",
   "nbconvert_exporter": "python",
   "pygments_lexer": "ipython3",
   "version": "3.8.5"
  }
 },
 "nbformat": 4,
 "nbformat_minor": 4
}
