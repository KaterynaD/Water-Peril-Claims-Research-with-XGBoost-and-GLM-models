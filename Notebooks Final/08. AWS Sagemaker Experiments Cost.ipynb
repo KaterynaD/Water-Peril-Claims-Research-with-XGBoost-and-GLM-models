{
 "cells": [
  {
   "cell_type": "markdown",
   "metadata": {},
   "source": [
    "### AWS Sagemaker Experiments Cost\n",
    "Purpose: calculate the cost of experiments based on time spent for prpcessing, training and inference.\n",
    "The code loops thru the configured list of experiments, reads the names of related jobs and extracts the run time for each as well instance type and number of instances.\n",
    "Based on the configured price per hour for each instance type the total experiments cost is calculated"
   ]
  },
  {
   "cell_type": "code",
   "execution_count": 1,
   "metadata": {},
   "outputs": [],
   "source": [
    "Experiments_file='/home/kate/Research/Property/Notebooks/Experiments/Logs/Set1-Classification.xlsx'\n",
    "#Experimets_tab: #,Experiment,other columns not related to this specific process\n",
    "Experiments_tab='Experiments'\n",
    "#https://aws.amazon.com/sagemaker/pricing/\n",
    "cost_map = {'ml.c5.xlarge': 0.238, 'ml.t3.large': 0.1165,'ml.t3.2xlarge':0.4659,'ml.m5.xlarge':0.269}"
   ]
  },
  {
   "cell_type": "code",
   "execution_count": 2,
   "metadata": {},
   "outputs": [],
   "source": [
    "import sys\n",
    "import boto3\n",
    "import time\n",
    "import pandas as pd\n",
    "import numpy as np\n",
    "import sagemaker\n",
    "from smexperiments.experiment import Experiment\n",
    "\n",
    "from smexperiments.trial import Trial\n",
    "from smexperiments.trial_component import TrialComponent"
   ]
  },
  {
   "cell_type": "code",
   "execution_count": 3,
   "metadata": {},
   "outputs": [],
   "source": [
    "#sys.path.append('/home/kate/Research/YearBuilt/Notebooks/Experiments')\n",
    "import ExperimentsUtils as eu"
   ]
  },
  {
   "cell_type": "markdown",
   "metadata": {},
   "source": [
    "1. Reading experiments from an excel file"
   ]
  },
  {
   "cell_type": "code",
   "execution_count": 4,
   "metadata": {},
   "outputs": [],
   "source": [
    "Experiments=pd.read_excel(open(Experiments_file, 'rb'), sheet_name=Experiments_tab)"
   ]
  },
  {
   "cell_type": "code",
   "execution_count": 5,
   "metadata": {},
   "outputs": [
    {
     "data": {
      "text/html": [
       "<div>\n",
       "<style scoped>\n",
       "    .dataframe tbody tr th:only-of-type {\n",
       "        vertical-align: middle;\n",
       "    }\n",
       "\n",
       "    .dataframe tbody tr th {\n",
       "        vertical-align: top;\n",
       "    }\n",
       "\n",
       "    .dataframe thead th {\n",
       "        text-align: right;\n",
       "    }\n",
       "</style>\n",
       "<table border=\"1\" class=\"dataframe\">\n",
       "  <thead>\n",
       "    <tr style=\"text-align: right;\">\n",
       "      <th></th>\n",
       "      <th>#</th>\n",
       "      <th>Experiment</th>\n",
       "      <th>Objective</th>\n",
       "      <th>Status</th>\n",
       "      <th>Result</th>\n",
       "      <th>Dataset</th>\n",
       "      <th>Target</th>\n",
       "    </tr>\n",
       "  </thead>\n",
       "  <tbody>\n",
       "    <tr>\n",
       "      <th>0</th>\n",
       "      <td>1</td>\n",
       "      <td>BaseFeatures</td>\n",
       "      <td>Get a basic set of features</td>\n",
       "      <td>Done</td>\n",
       "      <td>CntCustomers,usagetype,rplcostdwel,PipeFroze,l...</td>\n",
       "      <td>property_water_claims_non_cat_fs_v5.csv</td>\n",
       "      <td>hasclaim</td>\n",
       "    </tr>\n",
       "    <tr>\n",
       "      <th>1</th>\n",
       "      <td>2</td>\n",
       "      <td>FeatureSet</td>\n",
       "      <td>Get full set of features</td>\n",
       "      <td>Done</td>\n",
       "      <td>customer_cnt_active_policies,usagetype_encd,wa...</td>\n",
       "      <td>property_water_claims_non_cat_fs_v5.csv</td>\n",
       "      <td>hasclaim</td>\n",
       "    </tr>\n",
       "    <tr>\n",
       "      <th>2</th>\n",
       "      <td>3</td>\n",
       "      <td>BaseFeaturesPD</td>\n",
       "      <td>Partial Dependency</td>\n",
       "      <td>Done</td>\n",
       "      <td>pipe froze and replcostdwelling do not make se...</td>\n",
       "      <td>property_water_claims_non_cat_fs_v5.csv</td>\n",
       "      <td>hasclaim</td>\n",
       "    </tr>\n",
       "    <tr>\n",
       "      <th>3</th>\n",
       "      <td>4</td>\n",
       "      <td>LastFeatures</td>\n",
       "      <td>Check CovA Limit impact</td>\n",
       "      <td>Done</td>\n",
       "      <td>no imapct of cova limit or andlord</td>\n",
       "      <td>property_water_claims_non_cat_fs_v5.csv</td>\n",
       "      <td>hasclaim</td>\n",
       "    </tr>\n",
       "    <tr>\n",
       "      <th>4</th>\n",
       "      <td>5</td>\n",
       "      <td>HyperParams</td>\n",
       "      <td>NaN</td>\n",
       "      <td>Done</td>\n",
       "      <td>Nothing ineteresting Just increased eta</td>\n",
       "      <td>property_water_claims_non_cat_fs_v5.csv</td>\n",
       "      <td>hasclaim</td>\n",
       "    </tr>\n",
       "    <tr>\n",
       "      <th>5</th>\n",
       "      <td>6</td>\n",
       "      <td>Reg</td>\n",
       "      <td>Researcg Regularization Parameters - alpha and...</td>\n",
       "      <td>Done</td>\n",
       "      <td>lambda 0.1 has best score but even more severe...</td>\n",
       "      <td>property_water_claims_non_cat_fs_v5.csv</td>\n",
       "      <td>hasclaim</td>\n",
       "    </tr>\n",
       "    <tr>\n",
       "      <th>6</th>\n",
       "      <td>7</td>\n",
       "      <td>alpha</td>\n",
       "      <td>Research alpha less then 1</td>\n",
       "      <td>Done</td>\n",
       "      <td>alpha = 0.5 is more or less Ok</td>\n",
       "      <td>property_water_claims_non_cat_fs_v5.csv</td>\n",
       "      <td>hasclaim</td>\n",
       "    </tr>\n",
       "    <tr>\n",
       "      <th>7</th>\n",
       "      <td>8</td>\n",
       "      <td>Final</td>\n",
       "      <td>Final set of params</td>\n",
       "      <td>In Progress</td>\n",
       "      <td>NaN</td>\n",
       "      <td>property_water_claims_non_cat_fs_v5.csv</td>\n",
       "      <td>hasclaim</td>\n",
       "    </tr>\n",
       "  </tbody>\n",
       "</table>\n",
       "</div>"
      ],
      "text/plain": [
       "   #      Experiment                                          Objective  \\\n",
       "0  1    BaseFeatures                        Get a basic set of features   \n",
       "1  2      FeatureSet                           Get full set of features   \n",
       "2  3  BaseFeaturesPD                                 Partial Dependency   \n",
       "3  4    LastFeatures                            Check CovA Limit impact   \n",
       "4  5     HyperParams                                                NaN   \n",
       "5  6             Reg  Researcg Regularization Parameters - alpha and...   \n",
       "6  7           alpha                         Research alpha less then 1   \n",
       "7  8           Final                                Final set of params   \n",
       "\n",
       "        Status                                             Result  \\\n",
       "0         Done  CntCustomers,usagetype,rplcostdwel,PipeFroze,l...   \n",
       "1         Done  customer_cnt_active_policies,usagetype_encd,wa...   \n",
       "2         Done  pipe froze and replcostdwelling do not make se...   \n",
       "3         Done                 no imapct of cova limit or andlord   \n",
       "4         Done            Nothing ineteresting Just increased eta   \n",
       "5         Done  lambda 0.1 has best score but even more severe...   \n",
       "6         Done                     alpha = 0.5 is more or less Ok   \n",
       "7  In Progress                                                NaN   \n",
       "\n",
       "                                   Dataset    Target  \n",
       "0  property_water_claims_non_cat_fs_v5.csv  hasclaim  \n",
       "1  property_water_claims_non_cat_fs_v5.csv  hasclaim  \n",
       "2  property_water_claims_non_cat_fs_v5.csv  hasclaim  \n",
       "3  property_water_claims_non_cat_fs_v5.csv  hasclaim  \n",
       "4  property_water_claims_non_cat_fs_v5.csv  hasclaim  \n",
       "5  property_water_claims_non_cat_fs_v5.csv  hasclaim  \n",
       "6  property_water_claims_non_cat_fs_v5.csv  hasclaim  \n",
       "7  property_water_claims_non_cat_fs_v5.csv  hasclaim  "
      ]
     },
     "execution_count": 5,
     "metadata": {},
     "output_type": "execute_result"
    }
   ],
   "source": [
    "Experiments   "
   ]
  },
  {
   "cell_type": "code",
   "execution_count": 6,
   "metadata": {},
   "outputs": [
    {
     "name": "stderr",
     "output_type": "stream",
     "text": [
      "INFO:botocore.credentials:Found credentials in shared credentials file: ~/.aws/credentials\n",
      "INFO:botocore.credentials:Found credentials in shared credentials file: ~/.aws/credentials\n"
     ]
    }
   ],
   "source": [
    "#should be run as a first step\n",
    "#role arn is used when run from a local machine\n",
    "role = 'arn:aws:iam::757107622481:role/service-role/AmazonSageMaker-ExecutionRole-20200819T131882'\n",
    "region = 'us-west-2'\n",
    "sm_sess = sagemaker.session.Session()\n",
    "sm = boto3.Session().client('sagemaker')"
   ]
  },
  {
   "cell_type": "code",
   "execution_count": 7,
   "metadata": {},
   "outputs": [],
   "source": [
    "#Experiments summaries\n",
    "from sagemaker.analytics import ExperimentAnalytics"
   ]
  },
  {
   "cell_type": "markdown",
   "metadata": {},
   "source": [
    "2. Extracting run time for each job registered in the experiments"
   ]
  },
  {
   "cell_type": "code",
   "execution_count": 8,
   "metadata": {},
   "outputs": [
    {
     "name": "stderr",
     "output_type": "stream",
     "text": [
      "INFO:botocore.credentials:Found credentials in shared credentials file: ~/.aws/credentials\n"
     ]
    },
    {
     "name": "stdout",
     "output_type": "stream",
     "text": [
      "Processing experiment: BaseFeatures\n"
     ]
    },
    {
     "name": "stderr",
     "output_type": "stream",
     "text": [
      "INFO:botocore.credentials:Found credentials in shared credentials file: ~/.aws/credentials\n"
     ]
    },
    {
     "name": "stdout",
     "output_type": "stream",
     "text": [
      "Processing experiment: FeatureSet\n"
     ]
    },
    {
     "name": "stderr",
     "output_type": "stream",
     "text": [
      "INFO:botocore.credentials:Found credentials in shared credentials file: ~/.aws/credentials\n"
     ]
    },
    {
     "name": "stdout",
     "output_type": "stream",
     "text": [
      "Processing experiment: BaseFeaturesPD\n"
     ]
    },
    {
     "name": "stderr",
     "output_type": "stream",
     "text": [
      "INFO:botocore.credentials:Found credentials in shared credentials file: ~/.aws/credentials\n"
     ]
    },
    {
     "name": "stdout",
     "output_type": "stream",
     "text": [
      "Processing experiment: LastFeatures\n"
     ]
    },
    {
     "name": "stderr",
     "output_type": "stream",
     "text": [
      "INFO:botocore.credentials:Found credentials in shared credentials file: ~/.aws/credentials\n"
     ]
    },
    {
     "name": "stdout",
     "output_type": "stream",
     "text": [
      "Processing experiment: HyperParams\n"
     ]
    },
    {
     "name": "stderr",
     "output_type": "stream",
     "text": [
      "INFO:botocore.credentials:Found credentials in shared credentials file: ~/.aws/credentials\n"
     ]
    },
    {
     "name": "stdout",
     "output_type": "stream",
     "text": [
      "Processing experiment: Reg\n"
     ]
    },
    {
     "name": "stderr",
     "output_type": "stream",
     "text": [
      "INFO:botocore.credentials:Found credentials in shared credentials file: ~/.aws/credentials\n"
     ]
    },
    {
     "name": "stdout",
     "output_type": "stream",
     "text": [
      "Processing experiment: alpha\n"
     ]
    },
    {
     "name": "stderr",
     "output_type": "stream",
     "text": [
      "INFO:botocore.credentials:Found credentials in shared credentials file: ~/.aws/credentials\n"
     ]
    },
    {
     "name": "stdout",
     "output_type": "stream",
     "text": [
      "Processing experiment: Final\n"
     ]
    },
    {
     "data": {
      "text/html": [
       "<div>\n",
       "<style scoped>\n",
       "    .dataframe tbody tr th:only-of-type {\n",
       "        vertical-align: middle;\n",
       "    }\n",
       "\n",
       "    .dataframe tbody tr th {\n",
       "        vertical-align: top;\n",
       "    }\n",
       "\n",
       "    .dataframe thead th {\n",
       "        text-align: right;\n",
       "    }\n",
       "</style>\n",
       "<table border=\"1\" class=\"dataframe\">\n",
       "  <thead>\n",
       "    <tr style=\"text-align: right;\">\n",
       "      <th></th>\n",
       "      <th>Experiment</th>\n",
       "      <th>Job Name</th>\n",
       "      <th>Job Type</th>\n",
       "      <th>ProcessingTimeInSeconds</th>\n",
       "      <th>BillableTimeInSeconds</th>\n",
       "      <th>TrainingTimeInSeconds</th>\n",
       "      <th>TransformingTimeInSeconds</th>\n",
       "      <th>InstanceType</th>\n",
       "      <th>InstanceCount</th>\n",
       "    </tr>\n",
       "  </thead>\n",
       "  <tbody>\n",
       "    <tr>\n",
       "      <th>0</th>\n",
       "      <td>BaseFeatures</td>\n",
       "      <td>waterhfail-45-2021-05-27-22-26-19</td>\n",
       "      <td>training-job</td>\n",
       "      <td>0.0</td>\n",
       "      <td>1022</td>\n",
       "      <td>1022</td>\n",
       "      <td>0.0</td>\n",
       "      <td>ml.c5.xlarge</td>\n",
       "      <td>1</td>\n",
       "    </tr>\n",
       "    <tr>\n",
       "      <th>1</th>\n",
       "      <td>BaseFeatures</td>\n",
       "      <td>plumbleak-44-2021-05-27-22-26-07</td>\n",
       "      <td>training-job</td>\n",
       "      <td>0.0</td>\n",
       "      <td>1018</td>\n",
       "      <td>1018</td>\n",
       "      <td>0.0</td>\n",
       "      <td>ml.c5.xlarge</td>\n",
       "      <td>1</td>\n",
       "    </tr>\n",
       "    <tr>\n",
       "      <th>2</th>\n",
       "      <td>BaseFeatures</td>\n",
       "      <td>applfail-43-2021-05-27-22-25-55</td>\n",
       "      <td>training-job</td>\n",
       "      <td>0.0</td>\n",
       "      <td>1001</td>\n",
       "      <td>1001</td>\n",
       "      <td>0.0</td>\n",
       "      <td>ml.c5.xlarge</td>\n",
       "      <td>1</td>\n",
       "    </tr>\n",
       "    <tr>\n",
       "      <th>3</th>\n",
       "      <td>BaseFeatures</td>\n",
       "      <td>cova-limit-41-2021-05-27-22-25-31</td>\n",
       "      <td>training-job</td>\n",
       "      <td>0.0</td>\n",
       "      <td>1028</td>\n",
       "      <td>1028</td>\n",
       "      <td>0.0</td>\n",
       "      <td>ml.c5.xlarge</td>\n",
       "      <td>1</td>\n",
       "    </tr>\n",
       "    <tr>\n",
       "      <th>4</th>\n",
       "      <td>BaseFeatures</td>\n",
       "      <td>waterrisk-42-2021-05-27-22-25-43</td>\n",
       "      <td>training-job</td>\n",
       "      <td>0.0</td>\n",
       "      <td>1007</td>\n",
       "      <td>1007</td>\n",
       "      <td>0.0</td>\n",
       "      <td>ml.c5.xlarge</td>\n",
       "      <td>1</td>\n",
       "    </tr>\n",
       "    <tr>\n",
       "      <th>...</th>\n",
       "      <td>...</td>\n",
       "      <td>...</td>\n",
       "      <td>...</td>\n",
       "      <td>...</td>\n",
       "      <td>...</td>\n",
       "      <td>...</td>\n",
       "      <td>...</td>\n",
       "      <td>...</td>\n",
       "      <td>...</td>\n",
       "    </tr>\n",
       "    <tr>\n",
       "      <th>163</th>\n",
       "      <td>alpha</td>\n",
       "      <td>basemodel-4-2021-06-01-22-19-28</td>\n",
       "      <td>training-job</td>\n",
       "      <td>0.0</td>\n",
       "      <td>1002</td>\n",
       "      <td>1002</td>\n",
       "      <td>0.0</td>\n",
       "      <td>ml.c5.xlarge</td>\n",
       "      <td>1</td>\n",
       "    </tr>\n",
       "    <tr>\n",
       "      <th>164</th>\n",
       "      <td>Final</td>\n",
       "      <td>basemodel-0-2021-06-01-23-46-02</td>\n",
       "      <td>training-job</td>\n",
       "      <td>0.0</td>\n",
       "      <td>1089</td>\n",
       "      <td>1089</td>\n",
       "      <td>0.0</td>\n",
       "      <td>ml.c5.xlarge</td>\n",
       "      <td>1</td>\n",
       "    </tr>\n",
       "    <tr>\n",
       "      <th>165</th>\n",
       "      <td>Final</td>\n",
       "      <td>basemodel-2-2021-06-01-23-46-06</td>\n",
       "      <td>training-job</td>\n",
       "      <td>0.0</td>\n",
       "      <td>1045</td>\n",
       "      <td>1045</td>\n",
       "      <td>0.0</td>\n",
       "      <td>ml.c5.xlarge</td>\n",
       "      <td>1</td>\n",
       "    </tr>\n",
       "    <tr>\n",
       "      <th>166</th>\n",
       "      <td>Final</td>\n",
       "      <td>basemodel-1-2021-06-01-23-46-04</td>\n",
       "      <td>training-job</td>\n",
       "      <td>0.0</td>\n",
       "      <td>1058</td>\n",
       "      <td>1058</td>\n",
       "      <td>0.0</td>\n",
       "      <td>ml.c5.xlarge</td>\n",
       "      <td>1</td>\n",
       "    </tr>\n",
       "    <tr>\n",
       "      <th>167</th>\n",
       "      <td>Final</td>\n",
       "      <td>basemodel-3-2021-06-01-23-46-09</td>\n",
       "      <td>training-job</td>\n",
       "      <td>0.0</td>\n",
       "      <td>1001</td>\n",
       "      <td>1001</td>\n",
       "      <td>0.0</td>\n",
       "      <td>ml.c5.xlarge</td>\n",
       "      <td>1</td>\n",
       "    </tr>\n",
       "  </tbody>\n",
       "</table>\n",
       "<p>168 rows × 9 columns</p>\n",
       "</div>"
      ],
      "text/plain": [
       "       Experiment                           Job Name      Job Type  \\\n",
       "0    BaseFeatures  waterhfail-45-2021-05-27-22-26-19  training-job   \n",
       "1    BaseFeatures   plumbleak-44-2021-05-27-22-26-07  training-job   \n",
       "2    BaseFeatures    applfail-43-2021-05-27-22-25-55  training-job   \n",
       "3    BaseFeatures  cova-limit-41-2021-05-27-22-25-31  training-job   \n",
       "4    BaseFeatures   waterrisk-42-2021-05-27-22-25-43  training-job   \n",
       "..            ...                                ...           ...   \n",
       "163         alpha    basemodel-4-2021-06-01-22-19-28  training-job   \n",
       "164         Final    basemodel-0-2021-06-01-23-46-02  training-job   \n",
       "165         Final    basemodel-2-2021-06-01-23-46-06  training-job   \n",
       "166         Final    basemodel-1-2021-06-01-23-46-04  training-job   \n",
       "167         Final    basemodel-3-2021-06-01-23-46-09  training-job   \n",
       "\n",
       "     ProcessingTimeInSeconds  BillableTimeInSeconds  TrainingTimeInSeconds  \\\n",
       "0                        0.0                   1022                   1022   \n",
       "1                        0.0                   1018                   1018   \n",
       "2                        0.0                   1001                   1001   \n",
       "3                        0.0                   1028                   1028   \n",
       "4                        0.0                   1007                   1007   \n",
       "..                       ...                    ...                    ...   \n",
       "163                      0.0                   1002                   1002   \n",
       "164                      0.0                   1089                   1089   \n",
       "165                      0.0                   1045                   1045   \n",
       "166                      0.0                   1058                   1058   \n",
       "167                      0.0                   1001                   1001   \n",
       "\n",
       "     TransformingTimeInSeconds  InstanceType  InstanceCount  \n",
       "0                          0.0  ml.c5.xlarge              1  \n",
       "1                          0.0  ml.c5.xlarge              1  \n",
       "2                          0.0  ml.c5.xlarge              1  \n",
       "3                          0.0  ml.c5.xlarge              1  \n",
       "4                          0.0  ml.c5.xlarge              1  \n",
       "..                         ...           ...            ...  \n",
       "163                        0.0  ml.c5.xlarge              1  \n",
       "164                        0.0  ml.c5.xlarge              1  \n",
       "165                        0.0  ml.c5.xlarge              1  \n",
       "166                        0.0  ml.c5.xlarge              1  \n",
       "167                        0.0  ml.c5.xlarge              1  \n",
       "\n",
       "[168 rows x 9 columns]"
      ]
     },
     "execution_count": 8,
     "metadata": {},
     "output_type": "execute_result"
    }
   ],
   "source": [
    "experiments_l = list()\n",
    "job_l = list()\n",
    "job_type_l = list()\n",
    "TransformingTimeInSeconds_l = list()\n",
    "ProcessingTimeInSeconds_l = list()\n",
    "BillableTimeInSeconds_l = list()\n",
    "TrainingTimeInSeconds_l = list()\n",
    "InstanceType_l = list()\n",
    "InstanceCount_l = list()\n",
    "for e in Experiments['Experiment']:\n",
    "    print('Processing experiment: %s'%e)\n",
    "    analytics = ExperimentAnalytics(experiment_name=e)\n",
    "    analytics_ds = analytics.dataframe()\n",
    "    if analytics_ds.empty:\n",
    "        continue\n",
    "    for j in analytics_ds['SourceArn'].values:\n",
    "        experiments_l.append(e)\n",
    "        job_name=j[j.index('/')+1:len(j)]\n",
    "        job_l.append(job_name)\n",
    "        if 'training-job' in j:\n",
    "            job_type_l.append('training-job')\n",
    "            job_desc=sm.describe_training_job(TrainingJobName=job_name)\n",
    "            try:\n",
    "                BillableTimeInSeconds_l.append(job_desc['BillableTimeInSeconds'])\n",
    "            except:\n",
    "                BillableTimeInSeconds_l.append(0)\n",
    "            try:\n",
    "                TrainingTimeInSeconds_l.append(job_desc['TrainingTimeInSeconds'])\n",
    "            except:\n",
    "                TrainingTimeInSeconds_l.append(0)\n",
    "            try:\n",
    "                InstanceType_l.append(job_desc['ResourceConfig']['InstanceType'])\n",
    "            except:\n",
    "                InstanceType_l.append(0)\n",
    "            try:\n",
    "                InstanceCount_l.append(job_desc['ResourceConfig']['InstanceCount'])\n",
    "            except:\n",
    "                InstanceCount_l.append(0)\n",
    "            ProcessingTimeInSeconds_l.append(0)\n",
    "            TransformingTimeInSeconds_l.append(0)            \n",
    "        elif 'processing-job' in j:\n",
    "            job_type_l.append('processing-job')        \n",
    "            job_desc=sm.describe_processing_job(ProcessingJobName=job_name)\n",
    "            try:\n",
    "                duration = job_desc['ProcessingEndTime'] - job_desc['ProcessingStartTime']\n",
    "                ProcessingTimeInSeconds_l.append(float(str(duration.seconds) +'.'+ str(duration.microseconds)))\n",
    "            except:\n",
    "                ProcessingTimeInSeconds_l.append(0)\n",
    "            try:\n",
    "                InstanceType_l.append(job_desc['ProcessingResources']['ClusterConfig']['InstanceType'])\n",
    "            except:\n",
    "                InstanceType_l.append(0)\n",
    "            try:\n",
    "                InstanceCount_l.append(job_desc['ProcessingResources']['ClusterConfig']['InstanceCount'])\n",
    "            except:\n",
    "                InstanceCount_l.append(0)\n",
    "            BillableTimeInSeconds_l.append(0)\n",
    "            TrainingTimeInSeconds_l.append(0)      \n",
    "            TransformingTimeInSeconds_l.append(0)\n",
    "        elif 'transform-job' in j:\n",
    "            job_type_l.append('transform-job')        \n",
    "            job_desc=sm.describe_transform_job(TransformJobName=job_name)\n",
    "            try:\n",
    "                duration = job_desc['TransformEndTime'] - job_desc['TransformStartTime']\n",
    "                TransformingTimeInSeconds_l.append(float(str(duration.seconds) +'.'+ str(duration.microseconds)))\n",
    "            except:\n",
    "                TransformingTimeInSeconds_l.append(0)\n",
    "            try:\n",
    "                InstanceType_l.append(job_desc['TransformResources']['InstanceType'])\n",
    "            except:\n",
    "                InstanceType_l.append(0)\n",
    "            try:\n",
    "                InstanceCount_l.append(job_desc['TransformResources']['InstanceCount'])\n",
    "            except:\n",
    "                InstanceCount_l.append(0)\n",
    "            BillableTimeInSeconds_l.append(0)\n",
    "            TrainingTimeInSeconds_l.append(0)  \n",
    "            ProcessingTimeInSeconds_l.append(0)\n",
    "JobsSummary = pd.DataFrame(list(zip(experiments_l, job_l, job_type_l, ProcessingTimeInSeconds_l, BillableTimeInSeconds_l, TrainingTimeInSeconds_l, TransformingTimeInSeconds_l, InstanceType_l, InstanceCount_l)), \n",
    "columns =['Experiment','Job Name', 'Job Type', 'ProcessingTimeInSeconds', 'BillableTimeInSeconds', 'TrainingTimeInSeconds', 'TransformingTimeInSeconds','InstanceType', 'InstanceCount'])\n",
    "JobsSummary"
   ]
  },
  {
   "cell_type": "markdown",
   "metadata": {},
   "source": [
    "3. Adding hourle instance price and recalculating total experiments cost. SAving to the log file"
   ]
  },
  {
   "cell_type": "code",
   "execution_count": 9,
   "metadata": {},
   "outputs": [
    {
     "name": "stderr",
     "output_type": "stream",
     "text": [
      "INFO:numexpr.utils:NumExpr defaulting to 8 threads.\n"
     ]
    },
    {
     "data": {
      "text/html": [
       "<div>\n",
       "<style scoped>\n",
       "    .dataframe tbody tr th:only-of-type {\n",
       "        vertical-align: middle;\n",
       "    }\n",
       "\n",
       "    .dataframe tbody tr th {\n",
       "        vertical-align: top;\n",
       "    }\n",
       "\n",
       "    .dataframe thead th {\n",
       "        text-align: right;\n",
       "    }\n",
       "</style>\n",
       "<table border=\"1\" class=\"dataframe\">\n",
       "  <thead>\n",
       "    <tr style=\"text-align: right;\">\n",
       "      <th></th>\n",
       "      <th>Experiment</th>\n",
       "      <th>Job Name</th>\n",
       "      <th>Job Type</th>\n",
       "      <th>ProcessingTimeInSeconds</th>\n",
       "      <th>BillableTimeInSeconds</th>\n",
       "      <th>TrainingTimeInSeconds</th>\n",
       "      <th>TransformingTimeInSeconds</th>\n",
       "      <th>InstanceType</th>\n",
       "      <th>InstanceCount</th>\n",
       "      <th>TotalTimeHrs</th>\n",
       "      <th>PricePerHour</th>\n",
       "      <th>TotalPrice</th>\n",
       "    </tr>\n",
       "  </thead>\n",
       "  <tbody>\n",
       "    <tr>\n",
       "      <th>0</th>\n",
       "      <td>BaseFeatures</td>\n",
       "      <td>waterhfail-45-2021-05-27-22-26-19</td>\n",
       "      <td>training-job</td>\n",
       "      <td>0.0</td>\n",
       "      <td>1022</td>\n",
       "      <td>1022</td>\n",
       "      <td>0.0</td>\n",
       "      <td>ml.c5.xlarge</td>\n",
       "      <td>1</td>\n",
       "      <td>0.283889</td>\n",
       "      <td>0.238</td>\n",
       "      <td>0.067566</td>\n",
       "    </tr>\n",
       "    <tr>\n",
       "      <th>1</th>\n",
       "      <td>BaseFeatures</td>\n",
       "      <td>plumbleak-44-2021-05-27-22-26-07</td>\n",
       "      <td>training-job</td>\n",
       "      <td>0.0</td>\n",
       "      <td>1018</td>\n",
       "      <td>1018</td>\n",
       "      <td>0.0</td>\n",
       "      <td>ml.c5.xlarge</td>\n",
       "      <td>1</td>\n",
       "      <td>0.282778</td>\n",
       "      <td>0.238</td>\n",
       "      <td>0.067301</td>\n",
       "    </tr>\n",
       "    <tr>\n",
       "      <th>2</th>\n",
       "      <td>BaseFeatures</td>\n",
       "      <td>applfail-43-2021-05-27-22-25-55</td>\n",
       "      <td>training-job</td>\n",
       "      <td>0.0</td>\n",
       "      <td>1001</td>\n",
       "      <td>1001</td>\n",
       "      <td>0.0</td>\n",
       "      <td>ml.c5.xlarge</td>\n",
       "      <td>1</td>\n",
       "      <td>0.278056</td>\n",
       "      <td>0.238</td>\n",
       "      <td>0.066177</td>\n",
       "    </tr>\n",
       "    <tr>\n",
       "      <th>3</th>\n",
       "      <td>BaseFeatures</td>\n",
       "      <td>cova-limit-41-2021-05-27-22-25-31</td>\n",
       "      <td>training-job</td>\n",
       "      <td>0.0</td>\n",
       "      <td>1028</td>\n",
       "      <td>1028</td>\n",
       "      <td>0.0</td>\n",
       "      <td>ml.c5.xlarge</td>\n",
       "      <td>1</td>\n",
       "      <td>0.285556</td>\n",
       "      <td>0.238</td>\n",
       "      <td>0.067962</td>\n",
       "    </tr>\n",
       "    <tr>\n",
       "      <th>4</th>\n",
       "      <td>BaseFeatures</td>\n",
       "      <td>waterrisk-42-2021-05-27-22-25-43</td>\n",
       "      <td>training-job</td>\n",
       "      <td>0.0</td>\n",
       "      <td>1007</td>\n",
       "      <td>1007</td>\n",
       "      <td>0.0</td>\n",
       "      <td>ml.c5.xlarge</td>\n",
       "      <td>1</td>\n",
       "      <td>0.279722</td>\n",
       "      <td>0.238</td>\n",
       "      <td>0.066574</td>\n",
       "    </tr>\n",
       "  </tbody>\n",
       "</table>\n",
       "</div>"
      ],
      "text/plain": [
       "     Experiment                           Job Name      Job Type  \\\n",
       "0  BaseFeatures  waterhfail-45-2021-05-27-22-26-19  training-job   \n",
       "1  BaseFeatures   plumbleak-44-2021-05-27-22-26-07  training-job   \n",
       "2  BaseFeatures    applfail-43-2021-05-27-22-25-55  training-job   \n",
       "3  BaseFeatures  cova-limit-41-2021-05-27-22-25-31  training-job   \n",
       "4  BaseFeatures   waterrisk-42-2021-05-27-22-25-43  training-job   \n",
       "\n",
       "   ProcessingTimeInSeconds  BillableTimeInSeconds  TrainingTimeInSeconds  \\\n",
       "0                      0.0                   1022                   1022   \n",
       "1                      0.0                   1018                   1018   \n",
       "2                      0.0                   1001                   1001   \n",
       "3                      0.0                   1028                   1028   \n",
       "4                      0.0                   1007                   1007   \n",
       "\n",
       "   TransformingTimeInSeconds  InstanceType  InstanceCount  TotalTimeHrs  \\\n",
       "0                        0.0  ml.c5.xlarge              1      0.283889   \n",
       "1                        0.0  ml.c5.xlarge              1      0.282778   \n",
       "2                        0.0  ml.c5.xlarge              1      0.278056   \n",
       "3                        0.0  ml.c5.xlarge              1      0.285556   \n",
       "4                        0.0  ml.c5.xlarge              1      0.279722   \n",
       "\n",
       "   PricePerHour  TotalPrice  \n",
       "0         0.238    0.067566  \n",
       "1         0.238    0.067301  \n",
       "2         0.238    0.066177  \n",
       "3         0.238    0.067962  \n",
       "4         0.238    0.066574  "
      ]
     },
     "execution_count": 9,
     "metadata": {},
     "output_type": "execute_result"
    }
   ],
   "source": [
    "JobsSummary['TotalTimeHrs']=JobsSummary['InstanceCount']*JobsSummary['ProcessingTimeInSeconds']/60/60+JobsSummary['InstanceCount']*JobsSummary['BillableTimeInSeconds']/60/60+JobsSummary['InstanceCount']*JobsSummary['TransformingTimeInSeconds']/60/60\n",
    "JobsSummary['PricePerHour']=JobsSummary['InstanceType'].map(cost_map)\n",
    "JobsSummary['TotalPrice']=JobsSummary['TotalTimeHrs']*JobsSummary['PricePerHour']\n",
    "JobsSummary.head()"
   ]
  },
  {
   "cell_type": "code",
   "execution_count": 10,
   "metadata": {},
   "outputs": [],
   "source": [
    "#Saving into the Experiment log \n",
    "eu.SaveToExperimentLog(Experiments_file, 'Experiments Cost', JobsSummary)"
   ]
  },
  {
   "cell_type": "markdown",
   "metadata": {},
   "source": [
    "## Total experiments time if the instances weer run sequntually, not in parallel"
   ]
  },
  {
   "cell_type": "code",
   "execution_count": 11,
   "metadata": {},
   "outputs": [
    {
     "data": {
      "text/plain": [
       "43.825051944444446"
      ]
     },
     "execution_count": 11,
     "metadata": {},
     "output_type": "execute_result"
    }
   ],
   "source": [
    "JobsSummary['TotalTimeHrs'].sum()"
   ]
  },
  {
   "cell_type": "markdown",
   "metadata": {},
   "source": [
    "## Total experiments cost"
   ]
  },
  {
   "cell_type": "code",
   "execution_count": 12,
   "metadata": {},
   "outputs": [
    {
     "data": {
      "text/plain": [
       "10.76598776675"
      ]
     },
     "execution_count": 12,
     "metadata": {},
     "output_type": "execute_result"
    }
   ],
   "source": [
    "JobsSummary['TotalPrice'].sum()"
   ]
  }
 ],
 "metadata": {
  "kernelspec": {
   "display_name": "Python 3",
   "language": "python",
   "name": "python3"
  },
  "language_info": {
   "codemirror_mode": {
    "name": "ipython",
    "version": 3
   },
   "file_extension": ".py",
   "mimetype": "text/x-python",
   "name": "python",
   "nbconvert_exporter": "python",
   "pygments_lexer": "ipython3",
   "version": "3.8.5"
  }
 },
 "nbformat": 4,
 "nbformat_minor": 4
}
