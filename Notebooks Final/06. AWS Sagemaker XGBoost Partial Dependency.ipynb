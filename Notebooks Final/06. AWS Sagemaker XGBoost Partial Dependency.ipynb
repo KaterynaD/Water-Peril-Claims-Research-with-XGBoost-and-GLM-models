{
 "cells": [
  {
   "cell_type": "markdown",
   "metadata": {},
   "source": [
    "### AWS Sagemaker XGBoost Partial Dependency\n",
    "\n",
    "Purpose: built partial dependency for all configured features and models. \n",
    "Main Steps:\n",
    "1. Build separate datasets for each feature as a combination of each unique feature value with all other available feature combinations. Processing job is used.\n",
    "2. Create Sagemaker Models\n",
    "3. Run batch transform jobs to make inference from all files created at step 1\n",
    "4. Average the results of the batch transform jobs per model, feature and feature value."
   ]
  },
  {
   "cell_type": "code",
   "execution_count": 1,
   "metadata": {},
   "outputs": [],
   "source": [
    "temp_folder='/home/kate/Research/Property/Notebooks/Experiments/tmp/'\n",
    "Experiments_file='/home/kate/Research/Property/Notebooks/Experiments/Logs/Set1-Classification.xlsx'\n",
    "AllExperiments_tab='Experiments'\n",
    "Experiment_name='BaseFeaturesPD'\n",
    "#Experiment configuration:  \n",
    "#1.features we want to produce PartialDependency\n",
    "#each line in the file contains a feature name and a type:Categorical or Continuous\n",
    "#Categorical features values will be process all as is. Continuous only sorted(np.linspace(np.percentile(dataset_temp[f], 0.1),np.percentile(dataset_temp[f], 99.5),50))\n",
    "Experiment_Features_tab='%s Features'%Experiment_name\n",
    "#2.The full set of features the tested model is based on\n",
    "#each line in the file contains the model name and set of features to built a dataset for SageMaker\n",
    "Experiment_tab='%s Models'%Experiment_name\n",
    "#3.ModelFiles: each line is a model name (Model) and full model file name (ModelData - model.tar.gz) in an S3 bucket\n",
    "Experiment_ModelFiles_tab='%s ModelFiles'%Experiment_name\n",
    "\n",
    "Trial_name_preprocessing='%s-PreparingData'%Experiment_name\n",
    "Trial_name_inference='%s-Inference'%Experiment_name\n",
    "Trial_name_postprocessing='%s-PostProcessing'%Experiment_name\n",
    "\n",
    "\n",
    " \n",
    "bucket='kdproperty'\n",
    "path_to_data='Data'\n",
    "path_to_pd_input_data='Data/Experiments/%s/pd_input_data'%Experiment_name\n",
    "path_to_pd_output_data='Data/Experiments/%s/pd_output_data'%Experiment_name\n",
    "path_to_pd_final_data='Data/Experiments/%s/pd_final_data'%Experiment_name\n",
    "path_to_configuration='Config'\n",
    "\n",
    "#the data files to process continuos features can be very large. To be able to run more then 1 instance for batch transform jobs and speed up the process\n",
    "#we can split the continuos feature file into split_to_N_parts\n",
    "split_to_N_parts=5\n",
    "\n",
    "instance_type_preprocessing='ml.t3.2xlarge'\n",
    "instance_count_preprocessing=1\n",
    "\n",
    "instance_type_inference='ml.m5.xlarge'\n",
    "#can be number of features for pd: each file with data for a specific feature and a correspondent instance for inference \n",
    "#or if there is a continuos feature with a lot of possible values, the huge file is splitted for N parts\n",
    "#then instance count is num of categorical features + split_to_N_parts * num of continuous features\n",
    "instance_count_inference=16 \n",
    "\n",
    "\n",
    "instance_type_postprocessing='ml.t3.2xlarge'\n",
    "instance_count_postprocessing=1"
   ]
  },
  {
   "cell_type": "code",
   "execution_count": 2,
   "metadata": {},
   "outputs": [],
   "source": [
    "import boto3\n",
    "import os\n",
    "import sys\n",
    "import time\n",
    "import pandas as pd\n",
    "import numpy as np\n",
    "\n",
    "import re\n",
    "\n",
    "#to read data from S3 with pandas\n",
    "import s3fs\n",
    "\n",
    "import matplotlib.pyplot as plt\n",
    "\n",
    "import sagemaker\n",
    "from sagemaker import get_execution_role\n",
    "from sagemaker.sklearn.processing import SKLearnProcessor\n",
    "from sagemaker.processing import ProcessingInput, ProcessingOutput\n",
    "\n",
    "from sagemaker.xgboost.model import XGBoostModel\n"
   ]
  },
  {
   "cell_type": "code",
   "execution_count": 3,
   "metadata": {},
   "outputs": [],
   "source": [
    "region = boto3.session.Session().region_name\n",
    "role = 'arn:aws:iam::757107622481:role/service-role/AmazonSageMaker-ExecutionRole-20200819T131882'\n",
    "sagemaker_session = sagemaker.session.Session(default_bucket=bucket)\n",
    "s3 = s3fs.S3FileSystem()"
   ]
  },
  {
   "cell_type": "code",
   "execution_count": 4,
   "metadata": {},
   "outputs": [],
   "source": [
    "#sys.path.append('/home/kate/Research/YearBuilt/Notebooks/Experiments')\n",
    "import ExperimentsUtils as eu"
   ]
  },
  {
   "cell_type": "markdown",
   "metadata": {},
   "source": [
    "1. Reading experiment configuration from an excel file"
   ]
  },
  {
   "cell_type": "code",
   "execution_count": 5,
   "metadata": {},
   "outputs": [],
   "source": [
    "experiments = pd.read_excel(open(Experiments_file, 'rb'), sheet_name=AllExperiments_tab)"
   ]
  },
  {
   "cell_type": "markdown",
   "metadata": {},
   "source": [
    "1.1 Target variable and data file name"
   ]
  },
  {
   "cell_type": "code",
   "execution_count": 6,
   "metadata": {},
   "outputs": [
    {
     "name": "stdout",
     "output_type": "stream",
     "text": [
      "Target of models in BaseFeaturesPD experiment is hasclaim\n",
      "Datafile used in BaseFeaturesPD experiment is property_water_claims_non_cat_fs_v5.csv\n"
     ]
    }
   ],
   "source": [
    "target=experiments[experiments['Experiment']==Experiment_name]['Target'].values[0]\n",
    "print('Target of models in %s experiment is %s'%(Experiment_name,target))\n",
    "data_file=experiments[experiments['Experiment']==Experiment_name]['Dataset'].values[0]\n",
    "print('Datafile used in %s experiment is %s'%(Experiment_name,data_file))"
   ]
  },
  {
   "cell_type": "markdown",
   "metadata": {},
   "source": [
    "1.2 Features to produce partial dependency"
   ]
  },
  {
   "cell_type": "code",
   "execution_count": 7,
   "metadata": {},
   "outputs": [
    {
     "data": {
      "text/html": [
       "<div>\n",
       "<style scoped>\n",
       "    .dataframe tbody tr th:only-of-type {\n",
       "        vertical-align: middle;\n",
       "    }\n",
       "\n",
       "    .dataframe tbody tr th {\n",
       "        vertical-align: top;\n",
       "    }\n",
       "\n",
       "    .dataframe thead th {\n",
       "        text-align: right;\n",
       "    }\n",
       "</style>\n",
       "<table border=\"1\" class=\"dataframe\">\n",
       "  <thead>\n",
       "    <tr style=\"text-align: right;\">\n",
       "      <th></th>\n",
       "      <th>Feature</th>\n",
       "      <th>Type</th>\n",
       "    </tr>\n",
       "  </thead>\n",
       "  <tbody>\n",
       "    <tr>\n",
       "      <th>0</th>\n",
       "      <td>poolind</td>\n",
       "      <td>Categorical</td>\n",
       "    </tr>\n",
       "    <tr>\n",
       "      <th>1</th>\n",
       "      <td>usagetype_encd</td>\n",
       "      <td>Categorical</td>\n",
       "    </tr>\n",
       "    <tr>\n",
       "      <th>2</th>\n",
       "      <td>landlordind</td>\n",
       "      <td>Categorical</td>\n",
       "    </tr>\n",
       "    <tr>\n",
       "      <th>3</th>\n",
       "      <td>replacementcostdwellingind</td>\n",
       "      <td>Categorical</td>\n",
       "    </tr>\n",
       "    <tr>\n",
       "      <th>4</th>\n",
       "      <td>pipe_froze_3_blk</td>\n",
       "      <td>Categorical</td>\n",
       "    </tr>\n",
       "    <tr>\n",
       "      <th>5</th>\n",
       "      <td>customer_cnt_active_policies</td>\n",
       "      <td>Categorical</td>\n",
       "    </tr>\n",
       "    <tr>\n",
       "      <th>6</th>\n",
       "      <td>cova_limit</td>\n",
       "      <td>Categorical</td>\n",
       "    </tr>\n",
       "    <tr>\n",
       "      <th>7</th>\n",
       "      <td>plumb_leak_3_blk</td>\n",
       "      <td>Categorical</td>\n",
       "    </tr>\n",
       "  </tbody>\n",
       "</table>\n",
       "</div>"
      ],
      "text/plain": [
       "                        Feature         Type\n",
       "0                       poolind  Categorical\n",
       "1                usagetype_encd  Categorical\n",
       "2                   landlordind  Categorical\n",
       "3    replacementcostdwellingind  Categorical\n",
       "4              pipe_froze_3_blk  Categorical\n",
       "5  customer_cnt_active_policies  Categorical\n",
       "6                    cova_limit  Categorical\n",
       "7              plumb_leak_3_blk  Categorical"
      ]
     },
     "execution_count": 7,
     "metadata": {},
     "output_type": "execute_result"
    }
   ],
   "source": [
    "features_for_pd = pd.read_excel(open(Experiments_file, 'rb'), sheet_name=Experiment_Features_tab)\n",
    "features_for_pd"
   ]
  },
  {
   "cell_type": "markdown",
   "metadata": {},
   "source": [
    "1.3 Model features. The process will use this info to create a data file for each feature"
   ]
  },
  {
   "cell_type": "code",
   "execution_count": 8,
   "metadata": {},
   "outputs": [
    {
     "data": {
      "text/html": [
       "<div>\n",
       "<style scoped>\n",
       "    .dataframe tbody tr th:only-of-type {\n",
       "        vertical-align: middle;\n",
       "    }\n",
       "\n",
       "    .dataframe tbody tr th {\n",
       "        vertical-align: top;\n",
       "    }\n",
       "\n",
       "    .dataframe thead th {\n",
       "        text-align: right;\n",
       "    }\n",
       "</style>\n",
       "<table border=\"1\" class=\"dataframe\">\n",
       "  <thead>\n",
       "    <tr style=\"text-align: right;\">\n",
       "      <th></th>\n",
       "      <th>Model</th>\n",
       "      <th>F1</th>\n",
       "      <th>F2</th>\n",
       "      <th>F3</th>\n",
       "      <th>F4</th>\n",
       "      <th>F5</th>\n",
       "      <th>F6</th>\n",
       "      <th>F7</th>\n",
       "      <th>F8</th>\n",
       "      <th>F9</th>\n",
       "      <th>F10</th>\n",
       "      <th>F11</th>\n",
       "      <th>F12</th>\n",
       "    </tr>\n",
       "  </thead>\n",
       "  <tbody>\n",
       "    <tr>\n",
       "      <th>0</th>\n",
       "      <td>BaseModel</td>\n",
       "      <td>cal_year-yearbuilt</td>\n",
       "      <td>cova_deductible</td>\n",
       "      <td>sqft</td>\n",
       "      <td>customer_cnt_active_policies</td>\n",
       "      <td>usagetype_encd</td>\n",
       "      <td>replacementcostdwellingind</td>\n",
       "      <td>pipe_froze_3_blk</td>\n",
       "      <td>landlordind</td>\n",
       "      <td>water_risk_3_blk</td>\n",
       "      <td>poolind</td>\n",
       "      <td>cova_limit</td>\n",
       "      <td>plumb_leak_3_blk</td>\n",
       "    </tr>\n",
       "  </tbody>\n",
       "</table>\n",
       "</div>"
      ],
      "text/plain": [
       "       Model                  F1               F2    F3  \\\n",
       "0  BaseModel  cal_year-yearbuilt  cova_deductible  sqft   \n",
       "\n",
       "                             F4              F5                          F6  \\\n",
       "0  customer_cnt_active_policies  usagetype_encd  replacementcostdwellingind   \n",
       "\n",
       "                 F7           F8                F9      F10         F11  \\\n",
       "0  pipe_froze_3_blk  landlordind  water_risk_3_blk  poolind  cova_limit   \n",
       "\n",
       "                F12  \n",
       "0  plumb_leak_3_blk  "
      ]
     },
     "execution_count": 8,
     "metadata": {},
     "output_type": "execute_result"
    }
   ],
   "source": [
    "model_all_features = pd.read_excel(open(Experiments_file, 'rb'), sheet_name=Experiment_tab)\n",
    "model_all_features"
   ]
  },
  {
   "cell_type": "markdown",
   "metadata": {},
   "source": [
    "1.4 Model files (usually model.tar.gz produced from training)\n",
    "Later SageMaker Models will be created  based on this info. "
   ]
  },
  {
   "cell_type": "code",
   "execution_count": 9,
   "metadata": {},
   "outputs": [
    {
     "data": {
      "text/html": [
       "<div>\n",
       "<style scoped>\n",
       "    .dataframe tbody tr th:only-of-type {\n",
       "        vertical-align: middle;\n",
       "    }\n",
       "\n",
       "    .dataframe tbody tr th {\n",
       "        vertical-align: top;\n",
       "    }\n",
       "\n",
       "    .dataframe thead th {\n",
       "        text-align: right;\n",
       "    }\n",
       "</style>\n",
       "<table border=\"1\" class=\"dataframe\">\n",
       "  <thead>\n",
       "    <tr style=\"text-align: right;\">\n",
       "      <th></th>\n",
       "      <th>Model</th>\n",
       "      <th>ModelData</th>\n",
       "    </tr>\n",
       "  </thead>\n",
       "  <tbody>\n",
       "    <tr>\n",
       "      <th>0</th>\n",
       "      <td>BaseModel</td>\n",
       "      <td>s3://kdproperty/Models/Experiments/FeatureSet/...</td>\n",
       "    </tr>\n",
       "  </tbody>\n",
       "</table>\n",
       "</div>"
      ],
      "text/plain": [
       "       Model                                          ModelData\n",
       "0  BaseModel  s3://kdproperty/Models/Experiments/FeatureSet/..."
      ]
     },
     "execution_count": 9,
     "metadata": {},
     "output_type": "execute_result"
    }
   ],
   "source": [
    "model_files = pd.read_excel(open(Experiments_file, 'rb'), sheet_name=Experiment_ModelFiles_tab)\n",
    "model_files"
   ]
  },
  {
   "cell_type": "markdown",
   "metadata": {},
   "source": [
    "1.5.Verification if we have the same set of features and models in both configurations"
   ]
  },
  {
   "cell_type": "code",
   "execution_count": 10,
   "metadata": {},
   "outputs": [],
   "source": [
    "models_from_model_features=model_all_features['Model'].tolist()\n",
    "models_from_models_files=model_files['Model'].tolist()\n",
    "if len([x for x in models_from_model_features if x not in models_from_models_files])!=0:\n",
    "    raise Exception('Different set of models in featuresets and files!')"
   ]
  },
  {
   "cell_type": "code",
   "execution_count": 11,
   "metadata": {},
   "outputs": [],
   "source": [
    "models_features_for_pd=features_for_pd['Feature'].tolist()\n",
    "for index, row in model_all_features.iterrows():\n",
    "    model_complete_featureset=row[1:51].tolist()\n",
    "    model_complete_featureset=[x for x in model_complete_featureset if str(x) != 'nan']  \n",
    "    if len([x for x in models_features_for_pd if x not in model_complete_featureset])!=0:\n",
    "        raise Exception('Different set of features in models all features and features for partial dependency!')"
   ]
  },
  {
   "cell_type": "markdown",
   "metadata": {},
   "source": [
    "2.Saving into S3 models configurations (sets of features) to be used in data preprocessing"
   ]
  },
  {
   "cell_type": "code",
   "execution_count": 12,
   "metadata": {},
   "outputs": [],
   "source": [
    "Model_Config_file='%s.csv'%Experiment_name\n",
    "Models_Config_path = os.path.join(temp_folder, Model_Config_file) \n",
    "\n",
    "model_all_features.to_csv(Models_Config_path, header=True, index=False)\n",
    "\n",
    "\n",
    "input_code = sagemaker_session.upload_data(\n",
    "        Models_Config_path,\n",
    "        bucket=bucket,\n",
    "        key_prefix=path_to_configuration\n",
    "    )"
   ]
  },
  {
   "cell_type": "markdown",
   "metadata": {},
   "source": [
    "3.Creating experiments and trials in SageMaker"
   ]
  },
  {
   "cell_type": "code",
   "execution_count": 13,
   "metadata": {},
   "outputs": [
    {
     "name": "stderr",
     "output_type": "stream",
     "text": [
      "INFO:botocore.credentials:Found credentials in shared credentials file: ~/.aws/credentials\n",
      "INFO:botocore.credentials:Found credentials in shared credentials file: ~/.aws/credentials\n",
      "INFO:botocore.credentials:Found credentials in shared credentials file: ~/.aws/credentials\n",
      "INFO:botocore.credentials:Found credentials in shared credentials file: ~/.aws/credentials\n",
      "INFO:botocore.credentials:Found credentials in shared credentials file: ~/.aws/credentials\n",
      "INFO:botocore.credentials:Found credentials in shared credentials file: ~/.aws/credentials\n",
      "INFO:botocore.credentials:Found credentials in shared credentials file: ~/.aws/credentials\n",
      "INFO:botocore.credentials:Found credentials in shared credentials file: ~/.aws/credentials\n",
      "INFO:botocore.credentials:Found credentials in shared credentials file: ~/.aws/credentials\n",
      "INFO:botocore.credentials:Found credentials in shared credentials file: ~/.aws/credentials\n",
      "INFO:botocore.credentials:Found credentials in shared credentials file: ~/.aws/credentials\n",
      "INFO:botocore.credentials:Found credentials in shared credentials file: ~/.aws/credentials\n"
     ]
    }
   ],
   "source": [
    "eu.cleanup_experiment(Experiment_name)\n",
    "eu.create_experiment(Experiment_name)\n",
    "eu.create_trial(Experiment_name,Trial_name_preprocessing)\n",
    "eu.create_trial(Experiment_name,Trial_name_inference)\n",
    "eu.create_trial(Experiment_name,Trial_name_postprocessing)"
   ]
  },
  {
   "cell_type": "markdown",
   "metadata": {},
   "source": [
    "4. Preparing datasets for calculating partial dependency\n",
    "The process loop thru each model in teh configuration file (saved into S3 above) and each feature. It creates a combination of each unique feature value and the rest sets of features available in the dataset. Dependeing on the feature type (Categorical or Continuos), the full set of unique feature values is used for categorical or a subset for continuos. There is only one created for categorical features and  continuos features files can be splitted into parts."
   ]
  },
  {
   "cell_type": "code",
   "execution_count": 14,
   "metadata": {},
   "outputs": [
    {
     "name": "stdout",
     "output_type": "stream",
     "text": [
      "Overwriting preprocessingDataForPartialDependency.py\n"
     ]
    }
   ],
   "source": [
    "%%writefile preprocessingDataForPartialDependency.py\n",
    "\n",
    "#The code creates a separate dataset for each feature with all possible combination of feature values and the rest of the data\n",
    "#dataset for SageMaker are the same structure: no headers, the first column is a target and the rest are features\n",
    "\n",
    "\n",
    "import argparse\n",
    "import os\n",
    "import pandas as pd\n",
    "import numpy as np\n",
    "\n",
    "\n",
    "if __name__=='__main__':\n",
    "    \n",
    "    parser = argparse.ArgumentParser()\n",
    "    parser.add_argument('--data_file', type=str)\n",
    "    parser.add_argument('--config_file', type=str)   \n",
    "    parser.add_argument('--featureset', type=str)    \n",
    "    parser.add_argument('--featuretypes', type=str) \n",
    "    parser.add_argument('--split_to_N_parts', type=int, default=1)\n",
    "    args, _ = parser.parse_known_args()    \n",
    "    print('Received arguments {}'.format(args))\n",
    "    \n",
    "\n",
    "    featureset=args.featureset.split(',')\n",
    "    featuretypes=args.featuretypes.split(',')\n",
    "    split_to_N_parts=args.split_to_N_parts\n",
    "    input_data_path = os.path.join('/opt/ml/processing/input', args.data_file)\n",
    "    config_data_path = os.path.join('/opt/ml/processing/config', args.config_file)\n",
    "\n",
    "\n",
    "    \n",
    "    print('Reading input data from {}'.format(input_data_path))\n",
    "    dataset = pd.read_csv(input_data_path, error_bad_lines=False, index_col=False)\n",
    "    \n",
    "\n",
    "    print('Reading config data from {}'.format(config_data_path))\n",
    "    models = pd.read_csv(config_data_path, error_bad_lines=False, index_col=False)   \n",
    "    \n",
    "     \n",
    "    #iterating thru config file with models and featureset\n",
    "    for index, row in models.iterrows():\n",
    "        model=row['Model']\n",
    "        print (index, ': Creating featuresets for model %s'%model)\n",
    "        model_complete_featureset=row[1:51].tolist()\n",
    "        model_complete_featureset=[x for x in model_complete_featureset if str(x) != 'nan']\n",
    "        #specific folder for each model data\n",
    "        if not os.path.exists('/opt/ml/processing/output/%s'%model):\n",
    "            os.makedirs('/opt/ml/processing/output/%s'%model)\n",
    "        #iterating thru features for pd\n",
    "        for feature,ftype in zip(featureset,featuretypes):\n",
    "            print(feature,ftype)\n",
    "            dataset_feature = pd.DataFrame()    \n",
    "            dataset_temp = pd.DataFrame()\n",
    "            for f in model_complete_featureset:\n",
    "                dataset_temp[f]=dataset.eval(f)\n",
    "            if ftype=='Continuous':\n",
    "                # continuous\n",
    "                grid = sorted(np.linspace(np.percentile(dataset_temp[feature], 0.1),\n",
    "                       np.percentile(dataset_temp[feature], 99.5),\n",
    "                          50))\n",
    "            else:\n",
    "                #categorical\n",
    "                grid = sorted(dataset_temp[feature].unique())        \n",
    " \n",
    "            for i, val in enumerate(grid):\n",
    "                dataset_temp[feature] = val\n",
    "                dataset_feature=dataset_feature.append(dataset_temp)\n",
    "            #save in parts if large dataset\n",
    "            if ftype=='Continuous':\n",
    "                parts = np.array_split(dataset_feature, split_to_N_parts)\n",
    "            \n",
    "                for i,p in enumerate(parts):\n",
    "                    output_data_path = os.path.join('/opt/ml/processing/output/%s'%model, '%s_%s.csv'%(feature,i))\n",
    "                    p.to_csv(output_data_path,header=False,index=False)\n",
    "            else:   \n",
    "                output_data_path = os.path.join('/opt/ml/processing/output/%s'%model, '%s.csv'%feature)\n",
    "                dataset_feature.to_csv(output_data_path,header=False,index=False)\n",
    "        "
   ]
  },
  {
   "cell_type": "code",
   "execution_count": 15,
   "metadata": {},
   "outputs": [
    {
     "name": "stderr",
     "output_type": "stream",
     "text": [
      "INFO:botocore.credentials:Found credentials in shared credentials file: ~/.aws/credentials\n",
      "INFO:sagemaker.image_uris:Same images used for training and inference. Defaulting to image scope: inference.\n",
      "INFO:sagemaker.image_uris:Defaulting to only available Python version: py3\n",
      "INFO:sagemaker:Creating processing-job with name sagemaker-scikit-learn-2021-05-31-01-28-23-447\n"
     ]
    },
    {
     "name": "stdout",
     "output_type": "stream",
     "text": [
      "\n",
      "Job Name:  sagemaker-scikit-learn-2021-05-31-01-28-23-447\n",
      "Inputs:  [{'InputName': 'data', 'AppManaged': False, 'S3Input': {'S3Uri': 's3://kdproperty/Data/property_water_claims_non_cat_fs_v5.csv', 'LocalPath': '/opt/ml/processing/input', 'S3DataType': 'S3Prefix', 'S3InputMode': 'File', 'S3DataDistributionType': 'FullyReplicated', 'S3CompressionType': 'None'}}, {'InputName': 'config', 'AppManaged': False, 'S3Input': {'S3Uri': 's3://kdproperty/Config/BaseFeaturesPD.csv', 'LocalPath': '/opt/ml/processing/config', 'S3DataType': 'S3Prefix', 'S3InputMode': 'File', 'S3DataDistributionType': 'FullyReplicated', 'S3CompressionType': 'None'}}, {'InputName': 'code', 'AppManaged': False, 'S3Input': {'S3Uri': 's3://sagemaker-us-west-2-757107622481/sagemaker-scikit-learn-2021-05-31-01-28-23-447/input/code/preprocessingDataForPartialDependency.py', 'LocalPath': '/opt/ml/processing/input/code', 'S3DataType': 'S3Prefix', 'S3InputMode': 'File', 'S3DataDistributionType': 'FullyReplicated', 'S3CompressionType': 'None'}}]\n",
      "Outputs:  [{'OutputName': 'output', 'AppManaged': False, 'S3Output': {'S3Uri': 's3://kdproperty/Data/Experiments/BaseFeaturesPD/pd_input_data/', 'LocalPath': '/opt/ml/processing/output', 'S3UploadMode': 'EndOfJob'}}]\n",
      "..........................\u001b[34mReceived arguments Namespace(config_file='BaseFeaturesPD.csv', data_file='property_water_claims_non_cat_fs_v5.csv', featureset='poolind,usagetype_encd,landlordind,replacementcostdwellingind,pipe_froze_3_blk,customer_cnt_active_policies,cova_limit,plumb_leak_3_blk', featuretypes='Categorical,Categorical,Categorical,Categorical,Categorical,Categorical,Categorical,Categorical', split_to_N_parts=5)\u001b[0m\n",
      "\u001b[34mReading input data from /opt/ml/processing/input/property_water_claims_non_cat_fs_v5.csv\u001b[0m\n",
      "\u001b[34mReading config data from /opt/ml/processing/config/BaseFeaturesPD.csv\u001b[0m\n",
      "\u001b[34m0 : Creating featuresets for model BaseModel\u001b[0m\n",
      "\u001b[34mpoolind Categorical\u001b[0m\n",
      "\u001b[34musagetype_encd Categorical\u001b[0m\n",
      "\u001b[34mlandlordind Categorical\u001b[0m\n",
      "\u001b[34mreplacementcostdwellingind Categorical\u001b[0m\n",
      "\u001b[34mpipe_froze_3_blk Categorical\u001b[0m\n",
      "\u001b[34mcustomer_cnt_active_policies Categorical\u001b[0m\n",
      "\u001b[34mcova_limit Categorical\u001b[0m\n",
      "\u001b[34mplumb_leak_3_blk Categorical\u001b[0m\n",
      "\n"
     ]
    }
   ],
   "source": [
    "processors=list()\n",
    "\n",
    "featureset=features_for_pd['Feature'].tolist()\n",
    "featuretypes=features_for_pd['Type'].tolist()\n",
    "\n",
    "data_processor = SKLearnProcessor(framework_version='0.20.0',\n",
    "                                     role=role,\n",
    "                                     instance_type=instance_type_preprocessing,\n",
    "                                     instance_count=instance_count_preprocessing)\n",
    "    \n",
    "data_processor.run(code='preprocessingDataForPartialDependency.py',\n",
    "                        inputs= [ProcessingInput(input_name='data',source='s3://%s/%s/%s'%(bucket,path_to_data,data_file),destination='/opt/ml/processing/input'),\n",
    "                                ProcessingInput(input_name='config',source='s3://%s/%s/%s'%(bucket,path_to_configuration,Model_Config_file),destination='/opt/ml/processing/config'),\n",
    "                                ],\n",
    "                        outputs=[\n",
    "                                ProcessingOutput(output_name='output', source='/opt/ml/processing/output', destination='s3://%s/%s/'%(bucket,path_to_pd_input_data)),                                                          \n",
    "                                ],\n",
    "                        arguments=['--data_file',data_file,\n",
    "                                '--config_file',Model_Config_file,\n",
    "                                 '--featureset', ','.join(featureset).replace(' ',''),\n",
    "                                 '--featuretypes', ','.join(featuretypes).replace(' ',''),\n",
    "                                 '--split_to_N_parts',str(split_to_N_parts)],\n",
    "                        experiment_config = {\n",
    "        'ExperimentName': Experiment_name ,\n",
    "        'TrialName' : Trial_name_preprocessing,\n",
    "        'TrialComponentDisplayName' : Trial_name_preprocessing},\n",
    "                        wait=True\n",
    "                        )\n",
    "processors.append(data_processor)"
   ]
  },
  {
   "cell_type": "code",
   "execution_count": 16,
   "metadata": {},
   "outputs": [],
   "source": [
    "#Stop the execution if there is an issue with creating input data for the models\n",
    "job_name=data_processor.jobs[-1].describe()['ProcessingJobName']\n",
    "if not(sagemaker_session.was_processing_job_successful(job_name)):\n",
    "    raise Exception('Preprocessing job Failed!')    "
   ]
  },
  {
   "cell_type": "markdown",
   "metadata": {},
   "source": [
    "5. Running inference jobs to produce partial dependency (prediction)"
   ]
  },
  {
   "cell_type": "markdown",
   "metadata": {},
   "source": [
    "5.1. Script for inference. The file must have name inference.py!!!!"
   ]
  },
  {
   "cell_type": "code",
   "execution_count": 17,
   "metadata": {},
   "outputs": [
    {
     "name": "stdout",
     "output_type": "stream",
     "text": [
      "Writing inference.py\n"
     ]
    }
   ],
   "source": [
    "%%writefile inference.py \n",
    "import json\n",
    "import os\n",
    "import pickle as pkl\n",
    "\n",
    "import numpy as np\n",
    "\n",
    "import sagemaker_xgboost_container.encoder as xgb_encoders\n",
    "\n",
    "\n",
    "def model_fn(model_dir):\n",
    "    \"\"\"\n",
    "    Deserialize and return fitted model.\n",
    "    \"\"\"\n",
    "    model_file = \"xgboost-model\"\n",
    "    booster = pkl.load(open(os.path.join(model_dir, model_file), \"rb\"))\n",
    "    return booster    \n",
    "\n",
    "\n",
    "def input_fn(request_body, request_content_type):\n",
    "    \"\"\"\n",
    "    The SageMaker XGBoost model server receives the request data body and the content type,\n",
    "    and invokes the `input_fn`.\n",
    "\n",
    "    Return a DMatrix (an object that can be passed to predict_fn).\n",
    "    \"\"\"\n",
    "    if request_content_type == \"text/csv\":\n",
    "        return xgb_encoders.csv_to_dmatrix(request_body.rstrip('\\n').lstrip('\\n'))\n",
    "    else:\n",
    "        raise ValueError(\n",
    "            \"Content type {} is not supported.\".format(request_content_type)\n",
    "        )\n",
    "\n",
    "\n",
    "def predict_fn(input_data, model):\n",
    "    \"\"\"\n",
    "    SageMaker XGBoost model server invokes `predict_fn` on the return value of `input_fn`.\n",
    "\n",
    "    Return a two-dimensional NumPy array where the first columns are predictions\n",
    "    \"\"\"\n",
    "    prediction = model.predict(input_data)\n",
    "    return  prediction"
   ]
  },
  {
   "cell_type": "markdown",
   "metadata": {},
   "source": [
    "5.2. Creating models in SageMaker to be used in interference(prediction) based on model files provided in models_ModelFiles"
   ]
  },
  {
   "cell_type": "code",
   "execution_count": 18,
   "metadata": {},
   "outputs": [
    {
     "name": "stdout",
     "output_type": "stream",
     "text": [
      "BaseModel s3://kdproperty/Models/Experiments/FeatureSet/BaseModel-0-2021-05-30-05-32-15/output/model.tar.gz\n",
      "BaseModel model does not exist\n",
      "BaseModel model was created\n"
     ]
    }
   ],
   "source": [
    "models = list()\n",
    "model_names = list()\n",
    "i = 0\n",
    "for index, row in model_files.iterrows():\n",
    "    #Try to delete if exists model and create a new model based on a model file\n",
    "    name=row['Model']\n",
    "    name=name.replace('_','-')\n",
    "    model_data=row['ModelData']\n",
    "    print(name,model_data)\n",
    "    try:\n",
    "        response = smclient.delete_model(ModelName=name)\n",
    "        print('%s model was deleted'%name)\n",
    "    except:\n",
    "        print('%s model does not exist'%name)\n",
    "        pass\n",
    "    xgb_inference_model = XGBoostModel(\n",
    "    name=name,\n",
    "    model_data=model_data,\n",
    "    role=role,\n",
    "    entry_point='inference.py',\n",
    "    framework_version=\"1.0-1\",\n",
    "    )\n",
    "    models.append(xgb_inference_model)\n",
    "    model_names.append(name)\n",
    "    print('%s model was created'%name)\n",
    "    i = i + 1  "
   ]
  },
  {
   "cell_type": "markdown",
   "metadata": {},
   "source": [
    "5.3. Running transform jobs using inference.py script and models created above"
   ]
  },
  {
   "cell_type": "code",
   "execution_count": 19,
   "metadata": {},
   "outputs": [
    {
     "name": "stderr",
     "output_type": "stream",
     "text": [
      "INFO:botocore.credentials:Found credentials in shared credentials file: ~/.aws/credentials\n",
      "INFO:sagemaker.image_uris:Same images used for training and inference. Defaulting to image scope: inference.\n",
      "INFO:sagemaker.image_uris:Defaulting to only available Python version: py3\n"
     ]
    },
    {
     "name": "stdout",
     "output_type": "stream",
     "text": [
      "BaseModel\n"
     ]
    },
    {
     "name": "stderr",
     "output_type": "stream",
     "text": [
      "INFO:sagemaker:Creating model with name: BaseModel\n",
      "INFO:sagemaker:Creating transform job with name: BaseModel-2021-05-31-02-10-12-096\n"
     ]
    },
    {
     "name": "stdout",
     "output_type": "stream",
     "text": [
      "Job BaseModel-2021-05-31-02-10-12-096 started\n"
     ]
    }
   ],
   "source": [
    "tranform_jobs = list()\n",
    "tranformers = list()\n",
    "i = 0\n",
    "for m,model_name in zip(models,model_names):   \n",
    "    s3_batch_input='s3://%s/%s/%s'%(bucket,path_to_pd_input_data,model_name)\n",
    "    s3_batch_output_model = 's3://%s/%s/%s'%(bucket,path_to_pd_output_data,model_name)\n",
    "    print(model_name)\n",
    "    transformer =  m.transformer(\n",
    "                                              instance_count=instance_count_inference, \n",
    "                                              instance_type=instance_type_inference,\n",
    "                                              output_path=s3_batch_output_model,\n",
    "                                              accept='text/csv',\n",
    "                                              strategy='MultiRecord',\n",
    "                                              assemble_with='Line'\n",
    "                                             )\n",
    "    tranformers.append(transformer)\n",
    "    transformer.transform(data=s3_batch_input, content_type='text/csv',split_type='Line', wait=False,\n",
    "    experiment_config = {\n",
    "        'ExperimentName': Experiment_name ,\n",
    "        'TrialName' : Trial_name_inference,\n",
    "        'TrialComponentDisplayName' : '%s-%s'%(Trial_name_inference,model_name.replace('_','-')),})\n",
    "    job_name = transformer.latest_transform_job.name\n",
    "    tranform_jobs.append(job_name)\n",
    "    print('Job %s started'%job_name)\n",
    "    i = i + 1"
   ]
  },
  {
   "cell_type": "code",
   "execution_count": 20,
   "metadata": {},
   "outputs": [
    {
     "name": "stdout",
     "output_type": "stream",
     "text": [
      "Transforming job BaseModel-2021-05-31-02-10-12-096 status: InProgress\n",
      "Continue waiting...\n",
      "Transforming job BaseModel-2021-05-31-02-10-12-096 status: InProgress\n",
      "Continue waiting...\n",
      "Transforming job BaseModel-2021-05-31-02-10-12-096 status: InProgress\n",
      "Continue waiting...\n",
      "Transforming job BaseModel-2021-05-31-02-10-12-096 status: InProgress\n",
      "Continue waiting...\n",
      "Transforming job BaseModel-2021-05-31-02-10-12-096 status: InProgress\n",
      "Continue waiting...\n",
      "Transforming job BaseModel-2021-05-31-02-10-12-096 status: InProgress\n",
      "Continue waiting...\n",
      "Transforming job BaseModel-2021-05-31-02-10-12-096 status: InProgress\n",
      "Continue waiting...\n",
      "Transforming job BaseModel-2021-05-31-02-10-12-096 status: InProgress\n",
      "Continue waiting...\n",
      "All Transforming Jobs are Completed\n"
     ]
    }
   ],
   "source": [
    "eu.wait_transform_jobs(processors=tranformers,tranform_jobs=tranform_jobs,check_every_sec=10,print_every_n_output=20,wait_min=60)"
   ]
  },
  {
   "cell_type": "markdown",
   "metadata": {},
   "source": [
    "6. Post processing partial dependency results (averaging by value)"
   ]
  },
  {
   "cell_type": "code",
   "execution_count": 21,
   "metadata": {},
   "outputs": [
    {
     "name": "stdout",
     "output_type": "stream",
     "text": [
      "Writing postprocessingPartialDependencyData.py\n"
     ]
    }
   ],
   "source": [
    "%%writefile postprocessingPartialDependencyData.py\n",
    "\n",
    "#The code joins InputData files for each feature and inference from each model and then average by each feature value\n",
    "\n",
    "\n",
    "import argparse\n",
    "import os\n",
    "import pandas as pd\n",
    "import numpy as np\n",
    "\n",
    "\n",
    "if __name__=='__main__':\n",
    "    \n",
    "    parser = argparse.ArgumentParser()\n",
    "    parser.add_argument('--data_file', type=str)\n",
    "    parser.add_argument('--config_file', type=str)   \n",
    "    parser.add_argument('--featureset', type=str)   \n",
    "    parser.add_argument('--featuretypes', type=str)  \n",
    "    parser.add_argument('--split_to_N_parts', type=int, default=1)\n",
    "    args, _ = parser.parse_known_args()    \n",
    "    print('Received arguments {}'.format(args))\n",
    "    \n",
    "    \n",
    "    featureset=args.featureset.split(',')\n",
    "    featuretypes=args.featuretypes.split(',')\n",
    "    split_to_N_parts=args.split_to_N_parts\n",
    "    input_data_path = os.path.join('/opt/ml/processing/input', args.data_file)\n",
    "    config_data_path = os.path.join('/opt/ml/processing/config', args.config_file)\n",
    "\n",
    "\n",
    "    output_data_path = os.path.join('/opt/ml/processing/output', 'data.csv', )\n",
    "    \n",
    "    print('Reading input data from {}'.format(input_data_path))\n",
    "    dataset = pd.read_csv(input_data_path, error_bad_lines=False, index_col=False)\n",
    "    \n",
    "\n",
    "    print('Reading config data from {}'.format(config_data_path))\n",
    "    models = pd.read_csv(config_data_path, error_bad_lines=False, index_col=False)   \n",
    "\n",
    "    #final dataset - average pd by each feature value\n",
    "    all_fm_pd = pd.DataFrame()\n",
    "\n",
    "        \n",
    "    for f,ftype in zip(featureset,featuretypes):\n",
    "        print('Processing %s'%f)\n",
    "        #iterating thru config file with models and featureset\n",
    "        df_all_models=pd.DataFrame()\n",
    "        for index, row in models.iterrows():\n",
    "            model=row['Model']\n",
    "            print (index, ': Creating featuresets for model %s'%model)\n",
    "            model_complete_featureset=row[1:51].tolist()\n",
    "            model_complete_featureset=[x for x in model_complete_featureset if str(x) != 'nan']\n",
    "        \n",
    "            if ftype=='Continuous':\n",
    "                feature_InputData_dataset=pd.DataFrame()\n",
    "                #Continious data can be splitted to split_to_N_parts files\n",
    "                for j in range(0,split_to_N_parts):\n",
    "                    feature_InputData_path=os.path.join('/opt/ml/processing/input/InputData/%s'%model, '%s_%s.csv'%(f,j))\n",
    "                    feature_InputData_dataset_j = pd.read_csv(feature_InputData_path, names=model_complete_featureset, error_bad_lines=False, index_col=False)\n",
    "                    feature_InputData_dataset=feature_InputData_dataset.append(feature_InputData_dataset_j)          \n",
    "            else:\n",
    "                feature_InputData_path=os.path.join('/opt/ml/processing/input/InputData/%s'%model, '%s.csv'%f)\n",
    "                feature_InputData_dataset = pd.read_csv(feature_InputData_path, names=model_complete_featureset, error_bad_lines=False, index_col=False)\n",
    "            \n",
    "            fm_pd = pd.DataFrame()           \n",
    "            print('Reading predicted data from model %s'%model)\n",
    "            if ftype=='Continuous':\n",
    "                pdf_dataset=pd.DataFrame()\n",
    "                #Continious data can be splitted to split_to_N_parts files\n",
    "                for j in range(0,split_to_N_parts):\n",
    "                    model_predicted_data_path =os.path.join('/opt/ml/processing/input/PartialDependency/%s'%model.replace('_','-'),'%s_%s.csv.out'%(f,j))\n",
    "                    pdf_dataset_i = pd.read_csv(model_predicted_data_path, names=['pd'], error_bad_lines=False, index_col=False)\n",
    "                    pdf_dataset=pdf_dataset.append(pdf_dataset_i)\n",
    "            else:\n",
    "                model_predicted_data_path =os.path.join('/opt/ml/processing/input/PartialDependency/%s'%model.replace('_','-'),'%s.csv.out'%f)                \n",
    "                pdf_dataset = pd.read_csv(model_predicted_data_path, names=['pd'], error_bad_lines=False, index_col=False)\n",
    "            #model feature partial dependency columns name\n",
    "            pd_column_name='%s_pd'%model\n",
    "            feature_InputData_dataset[pd_column_name]= pdf_dataset['pd'].values\n",
    "            \n",
    "            #average\n",
    "            fm_s = feature_InputData_dataset.groupby(f)[pd_column_name].mean()\n",
    "            fm_pd_model=pd.DataFrame({'value':fm_s.index, pd_column_name:fm_s.values})           \n",
    "            fm_pd_model['feature']=f\n",
    "            fm_pd_model = fm_pd_model[['feature','value',pd_column_name]]\n",
    "\n",
    "            fm_pd=pd.concat([fm_pd,fm_pd_model],axis=1)          \n",
    "            #add text value for categorical encd columns\n",
    "            #assuming there is encoded (_encd ended) and original values in the dataset\n",
    "            fm_pd['value2']=fm_pd['value'].astype(str)\n",
    "            if '_encd' in f and f.replace('_encd','') in dataset.columns:\n",
    "                #unique combindation of codes and original values from the main dataset into list and then dictionary\n",
    "                dataset['dummy']= dataset[f.replace('_encd','')] +'-'+ dataset[f].astype(str)\n",
    "                unique_comb_l=dataset['dummy'].unique().tolist()\n",
    "                unique_comb_value=[i.split('-', 1)[0] for i in unique_comb_l]\n",
    "                unique_comb_key=[i.split('-', 1)[1] for i in unique_comb_l]\n",
    "                unique_comb_dict = dict(zip(unique_comb_key, unique_comb_value))\n",
    "                #replace value2 in the feature values and partial dependencies\n",
    "                fm_pd['value2'].replace(unique_comb_dict, inplace=True)\n",
    "            if len(df_all_models)==0:\n",
    "                df_all_models=fm_pd\n",
    "            else:\n",
    "                df_all_models = pd.merge(df_all_models,fm_pd, on=['feature','value','value2'], how='outer')    \n",
    "\n",
    "        all_fm_pd=all_fm_pd.append(df_all_models)\n",
    "    #saving final output    \n",
    "    all_fm_pd.to_csv(output_data_path,header=True ,index=False)    "
   ]
  },
  {
   "cell_type": "code",
   "execution_count": 22,
   "metadata": {},
   "outputs": [
    {
     "name": "stderr",
     "output_type": "stream",
     "text": [
      "INFO:botocore.credentials:Found credentials in shared credentials file: ~/.aws/credentials\n",
      "INFO:sagemaker.image_uris:Same images used for training and inference. Defaulting to image scope: inference.\n",
      "INFO:sagemaker.image_uris:Defaulting to only available Python version: py3\n",
      "INFO:sagemaker:Creating processing-job with name sagemaker-scikit-learn-2021-05-31-02-39-26-167\n"
     ]
    },
    {
     "name": "stdout",
     "output_type": "stream",
     "text": [
      "\n",
      "Job Name:  sagemaker-scikit-learn-2021-05-31-02-39-26-167\n",
      "Inputs:  [{'InputName': 'input', 'AppManaged': False, 'S3Input': {'S3Uri': 's3://kdproperty/Data/property_water_claims_non_cat_fs_v5.csv', 'LocalPath': '/opt/ml/processing/input', 'S3DataType': 'S3Prefix', 'S3InputMode': 'File', 'S3DataDistributionType': 'FullyReplicated', 'S3CompressionType': 'None'}}, {'InputName': 'config', 'AppManaged': False, 'S3Input': {'S3Uri': 's3://kdproperty/Config/BaseFeaturesPD.csv', 'LocalPath': '/opt/ml/processing/config', 'S3DataType': 'S3Prefix', 'S3InputMode': 'File', 'S3DataDistributionType': 'FullyReplicated', 'S3CompressionType': 'None'}}, {'InputName': 'InputData', 'AppManaged': False, 'S3Input': {'S3Uri': 's3://kdproperty/Data/Experiments/BaseFeaturesPD/pd_input_data', 'LocalPath': '/opt/ml/processing/input/InputData', 'S3DataType': 'S3Prefix', 'S3InputMode': 'File', 'S3DataDistributionType': 'FullyReplicated', 'S3CompressionType': 'None'}}, {'InputName': 'PartialDependency', 'AppManaged': False, 'S3Input': {'S3Uri': 's3://kdproperty/Data/Experiments/BaseFeaturesPD/pd_output_data', 'LocalPath': '/opt/ml/processing/input/PartialDependency', 'S3DataType': 'S3Prefix', 'S3InputMode': 'File', 'S3DataDistributionType': 'FullyReplicated', 'S3CompressionType': 'None'}}, {'InputName': 'code', 'AppManaged': False, 'S3Input': {'S3Uri': 's3://sagemaker-us-west-2-757107622481/sagemaker-scikit-learn-2021-05-31-02-39-26-167/input/code/postprocessingPartialDependencyData.py', 'LocalPath': '/opt/ml/processing/input/code', 'S3DataType': 'S3Prefix', 'S3InputMode': 'File', 'S3DataDistributionType': 'FullyReplicated', 'S3CompressionType': 'None'}}]\n",
      "Outputs:  [{'OutputName': 'output', 'AppManaged': False, 'S3Output': {'S3Uri': 's3://kdproperty/Data/Experiments/BaseFeaturesPD/pd_final_data', 'LocalPath': '/opt/ml/processing/output', 'S3UploadMode': 'EndOfJob'}}]\n",
      ".........................................\u001b[34mReceived arguments Namespace(config_file='BaseFeaturesPD.csv', data_file='property_water_claims_non_cat_fs_v5.csv', featureset='poolind,usagetype_encd,landlordind,replacementcostdwellingind,pipe_froze_3_blk,customer_cnt_active_policies,cova_limit,plumb_leak_3_blk', featuretypes='Categorical,Categorical,Categorical,Categorical,Categorical,Categorical,Categorical,Categorical', split_to_N_parts=5)\u001b[0m\n",
      "\u001b[34mReading input data from /opt/ml/processing/input/property_water_claims_non_cat_fs_v5.csv\u001b[0m\n",
      "\u001b[34mReading config data from /opt/ml/processing/config/BaseFeaturesPD.csv\u001b[0m\n",
      "\u001b[34mProcessing poolind\u001b[0m\n",
      "\u001b[34m0 : Creating featuresets for model BaseModel\u001b[0m\n",
      "\u001b[34mReading predicted data from model BaseModel\u001b[0m\n",
      "\u001b[34mProcessing usagetype_encd\u001b[0m\n",
      "\u001b[34m0 : Creating featuresets for model BaseModel\u001b[0m\n",
      "\u001b[34mReading predicted data from model BaseModel\u001b[0m\n",
      "\u001b[34mProcessing landlordind\u001b[0m\n",
      "\u001b[34m0 : Creating featuresets for model BaseModel\u001b[0m\n",
      "\u001b[34mReading predicted data from model BaseModel\u001b[0m\n",
      "\u001b[34mProcessing replacementcostdwellingind\u001b[0m\n",
      "\u001b[34m0 : Creating featuresets for model BaseModel\u001b[0m\n",
      "\u001b[34mReading predicted data from model BaseModel\u001b[0m\n",
      "\u001b[34mProcessing pipe_froze_3_blk\u001b[0m\n",
      "\u001b[34m0 : Creating featuresets for model BaseModel\u001b[0m\n",
      "\u001b[34mReading predicted data from model BaseModel\u001b[0m\n",
      "\u001b[34mProcessing customer_cnt_active_policies\u001b[0m\n",
      "\u001b[34m0 : Creating featuresets for model BaseModel\u001b[0m\n",
      "\u001b[34mReading predicted data from model BaseModel\u001b[0m\n",
      "\u001b[34mProcessing cova_limit\u001b[0m\n",
      "\u001b[34m0 : Creating featuresets for model BaseModel\u001b[0m\n",
      "\u001b[34mReading predicted data from model BaseModel\u001b[0m\n",
      "\u001b[34mProcessing plumb_leak_3_blk\u001b[0m\n",
      "\u001b[34m0 : Creating featuresets for model BaseModel\u001b[0m\n",
      "\n",
      "\u001b[34mReading predicted data from model BaseModel\u001b[0m\n"
     ]
    }
   ],
   "source": [
    "processors=list()\n",
    "\n",
    "featureset=features_for_pd['Feature'].tolist()\n",
    "featuretypes=features_for_pd['Type'].tolist()\n",
    "\n",
    "\n",
    "data_processor = SKLearnProcessor(framework_version='0.20.0',\n",
    "                                     role=role,\n",
    "                                     instance_type=instance_type_postprocessing,\n",
    "                                     instance_count=instance_count_postprocessing)\n",
    "\n",
    "data_processor.run(code='postprocessingPartialDependencyData.py',\n",
    "                        inputs= [\n",
    "                        #1.Main dataset\n",
    "                        ProcessingInput(input_name='input',source='s3://%s/%s/%s'%(bucket,path_to_data,data_file),destination='/opt/ml/processing/input'),  \n",
    "                        #2.Models config file\n",
    "                        ProcessingInput(input_name='config',source='s3://%s/%s/%s'%(bucket,path_to_configuration,Model_Config_file),destination='/opt/ml/processing/config'),\n",
    "                        #3.preprocessed features data for inference     \n",
    "                        ProcessingInput(input_name='InputData', source='s3://%s/%s'%(bucket,path_to_pd_input_data), destination='/opt/ml/processing/input/InputData'),\n",
    "                        #4.inference (predicted) data\n",
    "                        ProcessingInput(input_name='PartialDependency', source='s3://%s/%s'%(bucket,path_to_pd_output_data), destination='/opt/ml/processing/input/PartialDependency')    \n",
    "                                 ],\n",
    "                        outputs=[ProcessingOutput(output_name='output', source='/opt/ml/processing/output', destination='s3://%s/%s'%(bucket,path_to_pd_final_data)),                                                          \n",
    "                                ],\n",
    "                        arguments=['--data_file',data_file,\n",
    "                                '--config_file',Model_Config_file,\n",
    "                                 '--featureset', ','.join(featureset).replace(' ',''),\n",
    "                                 '--featuretypes', ','.join(featuretypes).replace(' ',''),\n",
    "                                 '--split_to_N_parts',str(split_to_N_parts)],\n",
    "                        experiment_config = {\n",
    "        'ExperimentName': Experiment_name ,\n",
    "        'TrialName' : Trial_name_postprocessing,\n",
    "        'TrialComponentDisplayName' : Trial_name_postprocessing},\n",
    "                        wait=True\n",
    "                        )\n",
    "processors.append(data_processor)"
   ]
  },
  {
   "cell_type": "code",
   "execution_count": 23,
   "metadata": {},
   "outputs": [],
   "source": [
    "#Stop the execution if there is an issue with creating input data for the models\n",
    "job_name=data_processor.jobs[-1].describe()['ProcessingJobName']\n",
    "if not(sagemaker_session.was_processing_job_successful(job_name)):\n",
    "    raise Exception('Preprocessing job Failed!')  "
   ]
  },
  {
   "cell_type": "code",
   "execution_count": 26,
   "metadata": {},
   "outputs": [],
   "source": [
    "pd_output_file='s3://%s/%s/data.csv'%(bucket,path_to_pd_final_data)"
   ]
  },
  {
   "cell_type": "markdown",
   "metadata": {},
   "source": [
    "7. Read data from S3 and visualize and save to a log\n",
    "- header as hardcoded in postprocessingPartialDependencyData.py: feature name, feature value, models partial dependency value (as we cofigured in the experiment), feature original value if encoded\n",
    "- the output file name (required in this case) is data.csv, hardcoded in postprocessingPartialDependencyData.py"
   ]
  },
  {
   "cell_type": "code",
   "execution_count": 27,
   "metadata": {},
   "outputs": [
    {
     "data": {
      "text/html": [
       "<div>\n",
       "<style scoped>\n",
       "    .dataframe tbody tr th:only-of-type {\n",
       "        vertical-align: middle;\n",
       "    }\n",
       "\n",
       "    .dataframe tbody tr th {\n",
       "        vertical-align: top;\n",
       "    }\n",
       "\n",
       "    .dataframe thead th {\n",
       "        text-align: right;\n",
       "    }\n",
       "</style>\n",
       "<table border=\"1\" class=\"dataframe\">\n",
       "  <thead>\n",
       "    <tr style=\"text-align: right;\">\n",
       "      <th></th>\n",
       "      <th>feature</th>\n",
       "      <th>value</th>\n",
       "      <th>BaseModel_pd</th>\n",
       "      <th>value2</th>\n",
       "    </tr>\n",
       "  </thead>\n",
       "  <tbody>\n",
       "    <tr>\n",
       "      <th>0</th>\n",
       "      <td>poolind</td>\n",
       "      <td>0</td>\n",
       "      <td>0.010496</td>\n",
       "      <td>0</td>\n",
       "    </tr>\n",
       "    <tr>\n",
       "      <th>1</th>\n",
       "      <td>poolind</td>\n",
       "      <td>1</td>\n",
       "      <td>0.010546</td>\n",
       "      <td>1</td>\n",
       "    </tr>\n",
       "    <tr>\n",
       "      <th>2</th>\n",
       "      <td>usagetype_encd</td>\n",
       "      <td>1</td>\n",
       "      <td>0.010181</td>\n",
       "      <td>UNOCCUPIED</td>\n",
       "    </tr>\n",
       "    <tr>\n",
       "      <th>3</th>\n",
       "      <td>usagetype_encd</td>\n",
       "      <td>2</td>\n",
       "      <td>0.010181</td>\n",
       "      <td>SECONDARY</td>\n",
       "    </tr>\n",
       "    <tr>\n",
       "      <th>4</th>\n",
       "      <td>usagetype_encd</td>\n",
       "      <td>3</td>\n",
       "      <td>0.010181</td>\n",
       "      <td>SEASONAL</td>\n",
       "    </tr>\n",
       "  </tbody>\n",
       "</table>\n",
       "</div>"
      ],
      "text/plain": [
       "          feature  value  BaseModel_pd      value2\n",
       "0         poolind      0      0.010496           0\n",
       "1         poolind      1      0.010546           1\n",
       "2  usagetype_encd      1      0.010181  UNOCCUPIED\n",
       "3  usagetype_encd      2      0.010181   SECONDARY\n",
       "4  usagetype_encd      3      0.010181    SEASONAL"
      ]
     },
     "execution_count": 27,
     "metadata": {},
     "output_type": "execute_result"
    }
   ],
   "source": [
    "pdf_dataset = pd.read_csv(pd_output_file,  error_bad_lines=False, index_col=False) \n",
    "pdf_dataset.head()"
   ]
  },
  {
   "cell_type": "code",
   "execution_count": 29,
   "metadata": {},
   "outputs": [],
   "source": [
    "#Saving into the Experiment log or load to redshift directly\n",
    "eu.SaveToExperimentLog(Experiments_file, '%s Data'%Experiment_name, pdf_dataset)"
   ]
  },
  {
   "cell_type": "markdown",
   "metadata": {},
   "source": [
    "8. Averaging partial dependency by all models (assuming models are parts of a cv-folds)"
   ]
  },
  {
   "cell_type": "code",
   "execution_count": 30,
   "metadata": {},
   "outputs": [
    {
     "name": "stderr",
     "output_type": "stream",
     "text": [
      "INFO:numexpr.utils:NumExpr defaulting to 8 threads.\n"
     ]
    },
    {
     "data": {
      "text/html": [
       "<div>\n",
       "<style scoped>\n",
       "    .dataframe tbody tr th:only-of-type {\n",
       "        vertical-align: middle;\n",
       "    }\n",
       "\n",
       "    .dataframe tbody tr th {\n",
       "        vertical-align: top;\n",
       "    }\n",
       "\n",
       "    .dataframe thead th {\n",
       "        text-align: right;\n",
       "    }\n",
       "</style>\n",
       "<table border=\"1\" class=\"dataframe\">\n",
       "  <thead>\n",
       "    <tr style=\"text-align: right;\">\n",
       "      <th></th>\n",
       "      <th>feature</th>\n",
       "      <th>value</th>\n",
       "      <th>BaseModel_pd</th>\n",
       "      <th>value2</th>\n",
       "      <th>pd</th>\n",
       "    </tr>\n",
       "  </thead>\n",
       "  <tbody>\n",
       "    <tr>\n",
       "      <th>0</th>\n",
       "      <td>poolind</td>\n",
       "      <td>0</td>\n",
       "      <td>0.010496</td>\n",
       "      <td>0</td>\n",
       "      <td>0.010496</td>\n",
       "    </tr>\n",
       "    <tr>\n",
       "      <th>1</th>\n",
       "      <td>poolind</td>\n",
       "      <td>1</td>\n",
       "      <td>0.010546</td>\n",
       "      <td>1</td>\n",
       "      <td>0.010546</td>\n",
       "    </tr>\n",
       "    <tr>\n",
       "      <th>2</th>\n",
       "      <td>usagetype_encd</td>\n",
       "      <td>1</td>\n",
       "      <td>0.010181</td>\n",
       "      <td>UNOCCUPIED</td>\n",
       "      <td>0.010181</td>\n",
       "    </tr>\n",
       "    <tr>\n",
       "      <th>3</th>\n",
       "      <td>usagetype_encd</td>\n",
       "      <td>2</td>\n",
       "      <td>0.010181</td>\n",
       "      <td>SECONDARY</td>\n",
       "      <td>0.010181</td>\n",
       "    </tr>\n",
       "    <tr>\n",
       "      <th>4</th>\n",
       "      <td>usagetype_encd</td>\n",
       "      <td>3</td>\n",
       "      <td>0.010181</td>\n",
       "      <td>SEASONAL</td>\n",
       "      <td>0.010181</td>\n",
       "    </tr>\n",
       "  </tbody>\n",
       "</table>\n",
       "</div>"
      ],
      "text/plain": [
       "          feature  value  BaseModel_pd      value2        pd\n",
       "0         poolind      0      0.010496           0  0.010496\n",
       "1         poolind      1      0.010546           1  0.010546\n",
       "2  usagetype_encd      1      0.010181  UNOCCUPIED  0.010181\n",
       "3  usagetype_encd      2      0.010181   SECONDARY  0.010181\n",
       "4  usagetype_encd      3      0.010181    SEASONAL  0.010181"
      ]
     },
     "execution_count": 30,
     "metadata": {},
     "output_type": "execute_result"
    }
   ],
   "source": [
    "pdf_dataset['pd']=0\n",
    "for index, row in model_files.iterrows():\n",
    "    m=row['Model']\n",
    "    pdf_dataset['pd'] = pdf_dataset['pd'] + pdf_dataset['%s_pd'%m]\n",
    "pdf_dataset['pd'] = pdf_dataset['pd']/len(model_files)\n",
    "pdf_dataset.head()"
   ]
  },
  {
   "cell_type": "markdown",
   "metadata": {},
   "source": [
    "9. Visualization Partial Dependency with bokeh"
   ]
  },
  {
   "cell_type": "code",
   "execution_count": 36,
   "metadata": {},
   "outputs": [
    {
     "data": {
      "text/html": [
       "\n",
       "    <div class=\"bk-root\">\n",
       "        <a href=\"https://bokeh.org\" target=\"_blank\" class=\"bk-logo bk-logo-small bk-logo-notebook\"></a>\n",
       "        <span id=\"1171\">Loading BokehJS ...</span>\n",
       "    </div>"
      ]
     },
     "metadata": {},
     "output_type": "display_data"
    },
    {
     "data": {
      "application/javascript": [
       "\n",
       "(function(root) {\n",
       "  function now() {\n",
       "    return new Date();\n",
       "  }\n",
       "\n",
       "  var force = true;\n",
       "\n",
       "  if (typeof root._bokeh_onload_callbacks === \"undefined\" || force === true) {\n",
       "    root._bokeh_onload_callbacks = [];\n",
       "    root._bokeh_is_loading = undefined;\n",
       "  }\n",
       "\n",
       "  var JS_MIME_TYPE = 'application/javascript';\n",
       "  var HTML_MIME_TYPE = 'text/html';\n",
       "  var EXEC_MIME_TYPE = 'application/vnd.bokehjs_exec.v0+json';\n",
       "  var CLASS_NAME = 'output_bokeh rendered_html';\n",
       "\n",
       "  /**\n",
       "   * Render data to the DOM node\n",
       "   */\n",
       "  function render(props, node) {\n",
       "    var script = document.createElement(\"script\");\n",
       "    node.appendChild(script);\n",
       "  }\n",
       "\n",
       "  /**\n",
       "   * Handle when an output is cleared or removed\n",
       "   */\n",
       "  function handleClearOutput(event, handle) {\n",
       "    var cell = handle.cell;\n",
       "\n",
       "    var id = cell.output_area._bokeh_element_id;\n",
       "    var server_id = cell.output_area._bokeh_server_id;\n",
       "    // Clean up Bokeh references\n",
       "    if (id != null && id in Bokeh.index) {\n",
       "      Bokeh.index[id].model.document.clear();\n",
       "      delete Bokeh.index[id];\n",
       "    }\n",
       "\n",
       "    if (server_id !== undefined) {\n",
       "      // Clean up Bokeh references\n",
       "      var cmd = \"from bokeh.io.state import curstate; print(curstate().uuid_to_server['\" + server_id + \"'].get_sessions()[0].document.roots[0]._id)\";\n",
       "      cell.notebook.kernel.execute(cmd, {\n",
       "        iopub: {\n",
       "          output: function(msg) {\n",
       "            var id = msg.content.text.trim();\n",
       "            if (id in Bokeh.index) {\n",
       "              Bokeh.index[id].model.document.clear();\n",
       "              delete Bokeh.index[id];\n",
       "            }\n",
       "          }\n",
       "        }\n",
       "      });\n",
       "      // Destroy server and session\n",
       "      var cmd = \"import bokeh.io.notebook as ion; ion.destroy_server('\" + server_id + \"')\";\n",
       "      cell.notebook.kernel.execute(cmd);\n",
       "    }\n",
       "  }\n",
       "\n",
       "  /**\n",
       "   * Handle when a new output is added\n",
       "   */\n",
       "  function handleAddOutput(event, handle) {\n",
       "    var output_area = handle.output_area;\n",
       "    var output = handle.output;\n",
       "\n",
       "    // limit handleAddOutput to display_data with EXEC_MIME_TYPE content only\n",
       "    if ((output.output_type != \"display_data\") || (!output.data.hasOwnProperty(EXEC_MIME_TYPE))) {\n",
       "      return\n",
       "    }\n",
       "\n",
       "    var toinsert = output_area.element.find(\".\" + CLASS_NAME.split(' ')[0]);\n",
       "\n",
       "    if (output.metadata[EXEC_MIME_TYPE][\"id\"] !== undefined) {\n",
       "      toinsert[toinsert.length - 1].firstChild.textContent = output.data[JS_MIME_TYPE];\n",
       "      // store reference to embed id on output_area\n",
       "      output_area._bokeh_element_id = output.metadata[EXEC_MIME_TYPE][\"id\"];\n",
       "    }\n",
       "    if (output.metadata[EXEC_MIME_TYPE][\"server_id\"] !== undefined) {\n",
       "      var bk_div = document.createElement(\"div\");\n",
       "      bk_div.innerHTML = output.data[HTML_MIME_TYPE];\n",
       "      var script_attrs = bk_div.children[0].attributes;\n",
       "      for (var i = 0; i < script_attrs.length; i++) {\n",
       "        toinsert[toinsert.length - 1].firstChild.setAttribute(script_attrs[i].name, script_attrs[i].value);\n",
       "        toinsert[toinsert.length - 1].firstChild.textContent = bk_div.children[0].textContent\n",
       "      }\n",
       "      // store reference to server id on output_area\n",
       "      output_area._bokeh_server_id = output.metadata[EXEC_MIME_TYPE][\"server_id\"];\n",
       "    }\n",
       "  }\n",
       "\n",
       "  function register_renderer(events, OutputArea) {\n",
       "\n",
       "    function append_mime(data, metadata, element) {\n",
       "      // create a DOM node to render to\n",
       "      var toinsert = this.create_output_subarea(\n",
       "        metadata,\n",
       "        CLASS_NAME,\n",
       "        EXEC_MIME_TYPE\n",
       "      );\n",
       "      this.keyboard_manager.register_events(toinsert);\n",
       "      // Render to node\n",
       "      var props = {data: data, metadata: metadata[EXEC_MIME_TYPE]};\n",
       "      render(props, toinsert[toinsert.length - 1]);\n",
       "      element.append(toinsert);\n",
       "      return toinsert\n",
       "    }\n",
       "\n",
       "    /* Handle when an output is cleared or removed */\n",
       "    events.on('clear_output.CodeCell', handleClearOutput);\n",
       "    events.on('delete.Cell', handleClearOutput);\n",
       "\n",
       "    /* Handle when a new output is added */\n",
       "    events.on('output_added.OutputArea', handleAddOutput);\n",
       "\n",
       "    /**\n",
       "     * Register the mime type and append_mime function with output_area\n",
       "     */\n",
       "    OutputArea.prototype.register_mime_type(EXEC_MIME_TYPE, append_mime, {\n",
       "      /* Is output safe? */\n",
       "      safe: true,\n",
       "      /* Index of renderer in `output_area.display_order` */\n",
       "      index: 0\n",
       "    });\n",
       "  }\n",
       "\n",
       "  // register the mime type if in Jupyter Notebook environment and previously unregistered\n",
       "  if (root.Jupyter !== undefined) {\n",
       "    var events = require('base/js/events');\n",
       "    var OutputArea = require('notebook/js/outputarea').OutputArea;\n",
       "\n",
       "    if (OutputArea.prototype.mime_types().indexOf(EXEC_MIME_TYPE) == -1) {\n",
       "      register_renderer(events, OutputArea);\n",
       "    }\n",
       "  }\n",
       "\n",
       "  \n",
       "  if (typeof (root._bokeh_timeout) === \"undefined\" || force === true) {\n",
       "    root._bokeh_timeout = Date.now() + 5000;\n",
       "    root._bokeh_failed_load = false;\n",
       "  }\n",
       "\n",
       "  var NB_LOAD_WARNING = {'data': {'text/html':\n",
       "     \"<div style='background-color: #fdd'>\\n\"+\n",
       "     \"<p>\\n\"+\n",
       "     \"BokehJS does not appear to have successfully loaded. If loading BokehJS from CDN, this \\n\"+\n",
       "     \"may be due to a slow or bad network connection. Possible fixes:\\n\"+\n",
       "     \"</p>\\n\"+\n",
       "     \"<ul>\\n\"+\n",
       "     \"<li>re-rerun `output_notebook()` to attempt to load from CDN again, or</li>\\n\"+\n",
       "     \"<li>use INLINE resources instead, as so:</li>\\n\"+\n",
       "     \"</ul>\\n\"+\n",
       "     \"<code>\\n\"+\n",
       "     \"from bokeh.resources import INLINE\\n\"+\n",
       "     \"output_notebook(resources=INLINE)\\n\"+\n",
       "     \"</code>\\n\"+\n",
       "     \"</div>\"}};\n",
       "\n",
       "  function display_loaded() {\n",
       "    var el = document.getElementById(\"1171\");\n",
       "    if (el != null) {\n",
       "      el.textContent = \"BokehJS is loading...\";\n",
       "    }\n",
       "    if (root.Bokeh !== undefined) {\n",
       "      if (el != null) {\n",
       "        el.textContent = \"BokehJS \" + root.Bokeh.version + \" successfully loaded.\";\n",
       "      }\n",
       "    } else if (Date.now() < root._bokeh_timeout) {\n",
       "      setTimeout(display_loaded, 100)\n",
       "    }\n",
       "  }\n",
       "\n",
       "\n",
       "  function run_callbacks() {\n",
       "    try {\n",
       "      root._bokeh_onload_callbacks.forEach(function(callback) {\n",
       "        if (callback != null)\n",
       "          callback();\n",
       "      });\n",
       "    } finally {\n",
       "      delete root._bokeh_onload_callbacks\n",
       "    }\n",
       "    console.debug(\"Bokeh: all callbacks have finished\");\n",
       "  }\n",
       "\n",
       "  function load_libs(css_urls, js_urls, callback) {\n",
       "    if (css_urls == null) css_urls = [];\n",
       "    if (js_urls == null) js_urls = [];\n",
       "\n",
       "    root._bokeh_onload_callbacks.push(callback);\n",
       "    if (root._bokeh_is_loading > 0) {\n",
       "      console.debug(\"Bokeh: BokehJS is being loaded, scheduling callback at\", now());\n",
       "      return null;\n",
       "    }\n",
       "    if (js_urls == null || js_urls.length === 0) {\n",
       "      run_callbacks();\n",
       "      return null;\n",
       "    }\n",
       "    console.debug(\"Bokeh: BokehJS not loaded, scheduling load and callback at\", now());\n",
       "    root._bokeh_is_loading = css_urls.length + js_urls.length;\n",
       "\n",
       "    function on_load() {\n",
       "      root._bokeh_is_loading--;\n",
       "      if (root._bokeh_is_loading === 0) {\n",
       "        console.debug(\"Bokeh: all BokehJS libraries/stylesheets loaded\");\n",
       "        run_callbacks()\n",
       "      }\n",
       "    }\n",
       "\n",
       "    function on_error() {\n",
       "      console.error(\"failed to load \" + url);\n",
       "    }\n",
       "\n",
       "    for (var i = 0; i < css_urls.length; i++) {\n",
       "      var url = css_urls[i];\n",
       "      const element = document.createElement(\"link\");\n",
       "      element.onload = on_load;\n",
       "      element.onerror = on_error;\n",
       "      element.rel = \"stylesheet\";\n",
       "      element.type = \"text/css\";\n",
       "      element.href = url;\n",
       "      console.debug(\"Bokeh: injecting link tag for BokehJS stylesheet: \", url);\n",
       "      document.body.appendChild(element);\n",
       "    }\n",
       "\n",
       "    const hashes = {\"https://cdn.bokeh.org/bokeh/release/bokeh-2.2.3.min.js\": \"T2yuo9Oe71Cz/I4X9Ac5+gpEa5a8PpJCDlqKYO0CfAuEszu1JrXLl8YugMqYe3sM\", \"https://cdn.bokeh.org/bokeh/release/bokeh-widgets-2.2.3.min.js\": \"98GDGJ0kOMCUMUePhksaQ/GYgB3+NH9h996V88sh3aOiUNX3N+fLXAtry6xctSZ6\", \"https://cdn.bokeh.org/bokeh/release/bokeh-tables-2.2.3.min.js\": \"89bArO+nlbP3sgakeHjCo1JYxYR5wufVgA3IbUvDY+K7w4zyxJqssu7wVnfeKCq8\"};\n",
       "\n",
       "    for (var i = 0; i < js_urls.length; i++) {\n",
       "      var url = js_urls[i];\n",
       "      var element = document.createElement('script');\n",
       "      element.onload = on_load;\n",
       "      element.onerror = on_error;\n",
       "      element.async = false;\n",
       "      element.src = url;\n",
       "      if (url in hashes) {\n",
       "        element.crossOrigin = \"anonymous\";\n",
       "        element.integrity = \"sha384-\" + hashes[url];\n",
       "      }\n",
       "      console.debug(\"Bokeh: injecting script tag for BokehJS library: \", url);\n",
       "      document.head.appendChild(element);\n",
       "    }\n",
       "  };\n",
       "\n",
       "  function inject_raw_css(css) {\n",
       "    const element = document.createElement(\"style\");\n",
       "    element.appendChild(document.createTextNode(css));\n",
       "    document.body.appendChild(element);\n",
       "  }\n",
       "\n",
       "  \n",
       "  var js_urls = [\"https://cdn.bokeh.org/bokeh/release/bokeh-2.2.3.min.js\", \"https://cdn.bokeh.org/bokeh/release/bokeh-widgets-2.2.3.min.js\", \"https://cdn.bokeh.org/bokeh/release/bokeh-tables-2.2.3.min.js\"];\n",
       "  var css_urls = [];\n",
       "  \n",
       "\n",
       "  var inline_js = [\n",
       "    function(Bokeh) {\n",
       "      Bokeh.set_log_level(\"info\");\n",
       "    },\n",
       "    function(Bokeh) {\n",
       "    \n",
       "    \n",
       "    }\n",
       "  ];\n",
       "\n",
       "  function run_inline_js() {\n",
       "    \n",
       "    if (root.Bokeh !== undefined || force === true) {\n",
       "      \n",
       "    for (var i = 0; i < inline_js.length; i++) {\n",
       "      inline_js[i].call(root, root.Bokeh);\n",
       "    }\n",
       "    if (force === true) {\n",
       "        display_loaded();\n",
       "      }} else if (Date.now() < root._bokeh_timeout) {\n",
       "      setTimeout(run_inline_js, 100);\n",
       "    } else if (!root._bokeh_failed_load) {\n",
       "      console.log(\"Bokeh: BokehJS failed to load within specified timeout.\");\n",
       "      root._bokeh_failed_load = true;\n",
       "    } else if (force !== true) {\n",
       "      var cell = $(document.getElementById(\"1171\")).parents('.cell').data().cell;\n",
       "      cell.output_area.append_execute_result(NB_LOAD_WARNING)\n",
       "    }\n",
       "\n",
       "  }\n",
       "\n",
       "  if (root._bokeh_is_loading === 0) {\n",
       "    console.debug(\"Bokeh: BokehJS loaded, going straight to plotting\");\n",
       "    run_inline_js();\n",
       "  } else {\n",
       "    load_libs(css_urls, js_urls, function() {\n",
       "      console.debug(\"Bokeh: BokehJS plotting callback run at\", now());\n",
       "      run_inline_js();\n",
       "    });\n",
       "  }\n",
       "}(window));"
      ],
      "application/vnd.bokehjs_load.v0+json": "\n(function(root) {\n  function now() {\n    return new Date();\n  }\n\n  var force = true;\n\n  if (typeof root._bokeh_onload_callbacks === \"undefined\" || force === true) {\n    root._bokeh_onload_callbacks = [];\n    root._bokeh_is_loading = undefined;\n  }\n\n  \n\n  \n  if (typeof (root._bokeh_timeout) === \"undefined\" || force === true) {\n    root._bokeh_timeout = Date.now() + 5000;\n    root._bokeh_failed_load = false;\n  }\n\n  var NB_LOAD_WARNING = {'data': {'text/html':\n     \"<div style='background-color: #fdd'>\\n\"+\n     \"<p>\\n\"+\n     \"BokehJS does not appear to have successfully loaded. If loading BokehJS from CDN, this \\n\"+\n     \"may be due to a slow or bad network connection. Possible fixes:\\n\"+\n     \"</p>\\n\"+\n     \"<ul>\\n\"+\n     \"<li>re-rerun `output_notebook()` to attempt to load from CDN again, or</li>\\n\"+\n     \"<li>use INLINE resources instead, as so:</li>\\n\"+\n     \"</ul>\\n\"+\n     \"<code>\\n\"+\n     \"from bokeh.resources import INLINE\\n\"+\n     \"output_notebook(resources=INLINE)\\n\"+\n     \"</code>\\n\"+\n     \"</div>\"}};\n\n  function display_loaded() {\n    var el = document.getElementById(\"1171\");\n    if (el != null) {\n      el.textContent = \"BokehJS is loading...\";\n    }\n    if (root.Bokeh !== undefined) {\n      if (el != null) {\n        el.textContent = \"BokehJS \" + root.Bokeh.version + \" successfully loaded.\";\n      }\n    } else if (Date.now() < root._bokeh_timeout) {\n      setTimeout(display_loaded, 100)\n    }\n  }\n\n\n  function run_callbacks() {\n    try {\n      root._bokeh_onload_callbacks.forEach(function(callback) {\n        if (callback != null)\n          callback();\n      });\n    } finally {\n      delete root._bokeh_onload_callbacks\n    }\n    console.debug(\"Bokeh: all callbacks have finished\");\n  }\n\n  function load_libs(css_urls, js_urls, callback) {\n    if (css_urls == null) css_urls = [];\n    if (js_urls == null) js_urls = [];\n\n    root._bokeh_onload_callbacks.push(callback);\n    if (root._bokeh_is_loading > 0) {\n      console.debug(\"Bokeh: BokehJS is being loaded, scheduling callback at\", now());\n      return null;\n    }\n    if (js_urls == null || js_urls.length === 0) {\n      run_callbacks();\n      return null;\n    }\n    console.debug(\"Bokeh: BokehJS not loaded, scheduling load and callback at\", now());\n    root._bokeh_is_loading = css_urls.length + js_urls.length;\n\n    function on_load() {\n      root._bokeh_is_loading--;\n      if (root._bokeh_is_loading === 0) {\n        console.debug(\"Bokeh: all BokehJS libraries/stylesheets loaded\");\n        run_callbacks()\n      }\n    }\n\n    function on_error() {\n      console.error(\"failed to load \" + url);\n    }\n\n    for (var i = 0; i < css_urls.length; i++) {\n      var url = css_urls[i];\n      const element = document.createElement(\"link\");\n      element.onload = on_load;\n      element.onerror = on_error;\n      element.rel = \"stylesheet\";\n      element.type = \"text/css\";\n      element.href = url;\n      console.debug(\"Bokeh: injecting link tag for BokehJS stylesheet: \", url);\n      document.body.appendChild(element);\n    }\n\n    const hashes = {\"https://cdn.bokeh.org/bokeh/release/bokeh-2.2.3.min.js\": \"T2yuo9Oe71Cz/I4X9Ac5+gpEa5a8PpJCDlqKYO0CfAuEszu1JrXLl8YugMqYe3sM\", \"https://cdn.bokeh.org/bokeh/release/bokeh-widgets-2.2.3.min.js\": \"98GDGJ0kOMCUMUePhksaQ/GYgB3+NH9h996V88sh3aOiUNX3N+fLXAtry6xctSZ6\", \"https://cdn.bokeh.org/bokeh/release/bokeh-tables-2.2.3.min.js\": \"89bArO+nlbP3sgakeHjCo1JYxYR5wufVgA3IbUvDY+K7w4zyxJqssu7wVnfeKCq8\"};\n\n    for (var i = 0; i < js_urls.length; i++) {\n      var url = js_urls[i];\n      var element = document.createElement('script');\n      element.onload = on_load;\n      element.onerror = on_error;\n      element.async = false;\n      element.src = url;\n      if (url in hashes) {\n        element.crossOrigin = \"anonymous\";\n        element.integrity = \"sha384-\" + hashes[url];\n      }\n      console.debug(\"Bokeh: injecting script tag for BokehJS library: \", url);\n      document.head.appendChild(element);\n    }\n  };\n\n  function inject_raw_css(css) {\n    const element = document.createElement(\"style\");\n    element.appendChild(document.createTextNode(css));\n    document.body.appendChild(element);\n  }\n\n  \n  var js_urls = [\"https://cdn.bokeh.org/bokeh/release/bokeh-2.2.3.min.js\", \"https://cdn.bokeh.org/bokeh/release/bokeh-widgets-2.2.3.min.js\", \"https://cdn.bokeh.org/bokeh/release/bokeh-tables-2.2.3.min.js\"];\n  var css_urls = [];\n  \n\n  var inline_js = [\n    function(Bokeh) {\n      Bokeh.set_log_level(\"info\");\n    },\n    function(Bokeh) {\n    \n    \n    }\n  ];\n\n  function run_inline_js() {\n    \n    if (root.Bokeh !== undefined || force === true) {\n      \n    for (var i = 0; i < inline_js.length; i++) {\n      inline_js[i].call(root, root.Bokeh);\n    }\n    if (force === true) {\n        display_loaded();\n      }} else if (Date.now() < root._bokeh_timeout) {\n      setTimeout(run_inline_js, 100);\n    } else if (!root._bokeh_failed_load) {\n      console.log(\"Bokeh: BokehJS failed to load within specified timeout.\");\n      root._bokeh_failed_load = true;\n    } else if (force !== true) {\n      var cell = $(document.getElementById(\"1171\")).parents('.cell').data().cell;\n      cell.output_area.append_execute_result(NB_LOAD_WARNING)\n    }\n\n  }\n\n  if (root._bokeh_is_loading === 0) {\n    console.debug(\"Bokeh: BokehJS loaded, going straight to plotting\");\n    run_inline_js();\n  } else {\n    load_libs(css_urls, js_urls, function() {\n      console.debug(\"Bokeh: BokehJS plotting callback run at\", now());\n      run_inline_js();\n    });\n  }\n}(window));"
     },
     "metadata": {},
     "output_type": "display_data"
    }
   ],
   "source": [
    "import bokeh\n",
    "import bokeh.io\n",
    "bokeh.io.output_notebook()\n",
    "from bokeh.plotting import  figure, show\n",
    "from bokeh.models import HoverTool   \n",
    "from bokeh.io import export_png\n",
    "class HoverHelper():\n",
    "\n",
    "    def hovertool(self):\n",
    "        tooltips = [\n",
    "            ('pd','@pd'),\n",
    "            ('value','@value2'),\n",
    "        ]\n",
    "        ht = HoverTool(tooltips=tooltips)\n",
    "        return ht\n",
    "    def tools(self, standard_tools='pan,crosshair,wheel_zoom,zoom_in,zoom_out,undo,reset'):\n",
    "        return [self.hovertool(), standard_tools]\n",
    "hover = HoverHelper()    "
   ]
  },
  {
   "cell_type": "code",
   "execution_count": 65,
   "metadata": {},
   "outputs": [
    {
     "data": {
      "text/html": [
       "<div>\n",
       "<style scoped>\n",
       "    .dataframe tbody tr th:only-of-type {\n",
       "        vertical-align: middle;\n",
       "    }\n",
       "\n",
       "    .dataframe tbody tr th {\n",
       "        vertical-align: top;\n",
       "    }\n",
       "\n",
       "    .dataframe thead th {\n",
       "        text-align: right;\n",
       "    }\n",
       "</style>\n",
       "<table border=\"1\" class=\"dataframe\">\n",
       "  <thead>\n",
       "    <tr style=\"text-align: right;\">\n",
       "      <th></th>\n",
       "      <th>feature</th>\n",
       "      <th>value</th>\n",
       "      <th>BaseModel_pd</th>\n",
       "      <th>value2</th>\n",
       "      <th>pd</th>\n",
       "    </tr>\n",
       "  </thead>\n",
       "  <tbody>\n",
       "    <tr>\n",
       "      <th>0</th>\n",
       "      <td>poolind</td>\n",
       "      <td>0</td>\n",
       "      <td>0.010496</td>\n",
       "      <td>0</td>\n",
       "      <td>0.010496</td>\n",
       "    </tr>\n",
       "    <tr>\n",
       "      <th>1</th>\n",
       "      <td>poolind</td>\n",
       "      <td>1</td>\n",
       "      <td>0.010546</td>\n",
       "      <td>1</td>\n",
       "      <td>0.010546</td>\n",
       "    </tr>\n",
       "  </tbody>\n",
       "</table>\n",
       "</div>"
      ],
      "text/plain": [
       "   feature  value  BaseModel_pd value2        pd\n",
       "0  poolind      0      0.010496      0  0.010496\n",
       "1  poolind      1      0.010546      1  0.010546"
      ]
     },
     "execution_count": 65,
     "metadata": {},
     "output_type": "execute_result"
    }
   ],
   "source": [
    "pdf_dataset[pdf_dataset['feature']=='poolind']"
   ]
  },
  {
   "cell_type": "code",
   "execution_count": 56,
   "metadata": {},
   "outputs": [
    {
     "data": {
      "text/html": [
       "\n",
       "\n",
       "\n",
       "\n",
       "\n",
       "\n",
       "  <div class=\"bk-root\" id=\"95f8c470-8c07-441e-88e8-c3e76cdb7116\" data-root-id=\"2847\"></div>\n"
      ]
     },
     "metadata": {},
     "output_type": "display_data"
    },
    {
     "data": {
      "application/javascript": [
       "(function(root) {\n",
       "  function embed_document(root) {\n",
       "    \n",
       "  var docs_json = {\"691d9b52-0200-4a15-8c2e-0b39ec64c559\":{\"roots\":{\"references\":[{\"attributes\":{\"below\":[{\"id\":\"2858\"}],\"center\":[{\"id\":\"2861\"},{\"id\":\"2865\"}],\"left\":[{\"id\":\"2862\"}],\"plot_height\":400,\"plot_width\":900,\"renderers\":[{\"id\":\"2886\"}],\"title\":{\"id\":\"2848\"},\"toolbar\":{\"id\":\"2873\"},\"x_range\":{\"id\":\"2850\"},\"x_scale\":{\"id\":\"2854\"},\"y_range\":{\"id\":\"2852\"},\"y_scale\":{\"id\":\"2856\"}},\"id\":\"2847\",\"subtype\":\"Figure\",\"type\":\"Plot\"},{\"attributes\":{},\"id\":\"2866\",\"type\":\"PanTool\"},{\"attributes\":{},\"id\":\"2893\",\"type\":\"Selection\"},{\"attributes\":{\"data_source\":{\"id\":\"2882\"},\"glyph\":{\"id\":\"2884\"},\"hover_glyph\":null,\"muted_glyph\":null,\"nonselection_glyph\":{\"id\":\"2885\"},\"selection_glyph\":null,\"view\":{\"id\":\"2887\"}},\"id\":\"2886\",\"type\":\"GlyphRenderer\"},{\"attributes\":{},\"id\":\"2894\",\"type\":\"UnionRenderers\"},{\"attributes\":{},\"id\":\"2869\",\"type\":\"ZoomInTool\"},{\"attributes\":{},\"id\":\"2852\",\"type\":\"DataRange1d\"},{\"attributes\":{},\"id\":\"2889\",\"type\":\"BasicTickFormatter\"},{\"attributes\":{\"data\":{\"BaseModel_pd\":{\"__ndarray__\":\"VipH6AV/hT93vZEsUpmFPw==\",\"dtype\":\"float64\",\"order\":\"little\",\"shape\":[2]},\"feature\":[\"poolind\",\"poolind\"],\"index\":[0,1],\"pd\":{\"__ndarray__\":\"VipH6AV/hT93vZEsUpmFPw==\",\"dtype\":\"float64\",\"order\":\"little\",\"shape\":[2]},\"value\":[0,1],\"value2\":[\"0\",\"1\"]},\"selected\":{\"id\":\"2893\"},\"selection_policy\":{\"id\":\"2894\"}},\"id\":\"2882\",\"type\":\"ColumnDataSource\"},{\"attributes\":{\"axis_label\":\"Partial Dependency\",\"formatter\":{\"id\":\"2889\"},\"ticker\":{\"id\":\"2863\"}},\"id\":\"2862\",\"type\":\"LinearAxis\"},{\"attributes\":{\"text\":\"poolind Partial Dependency\"},\"id\":\"2848\",\"type\":\"Title\"},{\"attributes\":{},\"id\":\"2891\",\"type\":\"BasicTickFormatter\"},{\"attributes\":{\"callback\":null,\"tooltips\":[[\"pd\",\"@pd\"],[\"value\",\"@value2\"]]},\"id\":\"2846\",\"type\":\"HoverTool\"},{\"attributes\":{},\"id\":\"2868\",\"type\":\"WheelZoomTool\"},{\"attributes\":{\"axis\":{\"id\":\"2858\"},\"ticker\":null},\"id\":\"2861\",\"type\":\"Grid\"},{\"attributes\":{},\"id\":\"2863\",\"type\":\"BasicTicker\"},{\"attributes\":{\"fill_color\":{\"value\":\"#1f77b4\"},\"line_color\":{\"value\":\"#1f77b4\"},\"x\":{\"field\":\"value2\"},\"y\":{\"field\":\"pd\"}},\"id\":\"2884\",\"type\":\"Circle\"},{\"attributes\":{},\"id\":\"2870\",\"type\":\"ZoomOutTool\"},{\"attributes\":{},\"id\":\"2850\",\"type\":\"DataRange1d\"},{\"attributes\":{},\"id\":\"2859\",\"type\":\"BasicTicker\"},{\"attributes\":{},\"id\":\"2872\",\"type\":\"ResetTool\"},{\"attributes\":{\"axis_label\":\"Values\",\"formatter\":{\"id\":\"2891\"},\"ticker\":{\"id\":\"2859\"}},\"id\":\"2858\",\"type\":\"LinearAxis\"},{\"attributes\":{},\"id\":\"2856\",\"type\":\"LinearScale\"},{\"attributes\":{},\"id\":\"2871\",\"type\":\"UndoTool\"},{\"attributes\":{\"axis\":{\"id\":\"2862\"},\"dimension\":1,\"ticker\":null},\"id\":\"2865\",\"type\":\"Grid\"},{\"attributes\":{\"fill_alpha\":{\"value\":0.1},\"fill_color\":{\"value\":\"#1f77b4\"},\"line_alpha\":{\"value\":0.1},\"line_color\":{\"value\":\"#1f77b4\"},\"x\":{\"field\":\"value2\"},\"y\":{\"field\":\"pd\"}},\"id\":\"2885\",\"type\":\"Circle\"},{\"attributes\":{\"source\":{\"id\":\"2882\"}},\"id\":\"2887\",\"type\":\"CDSView\"},{\"attributes\":{},\"id\":\"2867\",\"type\":\"CrosshairTool\"},{\"attributes\":{},\"id\":\"2854\",\"type\":\"LinearScale\"},{\"attributes\":{\"active_drag\":\"auto\",\"active_inspect\":\"auto\",\"active_multi\":null,\"active_scroll\":\"auto\",\"active_tap\":\"auto\",\"tools\":[{\"id\":\"2846\"},{\"id\":\"2866\"},{\"id\":\"2867\"},{\"id\":\"2868\"},{\"id\":\"2869\"},{\"id\":\"2870\"},{\"id\":\"2871\"},{\"id\":\"2872\"}]},\"id\":\"2873\",\"type\":\"Toolbar\"}],\"root_ids\":[\"2847\"]},\"title\":\"Bokeh Application\",\"version\":\"2.2.3\"}};\n",
       "  var render_items = [{\"docid\":\"691d9b52-0200-4a15-8c2e-0b39ec64c559\",\"root_ids\":[\"2847\"],\"roots\":{\"2847\":\"95f8c470-8c07-441e-88e8-c3e76cdb7116\"}}];\n",
       "  root.Bokeh.embed.embed_items_notebook(docs_json, render_items);\n",
       "\n",
       "  }\n",
       "  if (root.Bokeh !== undefined) {\n",
       "    embed_document(root);\n",
       "  } else {\n",
       "    var attempts = 0;\n",
       "    var timer = setInterval(function(root) {\n",
       "      if (root.Bokeh !== undefined) {\n",
       "        clearInterval(timer);\n",
       "        embed_document(root);\n",
       "      } else {\n",
       "        attempts++;\n",
       "        if (attempts > 100) {\n",
       "          clearInterval(timer);\n",
       "          console.log(\"Bokeh: ERROR: Unable to run BokehJS code because BokehJS library is missing\");\n",
       "        }\n",
       "      }\n",
       "    }, 10, root)\n",
       "  }\n",
       "})(window);"
      ],
      "application/vnd.bokehjs_exec.v0+json": ""
     },
     "metadata": {
      "application/vnd.bokehjs_exec.v0+json": {
       "id": "2847"
      }
     },
     "output_type": "display_data"
    }
   ],
   "source": [
    "f='poolind'\n",
    "p = figure(plot_width=900, \n",
    "               plot_height=400, \n",
    "               tools=hover.tools(),\n",
    "               x_axis_label='Values',\n",
    "               y_axis_label='Partial Dependency',\n",
    "               title='%s Partial Dependency'%f)\n",
    "p.circle(source=pdf_dataset[pdf_dataset['feature']==f], x='value2', y='pd')\n",
    "export_png(p, filename=temp_folder+f+'.png')\n",
    "show(p)"
   ]
  },
  {
   "cell_type": "code",
   "execution_count": 44,
   "metadata": {},
   "outputs": [
    {
     "data": {
      "text/html": [
       "<div>\n",
       "<style scoped>\n",
       "    .dataframe tbody tr th:only-of-type {\n",
       "        vertical-align: middle;\n",
       "    }\n",
       "\n",
       "    .dataframe tbody tr th {\n",
       "        vertical-align: top;\n",
       "    }\n",
       "\n",
       "    .dataframe thead th {\n",
       "        text-align: right;\n",
       "    }\n",
       "</style>\n",
       "<table border=\"1\" class=\"dataframe\">\n",
       "  <thead>\n",
       "    <tr style=\"text-align: right;\">\n",
       "      <th></th>\n",
       "      <th>feature</th>\n",
       "      <th>value</th>\n",
       "      <th>BaseModel_pd</th>\n",
       "      <th>value2</th>\n",
       "      <th>pd</th>\n",
       "    </tr>\n",
       "  </thead>\n",
       "  <tbody>\n",
       "    <tr>\n",
       "      <th>2</th>\n",
       "      <td>usagetype_encd</td>\n",
       "      <td>1</td>\n",
       "      <td>0.010181</td>\n",
       "      <td>UNOCCUPIED</td>\n",
       "      <td>0.010181</td>\n",
       "    </tr>\n",
       "    <tr>\n",
       "      <th>3</th>\n",
       "      <td>usagetype_encd</td>\n",
       "      <td>2</td>\n",
       "      <td>0.010181</td>\n",
       "      <td>SECONDARY</td>\n",
       "      <td>0.010181</td>\n",
       "    </tr>\n",
       "    <tr>\n",
       "      <th>4</th>\n",
       "      <td>usagetype_encd</td>\n",
       "      <td>3</td>\n",
       "      <td>0.010181</td>\n",
       "      <td>SEASONAL</td>\n",
       "      <td>0.010181</td>\n",
       "    </tr>\n",
       "    <tr>\n",
       "      <th>5</th>\n",
       "      <td>usagetype_encd</td>\n",
       "      <td>4</td>\n",
       "      <td>0.010165</td>\n",
       "      <td>VACANT</td>\n",
       "      <td>0.010165</td>\n",
       "    </tr>\n",
       "    <tr>\n",
       "      <th>6</th>\n",
       "      <td>usagetype_encd</td>\n",
       "      <td>5</td>\n",
       "      <td>0.010165</td>\n",
       "      <td>COC</td>\n",
       "      <td>0.010165</td>\n",
       "    </tr>\n",
       "    <tr>\n",
       "      <th>7</th>\n",
       "      <td>usagetype_encd</td>\n",
       "      <td>6</td>\n",
       "      <td>0.010165</td>\n",
       "      <td>RENTAL</td>\n",
       "      <td>0.010165</td>\n",
       "    </tr>\n",
       "    <tr>\n",
       "      <th>8</th>\n",
       "      <td>usagetype_encd</td>\n",
       "      <td>7</td>\n",
       "      <td>0.010728</td>\n",
       "      <td>PRIMARY</td>\n",
       "      <td>0.010728</td>\n",
       "    </tr>\n",
       "  </tbody>\n",
       "</table>\n",
       "</div>"
      ],
      "text/plain": [
       "          feature  value  BaseModel_pd      value2        pd\n",
       "2  usagetype_encd      1      0.010181  UNOCCUPIED  0.010181\n",
       "3  usagetype_encd      2      0.010181   SECONDARY  0.010181\n",
       "4  usagetype_encd      3      0.010181    SEASONAL  0.010181\n",
       "5  usagetype_encd      4      0.010165      VACANT  0.010165\n",
       "6  usagetype_encd      5      0.010165         COC  0.010165\n",
       "7  usagetype_encd      6      0.010165      RENTAL  0.010165\n",
       "8  usagetype_encd      7      0.010728     PRIMARY  0.010728"
      ]
     },
     "execution_count": 44,
     "metadata": {},
     "output_type": "execute_result"
    }
   ],
   "source": [
    "pdf_dataset[pdf_dataset['feature']=='usagetype_encd']"
   ]
  },
  {
   "cell_type": "code",
   "execution_count": 57,
   "metadata": {},
   "outputs": [
    {
     "data": {
      "text/html": [
       "\n",
       "\n",
       "\n",
       "\n",
       "\n",
       "\n",
       "  <div class=\"bk-root\" id=\"d50fb4e5-ed28-4388-b2c4-849ec60456cb\" data-root-id=\"3100\"></div>\n"
      ]
     },
     "metadata": {},
     "output_type": "display_data"
    },
    {
     "data": {
      "application/javascript": [
       "(function(root) {\n",
       "  function embed_document(root) {\n",
       "    \n",
       "  var docs_json = {\"884e8ac1-fc30-4f5f-b64d-f9f7b6419082\":{\"roots\":{\"references\":[{\"attributes\":{\"below\":[{\"id\":\"3111\"}],\"center\":[{\"id\":\"3114\"},{\"id\":\"3118\"}],\"left\":[{\"id\":\"3115\"}],\"plot_height\":400,\"plot_width\":900,\"renderers\":[{\"id\":\"3139\"}],\"title\":{\"id\":\"3101\"},\"toolbar\":{\"id\":\"3126\"},\"x_range\":{\"id\":\"3103\"},\"x_scale\":{\"id\":\"3107\"},\"y_range\":{\"id\":\"3105\"},\"y_scale\":{\"id\":\"3109\"}},\"id\":\"3100\",\"subtype\":\"Figure\",\"type\":\"Plot\"},{\"attributes\":{\"fill_alpha\":{\"value\":0.1},\"fill_color\":{\"value\":\"#1f77b4\"},\"line_alpha\":{\"value\":0.1},\"line_color\":{\"value\":\"#1f77b4\"},\"x\":{\"field\":\"value\"},\"y\":{\"field\":\"pd\"}},\"id\":\"3138\",\"type\":\"Circle\"},{\"attributes\":{},\"id\":\"3105\",\"type\":\"DataRange1d\"},{\"attributes\":{\"data\":{\"BaseModel_pd\":{\"__ndarray__\":\"SQUxb/7ZhD9JBTFv/tmEP0kFMW/+2YQ/wS518FLRhD/BLnXwUtGEP8EudfBS0YQ/0Rue5Fn4hT8=\",\"dtype\":\"float64\",\"order\":\"little\",\"shape\":[7]},\"feature\":[\"usagetype_encd\",\"usagetype_encd\",\"usagetype_encd\",\"usagetype_encd\",\"usagetype_encd\",\"usagetype_encd\",\"usagetype_encd\"],\"index\":[2,3,4,5,6,7,8],\"pd\":{\"__ndarray__\":\"SQUxb/7ZhD9JBTFv/tmEP0kFMW/+2YQ/wS518FLRhD/BLnXwUtGEP8EudfBS0YQ/0Rue5Fn4hT8=\",\"dtype\":\"float64\",\"order\":\"little\",\"shape\":[7]},\"value\":[1,2,3,4,5,6,7],\"value2\":[\"UNOCCUPIED\",\"SECONDARY\",\"SEASONAL\",\"VACANT\",\"COC\",\"RENTAL\",\"PRIMARY\"]},\"selected\":{\"id\":\"3146\"},\"selection_policy\":{\"id\":\"3147\"}},\"id\":\"3135\",\"type\":\"ColumnDataSource\"},{\"attributes\":{},\"id\":\"3142\",\"type\":\"BasicTickFormatter\"},{\"attributes\":{},\"id\":\"3144\",\"type\":\"BasicTickFormatter\"},{\"attributes\":{\"source\":{\"id\":\"3135\"}},\"id\":\"3140\",\"type\":\"CDSView\"},{\"attributes\":{\"data_source\":{\"id\":\"3135\"},\"glyph\":{\"id\":\"3137\"},\"hover_glyph\":null,\"muted_glyph\":null,\"nonselection_glyph\":{\"id\":\"3138\"},\"selection_glyph\":null,\"view\":{\"id\":\"3140\"}},\"id\":\"3139\",\"type\":\"GlyphRenderer\"},{\"attributes\":{\"fill_color\":{\"value\":\"#1f77b4\"},\"line_color\":{\"value\":\"#1f77b4\"},\"x\":{\"field\":\"value\"},\"y\":{\"field\":\"pd\"}},\"id\":\"3137\",\"type\":\"Circle\"},{\"attributes\":{\"callback\":null,\"tooltips\":[[\"pd\",\"@pd\"],[\"value\",\"@value2\"]]},\"id\":\"3099\",\"type\":\"HoverTool\"},{\"attributes\":{\"axis\":{\"id\":\"3115\"},\"dimension\":1,\"ticker\":null},\"id\":\"3118\",\"type\":\"Grid\"},{\"attributes\":{},\"id\":\"3146\",\"type\":\"Selection\"},{\"attributes\":{},\"id\":\"3147\",\"type\":\"UnionRenderers\"},{\"attributes\":{\"text\":\"usagetype_encd Partial Dependency\"},\"id\":\"3101\",\"type\":\"Title\"},{\"attributes\":{},\"id\":\"3103\",\"type\":\"DataRange1d\"},{\"attributes\":{\"axis_label\":\"Values\",\"formatter\":{\"id\":\"3144\"},\"ticker\":{\"id\":\"3112\"}},\"id\":\"3111\",\"type\":\"LinearAxis\"},{\"attributes\":{},\"id\":\"3109\",\"type\":\"LinearScale\"},{\"attributes\":{},\"id\":\"3112\",\"type\":\"BasicTicker\"},{\"attributes\":{},\"id\":\"3124\",\"type\":\"UndoTool\"},{\"attributes\":{},\"id\":\"3107\",\"type\":\"LinearScale\"},{\"attributes\":{\"axis\":{\"id\":\"3111\"},\"ticker\":null},\"id\":\"3114\",\"type\":\"Grid\"},{\"attributes\":{},\"id\":\"3120\",\"type\":\"CrosshairTool\"},{\"attributes\":{\"axis_label\":\"Partial Dependency\",\"formatter\":{\"id\":\"3142\"},\"ticker\":{\"id\":\"3116\"}},\"id\":\"3115\",\"type\":\"LinearAxis\"},{\"attributes\":{},\"id\":\"3116\",\"type\":\"BasicTicker\"},{\"attributes\":{},\"id\":\"3125\",\"type\":\"ResetTool\"},{\"attributes\":{},\"id\":\"3122\",\"type\":\"ZoomInTool\"},{\"attributes\":{},\"id\":\"3119\",\"type\":\"PanTool\"},{\"attributes\":{},\"id\":\"3121\",\"type\":\"WheelZoomTool\"},{\"attributes\":{\"active_drag\":\"auto\",\"active_inspect\":\"auto\",\"active_multi\":null,\"active_scroll\":\"auto\",\"active_tap\":\"auto\",\"tools\":[{\"id\":\"3099\"},{\"id\":\"3119\"},{\"id\":\"3120\"},{\"id\":\"3121\"},{\"id\":\"3122\"},{\"id\":\"3123\"},{\"id\":\"3124\"},{\"id\":\"3125\"}]},\"id\":\"3126\",\"type\":\"Toolbar\"},{\"attributes\":{},\"id\":\"3123\",\"type\":\"ZoomOutTool\"}],\"root_ids\":[\"3100\"]},\"title\":\"Bokeh Application\",\"version\":\"2.2.3\"}};\n",
       "  var render_items = [{\"docid\":\"884e8ac1-fc30-4f5f-b64d-f9f7b6419082\",\"root_ids\":[\"3100\"],\"roots\":{\"3100\":\"d50fb4e5-ed28-4388-b2c4-849ec60456cb\"}}];\n",
       "  root.Bokeh.embed.embed_items_notebook(docs_json, render_items);\n",
       "\n",
       "  }\n",
       "  if (root.Bokeh !== undefined) {\n",
       "    embed_document(root);\n",
       "  } else {\n",
       "    var attempts = 0;\n",
       "    var timer = setInterval(function(root) {\n",
       "      if (root.Bokeh !== undefined) {\n",
       "        clearInterval(timer);\n",
       "        embed_document(root);\n",
       "      } else {\n",
       "        attempts++;\n",
       "        if (attempts > 100) {\n",
       "          clearInterval(timer);\n",
       "          console.log(\"Bokeh: ERROR: Unable to run BokehJS code because BokehJS library is missing\");\n",
       "        }\n",
       "      }\n",
       "    }, 10, root)\n",
       "  }\n",
       "})(window);"
      ],
      "application/vnd.bokehjs_exec.v0+json": ""
     },
     "metadata": {
      "application/vnd.bokehjs_exec.v0+json": {
       "id": "3100"
      }
     },
     "output_type": "display_data"
    }
   ],
   "source": [
    "f='usagetype_encd'\n",
    "p = figure(plot_width=900, \n",
    "               plot_height=400, \n",
    "               tools=hover.tools(),\n",
    "               x_axis_label='Values',\n",
    "               y_axis_label='Partial Dependency',\n",
    "               title='%s Partial Dependency'%f)\n",
    "p.circle(source=pdf_dataset[pdf_dataset['feature']==f], x='value', y='pd')\n",
    "export_png(p, filename=temp_folder+f+'.png')\n",
    "show(p)"
   ]
  },
  {
   "cell_type": "code",
   "execution_count": 47,
   "metadata": {},
   "outputs": [
    {
     "data": {
      "text/html": [
       "<div>\n",
       "<style scoped>\n",
       "    .dataframe tbody tr th:only-of-type {\n",
       "        vertical-align: middle;\n",
       "    }\n",
       "\n",
       "    .dataframe tbody tr th {\n",
       "        vertical-align: top;\n",
       "    }\n",
       "\n",
       "    .dataframe thead th {\n",
       "        text-align: right;\n",
       "    }\n",
       "</style>\n",
       "<table border=\"1\" class=\"dataframe\">\n",
       "  <thead>\n",
       "    <tr style=\"text-align: right;\">\n",
       "      <th></th>\n",
       "      <th>feature</th>\n",
       "      <th>value</th>\n",
       "      <th>BaseModel_pd</th>\n",
       "      <th>value2</th>\n",
       "      <th>pd</th>\n",
       "    </tr>\n",
       "  </thead>\n",
       "  <tbody>\n",
       "    <tr>\n",
       "      <th>9</th>\n",
       "      <td>landlordind</td>\n",
       "      <td>0</td>\n",
       "      <td>0.0105</td>\n",
       "      <td>0</td>\n",
       "      <td>0.0105</td>\n",
       "    </tr>\n",
       "    <tr>\n",
       "      <th>10</th>\n",
       "      <td>landlordind</td>\n",
       "      <td>1</td>\n",
       "      <td>0.0105</td>\n",
       "      <td>1</td>\n",
       "      <td>0.0105</td>\n",
       "    </tr>\n",
       "  </tbody>\n",
       "</table>\n",
       "</div>"
      ],
      "text/plain": [
       "        feature  value  BaseModel_pd value2      pd\n",
       "9   landlordind      0        0.0105      0  0.0105\n",
       "10  landlordind      1        0.0105      1  0.0105"
      ]
     },
     "execution_count": 47,
     "metadata": {},
     "output_type": "execute_result"
    }
   ],
   "source": [
    "pdf_dataset[pdf_dataset['feature']=='landlordind']"
   ]
  },
  {
   "cell_type": "code",
   "execution_count": 58,
   "metadata": {},
   "outputs": [
    {
     "data": {
      "text/html": [
       "\n",
       "\n",
       "\n",
       "\n",
       "\n",
       "\n",
       "  <div class=\"bk-root\" id=\"ee41665f-184e-4ede-bc96-86fd04fa4d64\" data-root-id=\"3360\"></div>\n"
      ]
     },
     "metadata": {},
     "output_type": "display_data"
    },
    {
     "data": {
      "application/javascript": [
       "(function(root) {\n",
       "  function embed_document(root) {\n",
       "    \n",
       "  var docs_json = {\"a027a6cc-aa49-45d7-9a20-cd3829729c61\":{\"roots\":{\"references\":[{\"attributes\":{\"below\":[{\"id\":\"3371\"}],\"center\":[{\"id\":\"3374\"},{\"id\":\"3378\"}],\"left\":[{\"id\":\"3375\"}],\"plot_height\":400,\"plot_width\":900,\"renderers\":[{\"id\":\"3399\"}],\"title\":{\"id\":\"3361\"},\"toolbar\":{\"id\":\"3386\"},\"x_range\":{\"id\":\"3363\"},\"x_scale\":{\"id\":\"3367\"},\"y_range\":{\"id\":\"3365\"},\"y_scale\":{\"id\":\"3369\"}},\"id\":\"3360\",\"subtype\":\"Figure\",\"type\":\"Plot\"},{\"attributes\":{},\"id\":\"3402\",\"type\":\"BasicTickFormatter\"},{\"attributes\":{},\"id\":\"3380\",\"type\":\"CrosshairTool\"},{\"attributes\":{\"axis\":{\"id\":\"3375\"},\"dimension\":1,\"ticker\":null},\"id\":\"3378\",\"type\":\"Grid\"},{\"attributes\":{},\"id\":\"3372\",\"type\":\"BasicTicker\"},{\"attributes\":{\"data\":{\"BaseModel_pd\":{\"__ndarray__\":\"qZTtQ/yAhT+plO1D/ICFPw==\",\"dtype\":\"float64\",\"order\":\"little\",\"shape\":[2]},\"feature\":[\"landlordind\",\"landlordind\"],\"index\":[9,10],\"pd\":{\"__ndarray__\":\"qZTtQ/yAhT+plO1D/ICFPw==\",\"dtype\":\"float64\",\"order\":\"little\",\"shape\":[2]},\"value\":[0,1],\"value2\":[\"0\",\"1\"]},\"selected\":{\"id\":\"3406\"},\"selection_policy\":{\"id\":\"3407\"}},\"id\":\"3395\",\"type\":\"ColumnDataSource\"},{\"attributes\":{\"axis\":{\"id\":\"3371\"},\"ticker\":null},\"id\":\"3374\",\"type\":\"Grid\"},{\"attributes\":{\"axis_label\":\"Values\",\"formatter\":{\"id\":\"3404\"},\"ticker\":{\"id\":\"3372\"}},\"id\":\"3371\",\"type\":\"LinearAxis\"},{\"attributes\":{},\"id\":\"3376\",\"type\":\"BasicTicker\"},{\"attributes\":{},\"id\":\"3383\",\"type\":\"ZoomOutTool\"},{\"attributes\":{\"axis_label\":\"Partial Dependency\",\"formatter\":{\"id\":\"3402\"},\"ticker\":{\"id\":\"3376\"}},\"id\":\"3375\",\"type\":\"LinearAxis\"},{\"attributes\":{\"source\":{\"id\":\"3395\"}},\"id\":\"3400\",\"type\":\"CDSView\"},{\"attributes\":{},\"id\":\"3379\",\"type\":\"PanTool\"},{\"attributes\":{\"fill_color\":{\"value\":\"#1f77b4\"},\"line_color\":{\"value\":\"#1f77b4\"},\"x\":{\"field\":\"value\"},\"y\":{\"field\":\"pd\"}},\"id\":\"3397\",\"type\":\"Circle\"},{\"attributes\":{},\"id\":\"3381\",\"type\":\"WheelZoomTool\"},{\"attributes\":{},\"id\":\"3404\",\"type\":\"BasicTickFormatter\"},{\"attributes\":{},\"id\":\"3363\",\"type\":\"DataRange1d\"},{\"attributes\":{},\"id\":\"3367\",\"type\":\"LinearScale\"},{\"attributes\":{\"data_source\":{\"id\":\"3395\"},\"glyph\":{\"id\":\"3397\"},\"hover_glyph\":null,\"muted_glyph\":null,\"nonselection_glyph\":{\"id\":\"3398\"},\"selection_glyph\":null,\"view\":{\"id\":\"3400\"}},\"id\":\"3399\",\"type\":\"GlyphRenderer\"},{\"attributes\":{\"text\":\"landlordind Partial Dependency\"},\"id\":\"3361\",\"type\":\"Title\"},{\"attributes\":{\"fill_alpha\":{\"value\":0.1},\"fill_color\":{\"value\":\"#1f77b4\"},\"line_alpha\":{\"value\":0.1},\"line_color\":{\"value\":\"#1f77b4\"},\"x\":{\"field\":\"value\"},\"y\":{\"field\":\"pd\"}},\"id\":\"3398\",\"type\":\"Circle\"},{\"attributes\":{},\"id\":\"3406\",\"type\":\"Selection\"},{\"attributes\":{},\"id\":\"3384\",\"type\":\"UndoTool\"},{\"attributes\":{},\"id\":\"3407\",\"type\":\"UnionRenderers\"},{\"attributes\":{},\"id\":\"3385\",\"type\":\"ResetTool\"},{\"attributes\":{},\"id\":\"3369\",\"type\":\"LinearScale\"},{\"attributes\":{\"callback\":null,\"tooltips\":[[\"pd\",\"@pd\"],[\"value\",\"@value2\"]]},\"id\":\"3359\",\"type\":\"HoverTool\"},{\"attributes\":{\"active_drag\":\"auto\",\"active_inspect\":\"auto\",\"active_multi\":null,\"active_scroll\":\"auto\",\"active_tap\":\"auto\",\"tools\":[{\"id\":\"3359\"},{\"id\":\"3379\"},{\"id\":\"3380\"},{\"id\":\"3381\"},{\"id\":\"3382\"},{\"id\":\"3383\"},{\"id\":\"3384\"},{\"id\":\"3385\"}]},\"id\":\"3386\",\"type\":\"Toolbar\"},{\"attributes\":{},\"id\":\"3382\",\"type\":\"ZoomInTool\"},{\"attributes\":{},\"id\":\"3365\",\"type\":\"DataRange1d\"}],\"root_ids\":[\"3360\"]},\"title\":\"Bokeh Application\",\"version\":\"2.2.3\"}};\n",
       "  var render_items = [{\"docid\":\"a027a6cc-aa49-45d7-9a20-cd3829729c61\",\"root_ids\":[\"3360\"],\"roots\":{\"3360\":\"ee41665f-184e-4ede-bc96-86fd04fa4d64\"}}];\n",
       "  root.Bokeh.embed.embed_items_notebook(docs_json, render_items);\n",
       "\n",
       "  }\n",
       "  if (root.Bokeh !== undefined) {\n",
       "    embed_document(root);\n",
       "  } else {\n",
       "    var attempts = 0;\n",
       "    var timer = setInterval(function(root) {\n",
       "      if (root.Bokeh !== undefined) {\n",
       "        clearInterval(timer);\n",
       "        embed_document(root);\n",
       "      } else {\n",
       "        attempts++;\n",
       "        if (attempts > 100) {\n",
       "          clearInterval(timer);\n",
       "          console.log(\"Bokeh: ERROR: Unable to run BokehJS code because BokehJS library is missing\");\n",
       "        }\n",
       "      }\n",
       "    }, 10, root)\n",
       "  }\n",
       "})(window);"
      ],
      "application/vnd.bokehjs_exec.v0+json": ""
     },
     "metadata": {
      "application/vnd.bokehjs_exec.v0+json": {
       "id": "3360"
      }
     },
     "output_type": "display_data"
    }
   ],
   "source": [
    "f='landlordind'\n",
    "p = figure(plot_width=900, \n",
    "               plot_height=400, \n",
    "               tools=hover.tools(),\n",
    "               x_axis_label='Values',\n",
    "               y_axis_label='Partial Dependency',\n",
    "               title='%s Partial Dependency'%f)\n",
    "p.circle(source=pdf_dataset[pdf_dataset['feature']==f], x='value', y='pd')\n",
    "export_png(p, filename=temp_folder+f+'.png')\n",
    "show(p)"
   ]
  },
  {
   "cell_type": "code",
   "execution_count": 49,
   "metadata": {},
   "outputs": [
    {
     "data": {
      "text/html": [
       "<div>\n",
       "<style scoped>\n",
       "    .dataframe tbody tr th:only-of-type {\n",
       "        vertical-align: middle;\n",
       "    }\n",
       "\n",
       "    .dataframe tbody tr th {\n",
       "        vertical-align: top;\n",
       "    }\n",
       "\n",
       "    .dataframe thead th {\n",
       "        text-align: right;\n",
       "    }\n",
       "</style>\n",
       "<table border=\"1\" class=\"dataframe\">\n",
       "  <thead>\n",
       "    <tr style=\"text-align: right;\">\n",
       "      <th></th>\n",
       "      <th>feature</th>\n",
       "      <th>value</th>\n",
       "      <th>BaseModel_pd</th>\n",
       "      <th>value2</th>\n",
       "      <th>pd</th>\n",
       "    </tr>\n",
       "  </thead>\n",
       "  <tbody>\n",
       "    <tr>\n",
       "      <th>11</th>\n",
       "      <td>replacementcostdwellingind</td>\n",
       "      <td>0</td>\n",
       "      <td>0.0105</td>\n",
       "      <td>0</td>\n",
       "      <td>0.0105</td>\n",
       "    </tr>\n",
       "    <tr>\n",
       "      <th>12</th>\n",
       "      <td>replacementcostdwellingind</td>\n",
       "      <td>1</td>\n",
       "      <td>0.0105</td>\n",
       "      <td>1</td>\n",
       "      <td>0.0105</td>\n",
       "    </tr>\n",
       "  </tbody>\n",
       "</table>\n",
       "</div>"
      ],
      "text/plain": [
       "                       feature  value  BaseModel_pd value2      pd\n",
       "11  replacementcostdwellingind      0        0.0105      0  0.0105\n",
       "12  replacementcostdwellingind      1        0.0105      1  0.0105"
      ]
     },
     "execution_count": 49,
     "metadata": {},
     "output_type": "execute_result"
    }
   ],
   "source": [
    "pdf_dataset[pdf_dataset['feature']=='replacementcostdwellingind']"
   ]
  },
  {
   "cell_type": "code",
   "execution_count": 61,
   "metadata": {},
   "outputs": [
    {
     "data": {
      "text/html": [
       "\n",
       "\n",
       "\n",
       "\n",
       "\n",
       "\n",
       "  <div class=\"bk-root\" id=\"d40b0ad4-42c4-45a9-9df4-f20745906288\" data-root-id=\"3901\"></div>\n"
      ]
     },
     "metadata": {},
     "output_type": "display_data"
    },
    {
     "data": {
      "application/javascript": [
       "(function(root) {\n",
       "  function embed_document(root) {\n",
       "    \n",
       "  var docs_json = {\"171f1240-2358-4788-9861-7cf124b3f469\":{\"roots\":{\"references\":[{\"attributes\":{\"below\":[{\"id\":\"3912\"}],\"center\":[{\"id\":\"3915\"},{\"id\":\"3919\"}],\"left\":[{\"id\":\"3916\"}],\"plot_height\":400,\"plot_width\":900,\"renderers\":[{\"id\":\"3940\"}],\"title\":{\"id\":\"3902\"},\"toolbar\":{\"id\":\"3927\"},\"x_range\":{\"id\":\"3904\"},\"x_scale\":{\"id\":\"3908\"},\"y_range\":{\"id\":\"3906\"},\"y_scale\":{\"id\":\"3910\"}},\"id\":\"3901\",\"subtype\":\"Figure\",\"type\":\"Plot\"},{\"attributes\":{\"text\":\"replacementcostdwellingind Partial Dependency\"},\"id\":\"3902\",\"type\":\"Title\"},{\"attributes\":{\"axis_label\":\"Values\",\"formatter\":{\"id\":\"3945\"},\"ticker\":{\"id\":\"3913\"}},\"id\":\"3912\",\"type\":\"LinearAxis\"},{\"attributes\":{},\"id\":\"3947\",\"type\":\"Selection\"},{\"attributes\":{},\"id\":\"3908\",\"type\":\"LinearScale\"},{\"attributes\":{},\"id\":\"3948\",\"type\":\"UnionRenderers\"},{\"attributes\":{},\"id\":\"3913\",\"type\":\"BasicTicker\"},{\"attributes\":{\"axis\":{\"id\":\"3916\"},\"dimension\":1,\"ticker\":null},\"id\":\"3919\",\"type\":\"Grid\"},{\"attributes\":{},\"id\":\"3923\",\"type\":\"ZoomInTool\"},{\"attributes\":{},\"id\":\"3920\",\"type\":\"PanTool\"},{\"attributes\":{\"data\":{\"BaseModel_pd\":{\"__ndarray__\":\"qZTtQ/yAhT+plO1D/ICFPw==\",\"dtype\":\"float64\",\"order\":\"little\",\"shape\":[2]},\"feature\":[\"replacementcostdwellingind\",\"replacementcostdwellingind\"],\"index\":[11,12],\"pd\":{\"__ndarray__\":\"qZTtQ/yAhT+plO1D/ICFPw==\",\"dtype\":\"float64\",\"order\":\"little\",\"shape\":[2]},\"value\":[0,1],\"value2\":[\"0\",\"1\"]},\"selected\":{\"id\":\"3947\"},\"selection_policy\":{\"id\":\"3948\"}},\"id\":\"3936\",\"type\":\"ColumnDataSource\"},{\"attributes\":{},\"id\":\"3921\",\"type\":\"CrosshairTool\"},{\"attributes\":{},\"id\":\"3945\",\"type\":\"BasicTickFormatter\"},{\"attributes\":{},\"id\":\"3926\",\"type\":\"ResetTool\"},{\"attributes\":{\"axis_label\":\"Partial Dependency\",\"formatter\":{\"id\":\"3943\"},\"ticker\":{\"id\":\"3917\"}},\"id\":\"3916\",\"type\":\"LinearAxis\"},{\"attributes\":{},\"id\":\"3943\",\"type\":\"BasicTickFormatter\"},{\"attributes\":{},\"id\":\"3910\",\"type\":\"LinearScale\"},{\"attributes\":{},\"id\":\"3924\",\"type\":\"ZoomOutTool\"},{\"attributes\":{\"data_source\":{\"id\":\"3936\"},\"glyph\":{\"id\":\"3938\"},\"hover_glyph\":null,\"muted_glyph\":null,\"nonselection_glyph\":{\"id\":\"3939\"},\"selection_glyph\":null,\"view\":{\"id\":\"3941\"}},\"id\":\"3940\",\"type\":\"GlyphRenderer\"},{\"attributes\":{\"fill_color\":{\"value\":\"#1f77b4\"},\"line_color\":{\"value\":\"#1f77b4\"},\"x\":{\"field\":\"value\"},\"y\":{\"field\":\"pd\"}},\"id\":\"3938\",\"type\":\"Circle\"},{\"attributes\":{},\"id\":\"3925\",\"type\":\"UndoTool\"},{\"attributes\":{},\"id\":\"3922\",\"type\":\"WheelZoomTool\"},{\"attributes\":{\"fill_alpha\":{\"value\":0.1},\"fill_color\":{\"value\":\"#1f77b4\"},\"line_alpha\":{\"value\":0.1},\"line_color\":{\"value\":\"#1f77b4\"},\"x\":{\"field\":\"value\"},\"y\":{\"field\":\"pd\"}},\"id\":\"3939\",\"type\":\"Circle\"},{\"attributes\":{\"source\":{\"id\":\"3936\"}},\"id\":\"3941\",\"type\":\"CDSView\"},{\"attributes\":{\"callback\":null,\"tooltips\":[[\"pd\",\"@pd\"],[\"value\",\"@value2\"]]},\"id\":\"3900\",\"type\":\"HoverTool\"},{\"attributes\":{},\"id\":\"3904\",\"type\":\"DataRange1d\"},{\"attributes\":{},\"id\":\"3917\",\"type\":\"BasicTicker\"},{\"attributes\":{},\"id\":\"3906\",\"type\":\"DataRange1d\"},{\"attributes\":{\"active_drag\":\"auto\",\"active_inspect\":\"auto\",\"active_multi\":null,\"active_scroll\":\"auto\",\"active_tap\":\"auto\",\"tools\":[{\"id\":\"3900\"},{\"id\":\"3920\"},{\"id\":\"3921\"},{\"id\":\"3922\"},{\"id\":\"3923\"},{\"id\":\"3924\"},{\"id\":\"3925\"},{\"id\":\"3926\"}]},\"id\":\"3927\",\"type\":\"Toolbar\"},{\"attributes\":{\"axis\":{\"id\":\"3912\"},\"ticker\":null},\"id\":\"3915\",\"type\":\"Grid\"}],\"root_ids\":[\"3901\"]},\"title\":\"Bokeh Application\",\"version\":\"2.2.3\"}};\n",
       "  var render_items = [{\"docid\":\"171f1240-2358-4788-9861-7cf124b3f469\",\"root_ids\":[\"3901\"],\"roots\":{\"3901\":\"d40b0ad4-42c4-45a9-9df4-f20745906288\"}}];\n",
       "  root.Bokeh.embed.embed_items_notebook(docs_json, render_items);\n",
       "\n",
       "  }\n",
       "  if (root.Bokeh !== undefined) {\n",
       "    embed_document(root);\n",
       "  } else {\n",
       "    var attempts = 0;\n",
       "    var timer = setInterval(function(root) {\n",
       "      if (root.Bokeh !== undefined) {\n",
       "        clearInterval(timer);\n",
       "        embed_document(root);\n",
       "      } else {\n",
       "        attempts++;\n",
       "        if (attempts > 100) {\n",
       "          clearInterval(timer);\n",
       "          console.log(\"Bokeh: ERROR: Unable to run BokehJS code because BokehJS library is missing\");\n",
       "        }\n",
       "      }\n",
       "    }, 10, root)\n",
       "  }\n",
       "})(window);"
      ],
      "application/vnd.bokehjs_exec.v0+json": ""
     },
     "metadata": {
      "application/vnd.bokehjs_exec.v0+json": {
       "id": "3901"
      }
     },
     "output_type": "display_data"
    }
   ],
   "source": [
    "f='replacementcostdwellingind'\n",
    "p = figure(plot_width=900, \n",
    "               plot_height=400, \n",
    "               tools=hover.tools(),\n",
    "               x_axis_label='Values',\n",
    "               y_axis_label='Partial Dependency',\n",
    "               title='%s Partial Dependency'%f)\n",
    "p.circle(source=pdf_dataset[pdf_dataset['feature']==f], x='value', y='pd')\n",
    "export_png(p, filename=temp_folder+f+'.png')\n",
    "show(p)"
   ]
  },
  {
   "cell_type": "code",
   "execution_count": 50,
   "metadata": {},
   "outputs": [
    {
     "data": {
      "text/html": [
       "<div>\n",
       "<style scoped>\n",
       "    .dataframe tbody tr th:only-of-type {\n",
       "        vertical-align: middle;\n",
       "    }\n",
       "\n",
       "    .dataframe tbody tr th {\n",
       "        vertical-align: top;\n",
       "    }\n",
       "\n",
       "    .dataframe thead th {\n",
       "        text-align: right;\n",
       "    }\n",
       "</style>\n",
       "<table border=\"1\" class=\"dataframe\">\n",
       "  <thead>\n",
       "    <tr style=\"text-align: right;\">\n",
       "      <th></th>\n",
       "      <th>feature</th>\n",
       "      <th>value</th>\n",
       "      <th>BaseModel_pd</th>\n",
       "      <th>value2</th>\n",
       "      <th>pd</th>\n",
       "    </tr>\n",
       "  </thead>\n",
       "  <tbody>\n",
       "    <tr>\n",
       "      <th>13</th>\n",
       "      <td>pipe_froze_3_blk</td>\n",
       "      <td>0</td>\n",
       "      <td>0.010638</td>\n",
       "      <td>0</td>\n",
       "      <td>0.010638</td>\n",
       "    </tr>\n",
       "    <tr>\n",
       "      <th>14</th>\n",
       "      <td>pipe_froze_3_blk</td>\n",
       "      <td>1</td>\n",
       "      <td>0.010486</td>\n",
       "      <td>1</td>\n",
       "      <td>0.010486</td>\n",
       "    </tr>\n",
       "    <tr>\n",
       "      <th>15</th>\n",
       "      <td>pipe_froze_3_blk</td>\n",
       "      <td>2</td>\n",
       "      <td>0.010468</td>\n",
       "      <td>2</td>\n",
       "      <td>0.010468</td>\n",
       "    </tr>\n",
       "    <tr>\n",
       "      <th>16</th>\n",
       "      <td>pipe_froze_3_blk</td>\n",
       "      <td>3</td>\n",
       "      <td>0.010468</td>\n",
       "      <td>3</td>\n",
       "      <td>0.010468</td>\n",
       "    </tr>\n",
       "    <tr>\n",
       "      <th>17</th>\n",
       "      <td>pipe_froze_3_blk</td>\n",
       "      <td>4</td>\n",
       "      <td>0.010468</td>\n",
       "      <td>4</td>\n",
       "      <td>0.010468</td>\n",
       "    </tr>\n",
       "    <tr>\n",
       "      <th>18</th>\n",
       "      <td>pipe_froze_3_blk</td>\n",
       "      <td>5</td>\n",
       "      <td>0.010468</td>\n",
       "      <td>5</td>\n",
       "      <td>0.010468</td>\n",
       "    </tr>\n",
       "  </tbody>\n",
       "</table>\n",
       "</div>"
      ],
      "text/plain": [
       "             feature  value  BaseModel_pd value2        pd\n",
       "13  pipe_froze_3_blk      0      0.010638      0  0.010638\n",
       "14  pipe_froze_3_blk      1      0.010486      1  0.010486\n",
       "15  pipe_froze_3_blk      2      0.010468      2  0.010468\n",
       "16  pipe_froze_3_blk      3      0.010468      3  0.010468\n",
       "17  pipe_froze_3_blk      4      0.010468      4  0.010468\n",
       "18  pipe_froze_3_blk      5      0.010468      5  0.010468"
      ]
     },
     "execution_count": 50,
     "metadata": {},
     "output_type": "execute_result"
    }
   ],
   "source": [
    "pdf_dataset[pdf_dataset['feature']=='pipe_froze_3_blk']"
   ]
  },
  {
   "cell_type": "code",
   "execution_count": 62,
   "metadata": {},
   "outputs": [
    {
     "data": {
      "text/html": [
       "\n",
       "\n",
       "\n",
       "\n",
       "\n",
       "\n",
       "  <div class=\"bk-root\" id=\"0ddce336-6f0b-45ed-913d-9c60d944fae6\" data-root-id=\"4182\"></div>\n"
      ]
     },
     "metadata": {},
     "output_type": "display_data"
    },
    {
     "data": {
      "application/javascript": [
       "(function(root) {\n",
       "  function embed_document(root) {\n",
       "    \n",
       "  var docs_json = {\"895ffcbe-fcf1-4324-9712-188fbd313465\":{\"roots\":{\"references\":[{\"attributes\":{\"below\":[{\"id\":\"4193\"}],\"center\":[{\"id\":\"4196\"},{\"id\":\"4200\"}],\"left\":[{\"id\":\"4197\"}],\"plot_height\":400,\"plot_width\":900,\"renderers\":[{\"id\":\"4221\"}],\"title\":{\"id\":\"4183\"},\"toolbar\":{\"id\":\"4208\"},\"x_range\":{\"id\":\"4185\"},\"x_scale\":{\"id\":\"4189\"},\"y_range\":{\"id\":\"4187\"},\"y_scale\":{\"id\":\"4191\"}},\"id\":\"4182\",\"subtype\":\"Figure\",\"type\":\"Plot\"},{\"attributes\":{},\"id\":\"4206\",\"type\":\"UndoTool\"},{\"attributes\":{},\"id\":\"4207\",\"type\":\"ResetTool\"},{\"attributes\":{},\"id\":\"4228\",\"type\":\"Selection\"},{\"attributes\":{},\"id\":\"4226\",\"type\":\"BasicTickFormatter\"},{\"attributes\":{},\"id\":\"4229\",\"type\":\"UnionRenderers\"},{\"attributes\":{\"active_drag\":\"auto\",\"active_inspect\":\"auto\",\"active_multi\":null,\"active_scroll\":\"auto\",\"active_tap\":\"auto\",\"tools\":[{\"id\":\"4181\"},{\"id\":\"4201\"},{\"id\":\"4202\"},{\"id\":\"4203\"},{\"id\":\"4204\"},{\"id\":\"4205\"},{\"id\":\"4206\"},{\"id\":\"4207\"}]},\"id\":\"4208\",\"type\":\"Toolbar\"},{\"attributes\":{},\"id\":\"4224\",\"type\":\"BasicTickFormatter\"},{\"attributes\":{\"data_source\":{\"id\":\"4217\"},\"glyph\":{\"id\":\"4219\"},\"hover_glyph\":null,\"muted_glyph\":null,\"nonselection_glyph\":{\"id\":\"4220\"},\"selection_glyph\":null,\"view\":{\"id\":\"4222\"}},\"id\":\"4221\",\"type\":\"GlyphRenderer\"},{\"attributes\":{\"data\":{\"BaseModel_pd\":{\"__ndarray__\":\"n7hDJWPJhT91MqeIdXmFP8gZT9dXcIU/Bz4BIVRwhT8HPgEhVHCFPwc+ASFUcIU/\",\"dtype\":\"float64\",\"order\":\"little\",\"shape\":[6]},\"feature\":[\"pipe_froze_3_blk\",\"pipe_froze_3_blk\",\"pipe_froze_3_blk\",\"pipe_froze_3_blk\",\"pipe_froze_3_blk\",\"pipe_froze_3_blk\"],\"index\":[13,14,15,16,17,18],\"pd\":{\"__ndarray__\":\"n7hDJWPJhT91MqeIdXmFP8gZT9dXcIU/Bz4BIVRwhT8HPgEhVHCFPwc+ASFUcIU/\",\"dtype\":\"float64\",\"order\":\"little\",\"shape\":[6]},\"value\":[0,1,2,3,4,5],\"value2\":[\"0\",\"1\",\"2\",\"3\",\"4\",\"5\"]},\"selected\":{\"id\":\"4228\"},\"selection_policy\":{\"id\":\"4229\"}},\"id\":\"4217\",\"type\":\"ColumnDataSource\"},{\"attributes\":{},\"id\":\"4202\",\"type\":\"CrosshairTool\"},{\"attributes\":{\"text\":\"pipe_froze_3_blk Partial Dependency\"},\"id\":\"4183\",\"type\":\"Title\"},{\"attributes\":{},\"id\":\"4191\",\"type\":\"LinearScale\"},{\"attributes\":{},\"id\":\"4203\",\"type\":\"WheelZoomTool\"},{\"attributes\":{},\"id\":\"4187\",\"type\":\"DataRange1d\"},{\"attributes\":{\"fill_alpha\":{\"value\":0.1},\"fill_color\":{\"value\":\"#1f77b4\"},\"line_alpha\":{\"value\":0.1},\"line_color\":{\"value\":\"#1f77b4\"},\"x\":{\"field\":\"value\"},\"y\":{\"field\":\"pd\"}},\"id\":\"4220\",\"type\":\"Circle\"},{\"attributes\":{},\"id\":\"4205\",\"type\":\"ZoomOutTool\"},{\"attributes\":{\"axis_label\":\"Partial Dependency\",\"formatter\":{\"id\":\"4224\"},\"ticker\":{\"id\":\"4198\"}},\"id\":\"4197\",\"type\":\"LinearAxis\"},{\"attributes\":{\"source\":{\"id\":\"4217\"}},\"id\":\"4222\",\"type\":\"CDSView\"},{\"attributes\":{\"axis\":{\"id\":\"4197\"},\"dimension\":1,\"ticker\":null},\"id\":\"4200\",\"type\":\"Grid\"},{\"attributes\":{},\"id\":\"4201\",\"type\":\"PanTool\"},{\"attributes\":{},\"id\":\"4189\",\"type\":\"LinearScale\"},{\"attributes\":{\"callback\":null,\"tooltips\":[[\"pd\",\"@pd\"],[\"value\",\"@value2\"]]},\"id\":\"4181\",\"type\":\"HoverTool\"},{\"attributes\":{},\"id\":\"4198\",\"type\":\"BasicTicker\"},{\"attributes\":{\"axis_label\":\"Values\",\"formatter\":{\"id\":\"4226\"},\"ticker\":{\"id\":\"4194\"}},\"id\":\"4193\",\"type\":\"LinearAxis\"},{\"attributes\":{\"axis\":{\"id\":\"4193\"},\"ticker\":null},\"id\":\"4196\",\"type\":\"Grid\"},{\"attributes\":{},\"id\":\"4194\",\"type\":\"BasicTicker\"},{\"attributes\":{},\"id\":\"4204\",\"type\":\"ZoomInTool\"},{\"attributes\":{\"fill_color\":{\"value\":\"#1f77b4\"},\"line_color\":{\"value\":\"#1f77b4\"},\"x\":{\"field\":\"value\"},\"y\":{\"field\":\"pd\"}},\"id\":\"4219\",\"type\":\"Circle\"},{\"attributes\":{},\"id\":\"4185\",\"type\":\"DataRange1d\"}],\"root_ids\":[\"4182\"]},\"title\":\"Bokeh Application\",\"version\":\"2.2.3\"}};\n",
       "  var render_items = [{\"docid\":\"895ffcbe-fcf1-4324-9712-188fbd313465\",\"root_ids\":[\"4182\"],\"roots\":{\"4182\":\"0ddce336-6f0b-45ed-913d-9c60d944fae6\"}}];\n",
       "  root.Bokeh.embed.embed_items_notebook(docs_json, render_items);\n",
       "\n",
       "  }\n",
       "  if (root.Bokeh !== undefined) {\n",
       "    embed_document(root);\n",
       "  } else {\n",
       "    var attempts = 0;\n",
       "    var timer = setInterval(function(root) {\n",
       "      if (root.Bokeh !== undefined) {\n",
       "        clearInterval(timer);\n",
       "        embed_document(root);\n",
       "      } else {\n",
       "        attempts++;\n",
       "        if (attempts > 100) {\n",
       "          clearInterval(timer);\n",
       "          console.log(\"Bokeh: ERROR: Unable to run BokehJS code because BokehJS library is missing\");\n",
       "        }\n",
       "      }\n",
       "    }, 10, root)\n",
       "  }\n",
       "})(window);"
      ],
      "application/vnd.bokehjs_exec.v0+json": ""
     },
     "metadata": {
      "application/vnd.bokehjs_exec.v0+json": {
       "id": "4182"
      }
     },
     "output_type": "display_data"
    }
   ],
   "source": [
    "f='pipe_froze_3_blk'\n",
    "p = figure(plot_width=900, \n",
    "               plot_height=400, \n",
    "               tools=hover.tools(),\n",
    "               x_axis_label='Values',\n",
    "               y_axis_label='Partial Dependency',\n",
    "               title='%s Partial Dependency'%f)\n",
    "p.circle(source=pdf_dataset[pdf_dataset['feature']==f], x='value', y='pd')\n",
    "export_png(p, filename=temp_folder+f+'.png')\n",
    "show(p)"
   ]
  },
  {
   "cell_type": "code",
   "execution_count": 52,
   "metadata": {},
   "outputs": [
    {
     "data": {
      "text/html": [
       "<div>\n",
       "<style scoped>\n",
       "    .dataframe tbody tr th:only-of-type {\n",
       "        vertical-align: middle;\n",
       "    }\n",
       "\n",
       "    .dataframe tbody tr th {\n",
       "        vertical-align: top;\n",
       "    }\n",
       "\n",
       "    .dataframe thead th {\n",
       "        text-align: right;\n",
       "    }\n",
       "</style>\n",
       "<table border=\"1\" class=\"dataframe\">\n",
       "  <thead>\n",
       "    <tr style=\"text-align: right;\">\n",
       "      <th></th>\n",
       "      <th>feature</th>\n",
       "      <th>value</th>\n",
       "      <th>BaseModel_pd</th>\n",
       "      <th>value2</th>\n",
       "      <th>pd</th>\n",
       "    </tr>\n",
       "  </thead>\n",
       "  <tbody>\n",
       "    <tr>\n",
       "      <th>19</th>\n",
       "      <td>customer_cnt_active_policies</td>\n",
       "      <td>1</td>\n",
       "      <td>0.010526</td>\n",
       "      <td>1</td>\n",
       "      <td>0.010526</td>\n",
       "    </tr>\n",
       "    <tr>\n",
       "      <th>20</th>\n",
       "      <td>customer_cnt_active_policies</td>\n",
       "      <td>2</td>\n",
       "      <td>0.010406</td>\n",
       "      <td>2</td>\n",
       "      <td>0.010406</td>\n",
       "    </tr>\n",
       "    <tr>\n",
       "      <th>21</th>\n",
       "      <td>customer_cnt_active_policies</td>\n",
       "      <td>3</td>\n",
       "      <td>0.010384</td>\n",
       "      <td>3</td>\n",
       "      <td>0.010384</td>\n",
       "    </tr>\n",
       "    <tr>\n",
       "      <th>22</th>\n",
       "      <td>customer_cnt_active_policies</td>\n",
       "      <td>4</td>\n",
       "      <td>0.010381</td>\n",
       "      <td>4</td>\n",
       "      <td>0.010381</td>\n",
       "    </tr>\n",
       "    <tr>\n",
       "      <th>23</th>\n",
       "      <td>customer_cnt_active_policies</td>\n",
       "      <td>5</td>\n",
       "      <td>0.010381</td>\n",
       "      <td>5</td>\n",
       "      <td>0.010381</td>\n",
       "    </tr>\n",
       "    <tr>\n",
       "      <th>...</th>\n",
       "      <td>...</td>\n",
       "      <td>...</td>\n",
       "      <td>...</td>\n",
       "      <td>...</td>\n",
       "      <td>...</td>\n",
       "    </tr>\n",
       "    <tr>\n",
       "      <th>81</th>\n",
       "      <td>customer_cnt_active_policies</td>\n",
       "      <td>125</td>\n",
       "      <td>0.010471</td>\n",
       "      <td>125</td>\n",
       "      <td>0.010471</td>\n",
       "    </tr>\n",
       "    <tr>\n",
       "      <th>82</th>\n",
       "      <td>customer_cnt_active_policies</td>\n",
       "      <td>132</td>\n",
       "      <td>0.010471</td>\n",
       "      <td>132</td>\n",
       "      <td>0.010471</td>\n",
       "    </tr>\n",
       "    <tr>\n",
       "      <th>83</th>\n",
       "      <td>customer_cnt_active_policies</td>\n",
       "      <td>133</td>\n",
       "      <td>0.010471</td>\n",
       "      <td>133</td>\n",
       "      <td>0.010471</td>\n",
       "    </tr>\n",
       "    <tr>\n",
       "      <th>84</th>\n",
       "      <td>customer_cnt_active_policies</td>\n",
       "      <td>135</td>\n",
       "      <td>0.010471</td>\n",
       "      <td>135</td>\n",
       "      <td>0.010471</td>\n",
       "    </tr>\n",
       "    <tr>\n",
       "      <th>85</th>\n",
       "      <td>customer_cnt_active_policies</td>\n",
       "      <td>147</td>\n",
       "      <td>0.010471</td>\n",
       "      <td>147</td>\n",
       "      <td>0.010471</td>\n",
       "    </tr>\n",
       "  </tbody>\n",
       "</table>\n",
       "<p>67 rows × 5 columns</p>\n",
       "</div>"
      ],
      "text/plain": [
       "                         feature  value  BaseModel_pd value2        pd\n",
       "19  customer_cnt_active_policies      1      0.010526      1  0.010526\n",
       "20  customer_cnt_active_policies      2      0.010406      2  0.010406\n",
       "21  customer_cnt_active_policies      3      0.010384      3  0.010384\n",
       "22  customer_cnt_active_policies      4      0.010381      4  0.010381\n",
       "23  customer_cnt_active_policies      5      0.010381      5  0.010381\n",
       "..                           ...    ...           ...    ...       ...\n",
       "81  customer_cnt_active_policies    125      0.010471    125  0.010471\n",
       "82  customer_cnt_active_policies    132      0.010471    132  0.010471\n",
       "83  customer_cnt_active_policies    133      0.010471    133  0.010471\n",
       "84  customer_cnt_active_policies    135      0.010471    135  0.010471\n",
       "85  customer_cnt_active_policies    147      0.010471    147  0.010471\n",
       "\n",
       "[67 rows x 5 columns]"
      ]
     },
     "execution_count": 52,
     "metadata": {},
     "output_type": "execute_result"
    }
   ],
   "source": [
    "pdf_dataset[pdf_dataset['feature']=='customer_cnt_active_policies']"
   ]
  },
  {
   "cell_type": "code",
   "execution_count": 63,
   "metadata": {},
   "outputs": [
    {
     "data": {
      "text/html": [
       "\n",
       "\n",
       "\n",
       "\n",
       "\n",
       "\n",
       "  <div class=\"bk-root\" id=\"6994ccee-4d70-4d5e-baec-0b8402c36ffb\" data-root-id=\"4470\"></div>\n"
      ]
     },
     "metadata": {},
     "output_type": "display_data"
    },
    {
     "data": {
      "application/javascript": [
       "(function(root) {\n",
       "  function embed_document(root) {\n",
       "    \n",
       "  var docs_json = {\"641923de-05b2-4cc1-98b7-022d12c77849\":{\"roots\":{\"references\":[{\"attributes\":{\"below\":[{\"id\":\"4481\"}],\"center\":[{\"id\":\"4484\"},{\"id\":\"4488\"}],\"left\":[{\"id\":\"4485\"}],\"plot_height\":400,\"plot_width\":900,\"renderers\":[{\"id\":\"4509\"}],\"title\":{\"id\":\"4471\"},\"toolbar\":{\"id\":\"4496\"},\"x_range\":{\"id\":\"4473\"},\"x_scale\":{\"id\":\"4477\"},\"y_range\":{\"id\":\"4475\"},\"y_scale\":{\"id\":\"4479\"}},\"id\":\"4470\",\"subtype\":\"Figure\",\"type\":\"Plot\"},{\"attributes\":{},\"id\":\"4516\",\"type\":\"Selection\"},{\"attributes\":{},\"id\":\"4492\",\"type\":\"ZoomInTool\"},{\"attributes\":{},\"id\":\"4517\",\"type\":\"UnionRenderers\"},{\"attributes\":{\"axis_label\":\"Partial Dependency\",\"formatter\":{\"id\":\"4512\"},\"ticker\":{\"id\":\"4486\"}},\"id\":\"4485\",\"type\":\"LinearAxis\"},{\"attributes\":{},\"id\":\"4491\",\"type\":\"WheelZoomTool\"},{\"attributes\":{},\"id\":\"4489\",\"type\":\"PanTool\"},{\"attributes\":{\"active_drag\":\"auto\",\"active_inspect\":\"auto\",\"active_multi\":null,\"active_scroll\":\"auto\",\"active_tap\":\"auto\",\"tools\":[{\"id\":\"4469\"},{\"id\":\"4489\"},{\"id\":\"4490\"},{\"id\":\"4491\"},{\"id\":\"4492\"},{\"id\":\"4493\"},{\"id\":\"4494\"},{\"id\":\"4495\"}]},\"id\":\"4496\",\"type\":\"Toolbar\"},{\"attributes\":{},\"id\":\"4493\",\"type\":\"ZoomOutTool\"},{\"attributes\":{},\"id\":\"4494\",\"type\":\"UndoTool\"},{\"attributes\":{},\"id\":\"4495\",\"type\":\"ResetTool\"},{\"attributes\":{\"source\":{\"id\":\"4505\"}},\"id\":\"4510\",\"type\":\"CDSView\"},{\"attributes\":{\"fill_color\":{\"value\":\"#1f77b4\"},\"line_color\":{\"value\":\"#1f77b4\"},\"x\":{\"field\":\"value\"},\"y\":{\"field\":\"pd\"}},\"id\":\"4507\",\"type\":\"Circle\"},{\"attributes\":{\"fill_alpha\":{\"value\":0.1},\"fill_color\":{\"value\":\"#1f77b4\"},\"line_alpha\":{\"value\":0.1},\"line_color\":{\"value\":\"#1f77b4\"},\"x\":{\"field\":\"value\"},\"y\":{\"field\":\"pd\"}},\"id\":\"4508\",\"type\":\"Circle\"},{\"attributes\":{\"data\":{\"BaseModel_pd\":{\"__ndarray__\":\"XX41cnKOhT/oSiVkzE+FP1mz8XFuRIU/Xin/ssZChT9eKf+yxkKFP14p/7LGQoU/Xin/ssZChT9eKf+yxkKFP14p/7LGQoU/Xin/ssZChT9eKf+yxkKFP14p/7LGQoU/Xin/ssZChT9eKf+yxkKFP14p/7LGQoU/Xin/ssZChT9eKf+yxkKFPx/+nhejTIU/H/6eF6NMhT+EAftV6VuFP4QB+1XpW4U/hAH7VelbhT+EAftV6VuFP4QB+1XpW4U/hAH7VelbhT9rmI0PBnKFP2uYjQ8GcoU/a5iNDwZyhT9rmI0PBnKFP2uYjQ8GcoU/a5iNDwZyhT9rmI0PBnKFP2uYjQ8GcoU/a5iNDwZyhT9rmI0PBnKFP2uYjQ8GcoU/a5iNDwZyhT9rmI0PBnKFP2uYjQ8GcoU/a5iNDwZyhT9rmI0PBnKFP2uYjQ8GcoU/a5iNDwZyhT9rmI0PBnKFP2uYjQ8GcoU/a5iNDwZyhT9rmI0PBnKFP2uYjQ8GcoU/a5iNDwZyhT9rmI0PBnKFP2uYjQ8GcoU/a5iNDwZyhT9rmI0PBnKFP2uYjQ8GcoU/a5iNDwZyhT9rmI0PBnKFP2uYjQ8GcoU/a5iNDwZyhT9rmI0PBnKFP2uYjQ8GcoU/a5iNDwZyhT9rmI0PBnKFP2uYjQ8GcoU/a5iNDwZyhT9rmI0PBnKFP2uYjQ8GcoU/a5iNDwZyhT8=\",\"dtype\":\"float64\",\"order\":\"little\",\"shape\":[67]},\"feature\":[\"customer_cnt_active_policies\",\"customer_cnt_active_policies\",\"customer_cnt_active_policies\",\"customer_cnt_active_policies\",\"customer_cnt_active_policies\",\"customer_cnt_active_policies\",\"customer_cnt_active_policies\",\"customer_cnt_active_policies\",\"customer_cnt_active_policies\",\"customer_cnt_active_policies\",\"customer_cnt_active_policies\",\"customer_cnt_active_policies\",\"customer_cnt_active_policies\",\"customer_cnt_active_policies\",\"customer_cnt_active_policies\",\"customer_cnt_active_policies\",\"customer_cnt_active_policies\",\"customer_cnt_active_policies\",\"customer_cnt_active_policies\",\"customer_cnt_active_policies\",\"customer_cnt_active_policies\",\"customer_cnt_active_policies\",\"customer_cnt_active_policies\",\"customer_cnt_active_policies\",\"customer_cnt_active_policies\",\"customer_cnt_active_policies\",\"customer_cnt_active_policies\",\"customer_cnt_active_policies\",\"customer_cnt_active_policies\",\"customer_cnt_active_policies\",\"customer_cnt_active_policies\",\"customer_cnt_active_policies\",\"customer_cnt_active_policies\",\"customer_cnt_active_policies\",\"customer_cnt_active_policies\",\"customer_cnt_active_policies\",\"customer_cnt_active_policies\",\"customer_cnt_active_policies\",\"customer_cnt_active_policies\",\"customer_cnt_active_policies\",\"customer_cnt_active_policies\",\"customer_cnt_active_policies\",\"customer_cnt_active_policies\",\"customer_cnt_active_policies\",\"customer_cnt_active_policies\",\"customer_cnt_active_policies\",\"customer_cnt_active_policies\",\"customer_cnt_active_policies\",\"customer_cnt_active_policies\",\"customer_cnt_active_policies\",\"customer_cnt_active_policies\",\"customer_cnt_active_policies\",\"customer_cnt_active_policies\",\"customer_cnt_active_policies\",\"customer_cnt_active_policies\",\"customer_cnt_active_policies\",\"customer_cnt_active_policies\",\"customer_cnt_active_policies\",\"customer_cnt_active_policies\",\"customer_cnt_active_policies\",\"customer_cnt_active_policies\",\"customer_cnt_active_policies\",\"customer_cnt_active_policies\",\"customer_cnt_active_policies\",\"customer_cnt_active_policies\",\"customer_cnt_active_policies\",\"customer_cnt_active_policies\"],\"index\":[19,20,21,22,23,24,25,26,27,28,29,30,31,32,33,34,35,36,37,38,39,40,41,42,43,44,45,46,47,48,49,50,51,52,53,54,55,56,57,58,59,60,61,62,63,64,65,66,67,68,69,70,71,72,73,74,75,76,77,78,79,80,81,82,83,84,85],\"pd\":{\"__ndarray__\":\"XX41cnKOhT/oSiVkzE+FP1mz8XFuRIU/Xin/ssZChT9eKf+yxkKFP14p/7LGQoU/Xin/ssZChT9eKf+yxkKFP14p/7LGQoU/Xin/ssZChT9eKf+yxkKFP14p/7LGQoU/Xin/ssZChT9eKf+yxkKFP14p/7LGQoU/Xin/ssZChT9eKf+yxkKFPx/+nhejTIU/H/6eF6NMhT+EAftV6VuFP4QB+1XpW4U/hAH7VelbhT+EAftV6VuFP4QB+1XpW4U/hAH7VelbhT9rmI0PBnKFP2uYjQ8GcoU/a5iNDwZyhT9rmI0PBnKFP2uYjQ8GcoU/a5iNDwZyhT9rmI0PBnKFP2uYjQ8GcoU/a5iNDwZyhT9rmI0PBnKFP2uYjQ8GcoU/a5iNDwZyhT9rmI0PBnKFP2uYjQ8GcoU/a5iNDwZyhT9rmI0PBnKFP2uYjQ8GcoU/a5iNDwZyhT9rmI0PBnKFP2uYjQ8GcoU/a5iNDwZyhT9rmI0PBnKFP2uYjQ8GcoU/a5iNDwZyhT9rmI0PBnKFP2uYjQ8GcoU/a5iNDwZyhT9rmI0PBnKFP2uYjQ8GcoU/a5iNDwZyhT9rmI0PBnKFP2uYjQ8GcoU/a5iNDwZyhT9rmI0PBnKFP2uYjQ8GcoU/a5iNDwZyhT9rmI0PBnKFP2uYjQ8GcoU/a5iNDwZyhT9rmI0PBnKFP2uYjQ8GcoU/a5iNDwZyhT8=\",\"dtype\":\"float64\",\"order\":\"little\",\"shape\":[67]},\"value\":[1,2,3,4,5,6,7,8,9,10,11,12,13,14,15,16,17,18,19,20,21,22,23,24,25,26,27,28,29,30,31,32,33,34,38,40,41,54,55,58,59,62,65,81,83,85,93,94,95,96,97,98,99,102,110,113,114,117,121,122,123,124,125,132,133,135,147],\"value2\":[\"1\",\"2\",\"3\",\"4\",\"5\",\"6\",\"7\",\"8\",\"9\",\"10\",\"11\",\"12\",\"13\",\"14\",\"15\",\"16\",\"17\",\"18\",\"19\",\"20\",\"21\",\"22\",\"23\",\"24\",\"25\",\"26\",\"27\",\"28\",\"29\",\"30\",\"31\",\"32\",\"33\",\"34\",\"38\",\"40\",\"41\",\"54\",\"55\",\"58\",\"59\",\"62\",\"65\",\"81\",\"83\",\"85\",\"93\",\"94\",\"95\",\"96\",\"97\",\"98\",\"99\",\"102\",\"110\",\"113\",\"114\",\"117\",\"121\",\"122\",\"123\",\"124\",\"125\",\"132\",\"133\",\"135\",\"147\"]},\"selected\":{\"id\":\"4516\"},\"selection_policy\":{\"id\":\"4517\"}},\"id\":\"4505\",\"type\":\"ColumnDataSource\"},{\"attributes\":{\"data_source\":{\"id\":\"4505\"},\"glyph\":{\"id\":\"4507\"},\"hover_glyph\":null,\"muted_glyph\":null,\"nonselection_glyph\":{\"id\":\"4508\"},\"selection_glyph\":null,\"view\":{\"id\":\"4510\"}},\"id\":\"4509\",\"type\":\"GlyphRenderer\"},{\"attributes\":{},\"id\":\"4512\",\"type\":\"BasicTickFormatter\"},{\"attributes\":{\"axis\":{\"id\":\"4485\"},\"dimension\":1,\"ticker\":null},\"id\":\"4488\",\"type\":\"Grid\"},{\"attributes\":{},\"id\":\"4514\",\"type\":\"BasicTickFormatter\"},{\"attributes\":{},\"id\":\"4473\",\"type\":\"DataRange1d\"},{\"attributes\":{\"text\":\"customer_cnt_active_policies Partial Dependency\"},\"id\":\"4471\",\"type\":\"Title\"},{\"attributes\":{},\"id\":\"4475\",\"type\":\"DataRange1d\"},{\"attributes\":{\"axis\":{\"id\":\"4481\"},\"ticker\":null},\"id\":\"4484\",\"type\":\"Grid\"},{\"attributes\":{},\"id\":\"4479\",\"type\":\"LinearScale\"},{\"attributes\":{\"axis_label\":\"Values\",\"formatter\":{\"id\":\"4514\"},\"ticker\":{\"id\":\"4482\"}},\"id\":\"4481\",\"type\":\"LinearAxis\"},{\"attributes\":{},\"id\":\"4490\",\"type\":\"CrosshairTool\"},{\"attributes\":{},\"id\":\"4477\",\"type\":\"LinearScale\"},{\"attributes\":{\"callback\":null,\"tooltips\":[[\"pd\",\"@pd\"],[\"value\",\"@value2\"]]},\"id\":\"4469\",\"type\":\"HoverTool\"},{\"attributes\":{},\"id\":\"4482\",\"type\":\"BasicTicker\"},{\"attributes\":{},\"id\":\"4486\",\"type\":\"BasicTicker\"}],\"root_ids\":[\"4470\"]},\"title\":\"Bokeh Application\",\"version\":\"2.2.3\"}};\n",
       "  var render_items = [{\"docid\":\"641923de-05b2-4cc1-98b7-022d12c77849\",\"root_ids\":[\"4470\"],\"roots\":{\"4470\":\"6994ccee-4d70-4d5e-baec-0b8402c36ffb\"}}];\n",
       "  root.Bokeh.embed.embed_items_notebook(docs_json, render_items);\n",
       "\n",
       "  }\n",
       "  if (root.Bokeh !== undefined) {\n",
       "    embed_document(root);\n",
       "  } else {\n",
       "    var attempts = 0;\n",
       "    var timer = setInterval(function(root) {\n",
       "      if (root.Bokeh !== undefined) {\n",
       "        clearInterval(timer);\n",
       "        embed_document(root);\n",
       "      } else {\n",
       "        attempts++;\n",
       "        if (attempts > 100) {\n",
       "          clearInterval(timer);\n",
       "          console.log(\"Bokeh: ERROR: Unable to run BokehJS code because BokehJS library is missing\");\n",
       "        }\n",
       "      }\n",
       "    }, 10, root)\n",
       "  }\n",
       "})(window);"
      ],
      "application/vnd.bokehjs_exec.v0+json": ""
     },
     "metadata": {
      "application/vnd.bokehjs_exec.v0+json": {
       "id": "4470"
      }
     },
     "output_type": "display_data"
    }
   ],
   "source": [
    "f='customer_cnt_active_policies'\n",
    "p = figure(plot_width=900, \n",
    "               plot_height=400, \n",
    "               tools=hover.tools(),\n",
    "               x_axis_label='Values',\n",
    "               y_axis_label='Partial Dependency',\n",
    "               title='%s Partial Dependency'%f)\n",
    "p.circle(source=pdf_dataset[pdf_dataset['feature']==f], x='value', y='pd')\n",
    "export_png(p, filename=temp_folder+f+'.png')\n",
    "show(p)"
   ]
  },
  {
   "cell_type": "code",
   "execution_count": 59,
   "metadata": {},
   "outputs": [
    {
     "data": {
      "text/html": [
       "\n",
       "\n",
       "\n",
       "\n",
       "\n",
       "\n",
       "  <div class=\"bk-root\" id=\"c5acac0c-95d5-4c0b-a4aa-b0e36d1564eb\" data-root-id=\"3627\"></div>\n"
      ]
     },
     "metadata": {},
     "output_type": "display_data"
    },
    {
     "data": {
      "application/javascript": [
       "(function(root) {\n",
       "  function embed_document(root) {\n",
       "    \n",
       "  var docs_json = {\"92a0dd42-07e4-4b32-b97e-916bd1960f52\":{\"roots\":{\"references\":[{\"attributes\":{\"below\":[{\"id\":\"3638\"}],\"center\":[{\"id\":\"3641\"},{\"id\":\"3645\"}],\"left\":[{\"id\":\"3642\"}],\"plot_height\":400,\"plot_width\":900,\"renderers\":[{\"id\":\"3666\"}],\"title\":{\"id\":\"3628\"},\"toolbar\":{\"id\":\"3653\"},\"x_range\":{\"id\":\"3630\"},\"x_scale\":{\"id\":\"3634\"},\"y_range\":{\"id\":\"3632\"},\"y_scale\":{\"id\":\"3636\"}},\"id\":\"3627\",\"subtype\":\"Figure\",\"type\":\"Plot\"},{\"attributes\":{\"axis_label\":\"Partial Dependency\",\"formatter\":{\"id\":\"3669\"},\"ticker\":{\"id\":\"3643\"}},\"id\":\"3642\",\"type\":\"LinearAxis\"},{\"attributes\":{},\"id\":\"3647\",\"type\":\"CrosshairTool\"},{\"attributes\":{},\"id\":\"3671\",\"type\":\"BasicTickFormatter\"},{\"attributes\":{\"data\":{\"BaseModel_pd\":{\"__ndarray__\":\"IFXN4mR+hT99vhrOtmKFPwShPf4GXIU//1QF2WeDhT/1N6WsiqGFPxDwQkwhpYU/3XeBOrWlhT+ze6q5q6aFP7N7qrmrpoU/s3uquaumhT9ruDTFZbGFP0bWvHDr7IU/\",\"dtype\":\"float64\",\"order\":\"little\",\"shape\":[12]},\"feature\":[\"cova_limit\",\"cova_limit\",\"cova_limit\",\"cova_limit\",\"cova_limit\",\"cova_limit\",\"cova_limit\",\"cova_limit\",\"cova_limit\",\"cova_limit\",\"cova_limit\",\"cova_limit\"],\"index\":[86,87,88,89,90,91,92,93,94,95,96,97],\"pd\":{\"__ndarray__\":\"IFXN4mR+hT99vhrOtmKFPwShPf4GXIU//1QF2WeDhT/1N6WsiqGFPxDwQkwhpYU/3XeBOrWlhT+ze6q5q6aFP7N7qrmrpoU/s3uquaumhT9ruDTFZbGFP0bWvHDr7IU/\",\"dtype\":\"float64\",\"order\":\"little\",\"shape\":[12]},\"value\":[100000,200000,300000,400000,500000,600000,700000,800000,900000,1000000,1200000,1300000],\"value2\":[\"100000\",\"200000\",\"300000\",\"400000\",\"500000\",\"600000\",\"700000\",\"800000\",\"900000\",\"1000000\",\"1200000\",\"1300000\"]},\"selected\":{\"id\":\"3673\"},\"selection_policy\":{\"id\":\"3674\"}},\"id\":\"3662\",\"type\":\"ColumnDataSource\"},{\"attributes\":{},\"id\":\"3643\",\"type\":\"BasicTicker\"},{\"attributes\":{\"callback\":null,\"tooltips\":[[\"pd\",\"@pd\"],[\"value\",\"@value2\"]]},\"id\":\"3626\",\"type\":\"HoverTool\"},{\"attributes\":{\"fill_color\":{\"value\":\"#1f77b4\"},\"line_color\":{\"value\":\"#1f77b4\"},\"x\":{\"field\":\"value\"},\"y\":{\"field\":\"pd\"}},\"id\":\"3664\",\"type\":\"Circle\"},{\"attributes\":{\"fill_alpha\":{\"value\":0.1},\"fill_color\":{\"value\":\"#1f77b4\"},\"line_alpha\":{\"value\":0.1},\"line_color\":{\"value\":\"#1f77b4\"},\"x\":{\"field\":\"value\"},\"y\":{\"field\":\"pd\"}},\"id\":\"3665\",\"type\":\"Circle\"},{\"attributes\":{},\"id\":\"3669\",\"type\":\"BasicTickFormatter\"},{\"attributes\":{},\"id\":\"3674\",\"type\":\"UnionRenderers\"},{\"attributes\":{},\"id\":\"3639\",\"type\":\"BasicTicker\"},{\"attributes\":{\"axis\":{\"id\":\"3638\"},\"ticker\":null},\"id\":\"3641\",\"type\":\"Grid\"},{\"attributes\":{},\"id\":\"3630\",\"type\":\"DataRange1d\"},{\"attributes\":{\"data_source\":{\"id\":\"3662\"},\"glyph\":{\"id\":\"3664\"},\"hover_glyph\":null,\"muted_glyph\":null,\"nonselection_glyph\":{\"id\":\"3665\"},\"selection_glyph\":null,\"view\":{\"id\":\"3667\"}},\"id\":\"3666\",\"type\":\"GlyphRenderer\"},{\"attributes\":{\"source\":{\"id\":\"3662\"}},\"id\":\"3667\",\"type\":\"CDSView\"},{\"attributes\":{\"active_drag\":\"auto\",\"active_inspect\":\"auto\",\"active_multi\":null,\"active_scroll\":\"auto\",\"active_tap\":\"auto\",\"tools\":[{\"id\":\"3626\"},{\"id\":\"3646\"},{\"id\":\"3647\"},{\"id\":\"3648\"},{\"id\":\"3649\"},{\"id\":\"3650\"},{\"id\":\"3651\"},{\"id\":\"3652\"}]},\"id\":\"3653\",\"type\":\"Toolbar\"},{\"attributes\":{\"text\":\"cova_limit Partial Dependency\"},\"id\":\"3628\",\"type\":\"Title\"},{\"attributes\":{},\"id\":\"3632\",\"type\":\"DataRange1d\"},{\"attributes\":{},\"id\":\"3651\",\"type\":\"UndoTool\"},{\"attributes\":{},\"id\":\"3648\",\"type\":\"WheelZoomTool\"},{\"attributes\":{},\"id\":\"3634\",\"type\":\"LinearScale\"},{\"attributes\":{},\"id\":\"3636\",\"type\":\"LinearScale\"},{\"attributes\":{\"axis_label\":\"Values\",\"formatter\":{\"id\":\"3671\"},\"ticker\":{\"id\":\"3639\"}},\"id\":\"3638\",\"type\":\"LinearAxis\"},{\"attributes\":{},\"id\":\"3652\",\"type\":\"ResetTool\"},{\"attributes\":{},\"id\":\"3650\",\"type\":\"ZoomOutTool\"},{\"attributes\":{},\"id\":\"3649\",\"type\":\"ZoomInTool\"},{\"attributes\":{},\"id\":\"3646\",\"type\":\"PanTool\"},{\"attributes\":{\"axis\":{\"id\":\"3642\"},\"dimension\":1,\"ticker\":null},\"id\":\"3645\",\"type\":\"Grid\"},{\"attributes\":{},\"id\":\"3673\",\"type\":\"Selection\"}],\"root_ids\":[\"3627\"]},\"title\":\"Bokeh Application\",\"version\":\"2.2.3\"}};\n",
       "  var render_items = [{\"docid\":\"92a0dd42-07e4-4b32-b97e-916bd1960f52\",\"root_ids\":[\"3627\"],\"roots\":{\"3627\":\"c5acac0c-95d5-4c0b-a4aa-b0e36d1564eb\"}}];\n",
       "  root.Bokeh.embed.embed_items_notebook(docs_json, render_items);\n",
       "\n",
       "  }\n",
       "  if (root.Bokeh !== undefined) {\n",
       "    embed_document(root);\n",
       "  } else {\n",
       "    var attempts = 0;\n",
       "    var timer = setInterval(function(root) {\n",
       "      if (root.Bokeh !== undefined) {\n",
       "        clearInterval(timer);\n",
       "        embed_document(root);\n",
       "      } else {\n",
       "        attempts++;\n",
       "        if (attempts > 100) {\n",
       "          clearInterval(timer);\n",
       "          console.log(\"Bokeh: ERROR: Unable to run BokehJS code because BokehJS library is missing\");\n",
       "        }\n",
       "      }\n",
       "    }, 10, root)\n",
       "  }\n",
       "})(window);"
      ],
      "application/vnd.bokehjs_exec.v0+json": ""
     },
     "metadata": {
      "application/vnd.bokehjs_exec.v0+json": {
       "id": "3627"
      }
     },
     "output_type": "display_data"
    }
   ],
   "source": [
    "f='cova_limit'\n",
    "p = figure(plot_width=900, \n",
    "               plot_height=400, \n",
    "               tools=hover.tools(),\n",
    "               x_axis_label='Values',\n",
    "               y_axis_label='Partial Dependency',\n",
    "               title='%s Partial Dependency'%f)\n",
    "p.circle(source=pdf_dataset[pdf_dataset['feature']==f], x='value', y='pd')\n",
    "export_png(p, filename=temp_folder+f+'.png')\n",
    "show(p)"
   ]
  },
  {
   "cell_type": "code",
   "execution_count": 60,
   "metadata": {},
   "outputs": [
    {
     "data": {
      "text/html": [
       "<div>\n",
       "<style scoped>\n",
       "    .dataframe tbody tr th:only-of-type {\n",
       "        vertical-align: middle;\n",
       "    }\n",
       "\n",
       "    .dataframe tbody tr th {\n",
       "        vertical-align: top;\n",
       "    }\n",
       "\n",
       "    .dataframe thead th {\n",
       "        text-align: right;\n",
       "    }\n",
       "</style>\n",
       "<table border=\"1\" class=\"dataframe\">\n",
       "  <thead>\n",
       "    <tr style=\"text-align: right;\">\n",
       "      <th></th>\n",
       "      <th>feature</th>\n",
       "      <th>value</th>\n",
       "      <th>BaseModel_pd</th>\n",
       "      <th>value2</th>\n",
       "      <th>pd</th>\n",
       "    </tr>\n",
       "  </thead>\n",
       "  <tbody>\n",
       "    <tr>\n",
       "      <th>98</th>\n",
       "      <td>plumb_leak_3_blk</td>\n",
       "      <td>0</td>\n",
       "      <td>0.010483</td>\n",
       "      <td>0</td>\n",
       "      <td>0.010483</td>\n",
       "    </tr>\n",
       "    <tr>\n",
       "      <th>99</th>\n",
       "      <td>plumb_leak_3_blk</td>\n",
       "      <td>1</td>\n",
       "      <td>0.010483</td>\n",
       "      <td>1</td>\n",
       "      <td>0.010483</td>\n",
       "    </tr>\n",
       "    <tr>\n",
       "      <th>100</th>\n",
       "      <td>plumb_leak_3_blk</td>\n",
       "      <td>2</td>\n",
       "      <td>0.010483</td>\n",
       "      <td>2</td>\n",
       "      <td>0.010483</td>\n",
       "    </tr>\n",
       "    <tr>\n",
       "      <th>101</th>\n",
       "      <td>plumb_leak_3_blk</td>\n",
       "      <td>3</td>\n",
       "      <td>0.010483</td>\n",
       "      <td>3</td>\n",
       "      <td>0.010483</td>\n",
       "    </tr>\n",
       "    <tr>\n",
       "      <th>102</th>\n",
       "      <td>plumb_leak_3_blk</td>\n",
       "      <td>4</td>\n",
       "      <td>0.010492</td>\n",
       "      <td>4</td>\n",
       "      <td>0.010492</td>\n",
       "    </tr>\n",
       "    <tr>\n",
       "      <th>103</th>\n",
       "      <td>plumb_leak_3_blk</td>\n",
       "      <td>5</td>\n",
       "      <td>0.010534</td>\n",
       "      <td>5</td>\n",
       "      <td>0.010534</td>\n",
       "    </tr>\n",
       "  </tbody>\n",
       "</table>\n",
       "</div>"
      ],
      "text/plain": [
       "              feature  value  BaseModel_pd value2        pd\n",
       "98   plumb_leak_3_blk      0      0.010483      0  0.010483\n",
       "99   plumb_leak_3_blk      1      0.010483      1  0.010483\n",
       "100  plumb_leak_3_blk      2      0.010483      2  0.010483\n",
       "101  plumb_leak_3_blk      3      0.010483      3  0.010483\n",
       "102  plumb_leak_3_blk      4      0.010492      4  0.010492\n",
       "103  plumb_leak_3_blk      5      0.010534      5  0.010534"
      ]
     },
     "execution_count": 60,
     "metadata": {},
     "output_type": "execute_result"
    }
   ],
   "source": [
    "pdf_dataset[pdf_dataset['feature']=='plumb_leak_3_blk']"
   ]
  },
  {
   "cell_type": "code",
   "execution_count": 64,
   "metadata": {},
   "outputs": [
    {
     "data": {
      "text/html": [
       "\n",
       "\n",
       "\n",
       "\n",
       "\n",
       "\n",
       "  <div class=\"bk-root\" id=\"d13fc4e4-040e-4c29-b3b5-f8f4a73f2e0b\" data-root-id=\"4765\"></div>\n"
      ]
     },
     "metadata": {},
     "output_type": "display_data"
    },
    {
     "data": {
      "application/javascript": [
       "(function(root) {\n",
       "  function embed_document(root) {\n",
       "    \n",
       "  var docs_json = {\"85d49dd7-b289-4082-8776-73349e0b5060\":{\"roots\":{\"references\":[{\"attributes\":{\"below\":[{\"id\":\"4776\"}],\"center\":[{\"id\":\"4779\"},{\"id\":\"4783\"}],\"left\":[{\"id\":\"4780\"}],\"plot_height\":400,\"plot_width\":900,\"renderers\":[{\"id\":\"4804\"}],\"title\":{\"id\":\"4766\"},\"toolbar\":{\"id\":\"4791\"},\"x_range\":{\"id\":\"4768\"},\"x_scale\":{\"id\":\"4772\"},\"y_range\":{\"id\":\"4770\"},\"y_scale\":{\"id\":\"4774\"}},\"id\":\"4765\",\"subtype\":\"Figure\",\"type\":\"Plot\"},{\"attributes\":{\"active_drag\":\"auto\",\"active_inspect\":\"auto\",\"active_multi\":null,\"active_scroll\":\"auto\",\"active_tap\":\"auto\",\"tools\":[{\"id\":\"4764\"},{\"id\":\"4784\"},{\"id\":\"4785\"},{\"id\":\"4786\"},{\"id\":\"4787\"},{\"id\":\"4788\"},{\"id\":\"4789\"},{\"id\":\"4790\"}]},\"id\":\"4791\",\"type\":\"Toolbar\"},{\"attributes\":{},\"id\":\"4768\",\"type\":\"DataRange1d\"},{\"attributes\":{\"data_source\":{\"id\":\"4800\"},\"glyph\":{\"id\":\"4802\"},\"hover_glyph\":null,\"muted_glyph\":null,\"nonselection_glyph\":{\"id\":\"4803\"},\"selection_glyph\":null,\"view\":{\"id\":\"4805\"}},\"id\":\"4804\",\"type\":\"GlyphRenderer\"},{\"attributes\":{},\"id\":\"4809\",\"type\":\"BasicTickFormatter\"},{\"attributes\":{},\"id\":\"4807\",\"type\":\"BasicTickFormatter\"},{\"attributes\":{},\"id\":\"4770\",\"type\":\"DataRange1d\"},{\"attributes\":{\"data\":{\"BaseModel_pd\":{\"__ndarray__\":\"5OzTOkJ4hT/k7NM6QniFP+Ts0zpCeIU/5OzTOkJ4hT90RR6Ku3yFPzYiKBD0koU/\",\"dtype\":\"float64\",\"order\":\"little\",\"shape\":[6]},\"feature\":[\"plumb_leak_3_blk\",\"plumb_leak_3_blk\",\"plumb_leak_3_blk\",\"plumb_leak_3_blk\",\"plumb_leak_3_blk\",\"plumb_leak_3_blk\"],\"index\":[98,99,100,101,102,103],\"pd\":{\"__ndarray__\":\"5OzTOkJ4hT/k7NM6QniFP+Ts0zpCeIU/5OzTOkJ4hT90RR6Ku3yFPzYiKBD0koU/\",\"dtype\":\"float64\",\"order\":\"little\",\"shape\":[6]},\"value\":[0,1,2,3,4,5],\"value2\":[\"0\",\"1\",\"2\",\"3\",\"4\",\"5\"]},\"selected\":{\"id\":\"4811\"},\"selection_policy\":{\"id\":\"4812\"}},\"id\":\"4800\",\"type\":\"ColumnDataSource\"},{\"attributes\":{\"fill_color\":{\"value\":\"#1f77b4\"},\"line_color\":{\"value\":\"#1f77b4\"},\"x\":{\"field\":\"value\"},\"y\":{\"field\":\"pd\"}},\"id\":\"4802\",\"type\":\"Circle\"},{\"attributes\":{\"fill_alpha\":{\"value\":0.1},\"fill_color\":{\"value\":\"#1f77b4\"},\"line_alpha\":{\"value\":0.1},\"line_color\":{\"value\":\"#1f77b4\"},\"x\":{\"field\":\"value\"},\"y\":{\"field\":\"pd\"}},\"id\":\"4803\",\"type\":\"Circle\"},{\"attributes\":{},\"id\":\"4787\",\"type\":\"ZoomInTool\"},{\"attributes\":{},\"id\":\"4774\",\"type\":\"LinearScale\"},{\"attributes\":{},\"id\":\"4790\",\"type\":\"ResetTool\"},{\"attributes\":{},\"id\":\"4811\",\"type\":\"Selection\"},{\"attributes\":{\"axis\":{\"id\":\"4780\"},\"dimension\":1,\"ticker\":null},\"id\":\"4783\",\"type\":\"Grid\"},{\"attributes\":{\"text\":\"plumb_leak_3_blk Partial Dependency\"},\"id\":\"4766\",\"type\":\"Title\"},{\"attributes\":{\"source\":{\"id\":\"4800\"}},\"id\":\"4805\",\"type\":\"CDSView\"},{\"attributes\":{},\"id\":\"4788\",\"type\":\"ZoomOutTool\"},{\"attributes\":{},\"id\":\"4784\",\"type\":\"PanTool\"},{\"attributes\":{},\"id\":\"4789\",\"type\":\"UndoTool\"},{\"attributes\":{},\"id\":\"4812\",\"type\":\"UnionRenderers\"},{\"attributes\":{\"callback\":null,\"tooltips\":[[\"pd\",\"@pd\"],[\"value\",\"@value2\"]]},\"id\":\"4764\",\"type\":\"HoverTool\"},{\"attributes\":{\"axis\":{\"id\":\"4776\"},\"ticker\":null},\"id\":\"4779\",\"type\":\"Grid\"},{\"attributes\":{\"axis_label\":\"Partial Dependency\",\"formatter\":{\"id\":\"4807\"},\"ticker\":{\"id\":\"4781\"}},\"id\":\"4780\",\"type\":\"LinearAxis\"},{\"attributes\":{},\"id\":\"4777\",\"type\":\"BasicTicker\"},{\"attributes\":{\"axis_label\":\"Values\",\"formatter\":{\"id\":\"4809\"},\"ticker\":{\"id\":\"4777\"}},\"id\":\"4776\",\"type\":\"LinearAxis\"},{\"attributes\":{},\"id\":\"4785\",\"type\":\"CrosshairTool\"},{\"attributes\":{},\"id\":\"4786\",\"type\":\"WheelZoomTool\"},{\"attributes\":{},\"id\":\"4772\",\"type\":\"LinearScale\"},{\"attributes\":{},\"id\":\"4781\",\"type\":\"BasicTicker\"}],\"root_ids\":[\"4765\"]},\"title\":\"Bokeh Application\",\"version\":\"2.2.3\"}};\n",
       "  var render_items = [{\"docid\":\"85d49dd7-b289-4082-8776-73349e0b5060\",\"root_ids\":[\"4765\"],\"roots\":{\"4765\":\"d13fc4e4-040e-4c29-b3b5-f8f4a73f2e0b\"}}];\n",
       "  root.Bokeh.embed.embed_items_notebook(docs_json, render_items);\n",
       "\n",
       "  }\n",
       "  if (root.Bokeh !== undefined) {\n",
       "    embed_document(root);\n",
       "  } else {\n",
       "    var attempts = 0;\n",
       "    var timer = setInterval(function(root) {\n",
       "      if (root.Bokeh !== undefined) {\n",
       "        clearInterval(timer);\n",
       "        embed_document(root);\n",
       "      } else {\n",
       "        attempts++;\n",
       "        if (attempts > 100) {\n",
       "          clearInterval(timer);\n",
       "          console.log(\"Bokeh: ERROR: Unable to run BokehJS code because BokehJS library is missing\");\n",
       "        }\n",
       "      }\n",
       "    }, 10, root)\n",
       "  }\n",
       "})(window);"
      ],
      "application/vnd.bokehjs_exec.v0+json": ""
     },
     "metadata": {
      "application/vnd.bokehjs_exec.v0+json": {
       "id": "4765"
      }
     },
     "output_type": "display_data"
    }
   ],
   "source": [
    "f='plumb_leak_3_blk'\n",
    "p = figure(plot_width=900, \n",
    "               plot_height=400, \n",
    "               tools=hover.tools(),\n",
    "               x_axis_label='Values',\n",
    "               y_axis_label='Partial Dependency',\n",
    "               title='%s Partial Dependency'%f)\n",
    "p.circle(source=pdf_dataset[pdf_dataset['feature']==f], x='value', y='pd')\n",
    "export_png(p, filename=temp_folder+f+'.png')\n",
    "show(p)"
   ]
  },
  {
   "cell_type": "code",
   "execution_count": 66,
   "metadata": {},
   "outputs": [],
   "source": [
    "lst_chart_filenames=list()\n",
    "for index, row in features_for_pd.iterrows():\n",
    "    lst_chart_filenames.append(temp_folder+row['Feature']+'.png')\n",
    "eu.SaveChartToExperimentLog(Experiments_file, '%s Data'%Experiment_name, len(pdf_dataset)+10, 25, lst_chart_filenames)    "
   ]
  }
 ],
 "metadata": {
  "kernelspec": {
   "display_name": "Python 3",
   "language": "python",
   "name": "python3"
  },
  "language_info": {
   "codemirror_mode": {
    "name": "ipython",
    "version": 3
   },
   "file_extension": ".py",
   "mimetype": "text/x-python",
   "name": "python",
   "nbconvert_exporter": "python",
   "pygments_lexer": "ipython3",
   "version": "3.8.5"
  }
 },
 "nbformat": 4,
 "nbformat_minor": 4
}
