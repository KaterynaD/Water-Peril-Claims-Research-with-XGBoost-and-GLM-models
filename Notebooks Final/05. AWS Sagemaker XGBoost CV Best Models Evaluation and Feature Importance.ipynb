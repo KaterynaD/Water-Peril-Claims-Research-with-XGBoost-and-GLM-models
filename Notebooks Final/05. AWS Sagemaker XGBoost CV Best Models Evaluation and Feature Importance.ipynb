{
 "cells": [
  {
   "cell_type": "markdown",
   "metadata": {},
   "source": [
    "### AWS Sagemaker XGBoost CV Best Models Evaluation and Feature Importance\n",
    "\n",
    "Purpose: perform prediction, evaluate (ROC-AUC and Gini) the results and extract feature importance and feature iterations from an XGBoost classification models extracted from XGBoost CV and saved (all) into output.tar.gz in S3. The file with many models can not be used to create a Sagemaker Model object and used in a batch transform job. ScriptProcessor based on xgboost image and processing job is used instead. It's still kind of an evaluation, searching of a best model process, not yet a final step.\n",
    "\n",
    "Model scores and feature importance are extracted from S3, visualized and saved into a log file. Feature Interaction files as well as a file with predictions just exist in the output S3 bucket."
   ]
  },
  {
   "cell_type": "code",
   "execution_count": 24,
   "metadata": {},
   "outputs": [],
   "source": [
    "Experiments_file='/home/kate/Research/Property/Notebooks/Experiments/Logs/Set2-Classification.xlsx'\n",
    "AllExperiments_tab='Experiments'\n",
    "Experiment_name='Test2020'\n",
    "#Experiment configuration:  \n",
    "#Predict on the same dataset set but for different model files all inside output.tar.gz\n",
    "#1.each line in the file contains the model name and set of features to built a dataset for prediction\n",
    "Experiment_Features_tab='%s Models'%Experiment_name\n",
    "#2.ModelFiles: each line is a model name (Model) and full model file name (ModelData - output.tar.gz) in an S3 bucket\n",
    "Experiment_ModelFiles_tab='%s ModelFiles'%Experiment_name\n",
    "\n",
    "path_to_model_evals='Data/Experiments/%s'%Experiment_name\n",
    " \n",
    "bucket='kdproperty'\n",
    "path_to_data_file='/Data/'\n",
    "\n",
    "instance_type='ml.m5.xlarge'\n",
    "instance_count=1\n",
    "\n",
    "Trial_name_processing='%s-Processing'%Experiment_name\n",
    "\n",
    "split_year='2020'"
   ]
  },
  {
   "cell_type": "code",
   "execution_count": 2,
   "metadata": {},
   "outputs": [],
   "source": [
    "import boto3\n",
    "import sys\n",
    "import time\n",
    "import pandas as pd\n",
    "import numpy as np\n",
    "\n",
    "import re\n",
    "\n",
    "#to read data from S3 with pandas\n",
    "import s3fs\n",
    "\n",
    "import matplotlib.pyplot as plt\n",
    "\n",
    "import sagemaker\n",
    "from sagemaker import get_execution_role\n",
    "from sagemaker.processing import ScriptProcessor\n",
    "from sagemaker.processing import ProcessingInput, ProcessingOutput"
   ]
  },
  {
   "cell_type": "code",
   "execution_count": 3,
   "metadata": {},
   "outputs": [],
   "source": [
    "region = boto3.session.Session().region_name\n",
    "role = 'arn:aws:iam::757107622481:role/service-role/AmazonSageMaker-ExecutionRole-20200819T131882'\n",
    "sagemaker_session = sagemaker.session.Session(default_bucket=bucket)\n",
    "s3 = s3fs.S3FileSystem()"
   ]
  },
  {
   "cell_type": "code",
   "execution_count": 4,
   "metadata": {},
   "outputs": [],
   "source": [
    "#sys.path.append('/home/kate/Research/YearBuilt/Notebooks/Experiments')\n",
    "import ExperimentsUtils as eu"
   ]
  },
  {
   "cell_type": "markdown",
   "metadata": {},
   "source": [
    "1. Reading experiment configuration from an excel file"
   ]
  },
  {
   "cell_type": "code",
   "execution_count": 5,
   "metadata": {},
   "outputs": [],
   "source": [
    "experiments = pd.read_excel(open(Experiments_file, 'rb'), sheet_name=AllExperiments_tab)"
   ]
  },
  {
   "cell_type": "markdown",
   "metadata": {},
   "source": [
    "1.1 Target variable and data file name"
   ]
  },
  {
   "cell_type": "code",
   "execution_count": 6,
   "metadata": {},
   "outputs": [
    {
     "name": "stdout",
     "output_type": "stream",
     "text": [
      "Target of models in Test2020 experiment is hasclaim\n",
      "Datafile used in Test2020 experiment is property_water_claims_non_cat_fs_v6.csv\n"
     ]
    }
   ],
   "source": [
    "target=experiments[experiments['Experiment']==Experiment_name]['Target'].values[0]\n",
    "print('Target of models in %s experiment is %s'%(Experiment_name,target))\n",
    "data_file=experiments[experiments['Experiment']==Experiment_name]['Dataset'].values[0]\n",
    "print('Datafile used in %s experiment is %s'%(Experiment_name,data_file))"
   ]
  },
  {
   "cell_type": "markdown",
   "metadata": {},
   "source": [
    "1.2 Model files (usually output.tar.gz produced from training)\n",
    "I do not create SageMaker Models in this process. It's still evaluation part and a simple ScriptProcessor is used for prediction which does not need Sagemaker Model object"
   ]
  },
  {
   "cell_type": "code",
   "execution_count": 7,
   "metadata": {},
   "outputs": [
    {
     "data": {
      "text/html": [
       "<div>\n",
       "<style scoped>\n",
       "    .dataframe tbody tr th:only-of-type {\n",
       "        vertical-align: middle;\n",
       "    }\n",
       "\n",
       "    .dataframe tbody tr th {\n",
       "        vertical-align: top;\n",
       "    }\n",
       "\n",
       "    .dataframe thead th {\n",
       "        text-align: right;\n",
       "    }\n",
       "</style>\n",
       "<table border=\"1\" class=\"dataframe\">\n",
       "  <thead>\n",
       "    <tr style=\"text-align: right;\">\n",
       "      <th></th>\n",
       "      <th>Model</th>\n",
       "      <th>ModelData</th>\n",
       "    </tr>\n",
       "  </thead>\n",
       "  <tbody>\n",
       "    <tr>\n",
       "      <th>0</th>\n",
       "      <td>BaseModel</td>\n",
       "      <td>s3://kdproperty/Models/Experiments/Exp1/BaseMo...</td>\n",
       "    </tr>\n",
       "  </tbody>\n",
       "</table>\n",
       "</div>"
      ],
      "text/plain": [
       "       Model                                          ModelData\n",
       "0  BaseModel  s3://kdproperty/Models/Experiments/Exp1/BaseMo..."
      ]
     },
     "execution_count": 7,
     "metadata": {},
     "output_type": "execute_result"
    }
   ],
   "source": [
    "model_files = pd.read_excel(open(Experiments_file, 'rb'), sheet_name=Experiment_ModelFiles_tab)\n",
    "model_files"
   ]
  },
  {
   "cell_type": "markdown",
   "metadata": {},
   "source": [
    "1.3 Model features. The process will use this info to create a data file with all needed features and map feature importance"
   ]
  },
  {
   "cell_type": "code",
   "execution_count": 8,
   "metadata": {},
   "outputs": [
    {
     "data": {
      "text/html": [
       "<div>\n",
       "<style scoped>\n",
       "    .dataframe tbody tr th:only-of-type {\n",
       "        vertical-align: middle;\n",
       "    }\n",
       "\n",
       "    .dataframe tbody tr th {\n",
       "        vertical-align: top;\n",
       "    }\n",
       "\n",
       "    .dataframe thead th {\n",
       "        text-align: right;\n",
       "    }\n",
       "</style>\n",
       "<table border=\"1\" class=\"dataframe\">\n",
       "  <thead>\n",
       "    <tr style=\"text-align: right;\">\n",
       "      <th></th>\n",
       "      <th>Model</th>\n",
       "      <th>F1</th>\n",
       "      <th>F2</th>\n",
       "      <th>F3</th>\n",
       "      <th>F4</th>\n",
       "      <th>F5</th>\n",
       "      <th>F6</th>\n",
       "    </tr>\n",
       "  </thead>\n",
       "  <tbody>\n",
       "    <tr>\n",
       "      <th>0</th>\n",
       "      <td>BaseModel</td>\n",
       "      <td>cal_year-yearbuilt</td>\n",
       "      <td>cova_deductible</td>\n",
       "      <td>sqft</td>\n",
       "      <td>customer_cnt_active_policies</td>\n",
       "      <td>usagetype_encd</td>\n",
       "      <td>water_risk_3_blk</td>\n",
       "    </tr>\n",
       "  </tbody>\n",
       "</table>\n",
       "</div>"
      ],
      "text/plain": [
       "       Model                  F1               F2    F3  \\\n",
       "0  BaseModel  cal_year-yearbuilt  cova_deductible  sqft   \n",
       "\n",
       "                             F4              F5                F6  \n",
       "0  customer_cnt_active_policies  usagetype_encd  water_risk_3_blk  "
      ]
     },
     "execution_count": 8,
     "metadata": {},
     "output_type": "execute_result"
    }
   ],
   "source": [
    "model_features = pd.read_excel(open(Experiments_file, 'rb'), sheet_name=Experiment_Features_tab)\n",
    "model_features"
   ]
  },
  {
   "cell_type": "markdown",
   "metadata": {},
   "source": [
    "2.Verification if we have the same set of models in both configurations"
   ]
  },
  {
   "cell_type": "code",
   "execution_count": 9,
   "metadata": {},
   "outputs": [],
   "source": [
    "models_from_model_features=model_features['Model'].tolist()\n",
    "models_from_models_files=model_files['Model'].tolist()\n",
    "if len([x for x in models_from_model_features if x not in models_from_models_files])!=0:\n",
    "    raise Exception('Different set of models in featuresets and files!')"
   ]
  },
  {
   "cell_type": "markdown",
   "metadata": {},
   "source": [
    "3.Creating experiments and trials in SageMaker. SageMaker Experiment object does not contain useful info from the process except name of the job. "
   ]
  },
  {
   "cell_type": "code",
   "execution_count": 10,
   "metadata": {},
   "outputs": [
    {
     "name": "stderr",
     "output_type": "stream",
     "text": [
      "INFO:botocore.credentials:Found credentials in shared credentials file: ~/.aws/credentials\n",
      "INFO:botocore.credentials:Found credentials in shared credentials file: ~/.aws/credentials\n",
      "INFO:botocore.credentials:Found credentials in shared credentials file: ~/.aws/credentials\n",
      "INFO:botocore.credentials:Found credentials in shared credentials file: ~/.aws/credentials\n",
      "INFO:botocore.credentials:Found credentials in shared credentials file: ~/.aws/credentials\n",
      "INFO:botocore.credentials:Found credentials in shared credentials file: ~/.aws/credentials\n",
      "INFO:botocore.credentials:Found credentials in shared credentials file: ~/.aws/credentials\n"
     ]
    }
   ],
   "source": [
    "eu.cleanup_experiment(Experiment_name)\n",
    "eu.create_experiment(Experiment_name)\n",
    "eu.create_trial(Experiment_name,Trial_name_processing)"
   ]
  },
  {
   "cell_type": "markdown",
   "metadata": {},
   "source": [
    "4. Processing jobs"
   ]
  },
  {
   "cell_type": "code",
   "execution_count": 11,
   "metadata": {},
   "outputs": [
    {
     "name": "stdout",
     "output_type": "stream",
     "text": [
      "Overwriting CVBestModelsEvaluation.py\n"
     ]
    }
   ],
   "source": [
    "%%writefile CVBestModelsEvaluation.py\n",
    "import argparse\n",
    "import os\n",
    "import sys\n",
    "import subprocess\n",
    "import pathlib\n",
    "import pickle\n",
    "import tarfile\n",
    "import joblib\n",
    "import numpy as np\n",
    "import pandas as pd\n",
    "import xgboost\n",
    "\n",
    "\n",
    "#Evaluation metric\n",
    "from sklearn.metrics import roc_auc_score\n",
    "#To estimate models performance we need a custom gini function\n",
    "def gini(y, pred):\n",
    "    g = np.asarray(np.c_[y, pred, np.arange(len(y)) ], dtype=np.float)\n",
    "    g = g[np.lexsort((g[:,2], -1*g[:,1]))]\n",
    "    gs = g[:,0].cumsum().sum() / g[:,0].sum()\n",
    "    gs -= (len(y) + 1) / 2.\n",
    "    return gs / len(y)\n",
    "\n",
    "def create_fmap(ModelName,featureset):\n",
    "    fmap_filename='%s.fmap'%ModelName\n",
    "    outfile = open(fmap_filename, 'w')\n",
    "    for i, feat in enumerate(featureset):\n",
    "        outfile.write('{0}\\t{1}\\tq\\n'.format(i, feat))\n",
    "    outfile.close()\n",
    "    return fmap_filename\n",
    "\n",
    "if __name__=='__main__':\n",
    "    \n",
    "    #installing XGBFir\n",
    "    XGBFirFlg = False\n",
    "    try:\n",
    "        xgbfir_installed = subprocess.check_call([sys.executable, '-m', 'pip', 'install', 'xgbfir'])\n",
    "        if xgbfir_installed == 0:\n",
    "            import xgbfir\n",
    "            XGBFirFlg = True\n",
    "            print('Successfully installed XGBfir')\n",
    "        else:\n",
    "            print('XGBfir was not installed')\n",
    "    except:\n",
    "        print('XGBfir was not installed')\n",
    "    \n",
    "    parser = argparse.ArgumentParser()\n",
    "    parser.add_argument('--data_file', type=str)\n",
    "    parser.add_argument('--split_year', type=int)       \n",
    "    parser.add_argument('--model', type=str)\n",
    "    parser.add_argument('--featureset', type=str)     \n",
    "    parser.add_argument('--target', type=str)\n",
    "    args, _ = parser.parse_known_args()    \n",
    "    print('Received arguments {}'.format(args))\n",
    "    \n",
    "    featureset=args.featureset.split(',')\n",
    "    target_column=args.target\n",
    "    #prediction will be added into the dataset in column \"model_name-fold\"\n",
    "    model_name=args.model\n",
    "    models_path = '/opt/ml/processing/input/model/'\n",
    "    models_file='output.tar.gz'\n",
    "    input_data_path = os.path.join('/opt/ml/processing/input', args.data_file)\n",
    "    auc_metrics_data_path = '/opt/ml/processing/output_metrics/auc_metrics.csv'\n",
    "    gini_metrics_data_path = '/opt/ml/processing/output_metrics/gini_metrics.csv'    \n",
    "    importance_data_path = '/opt/ml/processing/output_importance/importance.csv'    \n",
    "    prediction_data_path = '/opt/ml/processing/output_prediction/prediction.csv' \n",
    "    \n",
    "    print('Extracting models from file %s'%os.path.join(models_path, models_file))\n",
    "    with tarfile.open(os.path.join(models_path, models_file)) as tar:\n",
    "        tar.extractall(models_path)\n",
    "    \n",
    "    \n",
    "\n",
    "    print('Reading dataset from %s'%input_data_path)\n",
    "    dataset = pd.read_csv(input_data_path, error_bad_lines=False, index_col=False)\n",
    "    \n",
    "    print('Creating dataset for prediction')\n",
    "    test_dataset = pd.DataFrame()\n",
    "    for f in featureset:\n",
    "        print(f)\n",
    "        test_dataset[f]=dataset.eval(f)\n",
    "    dataset[target_column]=dataset.eval(target_column) \n",
    "    \n",
    "    print('Creating DMatrix from dataset for prediction')\n",
    "    X_test = xgboost.DMatrix(test_dataset.values)\n",
    "    \n",
    "    #loop thru available models in output.tar.gz which are xgboost-model-fold\n",
    "    #assuming maximum models available is 10 from 0 to 9 in the last position of the file name\n",
    "    Prediction_df = pd.DataFrame()\n",
    "    Scores_df = pd.DataFrame()\n",
    "    FI_df = pd.DataFrame() \n",
    "    for filename in os.listdir(models_path):\n",
    "        if filename.startswith('xgboost-model-fold'):\n",
    "            print('Processing model %s...'%filename)\n",
    "            ind=int(filename[-1])\n",
    "            print('1. Extracting model')\n",
    "            model = pickle.load(open(os.path.join(models_path, filename),'rb'))\n",
    "            \n",
    "            print('2. Prediction')\n",
    "            predictions = model.predict(X_test)\n",
    "            prediction_column_name='%s-%s'%(model_name,ind)\n",
    "            dataset[prediction_column_name]=predictions\n",
    "            Prediction_df=pd.concat([Prediction_df,dataset['%s-%s'%(args.model,ind)]],axis=1)\n",
    "            \n",
    "    \n",
    "            print('3. Evaluation')\n",
    "            test_roc_auc=roc_auc_score(dataset[(dataset.cal_year == args.split_year)][target_column], dataset[(dataset.cal_year == args.split_year)][prediction_column_name])\n",
    "            train_roc_auc=roc_auc_score(dataset[(dataset.cal_year < args.split_year)][target_column], dataset[(dataset.cal_year < args.split_year)][prediction_column_name])\n",
    "    \n",
    "            test_gini=gini(dataset[(dataset.cal_year == args.split_year)][target_column],dataset[(dataset.cal_year == args.split_year)][prediction_column_name])/gini(dataset[(dataset.cal_year == args.split_year)][target_column],dataset[(dataset.cal_year == args.split_year)][target_column])\n",
    "            train_gini=gini(dataset[(dataset.cal_year < args.split_year)][target_column],dataset[(dataset.cal_year < args.split_year)][prediction_column_name])/gini(dataset[(dataset.cal_year < args.split_year)][target_column],dataset[(dataset.cal_year < args.split_year)][target_column])\n",
    "    \n",
    "            TestingDataResults = pd.DataFrame(list(zip([model_name],[ind],[train_roc_auc],[test_roc_auc],[train_gini],[test_gini])), \n",
    "               columns =['Model','fold','Train ROC-AUC','Test ROC-AUC','Train gini','Test gini'])\n",
    "      \n",
    "            Scores_df=pd.concat([Scores_df,TestingDataResults])\n",
    "            \n",
    "    \n",
    "            print('4. Feature Importance')\n",
    "    \n",
    "            fmap_filename=create_fmap(model_name,featureset)\n",
    "            feat_imp = pd.Series(model.get_score(fmap=fmap_filename,importance_type='weight')).to_frame()\n",
    "            feat_imp.columns=['Weight']\n",
    "            feat_imp = feat_imp.join(pd.Series(model.get_score(fmap=fmap_filename,importance_type='gain')).to_frame())\n",
    "            feat_imp.columns=['Weight','Gain']\n",
    "            feat_imp = feat_imp.join(pd.Series(model.get_score(fmap=fmap_filename,importance_type='cover')).to_frame())\n",
    "            feat_imp.columns=['Weight','Gain','Cover']\n",
    "            feat_imp['FeatureName'] = feat_imp.index\n",
    "            feat_imp['Model'] = model_name\n",
    "            feat_imp['fold'] = ind\n",
    "            \n",
    "            FI_df=pd.concat([FI_df,feat_imp])\n",
    "  \n",
    "            if XGBFirFlg:\n",
    "                print('Feature Interaction')\n",
    "                interactions_data_path = '/opt/ml/processing/output_importance/interactions_%s_%s.xlsx'%(model_name,ind)\n",
    "                xgbfir.saveXgbFI(model, feature_names=featureset,  TopK = 500,  MaxTrees = 500, MaxInteractionDepth = 2, OutputXlsxFile = interactions_data_path)           \n",
    "    \n",
    "    print('Averaging results')\n",
    "    #FI\n",
    "    num_folds=FI_df['fold'].max()+1\n",
    "    #number of columns with folds scores depends on the number of folds (num_folds) We do not know in advance how many of them exist in the results\n",
    "    folds_train_columns=[]\n",
    "    folds_test_columns=[]\n",
    "    folds_gain_columns=[]\n",
    "    folds_weight_columns=[]\n",
    "    folds_cover_columns=[]\n",
    "    for i in range(0,int(num_folds),1):\n",
    "        folds_train_columns.append('train-%s-fold'%i)\n",
    "        folds_test_columns.append('test-%s-fold'%i)\n",
    "        folds_gain_columns.append('gain-%s'%i)\n",
    "        folds_weight_columns.append('weight-%s'%i)\n",
    "        folds_cover_columns.append('cover-%s'%i)\n",
    "    print('1. Feature importance')\n",
    "    FI_gain=FI_df[['Model','fold','FeatureName','Gain']]\n",
    "    FI_gain=FI_gain.sort_values(['Model','fold'], ascending=[False,True])\n",
    "    FI_gain = pd.pivot_table(FI_gain, index=['Model','FeatureName'], columns=['fold'])\n",
    "    FI_gain.reset_index( drop=False, inplace=True )\n",
    "    FI_gain.columns = FI_gain.columns.droplevel(0)\n",
    "    FI_gain.columns =['Model','feature']+folds_gain_columns\n",
    "    FI_gain['gain-mean']=FI_gain[folds_gain_columns].mean(axis=1)\n",
    "    FI_gain['gainc-std']=FI_gain[folds_gain_columns].std(axis=1)\n",
    "    FI_gain['gain-sem']=FI_gain[folds_gain_columns].sem(axis=1)\n",
    "    #\n",
    "    FI_weight=FI_df[['Model','fold','FeatureName','Weight']]\n",
    "    FI_weight=FI_weight.sort_values(['Model','fold'], ascending=[False,True])\n",
    "    FI_weight = pd.pivot_table(FI_weight, index=['Model','FeatureName'], columns=['fold'])\n",
    "    FI_weight.reset_index( drop=False, inplace=True )\n",
    "    FI_weight.columns = FI_weight.columns.droplevel(0)\n",
    "    FI_weight.columns =['Model','feature']+folds_weight_columns\n",
    "    FI_weight['weight-mean']=FI_weight[folds_weight_columns].mean(axis=1)\n",
    "    FI_weight['weightc-std']=FI_weight[folds_weight_columns].std(axis=1)\n",
    "    FI_weight['weight-sem']=FI_weight[folds_weight_columns].sem(axis=1)   \n",
    "    #\n",
    "    FI_cover=FI_df[['Model','fold','FeatureName','Cover']]\n",
    "    FI_cover=FI_cover.sort_values(['Model','fold'], ascending=[False,True])\n",
    "    FI_cover = pd.pivot_table(FI_cover, index=['Model','FeatureName'], columns=['fold'])\n",
    "    FI_cover.reset_index( drop=False, inplace=True )\n",
    "    FI_cover.columns = FI_cover.columns.droplevel(0)\n",
    "    FI_cover.columns =['Model','feature']+folds_cover_columns\n",
    "    FI_cover['cover-mean']=FI_cover[folds_cover_columns].mean(axis=1)\n",
    "    FI_cover['coverc-std']=FI_cover[folds_cover_columns].std(axis=1)\n",
    "    FI_cover['cover-sem']=FI_cover[folds_cover_columns].sem(axis=1) \n",
    "    FI_df=pd.merge(FI_gain, FI_weight, on=['Model','feature'], how='inner')\n",
    "    FI_df=pd.merge(FI_df, FI_cover, on=['Model','feature'], how='inner')\n",
    "    \n",
    "    print('Saving importance...')\n",
    "    FI_df.to_csv(importance_data_path, header=True, index=False)\n",
    "    \n",
    "    print('2. Prediction')\n",
    "    Prediction_df[model_name]=Prediction_df.mean(axis=1)\n",
    "    dataset[model_name]=Prediction_df[model_name]\n",
    "    \n",
    "    print('Saving predictions...')\n",
    "    Prediction_df.to_csv(prediction_data_path, header=True, index=False)\n",
    "    \n",
    "    print('2. Scores')\n",
    "    \n",
    "    \n",
    "    train_ROCAUC = Scores_df[['Model','fold','Train ROC-AUC']].copy()\n",
    "    train_ROCAUC.columns=['Model','fold','train:auc']\n",
    "    train_ROCAUC=train_ROCAUC.sort_values(['Model','fold'], ascending=[False,True])\n",
    "    train_ROCAUC = pd.pivot_table(train_ROCAUC, index=['Model'], columns=['fold'])\n",
    "    train_ROCAUC.reset_index( drop=False, inplace=True )\n",
    "    train_ROCAUC.columns = train_ROCAUC.columns.droplevel(0)\n",
    "    train_ROCAUC.columns =['Model']+folds_train_columns\n",
    "    train_ROCAUC['train-auc-mean']=train_ROCAUC[folds_train_columns].mean(axis=1)\n",
    "    train_ROCAUC['train-auc-std']=train_ROCAUC[folds_train_columns].std(axis=1)\n",
    "    train_ROCAUC['train-auc-sem']=train_ROCAUC[folds_train_columns].sem(axis=1)\n",
    "\n",
    "    test_ROCAUC = Scores_df[['Model','fold','Test ROC-AUC']].copy()\n",
    "    test_ROCAUC.columns=['Model','fold','test:auc']\n",
    "    test_ROCAUC=test_ROCAUC.sort_values(['Model','fold'], ascending=[False,True])\n",
    "    test_ROCAUC = pd.pivot_table(test_ROCAUC, index=['Model'], columns=['fold'])\n",
    "    test_ROCAUC.reset_index( drop=False, inplace=True )\n",
    "    test_ROCAUC.columns = test_ROCAUC.columns.droplevel(0)\n",
    "    test_ROCAUC.columns =['Model']+folds_test_columns\n",
    "    test_ROCAUC['test-auc-mean']=test_ROCAUC[folds_test_columns].mean(axis=1)\n",
    "    test_ROCAUC['test-auc-std']=test_ROCAUC[folds_test_columns].std(axis=1)\n",
    "    test_ROCAUC['test-auc-sem']=test_ROCAUC[folds_test_columns].sem(axis=1)\n",
    "    \n",
    "    AUC_Scores_df = pd.merge(train_ROCAUC, test_ROCAUC, on=['Model'], how='inner')\n",
    "    \n",
    "    train_gini = Scores_df[['Model','fold','Train gini']].copy()\n",
    "    train_gini.columns=['Model','fold','train:gini']\n",
    "    train_gini=train_gini.sort_values(['Model','fold'], ascending=[False,True])\n",
    "    train_gini = pd.pivot_table(train_gini, index=['Model'], columns=['fold'])\n",
    "    train_gini.reset_index( drop=False, inplace=True )\n",
    "    train_gini.columns = train_gini.columns.droplevel(0)\n",
    "    train_gini.columns =['Model']+folds_train_columns\n",
    "    train_gini['train-gini-mean']=train_gini[folds_train_columns].mean(axis=1)\n",
    "    train_gini['train-gini-std']=train_gini[folds_train_columns].std(axis=1)\n",
    "    train_gini['train-gini-sem']=train_gini[folds_train_columns].sem(axis=1)\n",
    "    \n",
    "    \n",
    "    test_gini = Scores_df[['Model','fold','Test gini']].copy()\n",
    "    test_gini.columns=['Model','fold','test:gini']\n",
    "    test_gini=test_gini.sort_values(['Model','fold'], ascending=[False,True])\n",
    "    test_gini = pd.pivot_table(test_gini, index=['Model'], columns=['fold'])\n",
    "    test_gini.reset_index( drop=False, inplace=True )\n",
    "    test_gini.columns = test_gini.columns.droplevel(0)\n",
    "    test_gini.columns =['Model']+folds_test_columns\n",
    "    test_gini['test-gini-mean']=test_gini[folds_test_columns].mean(axis=1)\n",
    "    test_gini['test-gini-std']=test_gini[folds_test_columns].std(axis=1)\n",
    "    test_gini['test-gini-sem']=test_gini[folds_test_columns].sem(axis=1)\n",
    "    \n",
    "    gini_Scores_df = pd.merge(train_gini, test_gini, on=['Model'], how='inner')\n",
    "    \n",
    "    print('3. Scores on folds average prediction')\n",
    "    \n",
    "    test_roc_auc=roc_auc_score(dataset[(dataset.cal_year == args.split_year)][target_column], dataset[(dataset.cal_year == args.split_year)][model_name])\n",
    "    train_roc_auc=roc_auc_score(dataset[(dataset.cal_year < args.split_year)][target_column], dataset[(dataset.cal_year < args.split_year)][model_name])\n",
    "    \n",
    "    test_gini=gini(dataset[(dataset.cal_year == args.split_year)][target_column],dataset[(dataset.cal_year == args.split_year)][model_name])/gini(dataset[(dataset.cal_year == args.split_year)][target_column],dataset[(dataset.cal_year == args.split_year)][target_column])\n",
    "    train_gini=gini(dataset[(dataset.cal_year < args.split_year)][target_column],dataset[(dataset.cal_year < args.split_year)][model_name])/gini(dataset[(dataset.cal_year < args.split_year)][target_column],dataset[(dataset.cal_year < args.split_year)][target_column])\n",
    "    \n",
    "    TestingDataResults = pd.DataFrame(list(zip([model_name],[-1],[train_roc_auc],[test_roc_auc],[train_gini],[test_gini])), \n",
    "               columns =['Model','fold','Train ROC-AUC','Test ROC-AUC','Train gini','Test gini'])\n",
    "      \n",
    "    FinalDataResults = pd.DataFrame(list(zip([train_roc_auc],[test_roc_auc],[train_gini],[test_gini])), \n",
    "               columns =['final-train-auc','final-test-auc','final-train-gini','final-test-gini'])\n",
    "    \n",
    "    AUC_Scores_df=pd.concat([AUC_Scores_df,FinalDataResults[['final-train-auc','final-test-auc']]],axis=1)\n",
    "    gini_Scores_df=pd.concat([gini_Scores_df,FinalDataResults[['final-train-gini','final-test-gini']]],axis=1)\n",
    "    \n",
    "    print('Saving scores...')\n",
    "    AUC_Scores_df.to_csv(auc_metrics_data_path, header=True, index=False)\n",
    "    gini_Scores_df.to_csv(gini_metrics_data_path, header=True, index=False)"
   ]
  },
  {
   "cell_type": "code",
   "execution_count": 12,
   "metadata": {},
   "outputs": [
    {
     "data": {
      "text/html": [
       "<div>\n",
       "<style scoped>\n",
       "    .dataframe tbody tr th:only-of-type {\n",
       "        vertical-align: middle;\n",
       "    }\n",
       "\n",
       "    .dataframe tbody tr th {\n",
       "        vertical-align: top;\n",
       "    }\n",
       "\n",
       "    .dataframe thead th {\n",
       "        text-align: right;\n",
       "    }\n",
       "</style>\n",
       "<table border=\"1\" class=\"dataframe\">\n",
       "  <thead>\n",
       "    <tr style=\"text-align: right;\">\n",
       "      <th></th>\n",
       "      <th>Model</th>\n",
       "      <th>F1</th>\n",
       "      <th>F2</th>\n",
       "      <th>F3</th>\n",
       "      <th>F4</th>\n",
       "      <th>F5</th>\n",
       "      <th>F6</th>\n",
       "      <th>ModelData</th>\n",
       "    </tr>\n",
       "  </thead>\n",
       "  <tbody>\n",
       "    <tr>\n",
       "      <th>0</th>\n",
       "      <td>BaseModel</td>\n",
       "      <td>cal_year-yearbuilt</td>\n",
       "      <td>cova_deductible</td>\n",
       "      <td>sqft</td>\n",
       "      <td>customer_cnt_active_policies</td>\n",
       "      <td>usagetype_encd</td>\n",
       "      <td>water_risk_3_blk</td>\n",
       "      <td>s3://kdproperty/Models/Experiments/Exp1/BaseMo...</td>\n",
       "    </tr>\n",
       "  </tbody>\n",
       "</table>\n",
       "</div>"
      ],
      "text/plain": [
       "       Model                  F1               F2    F3  \\\n",
       "0  BaseModel  cal_year-yearbuilt  cova_deductible  sqft   \n",
       "\n",
       "                             F4              F5                F6  \\\n",
       "0  customer_cnt_active_policies  usagetype_encd  water_risk_3_blk   \n",
       "\n",
       "                                           ModelData  \n",
       "0  s3://kdproperty/Models/Experiments/Exp1/BaseMo...  "
      ]
     },
     "execution_count": 12,
     "metadata": {},
     "output_type": "execute_result"
    }
   ],
   "source": [
    "models = pd.merge(model_features, model_files, on='Model', how='inner')\n",
    "models"
   ]
  },
  {
   "cell_type": "code",
   "execution_count": 13,
   "metadata": {},
   "outputs": [
    {
     "name": "stderr",
     "output_type": "stream",
     "text": [
      "WARNING:sagemaker.deprecations:The method get_image_uri has been renamed in sagemaker>=2.\n",
      "See: https://sagemaker.readthedocs.io/en/stable/v2.html for details.\n",
      "INFO:sagemaker.image_uris:Same images used for training and inference. Defaulting to image scope: inference.\n",
      "INFO:sagemaker.image_uris:Defaulting to only available Python version: py3\n",
      "INFO:sagemaker.image_uris:Defaulting to only supported image scope: cpu.\n",
      "INFO:botocore.credentials:Found credentials in shared credentials file: ~/.aws/credentials\n"
     ]
    },
    {
     "name": "stdout",
     "output_type": "stream",
     "text": [
      "0 : Prediction from model BaseModel: cal_year-yearbuilt,cova_deductible,sqft,customer_cnt_active_policies,usagetype_encd,water_risk_3_blk\n"
     ]
    },
    {
     "name": "stderr",
     "output_type": "stream",
     "text": [
      "INFO:sagemaker:Creating processing-job with name BaseModel-2021-06-16-20-36-59-115\n"
     ]
    },
    {
     "name": "stdout",
     "output_type": "stream",
     "text": [
      "\n",
      "Job Name:  BaseModel-2021-06-16-20-36-59-115\n",
      "Inputs:  [{'InputName': 'input-1', 'AppManaged': False, 'S3Input': {'S3Uri': 's3://kdproperty/Data/property_water_claims_non_cat_fs_v6.csv', 'LocalPath': '/opt/ml/processing/input', 'S3DataType': 'S3Prefix', 'S3InputMode': 'File', 'S3DataDistributionType': 'FullyReplicated', 'S3CompressionType': 'None'}}, {'InputName': 'input-2', 'AppManaged': False, 'S3Input': {'S3Uri': 's3://kdproperty/Models/Experiments/Exp1/BaseModel-1-2021-06-16-15-16-46/output/output.tar.gz', 'LocalPath': '/opt/ml/processing/input/model', 'S3DataType': 'S3Prefix', 'S3InputMode': 'File', 'S3DataDistributionType': 'FullyReplicated', 'S3CompressionType': 'None'}}, {'InputName': 'code', 'AppManaged': False, 'S3Input': {'S3Uri': 's3://sagemaker-us-west-2-757107622481/BaseModel-2021-06-16-20-36-59-115/input/code/CVBestModelsEvaluation.py', 'LocalPath': '/opt/ml/processing/input/code', 'S3DataType': 'S3Prefix', 'S3InputMode': 'File', 'S3DataDistributionType': 'FullyReplicated', 'S3CompressionType': 'None'}}]\n",
      "Outputs:  [{'OutputName': 'metrics', 'AppManaged': False, 'S3Output': {'S3Uri': 's3://kdproperty/Data/Experiments/Test2020/output_metrics/BaseModel', 'LocalPath': '/opt/ml/processing/output_metrics', 'S3UploadMode': 'EndOfJob'}}, {'OutputName': 'importance', 'AppManaged': False, 'S3Output': {'S3Uri': 's3://kdproperty/Data/Experiments/Test2020/output_importance/BaseModel', 'LocalPath': '/opt/ml/processing/output_importance', 'S3UploadMode': 'EndOfJob'}}, {'OutputName': 'prediction', 'AppManaged': False, 'S3Output': {'S3Uri': 's3://kdproperty/Data/Experiments/Test2020/output_prediction/BaseModel', 'LocalPath': '/opt/ml/processing/output_prediction', 'S3UploadMode': 'EndOfJob'}}]\n"
     ]
    }
   ],
   "source": [
    "from sagemaker.amazon.amazon_estimator import get_image_uri\n",
    "processors=list()\n",
    "image_uri = get_image_uri(boto3.Session().region_name,\n",
    "                          'xgboost', \n",
    "                          repo_version='1.0-1') \n",
    "regex = re.compile('F[ 0-9]')\n",
    "for index, row in models.iterrows():\n",
    "    model=row['Model']\n",
    "\n",
    "    \n",
    "    featureset = []\n",
    "    for c in models.columns:\n",
    "        if bool(re.match(regex, c)):\n",
    "            featureset.append(row[c])\n",
    "    print (index, ': Prediction from model %s: %s'%(model,','.join(featureset).replace(' ','')))\n",
    "    data_processor = ScriptProcessor(\n",
    "    image_uri=image_uri,\n",
    "    command=['python3'],\n",
    "    instance_type=instance_type,\n",
    "    instance_count=instance_count,\n",
    "    base_job_name=model.replace('_','-'),\n",
    "    role=role)\n",
    "\n",
    "    data_processor.run(code='CVBestModelsEvaluation.py',\n",
    "                        inputs=[ProcessingInput(source='s3://%s%s'%(bucket,path_to_data_file+data_file),destination='/opt/ml/processing/input'),\n",
    "                                ProcessingInput(source=row['ModelData'],destination='/opt/ml/processing/input/model'),                              \n",
    "                               ],\n",
    "                        outputs=[\n",
    "                        ProcessingOutput(output_name='metrics', source='/opt/ml/processing/output_metrics', destination='s3://%s/%s/output_metrics/%s'%(bucket,path_to_model_evals,model)),\n",
    "                        ProcessingOutput(output_name='importance', source='/opt/ml/processing/output_importance', destination='s3://%s/%s/output_importance/%s'%(bucket,path_to_model_evals,model)) ,\n",
    "                        ProcessingOutput(output_name='prediction', source='/opt/ml/processing/output_prediction', destination='s3://%s/%s/output_prediction/%s'%(bucket,path_to_model_evals,model))\n",
    "                                ],\n",
    "                        arguments=['--data_file',data_file,                                 \n",
    "                                 '--model',model,\n",
    "                                 '--featureset', ','.join(featureset).replace(' ',''),\n",
    "                                 '--target',target,\n",
    "                                 '--split_year',split_year],\n",
    "                        experiment_config = {\n",
    "        'ExperimentName': Experiment_name ,\n",
    "        'TrialName' : Trial_name_processing,\n",
    "        'TrialComponentDisplayName' : Trial_name_processing},\n",
    "                        wait=False\n",
    "                        )\n",
    "    processors.append(data_processor)"
   ]
  },
  {
   "cell_type": "code",
   "execution_count": 14,
   "metadata": {},
   "outputs": [
    {
     "name": "stdout",
     "output_type": "stream",
     "text": [
      "Processing job BaseModel-2021-06-16-20-36-59-115 status: InProgress\n",
      "Continue waiting...\n",
      "Processing job BaseModel-2021-06-16-20-36-59-115 status: InProgress\n",
      "Continue waiting...\n",
      "Processing job BaseModel-2021-06-16-20-36-59-115 status: InProgress\n",
      "Continue waiting...\n",
      "Processing job BaseModel-2021-06-16-20-36-59-115 status: InProgress\n",
      "Continue waiting...\n",
      "All Processing Jobs are Completed\n"
     ]
    }
   ],
   "source": [
    "#wait till the rest of processing jobs complete\n",
    "eu.wait_processing_jobs(processors=processors,check_every_sec=10,print_every_n_output=10,wait_min=60)"
   ]
  },
  {
   "cell_type": "markdown",
   "metadata": {},
   "source": [
    "5. Reading results, visualisation  and saving into the log experiment"
   ]
  },
  {
   "cell_type": "code",
   "execution_count": 15,
   "metadata": {},
   "outputs": [],
   "source": [
    "#Output files locations\n",
    "FileLocations_df=pd.DataFrame(columns=['Model', 'AUC Scores', 'gini Scores', 'Importance', 'Interactions','Prediction'])\n",
    "for index, row in models.iterrows():\n",
    "    model=row['Model']\n",
    "    AUC_Scores_location='s3://%s/%s/output_metrics/%s/auc_metrics.csv'%(bucket,path_to_model_evals,model)\n",
    "    gini_Scores_location='s3://%s/%s/output_metrics/%s/gini_metrics.csv'%(bucket,path_to_model_evals,model)\n",
    "    FI_location='s3://%s/%s/output_importance/%s/importance.csv'%(bucket,path_to_model_evals,model)\n",
    "    Interactions_location='s3://%s/%s/output_importance/%s/interactions_%s_FoldNumber.xlsx'%(bucket,path_to_model_evals,model,model)\n",
    "    Prediction_location='s3://%s/%soutput_prediction/%s/prediction.csv'%(bucket,path_to_model_evals,model)\n",
    "    FileLocations_df.loc[index]=[model, AUC_Scores_location,gini_Scores_location,FI_location,Interactions_location,Prediction_location]"
   ]
  },
  {
   "cell_type": "code",
   "execution_count": 16,
   "metadata": {},
   "outputs": [],
   "source": [
    "#Saving into the Experiment log \n",
    "eu.SaveToExperimentLog(Experiments_file, '%s OutputData'%Experiment_name, FileLocations_df)"
   ]
  },
  {
   "cell_type": "code",
   "execution_count": 17,
   "metadata": {},
   "outputs": [],
   "source": [
    "AUC_Scores=pd.DataFrame()\n",
    "gini_Scores=pd.DataFrame()\n",
    "FeatureImportance = pd.DataFrame()\n",
    "for index, row in models.iterrows():\n",
    "    model=row['Model']\n",
    "    \n",
    "    AUC_Scores_location='s3://%s/%s/output_metrics/%s/auc_metrics.csv'%(bucket,path_to_model_evals,model) \n",
    "    ModelAUC_Scores=pd.read_csv(AUC_Scores_location,  error_bad_lines=False, index_col=False) \n",
    "    AUC_Scores = AUC_Scores.append(ModelAUC_Scores, ignore_index=True)    \n",
    "    \n",
    "    gini_Scores_location='s3://%s/%s/output_metrics/%s/gini_metrics.csv'%(bucket,path_to_model_evals,model) \n",
    "    Modelgini_Scores=pd.read_csv(gini_Scores_location,  error_bad_lines=False, index_col=False) \n",
    "    gini_Scores = gini_Scores.append(Modelgini_Scores, ignore_index=True)     \n",
    "    \n",
    "    FI_location='s3://%s/%s/output_importance/%s/importance.csv'%(bucket,path_to_model_evals,model) \n",
    "    ModelFeatureImportance=pd.read_csv(FI_location,  error_bad_lines=False, index_col=False) \n",
    "    FeatureImportance = FeatureImportance.append(ModelFeatureImportance, ignore_index=True)    \n"
   ]
  },
  {
   "cell_type": "code",
   "execution_count": 18,
   "metadata": {},
   "outputs": [
    {
     "name": "stderr",
     "output_type": "stream",
     "text": [
      "<ipython-input-18-1c6d190ba8bc>:9: UserWarning: FixedFormatter should only be used together with FixedLocator\n",
      "  ax.set_xticklabels(data['feature'].values,rotation=90)\n",
      "<ipython-input-18-1c6d190ba8bc>:16: UserWarning: FixedFormatter should only be used together with FixedLocator\n",
      "  ax.set_xticklabels(data['feature'].values,rotation=90)\n",
      "<ipython-input-18-1c6d190ba8bc>:22: UserWarning: FixedFormatter should only be used together with FixedLocator\n",
      "  ax.set_xticklabels(data['feature'].values,rotation=90)\n"
     ]
    },
    {
     "data": {
      "image/png": "[encoded data removed]",
      "text/plain": [
       "<Figure size 1440x360 with 3 Axes>"
      ]
     },
     "metadata": {
      "needs_background": "light"
     },
     "output_type": "display_data"
    }
   ],
   "source": [
    "for index, row in models.iterrows():\n",
    "        data=FeatureImportance.sort_values('gain-mean',ascending=False)\n",
    "        fig, axs = plt.subplots(nrows=1, ncols=3,figsize=(20,5)) \n",
    "        fig.suptitle('%s %s'%(row['Model'],index))\n",
    "                \n",
    "        ax = axs[0]\n",
    "        ax.errorbar(data['feature'], data['gain-mean'], color = 'blue',  ecolor='lightgray', elinewidth=3, capsize=0,yerr=data['gain-sem'], fmt='o')\n",
    "        ax.set_title('Gain')\n",
    "        ax.set_xticklabels(data['feature'].values,rotation=90)\n",
    "           \n",
    " \n",
    "        data=data.sort_values('weight-mean',ascending=False)\n",
    "        ax = axs[1]\n",
    "        ax.errorbar(data['feature'], data['weight-mean'], color = 'blue',  ecolor='lightgray', elinewidth=3, capsize=0,yerr=data['weight-sem'], fmt='o')\n",
    "        ax.set_title('Weight')\n",
    "        ax.set_xticklabels(data['feature'].values,rotation=90)\n",
    "                         \n",
    "        data=data.sort_values('cover-mean',ascending=False)\n",
    "        ax = axs[2]\n",
    "        ax.errorbar(data['feature'], data['cover-mean'], color = 'blue',  ecolor='lightgray', elinewidth=3, capsize=0,yerr=data['weight-sem'], fmt='o')\n",
    "        ax.set_title('Cover')\n",
    "        ax.set_xticklabels(data['feature'].values,rotation=90)"
   ]
  },
  {
   "cell_type": "code",
   "execution_count": 19,
   "metadata": {},
   "outputs": [
    {
     "name": "stderr",
     "output_type": "stream",
     "text": [
      "INFO:numexpr.utils:NumExpr defaulting to 8 threads.\n"
     ]
    },
    {
     "data": {
      "text/plain": [
       "Text(0.5, 0.98, 'Means of AUC with standard error of the mean')"
      ]
     },
     "execution_count": 19,
     "metadata": {},
     "output_type": "execute_result"
    },
    {
     "data": {
      "image/png": "[encoded data removed]",
      "text/plain": [
       "<Figure size 1440x720 with 2 Axes>"
      ]
     },
     "metadata": {
      "needs_background": "light"
     },
     "output_type": "display_data"
    }
   ],
   "source": [
    "#Excluding from chart models which did not learn anything (0.5 is random guessing)\n",
    "data = AUC_Scores[AUC_Scores['test-auc-mean']>0.5].copy()\n",
    "#list of models for xticks\n",
    "data['xticks']=data['Model'].astype(str) \n",
    "xticks=data['xticks'].unique().tolist()\n",
    "\n",
    "\n",
    "# The x position \n",
    "r1 = np.arange(len(data))\n",
    "fig, axs = plt.subplots(nrows=2, ncols=1, sharex=True,figsize=(20,10))\n",
    "ax = axs[0]\n",
    "ax.errorbar(r1, data['test-auc-mean'], color = 'cyan',  ecolor='lightgray', elinewidth=3, capsize=0,yerr=data['test-auc-sem'], fmt='o')\n",
    "ax.set_title('test-auc-mean')\n",
    "ax = axs[1]\n",
    "ax.errorbar(r1, data['train-auc-mean'],  color = 'blue',  ecolor='lightgray', elinewidth=3,capsize=0, yerr=data['train-auc-sem'],  fmt='o')\n",
    "ax.set_title('train-auc-mean')\n",
    "ax.set_xticks([r  for r in range(len(data))])\n",
    "ax.set_xticklabels(xticks,rotation=90)\n",
    "fig.suptitle('Means of AUC with standard error of the mean')"
   ]
  },
  {
   "cell_type": "code",
   "execution_count": 20,
   "metadata": {},
   "outputs": [
    {
     "data": {
      "text/plain": [
       "Text(0.5, 0.98, 'Means of Gini with standard error of the mean')"
      ]
     },
     "execution_count": 20,
     "metadata": {},
     "output_type": "execute_result"
    },
    {
     "data": {
      "image/png": "[encoded data removed]",
      "text/plain": [
       "<Figure size 1440x720 with 2 Axes>"
      ]
     },
     "metadata": {
      "needs_background": "light"
     },
     "output_type": "display_data"
    }
   ],
   "source": [
    "data = gini_Scores.copy()\n",
    "#list of models for xticks\n",
    "data['xticks']=data['Model'].astype(str) \n",
    "xticks=data['xticks'].unique().tolist()\n",
    "\n",
    "\n",
    "# The x position \n",
    "r1 = np.arange(len(data))\n",
    "fig, axs = plt.subplots(nrows=2, ncols=1, sharex=True,figsize=(20,10))\n",
    "ax = axs[0]\n",
    "ax.errorbar(r1, data['test-gini-mean'], color = 'cyan',  ecolor='lightgray', elinewidth=3, capsize=0,yerr=data['test-gini-sem'], fmt='o')\n",
    "ax.set_title('test-gini-mean')\n",
    "ax = axs[1]\n",
    "ax.errorbar(r1, data['train-gini-mean'],  color = 'blue',  ecolor='lightgray', elinewidth=3,capsize=0, yerr=data['train-gini-sem'],  fmt='o')\n",
    "ax.set_title('train-gini-mean')\n",
    "ax.set_xticks([r  for r in range(len(data))])\n",
    "ax.set_xticklabels(xticks,rotation=90)\n",
    "fig.suptitle('Means of Gini with standard error of the mean')"
   ]
  },
  {
   "cell_type": "code",
   "execution_count": 21,
   "metadata": {},
   "outputs": [],
   "source": [
    "#Saving into the Experiment log \n",
    "eu.SaveToExperimentLog(Experiments_file, '%s AUC Scores'%Experiment_name, AUC_Scores)"
   ]
  },
  {
   "cell_type": "code",
   "execution_count": 22,
   "metadata": {},
   "outputs": [],
   "source": [
    "#Saving into the Experiment log \n",
    "eu.SaveToExperimentLog(Experiments_file, '%s gini Scores'%Experiment_name, gini_Scores)"
   ]
  },
  {
   "cell_type": "code",
   "execution_count": 23,
   "metadata": {},
   "outputs": [],
   "source": [
    "#Saving into the Experiment log \n",
    "eu.SaveToExperimentLog(Experiments_file, '%s FI'%Experiment_name, FeatureImportance)"
   ]
  }
 ],
 "metadata": {
  "kernelspec": {
   "display_name": "Python 3",
   "language": "python",
   "name": "python3"
  },
  "language_info": {
   "codemirror_mode": {
    "name": "ipython",
    "version": 3
   },
   "file_extension": ".py",
   "mimetype": "text/x-python",
   "name": "python",
   "nbconvert_exporter": "python",
   "pygments_lexer": "ipython3",
   "version": "3.8.5"
  }
 },
 "nbformat": 4,
 "nbformat_minor": 4
}
