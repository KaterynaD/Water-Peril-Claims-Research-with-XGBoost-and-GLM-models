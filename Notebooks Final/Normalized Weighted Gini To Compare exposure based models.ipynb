{
 "cells": [
  {
   "cell_type": "code",
   "execution_count": 1,
   "metadata": {},
   "outputs": [],
   "source": [
    "import pandas as pd\n",
    "import numpy as np\n",
    "\n",
    "#for analyzing results: charts and t-test\n",
    "import scipy.stats as stats\n",
    "from matplotlib import pyplot as plt\n",
    "\n",
    "import warnings\n",
    "warnings.filterwarnings('ignore')"
   ]
  },
  {
   "cell_type": "code",
   "execution_count": 2,
   "metadata": {},
   "outputs": [],
   "source": [
    "#Significance level for t-test\n",
    "alpha=0.05"
   ]
  },
  {
   "cell_type": "code",
   "execution_count": 3,
   "metadata": {},
   "outputs": [],
   "source": [
    "testing_dataset = pd.read_csv('/home/kate/Research/Property/Data/Experiments/Final/testing/Ecy/testing_Ecy.csv', error_bad_lines=False, index_col=False)"
   ]
  },
  {
   "cell_type": "markdown",
   "metadata": {},
   "source": [
    "XGBoost Classification  model result"
   ]
  },
  {
   "cell_type": "code",
   "execution_count": 4,
   "metadata": {},
   "outputs": [],
   "source": [
    "classification_ecy=pd.read_csv('/home/kate/Research/Property/Models/Experiments/Final/Ecy-2/test_predictions.csv', error_bad_lines=False, index_col=False)"
   ]
  },
  {
   "cell_type": "markdown",
   "metadata": {},
   "source": [
    "Poisson Regression XGBoost models results"
   ]
  },
  {
   "cell_type": "code",
   "execution_count": 5,
   "metadata": {},
   "outputs": [],
   "source": [
    "#ecy as a feature\n",
    "poisson_BaseModel=pd.read_csv('/home/kate/Research/Property/Models/Experiments/BasicPoisson/BaseModel-0/test_predictions.csv', error_bad_lines=False, index_col=False)"
   ]
  },
  {
   "cell_type": "code",
   "execution_count": 6,
   "metadata": {},
   "outputs": [],
   "source": [
    "#Log ecy as a feature\n",
    "poisson_Log=pd.read_csv('/home/kate/Research/Property/Models/Experiments/BasicPoisson/Log-1/test_predictions.csv', error_bad_lines=False, index_col=False)"
   ]
  },
  {
   "cell_type": "code",
   "execution_count": 7,
   "metadata": {},
   "outputs": [],
   "source": [
    "#ecy is an Offset (base Margin in XGBoost)\n",
    "poisson_Offset=pd.read_csv('/home/kate/Research/Property/Models/Experiments/BasicPoisson/Offset-2/test_predictions.csv', error_bad_lines=False, index_col=False)"
   ]
  },
  {
   "cell_type": "code",
   "execution_count": 8,
   "metadata": {},
   "outputs": [],
   "source": [
    "#ecy is an Offset (base Margin in XGBoost)\n",
    "poisson_Offsetlog=pd.read_csv('/home/kate/Research/Property/Models/Experiments/BasicPoisson/Offsetlog-3/test_predictions.csv', error_bad_lines=False, index_col=False)"
   ]
  },
  {
   "cell_type": "code",
   "execution_count": 9,
   "metadata": {},
   "outputs": [],
   "source": [
    "#Normalized Weighted Gini\n",
    "#https://www.kaggle.com/c/liberty-mutual-fire-peril/discussion/9880\n",
    "#http://blog.nguyenvq.com/blog/2015/09/25/calculate-the-weighted-gini-coefficient-or-auc-in-r/\n",
    "def WeightedGini(act,pred,weight): \n",
    "    df = pd.DataFrame({\"act\":act,\"pred\":pred,\"weight\":weight}) \n",
    "    df = df.sort_values('pred',ascending=False) \n",
    "    df[\"random\"] = (df.weight / df.weight.sum()).cumsum() \n",
    "    total_pos = (df.act * df.weight).sum()\n",
    "    df[\"cumposfound\"] = (df.act * df.weight).cumsum()\n",
    "    df[\"lorentz\"] = df.cumposfound / total_pos\n",
    "    n = df.shape[0]\n",
    "    gini = sum(df.lorentz[1:].values * (df.random[:-1])) - sum(df.lorentz[:-1].values * (df.random[1:]))\n",
    "    return gini\n",
    "\n",
    "def NormalizedWeightedGini(act,pred,weight):\n",
    "    return WeightedGini(act,pred,weight) / WeightedGini(act,act,weight)\n",
    "#Test\n",
    "#var11 = [1, 2, 5, 4, 3] \n",
    "#pred = [0.1, 0.4, 0.3, 1.2, 0.0]\n",
    "#act = [0, 0, 1, 0, 1]\n",
    "#normalizedweightedgini(act,pred,var11)\n",
    "#-0.821428571428572"
   ]
  },
  {
   "cell_type": "code",
   "execution_count": 10,
   "metadata": {},
   "outputs": [],
   "source": [
    "Score_dataset = pd.DataFrame(columns=['Model','0','1','2','3','4','5','6','7','8','9'])"
   ]
  },
  {
   "cell_type": "code",
   "execution_count": 11,
   "metadata": {},
   "outputs": [],
   "source": [
    "#XGBoost Classification score\n",
    "score_l=['Classification with ecy']\n",
    "for i in range(0,10):\n",
    "    score = NormalizedWeightedGini(classification_ecy['actual'],classification_ecy[str(i)],testing_dataset['ecy'])\n",
    "    score_l.append(score)\n",
    "Score_dataset.loc[0]=score_l"
   ]
  },
  {
   "cell_type": "code",
   "execution_count": 12,
   "metadata": {},
   "outputs": [],
   "source": [
    "#XGBoost Poisson ecy as a feature\n",
    "score_l=['Poisson ecy as a feature']\n",
    "for i in range(0,10):\n",
    "    score = NormalizedWeightedGini(poisson_BaseModel['actual'],poisson_BaseModel[str(i)],testing_dataset['ecy'])\n",
    "    score_l.append(score)\n",
    "Score_dataset.loc[1]=score_l"
   ]
  },
  {
   "cell_type": "code",
   "execution_count": 13,
   "metadata": {},
   "outputs": [],
   "source": [
    "#XGBoost Poisson ecy as a feature\n",
    "score_l=['Poisson Log ecy as a feature']\n",
    "for i in range(0,10):\n",
    "    score = NormalizedWeightedGini(poisson_Log['actual'],poisson_Log[str(i)],testing_dataset['ecy'])\n",
    "    score_l.append(score)\n",
    "Score_dataset.loc[2]=score_l"
   ]
  },
  {
   "cell_type": "code",
   "execution_count": 14,
   "metadata": {},
   "outputs": [],
   "source": [
    "#XGBoost Poisson ecy as an offset(base margin)\n",
    "score_l=['Poisson ecy as an offset(base margin)']\n",
    "for i in range(0,10):\n",
    "    score = NormalizedWeightedGini(poisson_Offset['actual'],poisson_Offset[str(i)],testing_dataset['ecy'])\n",
    "    score_l.append(score)\n",
    "Score_dataset.loc[3]=score_l"
   ]
  },
  {
   "cell_type": "code",
   "execution_count": 15,
   "metadata": {},
   "outputs": [],
   "source": [
    "#XGBoost Poisson Log ecy as an offset(base margin)\n",
    "score_l=['Poisson Log ecy as an offset(base margin)']\n",
    "for i in range(0,10):\n",
    "    score = NormalizedWeightedGini(poisson_Offsetlog['actual'],poisson_Offsetlog[str(i)],testing_dataset['ecy'])\n",
    "    score_l.append(score)\n",
    "Score_dataset.loc[4]=score_l"
   ]
  },
  {
   "cell_type": "code",
   "execution_count": 16,
   "metadata": {},
   "outputs": [],
   "source": [
    "folds_columns = Score_dataset.loc[:,Score_dataset.columns !='Model'].columns.to_list()\n",
    "Score_dataset['mean']=Score_dataset[folds_columns].mean(axis=1)\n",
    "Score_dataset['std']=Score_dataset[folds_columns].std(axis=1)\n",
    "Score_dataset['sem']=Score_dataset[folds_columns].sem(axis=1)"
   ]
  },
  {
   "cell_type": "code",
   "execution_count": 17,
   "metadata": {},
   "outputs": [
    {
     "data": {
      "text/html": [
       "<div>\n",
       "<style scoped>\n",
       "    .dataframe tbody tr th:only-of-type {\n",
       "        vertical-align: middle;\n",
       "    }\n",
       "\n",
       "    .dataframe tbody tr th {\n",
       "        vertical-align: top;\n",
       "    }\n",
       "\n",
       "    .dataframe thead th {\n",
       "        text-align: right;\n",
       "    }\n",
       "</style>\n",
       "<table border=\"1\" class=\"dataframe\">\n",
       "  <thead>\n",
       "    <tr style=\"text-align: right;\">\n",
       "      <th></th>\n",
       "      <th>Model</th>\n",
       "      <th>0</th>\n",
       "      <th>1</th>\n",
       "      <th>2</th>\n",
       "      <th>3</th>\n",
       "      <th>4</th>\n",
       "      <th>5</th>\n",
       "      <th>6</th>\n",
       "      <th>7</th>\n",
       "      <th>8</th>\n",
       "      <th>9</th>\n",
       "      <th>mean</th>\n",
       "      <th>std</th>\n",
       "      <th>sem</th>\n",
       "    </tr>\n",
       "  </thead>\n",
       "  <tbody>\n",
       "    <tr>\n",
       "      <th>0</th>\n",
       "      <td>Classification with ecy</td>\n",
       "      <td>0.413801</td>\n",
       "      <td>0.411130</td>\n",
       "      <td>0.418034</td>\n",
       "      <td>0.411491</td>\n",
       "      <td>0.413330</td>\n",
       "      <td>0.414921</td>\n",
       "      <td>0.416370</td>\n",
       "      <td>0.410808</td>\n",
       "      <td>0.417323</td>\n",
       "      <td>0.417602</td>\n",
       "      <td>0.414481</td>\n",
       "      <td>0.002782</td>\n",
       "      <td>0.000880</td>\n",
       "    </tr>\n",
       "    <tr>\n",
       "      <th>1</th>\n",
       "      <td>Poisson ecy as a feature</td>\n",
       "      <td>0.438537</td>\n",
       "      <td>0.440718</td>\n",
       "      <td>0.440723</td>\n",
       "      <td>0.439736</td>\n",
       "      <td>0.441457</td>\n",
       "      <td>0.442157</td>\n",
       "      <td>0.440219</td>\n",
       "      <td>0.438181</td>\n",
       "      <td>0.440308</td>\n",
       "      <td>0.440894</td>\n",
       "      <td>0.440293</td>\n",
       "      <td>0.001221</td>\n",
       "      <td>0.000386</td>\n",
       "    </tr>\n",
       "    <tr>\n",
       "      <th>2</th>\n",
       "      <td>Poisson Log ecy as a feature</td>\n",
       "      <td>0.438537</td>\n",
       "      <td>0.440717</td>\n",
       "      <td>0.440723</td>\n",
       "      <td>0.439736</td>\n",
       "      <td>0.441457</td>\n",
       "      <td>0.442157</td>\n",
       "      <td>0.440219</td>\n",
       "      <td>0.438180</td>\n",
       "      <td>0.440308</td>\n",
       "      <td>0.440920</td>\n",
       "      <td>0.440296</td>\n",
       "      <td>0.001222</td>\n",
       "      <td>0.000387</td>\n",
       "    </tr>\n",
       "    <tr>\n",
       "      <th>3</th>\n",
       "      <td>Poisson ecy as an offset(base margin)</td>\n",
       "      <td>0.430078</td>\n",
       "      <td>0.432299</td>\n",
       "      <td>0.431749</td>\n",
       "      <td>0.430132</td>\n",
       "      <td>0.431747</td>\n",
       "      <td>0.433500</td>\n",
       "      <td>0.431418</td>\n",
       "      <td>0.429701</td>\n",
       "      <td>0.430925</td>\n",
       "      <td>0.431514</td>\n",
       "      <td>0.431306</td>\n",
       "      <td>0.001148</td>\n",
       "      <td>0.000363</td>\n",
       "    </tr>\n",
       "    <tr>\n",
       "      <th>4</th>\n",
       "      <td>Poisson Log ecy as an offset(base margin)</td>\n",
       "      <td>0.440321</td>\n",
       "      <td>0.441971</td>\n",
       "      <td>0.442129</td>\n",
       "      <td>0.439039</td>\n",
       "      <td>0.441839</td>\n",
       "      <td>0.442195</td>\n",
       "      <td>0.440236</td>\n",
       "      <td>0.438707</td>\n",
       "      <td>0.441620</td>\n",
       "      <td>0.441014</td>\n",
       "      <td>0.440907</td>\n",
       "      <td>0.001282</td>\n",
       "      <td>0.000406</td>\n",
       "    </tr>\n",
       "  </tbody>\n",
       "</table>\n",
       "</div>"
      ],
      "text/plain": [
       "                                       Model         0         1         2  \\\n",
       "0                    Classification with ecy  0.413801  0.411130  0.418034   \n",
       "1                   Poisson ecy as a feature  0.438537  0.440718  0.440723   \n",
       "2               Poisson Log ecy as a feature  0.438537  0.440717  0.440723   \n",
       "3      Poisson ecy as an offset(base margin)  0.430078  0.432299  0.431749   \n",
       "4  Poisson Log ecy as an offset(base margin)  0.440321  0.441971  0.442129   \n",
       "\n",
       "          3         4         5         6         7         8         9  \\\n",
       "0  0.411491  0.413330  0.414921  0.416370  0.410808  0.417323  0.417602   \n",
       "1  0.439736  0.441457  0.442157  0.440219  0.438181  0.440308  0.440894   \n",
       "2  0.439736  0.441457  0.442157  0.440219  0.438180  0.440308  0.440920   \n",
       "3  0.430132  0.431747  0.433500  0.431418  0.429701  0.430925  0.431514   \n",
       "4  0.439039  0.441839  0.442195  0.440236  0.438707  0.441620  0.441014   \n",
       "\n",
       "       mean       std       sem  \n",
       "0  0.414481  0.002782  0.000880  \n",
       "1  0.440293  0.001221  0.000386  \n",
       "2  0.440296  0.001222  0.000387  \n",
       "3  0.431306  0.001148  0.000363  \n",
       "4  0.440907  0.001282  0.000406  "
      ]
     },
     "execution_count": 17,
     "metadata": {},
     "output_type": "execute_result"
    }
   ],
   "source": [
    "Score_dataset"
   ]
  },
  {
   "cell_type": "markdown",
   "metadata": {},
   "source": [
    "t-test compares scores of individual folds in a choosen model to the rest of the models folds"
   ]
  },
  {
   "cell_type": "code",
   "execution_count": 19,
   "metadata": {},
   "outputs": [],
   "source": [
    "#Model with a highest score is the base model\n",
    "BaseModel=Score_dataset[Score_dataset['mean']==Score_dataset['mean'].max()]['Model'].values[0]\n",
    "BaseModelResults=Score_dataset[(Score_dataset['Model']==BaseModel)][folds_columns].values[0].tolist()\n",
    "shapiro_test = stats.shapiro(BaseModelResults)\n",
    "if shapiro_test.pvalue < alpha:\n",
    "    Score_dataset['Comment'] = 'The null hypothesis that the data are normally distributed is rejected'\n",
    "else:\n",
    "    Score_dataset['Comment'] = 'The data are normally distributed'"
   ]
  },
  {
   "cell_type": "code",
   "execution_count": 20,
   "metadata": {},
   "outputs": [
    {
     "data": {
      "text/html": [
       "<div>\n",
       "<style scoped>\n",
       "    .dataframe tbody tr th:only-of-type {\n",
       "        vertical-align: middle;\n",
       "    }\n",
       "\n",
       "    .dataframe tbody tr th {\n",
       "        vertical-align: top;\n",
       "    }\n",
       "\n",
       "    .dataframe thead th {\n",
       "        text-align: right;\n",
       "    }\n",
       "</style>\n",
       "<table border=\"1\" class=\"dataframe\">\n",
       "  <thead>\n",
       "    <tr style=\"text-align: right;\">\n",
       "      <th></th>\n",
       "      <th>Model</th>\n",
       "      <th>0</th>\n",
       "      <th>1</th>\n",
       "      <th>2</th>\n",
       "      <th>3</th>\n",
       "      <th>4</th>\n",
       "      <th>5</th>\n",
       "      <th>6</th>\n",
       "      <th>7</th>\n",
       "      <th>8</th>\n",
       "      <th>9</th>\n",
       "      <th>mean</th>\n",
       "      <th>std</th>\n",
       "      <th>sem</th>\n",
       "      <th>Comment</th>\n",
       "      <th>t-statistic</th>\n",
       "      <th>pvalue</th>\n",
       "    </tr>\n",
       "  </thead>\n",
       "  <tbody>\n",
       "    <tr>\n",
       "      <th>0</th>\n",
       "      <td>Classification with ecy</td>\n",
       "      <td>0.413801</td>\n",
       "      <td>0.411130</td>\n",
       "      <td>0.418034</td>\n",
       "      <td>0.411491</td>\n",
       "      <td>0.413330</td>\n",
       "      <td>0.414921</td>\n",
       "      <td>0.416370</td>\n",
       "      <td>0.410808</td>\n",
       "      <td>0.417323</td>\n",
       "      <td>0.417602</td>\n",
       "      <td>0.414481</td>\n",
       "      <td>0.002782</td>\n",
       "      <td>0.000880</td>\n",
       "      <td>There is a difference with Poisson Log ecy as ...</td>\n",
       "      <td>34.246056</td>\n",
       "      <td>7.617160e-11</td>\n",
       "    </tr>\n",
       "    <tr>\n",
       "      <th>1</th>\n",
       "      <td>Poisson ecy as a feature</td>\n",
       "      <td>0.438537</td>\n",
       "      <td>0.440718</td>\n",
       "      <td>0.440723</td>\n",
       "      <td>0.439736</td>\n",
       "      <td>0.441457</td>\n",
       "      <td>0.442157</td>\n",
       "      <td>0.440219</td>\n",
       "      <td>0.438181</td>\n",
       "      <td>0.440308</td>\n",
       "      <td>0.440894</td>\n",
       "      <td>0.440293</td>\n",
       "      <td>0.001221</td>\n",
       "      <td>0.000386</td>\n",
       "      <td>There is a difference with Poisson Log ecy as ...</td>\n",
       "      <td>2.459768</td>\n",
       "      <td>3.617240e-02</td>\n",
       "    </tr>\n",
       "    <tr>\n",
       "      <th>2</th>\n",
       "      <td>Poisson Log ecy as a feature</td>\n",
       "      <td>0.438537</td>\n",
       "      <td>0.440717</td>\n",
       "      <td>0.440723</td>\n",
       "      <td>0.439736</td>\n",
       "      <td>0.441457</td>\n",
       "      <td>0.442157</td>\n",
       "      <td>0.440219</td>\n",
       "      <td>0.438180</td>\n",
       "      <td>0.440308</td>\n",
       "      <td>0.440920</td>\n",
       "      <td>0.440296</td>\n",
       "      <td>0.001222</td>\n",
       "      <td>0.000387</td>\n",
       "      <td>There is a difference with Poisson Log ecy as ...</td>\n",
       "      <td>2.444006</td>\n",
       "      <td>3.711994e-02</td>\n",
       "    </tr>\n",
       "    <tr>\n",
       "      <th>3</th>\n",
       "      <td>Poisson ecy as an offset(base margin)</td>\n",
       "      <td>0.430078</td>\n",
       "      <td>0.432299</td>\n",
       "      <td>0.431749</td>\n",
       "      <td>0.430132</td>\n",
       "      <td>0.431747</td>\n",
       "      <td>0.433500</td>\n",
       "      <td>0.431418</td>\n",
       "      <td>0.429701</td>\n",
       "      <td>0.430925</td>\n",
       "      <td>0.431514</td>\n",
       "      <td>0.431306</td>\n",
       "      <td>0.001148</td>\n",
       "      <td>0.000363</td>\n",
       "      <td>There is a difference with Poisson Log ecy as ...</td>\n",
       "      <td>41.821166</td>\n",
       "      <td>1.274050e-11</td>\n",
       "    </tr>\n",
       "    <tr>\n",
       "      <th>4</th>\n",
       "      <td>Poisson Log ecy as an offset(base margin)</td>\n",
       "      <td>0.440321</td>\n",
       "      <td>0.441971</td>\n",
       "      <td>0.442129</td>\n",
       "      <td>0.439039</td>\n",
       "      <td>0.441839</td>\n",
       "      <td>0.442195</td>\n",
       "      <td>0.440236</td>\n",
       "      <td>0.438707</td>\n",
       "      <td>0.441620</td>\n",
       "      <td>0.441014</td>\n",
       "      <td>0.440907</td>\n",
       "      <td>0.001282</td>\n",
       "      <td>0.000406</td>\n",
       "      <td>The data are normally distributed</td>\n",
       "      <td>NaN</td>\n",
       "      <td>NaN</td>\n",
       "    </tr>\n",
       "  </tbody>\n",
       "</table>\n",
       "</div>"
      ],
      "text/plain": [
       "                                       Model         0         1         2  \\\n",
       "0                    Classification with ecy  0.413801  0.411130  0.418034   \n",
       "1                   Poisson ecy as a feature  0.438537  0.440718  0.440723   \n",
       "2               Poisson Log ecy as a feature  0.438537  0.440717  0.440723   \n",
       "3      Poisson ecy as an offset(base margin)  0.430078  0.432299  0.431749   \n",
       "4  Poisson Log ecy as an offset(base margin)  0.440321  0.441971  0.442129   \n",
       "\n",
       "          3         4         5         6         7         8         9  \\\n",
       "0  0.411491  0.413330  0.414921  0.416370  0.410808  0.417323  0.417602   \n",
       "1  0.439736  0.441457  0.442157  0.440219  0.438181  0.440308  0.440894   \n",
       "2  0.439736  0.441457  0.442157  0.440219  0.438180  0.440308  0.440920   \n",
       "3  0.430132  0.431747  0.433500  0.431418  0.429701  0.430925  0.431514   \n",
       "4  0.439039  0.441839  0.442195  0.440236  0.438707  0.441620  0.441014   \n",
       "\n",
       "       mean       std       sem  \\\n",
       "0  0.414481  0.002782  0.000880   \n",
       "1  0.440293  0.001221  0.000386   \n",
       "2  0.440296  0.001222  0.000387   \n",
       "3  0.431306  0.001148  0.000363   \n",
       "4  0.440907  0.001282  0.000406   \n",
       "\n",
       "                                             Comment  t-statistic  \\\n",
       "0  There is a difference with Poisson Log ecy as ...    34.246056   \n",
       "1  There is a difference with Poisson Log ecy as ...     2.459768   \n",
       "2  There is a difference with Poisson Log ecy as ...     2.444006   \n",
       "3  There is a difference with Poisson Log ecy as ...    41.821166   \n",
       "4                  The data are normally distributed          NaN   \n",
       "\n",
       "         pvalue  \n",
       "0  7.617160e-11  \n",
       "1  3.617240e-02  \n",
       "2  3.711994e-02  \n",
       "3  1.274050e-11  \n",
       "4           NaN  "
      ]
     },
     "execution_count": 20,
     "metadata": {},
     "output_type": "execute_result"
    }
   ],
   "source": [
    "#t-test for each record in BestResults\n",
    "for index, model in Score_dataset.iterrows():\n",
    "    if model['Model']!=BaseModel:\n",
    "        AnalyzedModelResults=model[folds_columns].values.tolist()\n",
    "        shapiro_test = stats.shapiro(AnalyzedModelResults)\n",
    "        if shapiro_test.pvalue < alpha:\n",
    "            Score_dataset.at[index,'Comment'] = 'The null hypothesis that the data are normally distributed is rejected'\n",
    "        else:\n",
    "            t=stats.ttest_rel(BaseModelResults,AnalyzedModelResults)\n",
    "            Score_dataset.at[index,'t-statistic']= t.statistic\n",
    "            Score_dataset.at[index,'pvalue'] = t.pvalue \n",
    "            if t.pvalue>=alpha:\n",
    "                Score_dataset.at[index,'Comment'] = 'No difference with %s with %s significance level'%(BaseModel,alpha)\n",
    "            else:\n",
    "                Score_dataset.at[index,'Comment'] = 'There is a difference with %s with %s significance level'%(BaseModel,alpha)\n",
    "    else:\n",
    "        Score_dataset.at[index,'t-statistic']= np.nan\n",
    "        Score_dataset.at[index,'pvalue'] = np.nan\n",
    "Score_dataset"
   ]
  },
  {
   "cell_type": "markdown",
   "metadata": {},
   "source": [
    "Confidence interval of the difference between model scores"
   ]
  },
  {
   "cell_type": "code",
   "execution_count": 22,
   "metadata": {},
   "outputs": [],
   "source": [
    "CI_name = list()\n",
    "CI_mean = list()\n",
    "CI_lower = list()\n",
    "CI_upper = list()\n",
    "for index, model in Score_dataset.iterrows():\n",
    "    if model['Model']!=BaseModel:\n",
    "        AnalyzedModelResults=model[folds_columns].values.tolist()\n",
    "        diff=[np.abs(y - x) for y, x in zip(BaseModelResults,AnalyzedModelResults)]\n",
    "        CI=stats.t.interval(1-alpha, len(diff)-1, loc=np.mean(diff), scale=stats.sem(diff))\n",
    "        CI_name.append(model['Model'])\n",
    "        CI_mean.append(np.mean(diff))\n",
    "        CI_lower.append(CI[0])\n",
    "        CI_upper.append(CI[1])  \n",
    "        Score_dataset.at[index,'BaseModel Diff mean'] = np.mean(diff)\n",
    "        Score_dataset.at[index,'BaseModel Corrected CI lower'] = CI[0]\n",
    "        Score_dataset.at[index,'BaseModel Corrected CI upper'] = CI[1]                       \n",
    "CI_df = pd.DataFrame(list(zip(CI_name, CI_mean, CI_lower, CI_upper)), columns=['Model','mean','lower','upper'])"
   ]
  },
  {
   "cell_type": "code",
   "execution_count": 24,
   "metadata": {},
   "outputs": [
    {
     "data": {
      "image/png": "[encoded data removed]",
      "text/plain": [
       "<Figure size 1440x720 with 1 Axes>"
      ]
     },
     "metadata": {
      "needs_background": "light"
     },
     "output_type": "display_data"
    }
   ],
   "source": [
    "plt.figure(figsize=(20,10))\n",
    "dim=np.arange(0,CI_df['upper'].max() + CI_df['upper'].max()/10,CI_df['upper'].max()/10)\n",
    "for lower,mean,upper,x in zip(CI_df['lower'],CI_df['mean'],CI_df['upper'],range(len(CI_df))):\n",
    "    plt.plot((x,x),(lower,upper),'r_-',markersize=20,color='blue')\n",
    "    plt.plot(x,mean,'ro',color='red')\n",
    "plt.xticks(range(len(CI_df)),list(CI_df['Model']),rotation=90)\n",
    "plt.yticks(dim)\n",
    "plt.grid(axis='both')\n",
    "#plt.margins(x=2)\n",
    "_=plt.title('Confidence Interval of scores differences')"
   ]
  }
 ],
 "metadata": {
  "kernelspec": {
   "display_name": "Python 3",
   "language": "python",
   "name": "python3"
  },
  "language_info": {
   "codemirror_mode": {
    "name": "ipython",
    "version": 3
   },
   "file_extension": ".py",
   "mimetype": "text/x-python",
   "name": "python",
   "nbconvert_exporter": "python",
   "pygments_lexer": "ipython3",
   "version": "3.8.5"
  }
 },
 "nbformat": 4,
 "nbformat_minor": 4
}
