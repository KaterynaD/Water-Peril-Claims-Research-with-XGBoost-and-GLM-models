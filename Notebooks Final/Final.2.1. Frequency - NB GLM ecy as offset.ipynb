{
 "cells": [
  {
   "cell_type": "code",
   "execution_count": 1,
   "metadata": {
    "tags": []
   },
   "outputs": [],
   "source": [
    "ModelsDir <- '/home/kate/Research/Property/Models/'\n",
    "DataDir <- '/home/kate/Research/Property/Data/'\n",
    "ModelName <- \"wc_nbglm_ofst_ecy\"\n",
    "UseSavedIfExists <- FALSE"
   ]
  },
  {
   "cell_type": "code",
   "execution_count": 2,
   "metadata": {},
   "outputs": [],
   "source": [
    "library(MASS)"
   ]
  },
  {
   "cell_type": "code",
   "execution_count": 3,
   "metadata": {},
   "outputs": [],
   "source": [
    "source('/home/kate/code/Utils/MyFunctions.R')"
   ]
  },
  {
   "cell_type": "code",
   "execution_count": 4,
   "metadata": {},
   "outputs": [],
   "source": [
    "training_dataset <- read.csv(paste(DataDir,\"property_wcf_training.csv\", sep = \"\"), header=TRUE)\n",
    "testing_dataset <- read.csv(paste(DataDir,\"property_wcf_testing.csv\", sep = \"\"), header=TRUE)"
   ]
  },
  {
   "cell_type": "code",
   "execution_count": 5,
   "metadata": {},
   "outputs": [],
   "source": [
    "formula <- cova_ic_nc_water ~ log_sqft + usagetype + log_property_age + log_water_risk_3_blk + cova_deductible + customer_cnt_active_policies "
   ]
  },
  {
   "cell_type": "code",
   "execution_count": 6,
   "metadata": {},
   "outputs": [],
   "source": [
    "kfold <- 5"
   ]
  },
  {
   "cell_type": "code",
   "execution_count": 7,
   "metadata": {},
   "outputs": [
    {
     "name": "stdout",
     "output_type": "stream",
     "text": [
      "[1] \"Fold 0 of 5 currently processing...\"\n",
      "[1] \"Fold 1 of 5 currently processing...\"\n",
      "[1] \"Fold 2 of 5 currently processing...\"\n",
      "[1] \"Fold 3 of 5 currently processing...\"\n",
      "[1] \"Fold 4 of 5 currently processing...\"\n"
     ]
    }
   ],
   "source": [
    "models_attr <- data.frame()\n",
    "models_coef <- data.frame()\n",
    "training_dataset$nbglm_ofst_ecy_cv <- 0\n",
    "testing_dataset$nbglm_ofst_ecy_cv <- 0\n",
    "\n",
    "for (fold in 1:kfold-1){\n",
    "  training_dataset[paste(\"nbglm_ofst_ecy_\",fold,sep=\"\")] <- 0 \n",
    "  testing_dataset[paste(\"nbglm_ofst_ecy_\",fold,sep=\"\")] <- 0      \n",
    "    }\n",
    "# \n",
    "#CV-Folds\n",
    "AIC_l <- list()\n",
    "BIC_l <- list()\n",
    "logLik_l <- list()\n",
    "NWG_Test <- list()\n",
    "NWG_Train <- list()\n",
    "coef_l <- list()\n",
    "folds_l <- list() \n",
    "i <- 1\n",
    "for (fold in 1:kfold-1){\n",
    "    print(paste(\"Fold \",fold,\" of \",kfold,\" currently processing...\",sep=\"\"))\n",
    "    training_dataset_fold <- training_dataset[training_dataset[paste(\"fold\",fold,sep=\"_\")] > 0,]\n",
    "    validation_dataset <- training_dataset[training_dataset[paste(\"fold\",fold,sep=\"_\")] == 0,]\n",
    "    #Modeling\n",
    "    ModelFile <- paste(ModelsDir,ModelName,\"_\",fold,\".rds\",sep=\"\")\n",
    "    if(file.exists(ModelFile) && UseSavedIfExists){\n",
    "        nbglm <- readRDS(ModelFile)\n",
    "    } else {\n",
    "        nbglm <- glm.nb(formula,  data = training_dataset_fold,  offset=log_ecy,control = glm.control(maxit=10000))\n",
    "        saveRDS(nbglm, ModelFile)             \n",
    "    }#if modeling \n",
    "    #Training Prediction\n",
    "    pred_train <- predict(nbglm,training_dataset, type=\"response\")\n",
    "    train_fold_NWG <- NormalizedWeightedGini(training_dataset$cova_ic_nc_water,pred_train,training_dataset$ecy)\n",
    "    training_dataset[paste(\"nbglm_ofst_ecy_\",fold,sep=\"\")] <- pred_train\n",
    "    training_dataset$nbglm_ofst_ecy_cv <- training_dataset$nbglm_ofst_ecy_cv + pred_train/kfold\n",
    "    #Testing Prediction\n",
    "    pred_test <- predict(nbglm,testing_dataset, type=\"response\")\n",
    "    test_fold_NWG <- NormalizedWeightedGini(testing_dataset$cova_ic_nc_water,pred_test,testing_dataset$ecy)\n",
    "    testing_dataset$nbglm_ofst_ecy_cv <- testing_dataset$nbglm_ofst_ecy_cv + pred_test/kfold \n",
    "    testing_dataset[paste(\"nbglm_ofst_ecy_\",fold,sep=\"\")] <- pred_test\n",
    "\n",
    "    #Model attributes\n",
    "    folds_l[[i]] <- i\n",
    "    AIC_l[[i]] <- AIC(nbglm)\n",
    "    BIC_l[[i]] <- BIC(nbglm)  \n",
    "    logLik_l[[i]] <- logLik(nbglm) \n",
    "    NWG_Train[[i]] <- train_fold_NWG    \n",
    "    NWG_Test[[i]] <- test_fold_NWG    \n",
    "    #Model coeficients\n",
    "    model_coef_fold <- data.frame(\n",
    "        fold = fold+1,\n",
    "        pred_name = summary(nbglm)$coefficients[,0],\n",
    "        estimate =  summary(nbglm)$coefficients[,1],\n",
    "        StdError =  summary(nbglm)$coefficients[,2],  \n",
    "        zValue =   summary(nbglm)$coefficients[,3],     \n",
    "        valuePr =   summary(nbglm)$coefficients[,4]    \n",
    "    )  \n",
    "    #pred_name is an index, row name, convert it into column\n",
    "    model_coef_fold <- cbind(name = rownames(model_coef_fold), model_coef_fold)\n",
    "    rownames(model_coef_fold) <- 1:nrow(model_coef_fold) \n",
    "    #main table\n",
    "    models_coef <- rbind(models_coef,model_coef_fold)         \n",
    "    i <- i + 1\n",
    "    }#folds loop   \n",
    "    #Model attributes data frame\n",
    "    models_fold_attr <- data.frame( \n",
    "        fold = unlist(folds_l),\n",
    "        AIC = unlist(AIC_l),\n",
    "        BIC = unlist(BIC_l),   \n",
    "        logLik = unlist(logLik_l),\n",
    "        TrainNormalizedWeightedGini = unlist(NWG_Train),     \n",
    "        TestNormalizedWeightedGini = unlist(NWG_Test)\n",
    "    )\n",
    "    models_attr <- rbind(models_attr,models_fold_attr)                 "
   ]
  },
  {
   "cell_type": "code",
   "execution_count": 8,
   "metadata": {},
   "outputs": [
    {
     "data": {
      "text/html": [
       "<table class=\"dataframe\">\n",
       "<caption>A data.frame: 5 × 6</caption>\n",
       "<thead>\n",
       "\t<tr><th></th><th scope=col>fold</th><th scope=col>AIC</th><th scope=col>BIC</th><th scope=col>logLik</th><th scope=col>TrainNormalizedWeightedGini</th><th scope=col>TestNormalizedWeightedGini</th></tr>\n",
       "\t<tr><th></th><th scope=col>&lt;dbl&gt;</th><th scope=col>&lt;dbl&gt;</th><th scope=col>&lt;dbl&gt;</th><th scope=col>&lt;dbl&gt;</th><th scope=col>&lt;dbl&gt;</th><th scope=col>&lt;dbl&gt;</th></tr>\n",
       "</thead>\n",
       "<tbody>\n",
       "\t<tr><th scope=row>1</th><td>1</td><td>92059.70</td><td>92216.64</td><td>-46016.85</td><td>0.3786850</td><td>0.4081360</td></tr>\n",
       "\t<tr><th scope=row>2</th><td>2</td><td>91948.13</td><td>92105.07</td><td>-45961.07</td><td>0.3786824</td><td>0.4089000</td></tr>\n",
       "\t<tr><th scope=row>3</th><td>3</td><td>92038.12</td><td>92195.05</td><td>-46006.06</td><td>0.3787529</td><td>0.4088372</td></tr>\n",
       "\t<tr><th scope=row>4</th><td>4</td><td>92009.78</td><td>92166.71</td><td>-45991.89</td><td>0.3788325</td><td>0.4091049</td></tr>\n",
       "\t<tr><th scope=row>5</th><td>5</td><td>92168.13</td><td>92325.06</td><td>-46071.06</td><td>0.3782524</td><td>0.4082698</td></tr>\n",
       "</tbody>\n",
       "</table>\n"
      ],
      "text/latex": [
       "A data.frame: 5 × 6\n",
       "\\begin{tabular}{r|llllll}\n",
       "  & fold & AIC & BIC & logLik & TrainNormalizedWeightedGini & TestNormalizedWeightedGini\\\\\n",
       "  & <dbl> & <dbl> & <dbl> & <dbl> & <dbl> & <dbl>\\\\\n",
       "\\hline\n",
       "\t1 & 1 & 92059.70 & 92216.64 & -46016.85 & 0.3786850 & 0.4081360\\\\\n",
       "\t2 & 2 & 91948.13 & 92105.07 & -45961.07 & 0.3786824 & 0.4089000\\\\\n",
       "\t3 & 3 & 92038.12 & 92195.05 & -46006.06 & 0.3787529 & 0.4088372\\\\\n",
       "\t4 & 4 & 92009.78 & 92166.71 & -45991.89 & 0.3788325 & 0.4091049\\\\\n",
       "\t5 & 5 & 92168.13 & 92325.06 & -46071.06 & 0.3782524 & 0.4082698\\\\\n",
       "\\end{tabular}\n"
      ],
      "text/markdown": [
       "\n",
       "A data.frame: 5 × 6\n",
       "\n",
       "| <!--/--> | fold &lt;dbl&gt; | AIC &lt;dbl&gt; | BIC &lt;dbl&gt; | logLik &lt;dbl&gt; | TrainNormalizedWeightedGini &lt;dbl&gt; | TestNormalizedWeightedGini &lt;dbl&gt; |\n",
       "|---|---|---|---|---|---|---|\n",
       "| 1 | 1 | 92059.70 | 92216.64 | -46016.85 | 0.3786850 | 0.4081360 |\n",
       "| 2 | 2 | 91948.13 | 92105.07 | -45961.07 | 0.3786824 | 0.4089000 |\n",
       "| 3 | 3 | 92038.12 | 92195.05 | -46006.06 | 0.3787529 | 0.4088372 |\n",
       "| 4 | 4 | 92009.78 | 92166.71 | -45991.89 | 0.3788325 | 0.4091049 |\n",
       "| 5 | 5 | 92168.13 | 92325.06 | -46071.06 | 0.3782524 | 0.4082698 |\n",
       "\n"
      ],
      "text/plain": [
       "  fold AIC      BIC      logLik    TrainNormalizedWeightedGini\n",
       "1 1    92059.70 92216.64 -46016.85 0.3786850                  \n",
       "2 2    91948.13 92105.07 -45961.07 0.3786824                  \n",
       "3 3    92038.12 92195.05 -46006.06 0.3787529                  \n",
       "4 4    92009.78 92166.71 -45991.89 0.3788325                  \n",
       "5 5    92168.13 92325.06 -46071.06 0.3782524                  \n",
       "  TestNormalizedWeightedGini\n",
       "1 0.4081360                 \n",
       "2 0.4089000                 \n",
       "3 0.4088372                 \n",
       "4 0.4091049                 \n",
       "5 0.4082698                 "
      ]
     },
     "metadata": {},
     "output_type": "display_data"
    }
   ],
   "source": [
    "head(models_attr)"
   ]
  },
  {
   "cell_type": "code",
   "execution_count": 9,
   "metadata": {},
   "outputs": [],
   "source": [
    "write.table(models_attr,paste(ModelsDir,ModelName,\"_attr.csv\", sep = \"\"), sep=\",\",  col.names=TRUE, row.names = FALSE)"
   ]
  },
  {
   "cell_type": "code",
   "execution_count": 10,
   "metadata": {},
   "outputs": [
    {
     "data": {
      "text/html": [
       "<table class=\"dataframe\">\n",
       "<caption>A data.frame: 6 × 6</caption>\n",
       "<thead>\n",
       "\t<tr><th></th><th scope=col>name</th><th scope=col>fold</th><th scope=col>estimate</th><th scope=col>StdError</th><th scope=col>zValue</th><th scope=col>valuePr</th></tr>\n",
       "\t<tr><th></th><th scope=col>&lt;fct&gt;</th><th scope=col>&lt;dbl&gt;</th><th scope=col>&lt;dbl&gt;</th><th scope=col>&lt;dbl&gt;</th><th scope=col>&lt;dbl&gt;</th><th scope=col>&lt;dbl&gt;</th></tr>\n",
       "</thead>\n",
       "<tbody>\n",
       "\t<tr><th scope=row>1</th><td>(Intercept)       </td><td>1</td><td>-15.5208505</td><td>1.0400206</td><td>-14.923600</td><td> 2.314439e-50</td></tr>\n",
       "\t<tr><th scope=row>2</th><td>log_sqft          </td><td>1</td><td>  0.7028659</td><td>0.0318033</td><td> 22.100408</td><td>3.132276e-108</td></tr>\n",
       "\t<tr><th scope=row>3</th><td>usagetypePRIMARY  </td><td>1</td><td>  3.4023745</td><td>1.0003671</td><td>  3.401126</td><td> 6.710886e-04</td></tr>\n",
       "\t<tr><th scope=row>4</th><td>usagetypeRENTAL   </td><td>1</td><td>  3.0982153</td><td>1.0005322</td><td>  3.096567</td><td> 1.957754e-03</td></tr>\n",
       "\t<tr><th scope=row>5</th><td>usagetypeSEASONAL </td><td>1</td><td>  3.0570082</td><td>1.0190544</td><td>  2.999848</td><td> 2.701145e-03</td></tr>\n",
       "\t<tr><th scope=row>6</th><td>usagetypeSECONDARY</td><td>1</td><td>  1.9171969</td><td>1.1556225</td><td>  1.659017</td><td> 9.711244e-02</td></tr>\n",
       "</tbody>\n",
       "</table>\n"
      ],
      "text/latex": [
       "A data.frame: 6 × 6\n",
       "\\begin{tabular}{r|llllll}\n",
       "  & name & fold & estimate & StdError & zValue & valuePr\\\\\n",
       "  & <fct> & <dbl> & <dbl> & <dbl> & <dbl> & <dbl>\\\\\n",
       "\\hline\n",
       "\t1 & (Intercept)        & 1 & -15.5208505 & 1.0400206 & -14.923600 &  2.314439e-50\\\\\n",
       "\t2 & log\\_sqft           & 1 &   0.7028659 & 0.0318033 &  22.100408 & 3.132276e-108\\\\\n",
       "\t3 & usagetypePRIMARY   & 1 &   3.4023745 & 1.0003671 &   3.401126 &  6.710886e-04\\\\\n",
       "\t4 & usagetypeRENTAL    & 1 &   3.0982153 & 1.0005322 &   3.096567 &  1.957754e-03\\\\\n",
       "\t5 & usagetypeSEASONAL  & 1 &   3.0570082 & 1.0190544 &   2.999848 &  2.701145e-03\\\\\n",
       "\t6 & usagetypeSECONDARY & 1 &   1.9171969 & 1.1556225 &   1.659017 &  9.711244e-02\\\\\n",
       "\\end{tabular}\n"
      ],
      "text/markdown": [
       "\n",
       "A data.frame: 6 × 6\n",
       "\n",
       "| <!--/--> | name &lt;fct&gt; | fold &lt;dbl&gt; | estimate &lt;dbl&gt; | StdError &lt;dbl&gt; | zValue &lt;dbl&gt; | valuePr &lt;dbl&gt; |\n",
       "|---|---|---|---|---|---|---|\n",
       "| 1 | (Intercept)        | 1 | -15.5208505 | 1.0400206 | -14.923600 |  2.314439e-50 |\n",
       "| 2 | log_sqft           | 1 |   0.7028659 | 0.0318033 |  22.100408 | 3.132276e-108 |\n",
       "| 3 | usagetypePRIMARY   | 1 |   3.4023745 | 1.0003671 |   3.401126 |  6.710886e-04 |\n",
       "| 4 | usagetypeRENTAL    | 1 |   3.0982153 | 1.0005322 |   3.096567 |  1.957754e-03 |\n",
       "| 5 | usagetypeSEASONAL  | 1 |   3.0570082 | 1.0190544 |   2.999848 |  2.701145e-03 |\n",
       "| 6 | usagetypeSECONDARY | 1 |   1.9171969 | 1.1556225 |   1.659017 |  9.711244e-02 |\n",
       "\n"
      ],
      "text/plain": [
       "  name               fold estimate    StdError  zValue     valuePr      \n",
       "1 (Intercept)        1    -15.5208505 1.0400206 -14.923600  2.314439e-50\n",
       "2 log_sqft           1      0.7028659 0.0318033  22.100408 3.132276e-108\n",
       "3 usagetypePRIMARY   1      3.4023745 1.0003671   3.401126  6.710886e-04\n",
       "4 usagetypeRENTAL    1      3.0982153 1.0005322   3.096567  1.957754e-03\n",
       "5 usagetypeSEASONAL  1      3.0570082 1.0190544   2.999848  2.701145e-03\n",
       "6 usagetypeSECONDARY 1      1.9171969 1.1556225   1.659017  9.711244e-02"
      ]
     },
     "metadata": {},
     "output_type": "display_data"
    }
   ],
   "source": [
    "head(models_coef)"
   ]
  },
  {
   "cell_type": "code",
   "execution_count": 11,
   "metadata": {},
   "outputs": [],
   "source": [
    "write.table(models_coef,paste(ModelsDir,ModelName,\"_coef.csv\", sep = \"\"), sep=\",\",  col.names=TRUE, row.names = FALSE)"
   ]
  },
  {
   "cell_type": "markdown",
   "metadata": {},
   "source": [
    "Normalized Weighted gini Training"
   ]
  },
  {
   "cell_type": "code",
   "execution_count": 12,
   "metadata": {},
   "outputs": [
    {
     "data": {
      "text/html": [
       "0.378716940865131"
      ],
      "text/latex": [
       "0.378716940865131"
      ],
      "text/markdown": [
       "0.378716940865131"
      ],
      "text/plain": [
       "[1] 0.3787169"
      ]
     },
     "metadata": {},
     "output_type": "display_data"
    }
   ],
   "source": [
    "NormalizedWeightedGini(training_dataset$cova_ic_nc_water,training_dataset$nbglm_ofst_ecy_cv,training_dataset$ecy)"
   ]
  },
  {
   "cell_type": "markdown",
   "metadata": {},
   "source": [
    "Normalized Weighted gini Testing"
   ]
  },
  {
   "cell_type": "code",
   "execution_count": 13,
   "metadata": {},
   "outputs": [
    {
     "data": {
      "text/html": [
       "0.408745420890732"
      ],
      "text/latex": [
       "0.408745420890732"
      ],
      "text/markdown": [
       "0.408745420890732"
      ],
      "text/plain": [
       "[1] 0.4087454"
      ]
     },
     "metadata": {},
     "output_type": "display_data"
    }
   ],
   "source": [
    "NormalizedWeightedGini(testing_dataset$cova_ic_nc_water,testing_dataset$nbglm_ofst_ecy_cv,testing_dataset$ecy)"
   ]
  },
  {
   "cell_type": "code",
   "execution_count": null,
   "metadata": {},
   "outputs": [],
   "source": [
    "write.table(training_dataset,paste(DataDir,\"property_wcf_training.csv\", sep = \"\"), sep=\",\",  col.names=TRUE, row.names = FALSE)\n",
    "write.table(testing_dataset,paste(DataDir,\"property_wcf_testing.csv\", sep = \"\"), sep=\",\",  col.names=TRUE, row.names = FALSE)\n",
    "write.table(prediction_dataset,paste(DataDir,\"property_water_claims_non_cat_fs.csv\", sep = \"\"), sep=\",\",  col.names=TRUE, row.names = FALSE)"
   ]
  }
 ],
 "metadata": {
  "kernelspec": {
   "display_name": "R",
   "language": "R",
   "name": "ir"
  },
  "language_info": {
   "codemirror_mode": "r",
   "file_extension": ".r",
   "mimetype": "text/x-r-source",
   "name": "R",
   "pygments_lexer": "r",
   "version": "3.6.3"
  }
 },
 "nbformat": 4,
 "nbformat_minor": 4
}
