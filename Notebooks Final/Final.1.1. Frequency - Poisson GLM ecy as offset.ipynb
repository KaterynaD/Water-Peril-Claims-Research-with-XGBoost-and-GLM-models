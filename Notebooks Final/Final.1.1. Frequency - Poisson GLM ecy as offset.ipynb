{
 "cells": [
  {
   "cell_type": "code",
   "execution_count": 26,
   "metadata": {
    "tags": []
   },
   "outputs": [],
   "source": [
    "ModelsDir <- '/home/kate/Research/Property/Models/'\n",
    "DataDir <- '/home/kate/Research/Property/Data/'\n",
    "ModelName <- \"wc_poissonglm_ofst_ecy\"\n",
    "UseSavedIfExists <- FALSE"
   ]
  },
  {
   "cell_type": "code",
   "execution_count": 27,
   "metadata": {
    "tags": []
   },
   "outputs": [],
   "source": [
    "source('/home/kate/code/Utils/MyFunctions.R')"
   ]
  },
  {
   "cell_type": "code",
   "execution_count": 28,
   "metadata": {
    "tags": []
   },
   "outputs": [],
   "source": [
    "training_dataset <- read.csv(paste(DataDir,\"property_wcf_training.csv\", sep = \"\"), header=TRUE)\n",
    "testing_dataset <- read.csv(paste(DataDir,\"property_wcf_testing.csv\", sep = \"\"), header=TRUE)\n",
    "#prediction_dataset <- read.csv(paste(DataDir,\"property_water_claims_non_cat_fs_v5.csv\", sep = \"\"), header=TRUE)"
   ]
  },
  {
   "cell_type": "code",
   "execution_count": 29,
   "metadata": {
    "tags": []
   },
   "outputs": [],
   "source": [
    "formula <- cova_ic_nc_water ~ log_sqft + usagetype + log_property_age + log_water_risk_3_blk + cova_deductible + customer_cnt_active_policies "
   ]
  },
  {
   "cell_type": "code",
   "execution_count": 30,
   "metadata": {
    "tags": []
   },
   "outputs": [],
   "source": [
    "kfold <- 5"
   ]
  },
  {
   "cell_type": "code",
   "execution_count": 31,
   "metadata": {},
   "outputs": [
    {
     "name": "stdout",
     "output_type": "stream",
     "text": [
      "[1] \"Fold 0 of 5 currently processing...\"\n",
      "[1] \"Fold 1 of 5 currently processing...\"\n",
      "[1] \"Fold 2 of 5 currently processing...\"\n",
      "[1] \"Fold 3 of 5 currently processing...\"\n",
      "[1] \"Fold 4 of 5 currently processing...\"\n"
     ]
    }
   ],
   "source": [
    "models_attr <- data.frame()\n",
    "models_coef <- data.frame()\n",
    "training_dataset$poissonglm_ofst_ecy_cv <- 0\n",
    "testing_dataset$poissonglm_ofst_ecy_cv <- 0\n",
    "for (fold in 1:kfold-1){\n",
    "  training_dataset[paste(\"poissonglm_ofst_ecy_\",fold,sep=\"\")] <- 0 \n",
    "  testing_dataset[paste(\"poissonglm_ofst_ecy_\",fold,sep=\"\")] <- 0  \n",
    "    }\n",
    "# \n",
    "#CV-Folds\n",
    "AIC_l <- list()\n",
    "BIC_l <- list()\n",
    "logLik_l <- list()\n",
    "NWG_Test <- list()\n",
    "NWG_Train <- list()\n",
    "coef_l <- list()\n",
    "folds_l <- list() \n",
    "i <- 1\n",
    "for (fold in 1:kfold-1){\n",
    "    print(paste(\"Fold \",fold,\" of \",kfold,\" currently processing...\",sep=\"\"))\n",
    "    training_dataset_fold <- training_dataset[training_dataset[paste(\"fold\",fold,sep=\"_\")] > 0,]\n",
    "    validation_dataset <- training_dataset[training_dataset[paste(\"fold\",fold,sep=\"_\")] == 0,]\n",
    "    #Modeling\n",
    "    ModelFile <- paste(ModelsDir,ModelName,\"_\",fold,\".rds\",sep=\"\")\n",
    "    if(file.exists(ModelFile) && UseSavedIfExists){\n",
    "        poissonglm <- readRDS(ModelFile)\n",
    "    } else {\n",
    "        poissonglm <- glm(formula, family = \"poisson\", data = training_dataset_fold,  offset=log_ecy)\n",
    "        saveRDS(poissonglm, ModelFile)             \n",
    "    }#if modeling \n",
    "    #Training Prediction\n",
    "    pred_train <- predict(poissonglm,training_dataset, type=\"response\")\n",
    "    train_fold_NWG <- NormalizedWeightedGini(training_dataset$cova_ic_nc_water,pred_train,training_dataset$ecy)\n",
    "    training_dataset[paste(\"poissonglm_ofst_ecy_\",fold,sep=\"\")] <- pred_train\n",
    "    training_dataset$poissonglm_ofst_ecy_cv <- training_dataset$poissonglm_ofst_ecy_cv + pred_train/kfold\n",
    "    #Testing Prediction\n",
    "    pred_test <- predict(poissonglm,testing_dataset, type=\"response\")\n",
    "    test_fold_NWG <- NormalizedWeightedGini(testing_dataset$cova_ic_nc_water,pred_test,testing_dataset$ecy)\n",
    "    testing_dataset$poissonglm_ofst_ecy_cv <- testing_dataset$poissonglm_ofst_ecy_cv + pred_test/kfold \n",
    "    testing_dataset[paste(\"poissonglm_ofst_ecy_\",fold,sep=\"\")] <- pred_test\n",
    "    #Model attributes\n",
    "    folds_l[[i]] <- i\n",
    "    AIC_l[[i]] <- AIC(poissonglm)\n",
    "    BIC_l[[i]] <- BIC(poissonglm)  \n",
    "    logLik_l[[i]] <- logLik(poissonglm) \n",
    "    NWG_Train[[i]] <- train_fold_NWG    \n",
    "    NWG_Test[[i]] <- test_fold_NWG\n",
    "    #Model coeficients\n",
    "    model_coef_fold <- data.frame(\n",
    "        fold = fold+1,\n",
    "        pred_name = summary(poissonglm)$coefficients[,0],\n",
    "        estimate =  summary(poissonglm)$coefficients[,1],\n",
    "        StdError =  summary(poissonglm)$coefficients[,2],  \n",
    "        zValue =   summary(poissonglm)$coefficients[,3],     \n",
    "        valuePr =   summary(poissonglm)$coefficients[,4]    \n",
    "    )  \n",
    "    #pred_name is an index, row name, convert it into column\n",
    "    model_coef_fold <- cbind(name = rownames(model_coef_fold), model_coef_fold)\n",
    "    rownames(model_coef_fold) <- 1:nrow(model_coef_fold) \n",
    "    #main table\n",
    "    models_coef <- rbind(models_coef,model_coef_fold)         \n",
    "    i <- i + 1\n",
    "    }#folds loop   \n",
    "    #Model attributes data frame\n",
    "    models_fold_attr <- data.frame( \n",
    "        fold = unlist(folds_l),\n",
    "        AIC = unlist(AIC_l),\n",
    "        BIC = unlist(BIC_l),   \n",
    "        logLik = unlist(logLik_l),\n",
    "        TrainNormalizedWeightedGini = unlist(NWG_Train),     \n",
    "        TestNormalizedWeightedGini = unlist(NWG_Test)\n",
    "    )\n",
    "    models_attr <- rbind(models_attr,models_fold_attr)                 "
   ]
  },
  {
   "cell_type": "code",
   "execution_count": 32,
   "metadata": {},
   "outputs": [
    {
     "data": {
      "text/html": [
       "<table class=\"dataframe\">\n",
       "<caption>A data.frame: 5 × 6</caption>\n",
       "<thead>\n",
       "\t<tr><th></th><th scope=col>fold</th><th scope=col>AIC</th><th scope=col>BIC</th><th scope=col>logLik</th><th scope=col>TrainNormalizedWeightedGini</th><th scope=col>TestNormalizedWeightedGini</th></tr>\n",
       "\t<tr><th></th><th scope=col>&lt;dbl&gt;</th><th scope=col>&lt;dbl&gt;</th><th scope=col>&lt;dbl&gt;</th><th scope=col>&lt;dbl&gt;</th><th scope=col>&lt;dbl&gt;</th><th scope=col>&lt;dbl&gt;</th></tr>\n",
       "</thead>\n",
       "<tbody>\n",
       "\t<tr><th scope=row>1</th><td>1</td><td>92317.44</td><td>92462.31</td><td>-46146.72</td><td>0.3786799</td><td>0.4081385</td></tr>\n",
       "\t<tr><th scope=row>2</th><td>2</td><td>92202.52</td><td>92347.39</td><td>-46089.26</td><td>0.3786820</td><td>0.4089209</td></tr>\n",
       "\t<tr><th scope=row>3</th><td>3</td><td>92297.82</td><td>92442.68</td><td>-46136.91</td><td>0.3787525</td><td>0.4088506</td></tr>\n",
       "\t<tr><th scope=row>4</th><td>4</td><td>92269.46</td><td>92414.32</td><td>-46122.73</td><td>0.3788235</td><td>0.4091047</td></tr>\n",
       "\t<tr><th scope=row>5</th><td>5</td><td>92432.24</td><td>92577.10</td><td>-46204.12</td><td>0.3782476</td><td>0.4082870</td></tr>\n",
       "</tbody>\n",
       "</table>\n"
      ],
      "text/latex": [
       "A data.frame: 5 × 6\n",
       "\\begin{tabular}{r|llllll}\n",
       "  & fold & AIC & BIC & logLik & TrainNormalizedWeightedGini & TestNormalizedWeightedGini\\\\\n",
       "  & <dbl> & <dbl> & <dbl> & <dbl> & <dbl> & <dbl>\\\\\n",
       "\\hline\n",
       "\t1 & 1 & 92317.44 & 92462.31 & -46146.72 & 0.3786799 & 0.4081385\\\\\n",
       "\t2 & 2 & 92202.52 & 92347.39 & -46089.26 & 0.3786820 & 0.4089209\\\\\n",
       "\t3 & 3 & 92297.82 & 92442.68 & -46136.91 & 0.3787525 & 0.4088506\\\\\n",
       "\t4 & 4 & 92269.46 & 92414.32 & -46122.73 & 0.3788235 & 0.4091047\\\\\n",
       "\t5 & 5 & 92432.24 & 92577.10 & -46204.12 & 0.3782476 & 0.4082870\\\\\n",
       "\\end{tabular}\n"
      ],
      "text/markdown": [
       "\n",
       "A data.frame: 5 × 6\n",
       "\n",
       "| <!--/--> | fold &lt;dbl&gt; | AIC &lt;dbl&gt; | BIC &lt;dbl&gt; | logLik &lt;dbl&gt; | TrainNormalizedWeightedGini &lt;dbl&gt; | TestNormalizedWeightedGini &lt;dbl&gt; |\n",
       "|---|---|---|---|---|---|---|\n",
       "| 1 | 1 | 92317.44 | 92462.31 | -46146.72 | 0.3786799 | 0.4081385 |\n",
       "| 2 | 2 | 92202.52 | 92347.39 | -46089.26 | 0.3786820 | 0.4089209 |\n",
       "| 3 | 3 | 92297.82 | 92442.68 | -46136.91 | 0.3787525 | 0.4088506 |\n",
       "| 4 | 4 | 92269.46 | 92414.32 | -46122.73 | 0.3788235 | 0.4091047 |\n",
       "| 5 | 5 | 92432.24 | 92577.10 | -46204.12 | 0.3782476 | 0.4082870 |\n",
       "\n"
      ],
      "text/plain": [
       "  fold AIC      BIC      logLik    TrainNormalizedWeightedGini\n",
       "1 1    92317.44 92462.31 -46146.72 0.3786799                  \n",
       "2 2    92202.52 92347.39 -46089.26 0.3786820                  \n",
       "3 3    92297.82 92442.68 -46136.91 0.3787525                  \n",
       "4 4    92269.46 92414.32 -46122.73 0.3788235                  \n",
       "5 5    92432.24 92577.10 -46204.12 0.3782476                  \n",
       "  TestNormalizedWeightedGini\n",
       "1 0.4081385                 \n",
       "2 0.4089209                 \n",
       "3 0.4088506                 \n",
       "4 0.4091047                 \n",
       "5 0.4082870                 "
      ]
     },
     "metadata": {},
     "output_type": "display_data"
    }
   ],
   "source": [
    "head(models_attr)"
   ]
  },
  {
   "cell_type": "code",
   "execution_count": 33,
   "metadata": {
    "tags": []
   },
   "outputs": [],
   "source": [
    "write.table(models_attr,paste(ModelsDir,ModelName,\"_attr.csv\", sep = \"\"), sep=\",\",  col.names=TRUE, row.names = FALSE)"
   ]
  },
  {
   "cell_type": "code",
   "execution_count": 34,
   "metadata": {},
   "outputs": [
    {
     "data": {
      "text/html": [
       "<table class=\"dataframe\">\n",
       "<caption>A data.frame: 6 × 6</caption>\n",
       "<thead>\n",
       "\t<tr><th></th><th scope=col>name</th><th scope=col>fold</th><th scope=col>estimate</th><th scope=col>StdError</th><th scope=col>zValue</th><th scope=col>valuePr</th></tr>\n",
       "\t<tr><th></th><th scope=col>&lt;fct&gt;</th><th scope=col>&lt;dbl&gt;</th><th scope=col>&lt;dbl&gt;</th><th scope=col>&lt;dbl&gt;</th><th scope=col>&lt;dbl&gt;</th><th scope=col>&lt;dbl&gt;</th></tr>\n",
       "</thead>\n",
       "<tbody>\n",
       "\t<tr><th scope=row>1</th><td>(Intercept)       </td><td>1</td><td>-15.4860522</td><td>1.03826855</td><td>-14.915266</td><td> 2.622282e-50</td></tr>\n",
       "\t<tr><th scope=row>2</th><td>log_sqft          </td><td>1</td><td>  0.6986686</td><td>0.03119358</td><td> 22.397830</td><td>4.132172e-111</td></tr>\n",
       "\t<tr><th scope=row>3</th><td>usagetypePRIMARY  </td><td>1</td><td>  3.4031129</td><td>1.00012814</td><td>  3.402677</td><td> 6.672916e-04</td></tr>\n",
       "\t<tr><th scope=row>4</th><td>usagetypeRENTAL   </td><td>1</td><td>  3.0994353</td><td>1.00028965</td><td>  3.098538</td><td> 1.944782e-03</td></tr>\n",
       "\t<tr><th scope=row>5</th><td>usagetypeSEASONAL </td><td>1</td><td>  3.0556478</td><td>1.01841286</td><td>  3.000402</td><td> 2.696236e-03</td></tr>\n",
       "\t<tr><th scope=row>6</th><td>usagetypeSECONDARY</td><td>1</td><td>  1.9151446</td><td>1.15471427</td><td>  1.658544</td><td> 9.720769e-02</td></tr>\n",
       "</tbody>\n",
       "</table>\n"
      ],
      "text/latex": [
       "A data.frame: 6 × 6\n",
       "\\begin{tabular}{r|llllll}\n",
       "  & name & fold & estimate & StdError & zValue & valuePr\\\\\n",
       "  & <fct> & <dbl> & <dbl> & <dbl> & <dbl> & <dbl>\\\\\n",
       "\\hline\n",
       "\t1 & (Intercept)        & 1 & -15.4860522 & 1.03826855 & -14.915266 &  2.622282e-50\\\\\n",
       "\t2 & log\\_sqft           & 1 &   0.6986686 & 0.03119358 &  22.397830 & 4.132172e-111\\\\\n",
       "\t3 & usagetypePRIMARY   & 1 &   3.4031129 & 1.00012814 &   3.402677 &  6.672916e-04\\\\\n",
       "\t4 & usagetypeRENTAL    & 1 &   3.0994353 & 1.00028965 &   3.098538 &  1.944782e-03\\\\\n",
       "\t5 & usagetypeSEASONAL  & 1 &   3.0556478 & 1.01841286 &   3.000402 &  2.696236e-03\\\\\n",
       "\t6 & usagetypeSECONDARY & 1 &   1.9151446 & 1.15471427 &   1.658544 &  9.720769e-02\\\\\n",
       "\\end{tabular}\n"
      ],
      "text/markdown": [
       "\n",
       "A data.frame: 6 × 6\n",
       "\n",
       "| <!--/--> | name &lt;fct&gt; | fold &lt;dbl&gt; | estimate &lt;dbl&gt; | StdError &lt;dbl&gt; | zValue &lt;dbl&gt; | valuePr &lt;dbl&gt; |\n",
       "|---|---|---|---|---|---|---|\n",
       "| 1 | (Intercept)        | 1 | -15.4860522 | 1.03826855 | -14.915266 |  2.622282e-50 |\n",
       "| 2 | log_sqft           | 1 |   0.6986686 | 0.03119358 |  22.397830 | 4.132172e-111 |\n",
       "| 3 | usagetypePRIMARY   | 1 |   3.4031129 | 1.00012814 |   3.402677 |  6.672916e-04 |\n",
       "| 4 | usagetypeRENTAL    | 1 |   3.0994353 | 1.00028965 |   3.098538 |  1.944782e-03 |\n",
       "| 5 | usagetypeSEASONAL  | 1 |   3.0556478 | 1.01841286 |   3.000402 |  2.696236e-03 |\n",
       "| 6 | usagetypeSECONDARY | 1 |   1.9151446 | 1.15471427 |   1.658544 |  9.720769e-02 |\n",
       "\n"
      ],
      "text/plain": [
       "  name               fold estimate    StdError   zValue     valuePr      \n",
       "1 (Intercept)        1    -15.4860522 1.03826855 -14.915266  2.622282e-50\n",
       "2 log_sqft           1      0.6986686 0.03119358  22.397830 4.132172e-111\n",
       "3 usagetypePRIMARY   1      3.4031129 1.00012814   3.402677  6.672916e-04\n",
       "4 usagetypeRENTAL    1      3.0994353 1.00028965   3.098538  1.944782e-03\n",
       "5 usagetypeSEASONAL  1      3.0556478 1.01841286   3.000402  2.696236e-03\n",
       "6 usagetypeSECONDARY 1      1.9151446 1.15471427   1.658544  9.720769e-02"
      ]
     },
     "metadata": {},
     "output_type": "display_data"
    }
   ],
   "source": [
    "head(models_coef)"
   ]
  },
  {
   "cell_type": "code",
   "execution_count": 35,
   "metadata": {
    "tags": []
   },
   "outputs": [],
   "source": [
    "write.table(models_coef,paste(ModelsDir,ModelName,\"_coef.csv\", sep = \"\"), sep=\",\",  col.names=TRUE, row.names = FALSE)"
   ]
  },
  {
   "cell_type": "markdown",
   "metadata": {},
   "source": [
    "Normalized Weighted gini Training"
   ]
  },
  {
   "cell_type": "code",
   "execution_count": 36,
   "metadata": {},
   "outputs": [
    {
     "data": {
      "text/html": [
       "0.37871255965091"
      ],
      "text/latex": [
       "0.37871255965091"
      ],
      "text/markdown": [
       "0.37871255965091"
      ],
      "text/plain": [
       "[1] 0.3787126"
      ]
     },
     "metadata": {},
     "output_type": "display_data"
    }
   ],
   "source": [
    "NormalizedWeightedGini(training_dataset$cova_ic_nc_water,training_dataset$poissonglm_ofst_ecy_cv,training_dataset$ecy)"
   ]
  },
  {
   "cell_type": "markdown",
   "metadata": {},
   "source": [
    "Normalized Weighted gini Testing"
   ]
  },
  {
   "cell_type": "code",
   "execution_count": 37,
   "metadata": {},
   "outputs": [
    {
     "data": {
      "text/html": [
       "0.40875528650879"
      ],
      "text/latex": [
       "0.40875528650879"
      ],
      "text/markdown": [
       "0.40875528650879"
      ],
      "text/plain": [
       "[1] 0.4087553"
      ]
     },
     "metadata": {},
     "output_type": "display_data"
    }
   ],
   "source": [
    "NormalizedWeightedGini(testing_dataset$cova_ic_nc_water,testing_dataset$poissonglm_ofst_ecy_cv,testing_dataset$ecy)"
   ]
  },
  {
   "cell_type": "code",
   "execution_count": 13,
   "metadata": {
    "collapsed": true,
    "jupyter": {
     "outputs_hidden": true
    }
   },
   "outputs": [],
   "source": [
    "write.table(training_dataset,paste(DataDir,\"property_wcf_training.csv\", sep = \"\"), sep=\",\",  col.names=TRUE, row.names = FALSE)\n",
    "write.table(testing_dataset,paste(DataDir,\"property_wcf_testing.csv\", sep = \"\"), sep=\",\",  col.names=TRUE, row.names = FALSE)\n",
    "write.table(prediction_dataset,paste(DataDir,\"property_water_claims_non_cat_fs.csv\", sep = \"\"), sep=\",\",  col.names=TRUE, row.names = FALSE)"
   ]
  }
 ],
 "metadata": {
  "kernelspec": {
   "display_name": "R",
   "language": "R",
   "name": "ir"
  },
  "language_info": {
   "codemirror_mode": "r",
   "file_extension": ".r",
   "mimetype": "text/x-r-source",
   "name": "R",
   "pygments_lexer": "r",
   "version": "3.6.3"
  }
 },
 "nbformat": 4,
 "nbformat_minor": 4
}
